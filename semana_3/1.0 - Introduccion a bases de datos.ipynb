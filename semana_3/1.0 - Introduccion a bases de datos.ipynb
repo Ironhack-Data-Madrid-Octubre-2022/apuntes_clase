{
 "cells": [
  {
   "cell_type": "markdown",
   "id": "d352fb69",
   "metadata": {},
   "source": [
    "# 1.0 - Introducción a bases de datos\n",
    "\n",
    "![mongo_vs_sql](images/mongo_vs_sql.png)"
   ]
  },
  {
   "cell_type": "markdown",
   "id": "e4bd6d3b",
   "metadata": {},
   "source": [
    "## Bases de datos relacionales"
   ]
  },
  {
   "cell_type": "markdown",
   "id": "ae35187b",
   "metadata": {},
   "source": [
    "Una base de datos SQL es una base de datos relacional, escrita en el lenguaje de consulta estructurado SQL (Structured Query Language). Una base de datos relacional es aquella que dispone de una relación predefinida entre sus elementos, donde cada registro pueda ser identificado de forma inequívoca. Este tipo de bases de datos surgieron en los años 70 como una solución para almacenar información de acuerdo a un esquema que permite mostrar la información en forma de tablas, con columnas y filas.\n",
    "\n",
    "Estos son los gestores de bases de datos relacionales más conocidos y utilizados:\n",
    "\n",
    "+ Oracle\n",
    "+ MySQL\n",
    "+ Microsoft SQL Server\n",
    "+ PostgreSQL\n",
    "+ DB2"
   ]
  },
  {
   "cell_type": "markdown",
   "id": "7bc68106",
   "metadata": {},
   "source": [
    "La integridad de los datos es un factor sumamente importante al momento de diseñar una base de datos de tipo relacional.\n",
    "\n",
    "Los sistemas RDBMS (Relational Data Base Management System) se rigen por el principio **ACID**:\n",
    "\n",
    "+ **Atomicity**: Cuando una operación se realiza sobre los datos, esta debe ser absoluta, esto quiere decir que todos los pasos deben ejecutarse sobre una sola operación, o bien no debe ejecutarse ninguno.\n",
    "\n",
    "+ **Consistency**: Cualquier operación realizada en la base de datos debe llevarla de un estado válido a otro, todos los datos deben ser consistentes, por ejemplo en los tipos (string, numérico, boolean)\n",
    "\n",
    "+ **Isolation**: Ninguna operación puede o debe afectar a otras.\n",
    "\n",
    "+ **Durability**: Cualquier operación realizada en una base de datos debe ser permanente una vez es ejecutada, incluso si ocurre un fallo inesperado en el sistema, los datos deben ser almacenados en su último estado conocido.\n"
   ]
  },
  {
   "cell_type": "markdown",
   "id": "65c1995c",
   "metadata": {},
   "source": [
    "### Ventajas\n",
    "\n",
    "+ Está más adaptado su uso y los perfiles que las conocen son mayoritarios y más baratos.\n",
    "\n",
    "+ Debido al largo tiempo que llevan en el mercado, estas herramientas tienen un mayor soporte y mejores suites de productos y add-ons para gestionar estas bases de datos.\n",
    "\n",
    "+ La atomicidad de las operaciones en la base de datos. Esto es, que en estas bases de datos o se hace la operación entera o no se hace utilizando la famosa técnica del rollback.\n",
    "\n",
    "+ Los datos deben cumplir requisitos de integridad tanto en tipo de dato como en compatibilidad."
   ]
  },
  {
   "cell_type": "markdown",
   "id": "ba150a31",
   "metadata": {},
   "source": [
    "### Desventajas\n",
    "\n",
    "+ La atomicidad de las operaciones juega un papel crucial en el rendimiento de las bases de datos.\n",
    "\n",
    "+ Escalabilidad, que aunque probada en muchos entornos productivos suele, por norma, ser inferior a las bases de datos NoSQL."
   ]
  },
  {
   "cell_type": "markdown",
   "id": "41e02e82",
   "metadata": {},
   "source": [
    "## Bases de datos NO relacionales"
   ]
  },
  {
   "cell_type": "markdown",
   "id": "8a6b94dc",
   "metadata": {},
   "source": [
    "Una base de datos NoSQL o Not Only SQL es una base de datos no relacional que no cuenta con un identificador que relacione un conjunto de datos con otro. En las bases de datos No SQL la información es organizada generalmente como documentos y no requieren que los datos están estructurados para poder manipularlos. Este tipo de bases de datos no es un reemplazo para las bases de datos relacionales, más bien es una alternativa que surgió para satisfacer las necesidades de aplicaciones cada vez más complejas y que se encuentran en constante actualización.\n",
    "\n",
    "La principal diferencia entre este tipo de bases de datos y las relacionales recae en que no necesitamos invertir tanto tiempo en diseñar una estructura ya que podemos almacenar datos no estructurados y manipularlos libremente.\n",
    "\n",
    "Dentro de las bases de datos no relacionales también existen diferentes tipos, cada uno con un propósito diferente."
   ]
  },
  {
   "cell_type": "markdown",
   "id": "1fdf9ccb",
   "metadata": {},
   "source": [
    "+ **Almacenamiento tipo llave-valor**: Amazon Dynamo DB o Redis son ejemplos de este tipo, son sistemas sencillos que permiten obtener el valor asociado con una llave conocida. Este tipo de almacenamiento es preferido cuando los datos no son tan complejos y la rapidez de las consultas es un factor importante.\n",
    "\n",
    "+ **Almacenamiento Wide Column**: Esta solución está diseñada con el propósito de ser altamente escalables y manejar sin problemas cantidades masivas de datos (petabytes). Este sistema usa una variante de SQL llamada CQL para la definición y manipulación de datos, lo cual las hace familiar hasta cierto punto con los sistemas relacionales.\n",
    "\n",
    "+ **Almacenamiento de documentos**: Son sistemas libres de esquemas donde el más popular es MongoDB, su popularidad reside en que los dos stacks más conocidos y de los cuales ya hablé anteriormente MERN y MEAN se valen de este sistema para el desarrollo del backend. Los registros individuales no requieren una estructura uniforme, pueden contener muchos tipos de valores diferentes y pueden anidarse. Esta flexibilidad los hace particularmente adecuados para administrar datos semiestructurados en sistemas distribuidos.\n",
    "\n",
    "+ **Grafos**: Almacena los datos como una estructura de red con nodos u objetos interconectados entre si para facilitar la visualización y el análisis de los datos en tiempo real. La próxima vez que ingreses a Facebook, piensa que tu lista de amigos es una red de grafos que a su vez contienen otras redes dentro de ellos."
   ]
  },
  {
   "cell_type": "markdown",
   "id": "d127ac14",
   "metadata": {},
   "source": [
    "### Ventajas\n",
    "\n",
    "+ La escalabilidad y su carácter descentralizado. Soportan estructuras distribuidas.\n",
    "\n",
    "+ Suelen ser bases de datos mucho más abiertas y flexibles. Permiten adaptarse a necesidades de proyectos mucho más fácilmente que los modelos de Entidad Relación.\n",
    "\n",
    "+ Se pueden hacer cambios de los esquemas sin tener que parar bases de datos.\n",
    "\n",
    "+ Escalabilidad horizontal: son capaces de crecer en número de máquinas, en lugar de tener que residir en grandes máquinas.\n",
    "\n",
    "+ Se pueden ejecutar en máquinas con pocos recursos.\n",
    "\n",
    "+ Optimización de consultas en base de datos para grandes cantidades de datos."
   ]
  },
  {
   "cell_type": "markdown",
   "id": "a5c3fdbd",
   "metadata": {},
   "source": [
    "### Desventajas\n",
    "\n",
    "+ No todas las bases de datos NoSQL contemplan la atomicidad de las instrucciones y la integridad de los datos. \n",
    "\n",
    "+ Soportan lo que se llama consistencia eventual.\n",
    "\n",
    "+ Problemas de compatibilidad entre instrucciones SQL. Las nuevas bases de datos utilizan sus propias características en el lenguaje de consulta y no son 100% compatibles con el SQL de las bases de datos relacionales. El soporte a problemas con las queries de trabajo en una base de datos NoSQL es más complicado.\n",
    "\n",
    "+ Falta de estandarización. Hay muchas bases de datos NoSQL y aún no hay un estándar como sí lo hay en las bases de datos relacionales. Se presume un futuro incierto en estas bases de datos.\n",
    "\n",
    "+ Soporte multiplataforma. Aún quedan muchas mejoras en algunos sistemas para que soporten sistemas operativos que no sean Linux.\n",
    "\n",
    "+ Suelen tener herramientas de administración no muy usables o se accede por consola."
   ]
  },
  {
   "cell_type": "markdown",
   "id": "f54baac1",
   "metadata": {},
   "source": [
    "## Diferencias entre SQL y NoSQL "
   ]
  },
  {
   "cell_type": "markdown",
   "id": "e948c9ab",
   "metadata": {},
   "source": [
    "Existen muchas diferencias entre estos dos tipos de bases de datos. Veamos las mismas teniendo en cuenta distintos factores: \n",
    "\n",
    "+ Rendimiento. Las bases de datos NoSQL ofrecen un mayor rendimiento que las SQL (necesitan menos recursos de hardware). \n",
    "\n",
    "+ Fiabilidad. Las bases de datos relacionales SQL son más fiables que las NoSQL (si un proceso tiene algún error, no se lleva a cabo). \n",
    "\n",
    "+ Disponibilidad. En cuanto a la disponibilidad, ambas alternativas son igual de válidas. \n",
    "\n",
    "+ Consistencia. La consistencia de las bases de datos NoSQL es pobre, en cambio las SQL son bases de datos muy consistentes (la consistencia es la capacidad de garantizar la integridad de los datos). \n",
    "\n",
    "+ Almacenamiento. Las bases de datos SQL son indicadas cuando la cantidad de datos no son extremadamente grandes, mientras que las NoSQl son ideales para manejar grandes volúmenes de datos. \n",
    "\n",
    "+ Escalabilidad. Las bases de datos NoSQL son escalables por lo que se pueden aumentar su capacidad fácilmente, sin embargo, las SQL pueden ser escalables, pero con un costo económico más elevado. Las bases de datos No SQL utilizan un escalado horizontal (aumentar el número de servidores) mientras que las SQL utilizan un escalado vertical (aumentar los recursos de un servidor). "
   ]
  },
  {
   "cell_type": "markdown",
   "id": "ea492aaa",
   "metadata": {},
   "source": [
    "### Cuando utilizar SQL o NoSQL \n",
    "\n",
    "Elegir el tipo de base de datos a utilizar en un proyecto es importante ya que influye en el rendimiento y en desarrollo del mismo. Decantarse por una base de datos relacional o no relacional puede hacer que un proyecto se encuentre con problemas que impidan su correcta ejecución, añadan mucho esfuerzo o incluso aumente los costos previstos. \n"
   ]
  },
  {
   "cell_type": "markdown",
   "id": "d643395c",
   "metadata": {},
   "source": [
    "### En qué casos utilizar SQL \n",
    "\n",
    "Cuando en un proyecto el volumen de los datos no tendrá un gran crecimiento, o este se realice de forma lenta, las bases de datos SQL. \n",
    "\n",
    "En proyectos donde el pico de usuarios que accedan a la base de datos esté previsto, las bases de datos relacionales funcionan de manera óptima. \n",
    "\n",
    "Si las necesidades de procesamiento de la base de datos requieren de un único servidor, se pueden utilizar bases de datos SQL. \n",
    "\n"
   ]
  },
  {
   "cell_type": "markdown",
   "id": "fed58c53",
   "metadata": {},
   "source": [
    "### En qué casos utilizar NoSQL \n",
    "\n",
    "Si el crecimiento de la base de datos se realiza de forma rápida, con grandes aumentos en poco tiempo, lo ideal es recurrir a bases de datos no relacionales NoSQL. \n",
    "\n",
    "Si el acceso a la base de datos puede sufrir picos altos y en múltiples ocasiones, lo mejor es optar por No SQL. \n",
    "\n",
    "Si las necesidades de procesamiento no se pueden prevenir, es mejor utilizar bases de datos NoSQL escalables (permiten expandirse)."
   ]
  },
  {
   "cell_type": "markdown",
   "id": "06d04a69",
   "metadata": {},
   "source": [
    "### NoSQL simplifica la base de datos DevOps \n",
    "\n",
    "La utilización de una base de datos documental NoSQL simplifica la base de datos DevOps ya que aporta una flexibilidad de esquemas, permitiendo que los desarrolladores accedan a una base de datos estructurados, semi estructurados y no estructurados, dinámica (con cambios constantes). Los desarrolladores pueden operar directamente sobre los datos con JSON obteniendo resultados inmediatos. \n",
    "\n",
    "La aplicación desarrollada no depende de un ORM (modelo de programación para convertir objetos en un formato que pueda almacenarse en una base de datos relacional) y solo requiere una actualización del código de la aplicación ante cualquier cambio del esquema de la base de datos. \n",
    "\n",
    "La escalabilidad horizontal permite ampliar la capacidad de la base de datos si se requiere en muy poco tiempo. Esta escalabilidad coincide con uno de los objetivos DevOps, de adaptarse de forma inmediata a las necesidades de los proyectos.  \n",
    "\n",
    "Las bases de datos no relacionales NoSQL son una gran alternativa a las relacionales SQL para muchos proyectos. Dentro del marco DevOps el uso de una base de datos documental NoSQL aporta rapidez, escalabilidad, flexibilidad y sencillez a la gestión la misma.  "
   ]
  }
 ],
 "metadata": {
  "kernelspec": {
   "display_name": "clase",
   "language": "python",
   "name": "clase"
  },
  "language_info": {
   "codemirror_mode": {
    "name": "ipython",
    "version": 3
   },
   "file_extension": ".py",
   "mimetype": "text/x-python",
   "name": "python",
   "nbconvert_exporter": "python",
   "pygments_lexer": "ipython3",
   "version": "3.9.7"
  }
 },
 "nbformat": 4,
 "nbformat_minor": 5
}

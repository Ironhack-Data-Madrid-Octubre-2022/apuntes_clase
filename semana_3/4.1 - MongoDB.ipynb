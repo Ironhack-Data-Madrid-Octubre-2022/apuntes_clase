{
 "cells": [
  {
   "cell_type": "markdown",
   "id": "296c3fa2",
   "metadata": {},
   "source": [
    "# 4.1 - MongoDB\n",
    "\n",
    "![mongo](images/mongodb.jpeg)\n",
    "\n",
    "https://docs.mongodb.com/manual/administration/install-community/\n",
    "\n",
    "https://docs.mongodb.com/compass/current/install/\n",
    "\n",
    "MongoDB es una base de datos orientada a documentos. Esto quiere decir que en lugar de guardar los datos en registros, guarda los datos en documentos. Estos documentos son almacenados en BSON, que es una representación binaria de JSON.\n",
    "\n",
    "Una de las diferencias más importantes con respecto a las bases de datos relacionales, es que no es necesario seguir un esquema. Los documentos de una misma colección, concepto similar a una tabla de una base de datos relacional, pueden tener esquemas diferentes.\n"
   ]
  },
  {
   "cell_type": "code",
   "execution_count": 1,
   "id": "d686b82b",
   "metadata": {},
   "outputs": [
    {
     "name": "stdout",
     "output_type": "stream",
     "text": [
      "Requirement already satisfied: pymongo in /Users/iudh/miniforge3/envs/clase/lib/python3.8/site-packages (4.3.2)\n",
      "Requirement already satisfied: dnspython<3.0.0,>=1.16.0 in /Users/iudh/miniforge3/envs/clase/lib/python3.8/site-packages (from pymongo) (2.2.1)\n",
      "Note: you may need to restart the kernel to use updated packages.\n"
     ]
    }
   ],
   "source": [
    "%pip install pymongo"
   ]
  },
  {
   "cell_type": "code",
   "execution_count": 2,
   "id": "b53f90eb",
   "metadata": {},
   "outputs": [],
   "source": [
    "from pymongo import MongoClient\n",
    "\n",
    "import warnings\n",
    "warnings.filterwarnings('ignore')"
   ]
  },
  {
   "cell_type": "code",
   "execution_count": 3,
   "id": "87c2662e",
   "metadata": {},
   "outputs": [
    {
     "data": {
      "text/plain": [
       "MongoClient(host=['localhost:27017'], document_class=dict, tz_aware=False, connect=True)"
      ]
     },
     "execution_count": 3,
     "metadata": {},
     "output_type": "execute_result"
    }
   ],
   "source": [
    "str_conn='mongodb://localhost:27017'\n",
    "\n",
    "cursor=MongoClient(str_conn)\n",
    "\n",
    "cursor"
   ]
  },
  {
   "cell_type": "code",
   "execution_count": 4,
   "id": "0eff5667",
   "metadata": {},
   "outputs": [
    {
     "data": {
      "text/plain": [
       "['admin',\n",
       " 'arbbot',\n",
       " 'campus_tools',\n",
       " 'companies',\n",
       " 'complete_exchange_matches',\n",
       " 'config',\n",
       " 'ironcomes',\n",
       " 'local',\n",
       " 'telegram_messages',\n",
       " 'total_records']"
      ]
     },
     "execution_count": 4,
     "metadata": {},
     "output_type": "execute_result"
    }
   ],
   "source": [
    "cursor.list_database_names()   # lista de bases de datos"
   ]
  },
  {
   "cell_type": "code",
   "execution_count": 5,
   "id": "882a8427",
   "metadata": {},
   "outputs": [],
   "source": [
    "db=cursor.nueva_db   # nueva base de datos"
   ]
  },
  {
   "cell_type": "code",
   "execution_count": 6,
   "id": "ae026dc9",
   "metadata": {},
   "outputs": [
    {
     "data": {
      "text/plain": [
       "['admin',\n",
       " 'arbbot',\n",
       " 'campus_tools',\n",
       " 'companies',\n",
       " 'complete_exchange_matches',\n",
       " 'config',\n",
       " 'ironcomes',\n",
       " 'local',\n",
       " 'telegram_messages',\n",
       " 'total_records']"
      ]
     },
     "execution_count": 6,
     "metadata": {},
     "output_type": "execute_result"
    }
   ],
   "source": [
    "cursor.list_database_names() "
   ]
  },
  {
   "cell_type": "code",
   "execution_count": 7,
   "id": "af4151db",
   "metadata": {},
   "outputs": [],
   "source": [
    "colec=db.n_colec   # nueva coleccion"
   ]
  },
  {
   "cell_type": "code",
   "execution_count": 8,
   "id": "bc989056",
   "metadata": {},
   "outputs": [
    {
     "data": {
      "text/plain": [
       "[]"
      ]
     },
     "execution_count": 8,
     "metadata": {},
     "output_type": "execute_result"
    }
   ],
   "source": [
    "db.list_collection_names() "
   ]
  },
  {
   "cell_type": "code",
   "execution_count": 9,
   "id": "85c8002d",
   "metadata": {},
   "outputs": [
    {
     "data": {
      "text/plain": [
       "<pymongo.results.InsertOneResult at 0x1067cff10>"
      ]
     },
     "execution_count": 9,
     "metadata": {},
     "output_type": "execute_result"
    }
   ],
   "source": [
    "dictio={'nombre': 'Pepe', 'edad': 35, '4': [0, 1, 2 ,3]}\n",
    "\n",
    "colec.insert_one(dictio)"
   ]
  },
  {
   "cell_type": "code",
   "execution_count": 10,
   "id": "6afb0b69",
   "metadata": {},
   "outputs": [
    {
     "data": {
      "text/plain": [
       "['admin',\n",
       " 'arbbot',\n",
       " 'campus_tools',\n",
       " 'companies',\n",
       " 'complete_exchange_matches',\n",
       " 'config',\n",
       " 'ironcomes',\n",
       " 'local',\n",
       " 'nueva_db',\n",
       " 'telegram_messages',\n",
       " 'total_records']"
      ]
     },
     "execution_count": 10,
     "metadata": {},
     "output_type": "execute_result"
    }
   ],
   "source": [
    "cursor.list_database_names() "
   ]
  },
  {
   "cell_type": "code",
   "execution_count": 11,
   "id": "f4320811",
   "metadata": {},
   "outputs": [
    {
     "data": {
      "text/plain": [
       "['n_colec']"
      ]
     },
     "execution_count": 11,
     "metadata": {},
     "output_type": "execute_result"
    }
   ],
   "source": [
    "db.list_collection_names() "
   ]
  },
  {
   "cell_type": "code",
   "execution_count": 12,
   "id": "812407c3",
   "metadata": {},
   "outputs": [
    {
     "data": {
      "text/plain": [
       "<pymongo.results.InsertManyResult at 0x105dca850>"
      ]
     },
     "execution_count": 12,
     "metadata": {},
     "output_type": "execute_result"
    }
   ],
   "source": [
    "# insertar varios\n",
    "\n",
    "# insert into colec (columnas) values (valores);   equivalente SQL\n",
    "\n",
    "json=[{'nombre': 'yo', 'edad': 38},\n",
    "      {'_id': 20, 'actividad': 'natacion', 'lugar': 'aqui'}]\n",
    "\n",
    "colec.insert_many(json)"
   ]
  },
  {
   "cell_type": "code",
   "execution_count": 13,
   "id": "e54fc648",
   "metadata": {},
   "outputs": [
    {
     "data": {
      "text/plain": [
       "<pymongo.results.InsertManyResult at 0x1067cf5b0>"
      ]
     },
     "execution_count": 13,
     "metadata": {},
     "output_type": "execute_result"
    }
   ],
   "source": [
    "json=[{'nombre': 'Ana', 'edad': 24},\n",
    "      {'_id': 24, 'actividad': 'natacion', 'hora': '22:00', 'lugar': 'aculla'}]\n",
    "\n",
    "\n",
    "colec.insert_many(json)"
   ]
  },
  {
   "cell_type": "code",
   "execution_count": 14,
   "id": "0dcf515f",
   "metadata": {},
   "outputs": [
    {
     "data": {
      "text/plain": [
       "<pymongo.cursor.Cursor at 0x1067f8700>"
      ]
     },
     "execution_count": 14,
     "metadata": {},
     "output_type": "execute_result"
    }
   ],
   "source": [
    "# select * from colec;\n",
    "\n",
    "colec.find()"
   ]
  },
  {
   "cell_type": "code",
   "execution_count": 15,
   "id": "51f1daf9",
   "metadata": {},
   "outputs": [
    {
     "data": {
      "text/plain": [
       "[{'_id': ObjectId('63639f3a822e82b27e3fa23c'),\n",
       "  'nombre': 'Pepe',\n",
       "  'edad': 35,\n",
       "  '4': [0, 1, 2, 3]},\n",
       " {'_id': ObjectId('63639f3a822e82b27e3fa23d'), 'nombre': 'yo', 'edad': 38},\n",
       " {'_id': 20, 'actividad': 'natacion', 'lugar': 'aqui'},\n",
       " {'_id': ObjectId('63639f3a822e82b27e3fa23e'), 'nombre': 'Ana', 'edad': 24},\n",
       " {'_id': 24, 'actividad': 'natacion', 'hora': '22:00', 'lugar': 'aculla'}]"
      ]
     },
     "execution_count": 15,
     "metadata": {},
     "output_type": "execute_result"
    }
   ],
   "source": [
    "list(colec.find())"
   ]
  },
  {
   "cell_type": "code",
   "execution_count": 16,
   "id": "45b50423",
   "metadata": {},
   "outputs": [],
   "source": [
    "a=list(colec.find())"
   ]
  },
  {
   "cell_type": "code",
   "execution_count": 17,
   "id": "20e41237",
   "metadata": {},
   "outputs": [
    {
     "data": {
      "text/plain": [
       "{'_id': 24, 'actividad': 'natacion', 'hora': '22:00', 'lugar': 'aculla'}"
      ]
     },
     "execution_count": 17,
     "metadata": {},
     "output_type": "execute_result"
    }
   ],
   "source": [
    "a[4]"
   ]
  },
  {
   "cell_type": "code",
   "execution_count": 18,
   "id": "db7dc826",
   "metadata": {},
   "outputs": [
    {
     "data": {
      "text/plain": [
       "[0, 1, 2, 3]"
      ]
     },
     "execution_count": 18,
     "metadata": {},
     "output_type": "execute_result"
    }
   ],
   "source": [
    "a[0]['4']"
   ]
  },
  {
   "cell_type": "markdown",
   "id": "5cec891a",
   "metadata": {},
   "source": [
    "### Queries"
   ]
  },
  {
   "cell_type": "code",
   "execution_count": 19,
   "id": "308bdc0f",
   "metadata": {},
   "outputs": [
    {
     "data": {
      "text/plain": [
       "[{'_id': ObjectId('63639f3a822e82b27e3fa23c'),\n",
       "  'nombre': 'Pepe',\n",
       "  'edad': 35,\n",
       "  '4': [0, 1, 2, 3]},\n",
       " {'_id': ObjectId('63639f3a822e82b27e3fa23d'), 'nombre': 'yo', 'edad': 38},\n",
       " {'_id': 20, 'actividad': 'natacion', 'lugar': 'aqui'},\n",
       " {'_id': ObjectId('63639f3a822e82b27e3fa23e'), 'nombre': 'Ana', 'edad': 24},\n",
       " {'_id': 24, 'actividad': 'natacion', 'hora': '22:00', 'lugar': 'aculla'}]"
      ]
     },
     "execution_count": 19,
     "metadata": {},
     "output_type": "execute_result"
    }
   ],
   "source": [
    "list(colec.find())   # select * from colec;"
   ]
  },
  {
   "cell_type": "code",
   "execution_count": 20,
   "id": "52107153",
   "metadata": {},
   "outputs": [
    {
     "data": {
      "text/plain": [
       "[{'_id': ObjectId('63639f3a822e82b27e3fa23e'), 'nombre': 'Ana', 'edad': 24}]"
      ]
     },
     "execution_count": 20,
     "metadata": {},
     "output_type": "execute_result"
    }
   ],
   "source": [
    "list(colec.find({'edad': 24}))   # select * from colec where edad=24;"
   ]
  },
  {
   "cell_type": "code",
   "execution_count": 21,
   "id": "dbfc33db",
   "metadata": {},
   "outputs": [
    {
     "data": {
      "text/plain": [
       "[{'_id': ObjectId('63639f3a822e82b27e3fa23d'), 'nombre': 'yo', 'edad': 38}]"
      ]
     },
     "execution_count": 21,
     "metadata": {},
     "output_type": "execute_result"
    }
   ],
   "source": [
    "list(colec.find({'nombre': 'yo'}))   # select * from colec where nombre=yo;"
   ]
  },
  {
   "cell_type": "code",
   "execution_count": 22,
   "id": "b2294eb5",
   "metadata": {},
   "outputs": [
    {
     "data": {
      "text/plain": [
       "[{'_id': ObjectId('63639f3a822e82b27e3fa23c'),\n",
       "  'nombre': 'Pepe',\n",
       "  'edad': 35,\n",
       "  '4': [0, 1, 2, 3]},\n",
       " {'_id': ObjectId('63639f3a822e82b27e3fa23d'), 'nombre': 'yo', 'edad': 38}]"
      ]
     },
     "execution_count": 22,
     "metadata": {},
     "output_type": "execute_result"
    }
   ],
   "source": [
    "list(colec.find({'edad': {'$gt': 24}}))   # select * from colec where edad>24;"
   ]
  },
  {
   "cell_type": "code",
   "execution_count": 23,
   "id": "347ac0ff",
   "metadata": {},
   "outputs": [
    {
     "data": {
      "text/plain": [
       "[{'_id': ObjectId('63639f3a822e82b27e3fa23c'),\n",
       "  'nombre': 'Pepe',\n",
       "  'edad': 35,\n",
       "  '4': [0, 1, 2, 3]},\n",
       " {'_id': ObjectId('63639f3a822e82b27e3fa23d'), 'nombre': 'yo', 'edad': 38},\n",
       " {'_id': ObjectId('63639f3a822e82b27e3fa23e'), 'nombre': 'Ana', 'edad': 24}]"
      ]
     },
     "execution_count": 23,
     "metadata": {},
     "output_type": "execute_result"
    }
   ],
   "source": [
    "list(colec.find({'edad': {'$gte': 24}}))   # select * from colec where edad>=24;"
   ]
  },
  {
   "cell_type": "code",
   "execution_count": 24,
   "id": "18f2b6d7",
   "metadata": {},
   "outputs": [
    {
     "data": {
      "text/plain": [
       "[{'_id': ObjectId('63639f3a822e82b27e3fa23c'),\n",
       "  'nombre': 'Pepe',\n",
       "  'edad': 35,\n",
       "  '4': [0, 1, 2, 3]},\n",
       " {'_id': ObjectId('63639f3a822e82b27e3fa23e'), 'nombre': 'Ana', 'edad': 24}]"
      ]
     },
     "execution_count": 24,
     "metadata": {},
     "output_type": "execute_result"
    }
   ],
   "source": [
    "list(colec.find({'edad': {'$lt': 38}}))   # select * from colec where edad<38;"
   ]
  },
  {
   "cell_type": "code",
   "execution_count": 25,
   "id": "834043b6",
   "metadata": {},
   "outputs": [
    {
     "data": {
      "text/plain": [
       "[{'_id': ObjectId('63639f3a822e82b27e3fa23c'),\n",
       "  'nombre': 'Pepe',\n",
       "  'edad': 35,\n",
       "  '4': [0, 1, 2, 3]},\n",
       " {'_id': ObjectId('63639f3a822e82b27e3fa23e'), 'nombre': 'Ana', 'edad': 24}]"
      ]
     },
     "execution_count": 25,
     "metadata": {},
     "output_type": "execute_result"
    }
   ],
   "source": [
    "list(colec.find({'edad': {'$lte': 35}}))   # select * from colec where edad<=35;"
   ]
  },
  {
   "cell_type": "code",
   "execution_count": 26,
   "id": "27846ebb",
   "metadata": {},
   "outputs": [
    {
     "data": {
      "text/plain": [
       "[{'_id': ObjectId('63639f3a822e82b27e3fa23c'),\n",
       "  'nombre': 'Pepe',\n",
       "  'edad': 35,\n",
       "  '4': [0, 1, 2, 3]},\n",
       " {'_id': 20, 'actividad': 'natacion', 'lugar': 'aqui'},\n",
       " {'_id': ObjectId('63639f3a822e82b27e3fa23e'), 'nombre': 'Ana', 'edad': 24},\n",
       " {'_id': 24, 'actividad': 'natacion', 'hora': '22:00', 'lugar': 'aculla'}]"
      ]
     },
     "execution_count": 26,
     "metadata": {},
     "output_type": "execute_result"
    }
   ],
   "source": [
    "list(colec.find({'edad': {'$ne': 38}}))   # select * from colec where edad!=38;"
   ]
  },
  {
   "cell_type": "code",
   "execution_count": 27,
   "id": "0442338a",
   "metadata": {},
   "outputs": [
    {
     "data": {
      "text/plain": [
       "[{'_id': ObjectId('63639f3a822e82b27e3fa23c'),\n",
       "  'nombre': 'Pepe',\n",
       "  'edad': 35,\n",
       "  '4': [0, 1, 2, 3]}]"
      ]
     },
     "execution_count": 27,
     "metadata": {},
     "output_type": "execute_result"
    }
   ],
   "source": [
    "list(colec.find({'$and':[{'edad': {'$ne': 38}}, \n",
    "                         {'nombre': 'Pepe'}]}))   \n",
    "\n",
    "# select * from colec where edad!=38 and nombre=Pepe;"
   ]
  },
  {
   "cell_type": "code",
   "execution_count": 28,
   "id": "dce6127a",
   "metadata": {},
   "outputs": [
    {
     "data": {
      "text/plain": [
       "[{'_id': ObjectId('63639f3a822e82b27e3fa23c'),\n",
       "  'nombre': 'Pepe',\n",
       "  'edad': 35,\n",
       "  '4': [0, 1, 2, 3]}]"
      ]
     },
     "execution_count": 28,
     "metadata": {},
     "output_type": "execute_result"
    }
   ],
   "source": [
    "list(colec.find({'$and':[{'edad': {'$lt': 38}}, \n",
    "                         {'edad': {'$gt': 24}}]}))   \n",
    "\n",
    "# select * from colec where edad<38 and edad>24;\n",
    "# select * from colec where edad between (38, 24);"
   ]
  },
  {
   "cell_type": "code",
   "execution_count": 29,
   "id": "cb1b6794",
   "metadata": {},
   "outputs": [
    {
     "data": {
      "text/plain": [
       "[{'_id': ObjectId('63639f3a822e82b27e3fa23c'),\n",
       "  'nombre': 'Pepe',\n",
       "  'edad': 35,\n",
       "  '4': [0, 1, 2, 3]}]"
      ]
     },
     "execution_count": 29,
     "metadata": {},
     "output_type": "execute_result"
    }
   ],
   "source": [
    "query={'$and':[{'edad': {'$lt': 38}}, \n",
    "               {'edad': {'$gt': 24}}]}\n",
    "\n",
    "list(colec.find(query))  "
   ]
  },
  {
   "cell_type": "code",
   "execution_count": 30,
   "id": "bd5b3f2d",
   "metadata": {},
   "outputs": [
    {
     "data": {
      "text/plain": [
       "[{'_id': ObjectId('63639f3a822e82b27e3fa23c'),\n",
       "  'nombre': 'Pepe',\n",
       "  'edad': 35,\n",
       "  '4': [0, 1, 2, 3]},\n",
       " {'_id': ObjectId('63639f3a822e82b27e3fa23d'), 'nombre': 'yo', 'edad': 38},\n",
       " {'_id': 20, 'actividad': 'natacion', 'lugar': 'aqui'}]"
      ]
     },
     "execution_count": 30,
     "metadata": {},
     "output_type": "execute_result"
    }
   ],
   "source": [
    "query={'edad': {'$ne': 24}}\n",
    "\n",
    "list(colec.find(query).limit(3))  \n",
    "\n",
    "# select * from colec where edad!=24 limit 3;"
   ]
  },
  {
   "cell_type": "code",
   "execution_count": 31,
   "id": "509215c5",
   "metadata": {},
   "outputs": [
    {
     "data": {
      "text/plain": [
       "[{'_id': 24, 'actividad': 'natacion', 'hora': '22:00', 'lugar': 'aculla'},\n",
       " {'_id': 20, 'actividad': 'natacion', 'lugar': 'aqui'},\n",
       " {'_id': ObjectId('63639f3a822e82b27e3fa23c'),\n",
       "  'nombre': 'Pepe',\n",
       "  'edad': 35,\n",
       "  '4': [0, 1, 2, 3]}]"
      ]
     },
     "execution_count": 31,
     "metadata": {},
     "output_type": "execute_result"
    }
   ],
   "source": [
    "query={'edad': {'$ne': 24}}\n",
    "\n",
    "list(colec.find(query).sort('edad', 1).limit(3))   \n",
    "\n",
    "# select * from colec where edad!=24 order by edad asc limit 3;"
   ]
  },
  {
   "cell_type": "code",
   "execution_count": 32,
   "id": "3596c61e",
   "metadata": {},
   "outputs": [
    {
     "data": {
      "text/plain": [
       "<pymongo.results.UpdateResult at 0x10680de20>"
      ]
     },
     "execution_count": 32,
     "metadata": {},
     "output_type": "execute_result"
    }
   ],
   "source": [
    "colec.update_one({'_id': 20}, {'$set': {'actividad': 'atletismo'}})"
   ]
  },
  {
   "cell_type": "code",
   "execution_count": 33,
   "id": "d3462603",
   "metadata": {},
   "outputs": [
    {
     "data": {
      "text/plain": [
       "[{'_id': 20, 'actividad': 'atletismo', 'lugar': 'aqui'}]"
      ]
     },
     "execution_count": 33,
     "metadata": {},
     "output_type": "execute_result"
    }
   ],
   "source": [
    "list(colec.find({'_id': 20}))"
   ]
  },
  {
   "cell_type": "code",
   "execution_count": 34,
   "id": "bb1ec1ca",
   "metadata": {
    "scrolled": false
   },
   "outputs": [
    {
     "data": {
      "text/plain": [
       "<pymongo.results.UpdateResult at 0x1068076a0>"
      ]
     },
     "execution_count": 34,
     "metadata": {},
     "output_type": "execute_result"
    }
   ],
   "source": [
    "colec.update_many({'nombre': 'Ana'}, {'$set': {'edad': 1}})"
   ]
  },
  {
   "cell_type": "code",
   "execution_count": 35,
   "id": "5acb8754",
   "metadata": {},
   "outputs": [
    {
     "data": {
      "text/plain": [
       "[{'_id': ObjectId('63639f3a822e82b27e3fa23c'),\n",
       "  'nombre': 'Pepe',\n",
       "  'edad': 35,\n",
       "  '4': [0, 1, 2, 3]},\n",
       " {'_id': ObjectId('63639f3a822e82b27e3fa23d'), 'nombre': 'yo', 'edad': 38},\n",
       " {'_id': 20, 'actividad': 'atletismo', 'lugar': 'aqui'},\n",
       " {'_id': ObjectId('63639f3a822e82b27e3fa23e'), 'nombre': 'Ana', 'edad': 1},\n",
       " {'_id': 24, 'actividad': 'natacion', 'hora': '22:00', 'lugar': 'aculla'}]"
      ]
     },
     "execution_count": 35,
     "metadata": {},
     "output_type": "execute_result"
    }
   ],
   "source": [
    "list(colec.find())"
   ]
  },
  {
   "cell_type": "code",
   "execution_count": 36,
   "id": "5e8b0e07",
   "metadata": {},
   "outputs": [
    {
     "data": {
      "text/plain": [
       "[{'_id': '', 'count': 5}]"
      ]
     },
     "execution_count": 36,
     "metadata": {},
     "output_type": "execute_result"
    }
   ],
   "source": [
    "# select count(*) from colec group by _id;     # por cada id suma 1\n",
    "\n",
    "list(colec.aggregate([{'$group': {'_id': '', 'count': {'$sum': 1}}}]))"
   ]
  },
  {
   "cell_type": "code",
   "execution_count": 37,
   "id": "0d184896",
   "metadata": {},
   "outputs": [
    {
     "data": {
      "text/plain": [
       "<pymongo.results.DeleteResult at 0x10680deb0>"
      ]
     },
     "execution_count": 37,
     "metadata": {},
     "output_type": "execute_result"
    }
   ],
   "source": [
    "colec.delete_one({'_id': 20})\n",
    "\n",
    "# delete from colec where _id=20;"
   ]
  },
  {
   "cell_type": "code",
   "execution_count": 38,
   "id": "d2e6184f",
   "metadata": {},
   "outputs": [
    {
     "data": {
      "text/plain": [
       "<pymongo.results.DeleteResult at 0x106807310>"
      ]
     },
     "execution_count": 38,
     "metadata": {},
     "output_type": "execute_result"
    }
   ],
   "source": [
    "colec.delete_many({'nombre': 'Ana'})\n",
    "\n",
    "# delete from colec where nombre=Ana;"
   ]
  },
  {
   "cell_type": "code",
   "execution_count": 39,
   "id": "0993fa7f",
   "metadata": {},
   "outputs": [
    {
     "data": {
      "text/plain": [
       "[{'_id': ObjectId('63639f3a822e82b27e3fa23c'),\n",
       "  'nombre': 'Pepe',\n",
       "  'edad': 35,\n",
       "  '4': [0, 1, 2, 3]},\n",
       " {'_id': ObjectId('63639f3a822e82b27e3fa23d'), 'nombre': 'yo', 'edad': 38},\n",
       " {'_id': 24, 'actividad': 'natacion', 'hora': '22:00', 'lugar': 'aculla'}]"
      ]
     },
     "execution_count": 39,
     "metadata": {},
     "output_type": "execute_result"
    }
   ],
   "source": [
    "list(colec.find())"
   ]
  },
  {
   "cell_type": "code",
   "execution_count": 40,
   "id": "c1af28f0",
   "metadata": {},
   "outputs": [],
   "source": [
    "colec.drop()"
   ]
  },
  {
   "cell_type": "code",
   "execution_count": 41,
   "id": "15718481",
   "metadata": {},
   "outputs": [
    {
     "data": {
      "text/plain": [
       "[]"
      ]
     },
     "execution_count": 41,
     "metadata": {},
     "output_type": "execute_result"
    }
   ],
   "source": [
    "db.list_collection_names()"
   ]
  },
  {
   "cell_type": "markdown",
   "id": "be3cedee",
   "metadata": {},
   "source": [
    "### DB Companies"
   ]
  },
  {
   "cell_type": "code",
   "execution_count": 42,
   "id": "501d1ab6",
   "metadata": {},
   "outputs": [],
   "source": [
    "db=cursor.companies"
   ]
  },
  {
   "cell_type": "code",
   "execution_count": 43,
   "id": "03fe7510",
   "metadata": {},
   "outputs": [],
   "source": [
    "colec=db.companies"
   ]
  },
  {
   "cell_type": "code",
   "execution_count": 44,
   "id": "96a82439",
   "metadata": {
    "scrolled": false
   },
   "outputs": [],
   "source": [
    "#list(colec.find().limit(1))"
   ]
  },
  {
   "cell_type": "code",
   "execution_count": 45,
   "id": "d163257f",
   "metadata": {},
   "outputs": [
    {
     "data": {
      "text/plain": [
       "[{'name': 'Wetpaint', 'category_code': 'web'},\n",
       " {'name': 'Postini', 'category_code': 'web'},\n",
       " {'name': 'Geni', 'category_code': 'web'},\n",
       " {'name': 'Fox Interactive Media', 'category_code': 'web'},\n",
       " {'name': 'StumbleUpon', 'category_code': 'web'},\n",
       " {'name': 'Gizmoz', 'category_code': 'web'},\n",
       " {'name': 'eBay', 'category_code': 'web'},\n",
       " {'name': 'Viacom', 'category_code': 'web'},\n",
       " {'name': 'Plaxo', 'category_code': 'web'},\n",
       " {'name': 'Yahoo!', 'category_code': 'web'}]"
      ]
     },
     "execution_count": 45,
     "metadata": {},
     "output_type": "execute_result"
    }
   ],
   "source": [
    "# select name, category_code from colec where category_code in ('web', 'ecommerce') limit 10;\n",
    "\n",
    "query={'$or': [{'category_code': 'web'},\n",
    "               {'category_code': 'ecommerce'}]}\n",
    "\n",
    "filtro={'name': True, 'category_code': True, '_id': False}\n",
    "\n",
    "\n",
    "list(colec.find(query, filtro).limit(10))"
   ]
  },
  {
   "cell_type": "code",
   "execution_count": 46,
   "id": "39053424",
   "metadata": {},
   "outputs": [
    {
     "data": {
      "text/plain": [
       "[{'name': 'Postini', 'founded_year': 1999},\n",
       " {'name': 'Fox Interactive Media', 'founded_year': 1979},\n",
       " {'name': 'StumbleUpon', 'founded_year': 2002},\n",
       " {'name': 'eBay', 'founded_year': 1995},\n",
       " {'name': 'Viacom', 'founded_year': 1971},\n",
       " {'name': 'Plaxo', 'founded_year': 2002},\n",
       " {'name': 'Yahoo!', 'founded_year': 1994},\n",
       " {'name': 'Meetup', 'founded_year': 2002},\n",
       " {'name': 'Topix', 'founded_year': 2002},\n",
       " {'name': 'Steorn', 'founded_year': 2000}]"
      ]
     },
     "execution_count": 46,
     "metadata": {},
     "output_type": "execute_result"
    }
   ],
   "source": [
    "query={'$and': [{'category_code': 'web'},\n",
    "                {'founded_year': {'$lte': 2002}}]}\n",
    "\n",
    "\n",
    "filtro={'founded_year': True, 'name': True, '_id': False}\n",
    "\n",
    "list(colec.find(query, filtro).limit(10))  \n",
    "\n",
    "\n",
    "\n",
    "# select founded_year, name from colec where category_code=web and founded_year<=2002 limit 10;"
   ]
  },
  {
   "cell_type": "code",
   "execution_count": 47,
   "id": "2e4f4e5c",
   "metadata": {},
   "outputs": [
    {
     "data": {
      "text/html": [
       "<div>\n",
       "<style scoped>\n",
       "    .dataframe tbody tr th:only-of-type {\n",
       "        vertical-align: middle;\n",
       "    }\n",
       "\n",
       "    .dataframe tbody tr th {\n",
       "        vertical-align: top;\n",
       "    }\n",
       "\n",
       "    .dataframe thead th {\n",
       "        text-align: right;\n",
       "    }\n",
       "</style>\n",
       "<table border=\"1\" class=\"dataframe\">\n",
       "  <thead>\n",
       "    <tr style=\"text-align: right;\">\n",
       "      <th></th>\n",
       "      <th>name</th>\n",
       "      <th>founded_year</th>\n",
       "    </tr>\n",
       "  </thead>\n",
       "  <tbody>\n",
       "    <tr>\n",
       "      <th>0</th>\n",
       "      <td>Postini</td>\n",
       "      <td>1999</td>\n",
       "    </tr>\n",
       "    <tr>\n",
       "      <th>1</th>\n",
       "      <td>Fox Interactive Media</td>\n",
       "      <td>1979</td>\n",
       "    </tr>\n",
       "    <tr>\n",
       "      <th>2</th>\n",
       "      <td>StumbleUpon</td>\n",
       "      <td>2002</td>\n",
       "    </tr>\n",
       "    <tr>\n",
       "      <th>3</th>\n",
       "      <td>eBay</td>\n",
       "      <td>1995</td>\n",
       "    </tr>\n",
       "    <tr>\n",
       "      <th>4</th>\n",
       "      <td>Viacom</td>\n",
       "      <td>1971</td>\n",
       "    </tr>\n",
       "  </tbody>\n",
       "</table>\n",
       "</div>"
      ],
      "text/plain": [
       "                    name  founded_year\n",
       "0                Postini          1999\n",
       "1  Fox Interactive Media          1979\n",
       "2            StumbleUpon          2002\n",
       "3                   eBay          1995\n",
       "4                 Viacom          1971"
      ]
     },
     "execution_count": 47,
     "metadata": {},
     "output_type": "execute_result"
    }
   ],
   "source": [
    "import pandas as pd\n",
    "\n",
    "\n",
    "df=pd.DataFrame(list(colec.find(query, filtro)))\n",
    "\n",
    "df.head()"
   ]
  },
  {
   "cell_type": "code",
   "execution_count": 48,
   "id": "e457d14d",
   "metadata": {},
   "outputs": [
    {
     "data": {
      "text/html": [
       "<div>\n",
       "<style scoped>\n",
       "    .dataframe tbody tr th:only-of-type {\n",
       "        vertical-align: middle;\n",
       "    }\n",
       "\n",
       "    .dataframe tbody tr th {\n",
       "        vertical-align: top;\n",
       "    }\n",
       "\n",
       "    .dataframe thead th {\n",
       "        text-align: right;\n",
       "    }\n",
       "</style>\n",
       "<table border=\"1\" class=\"dataframe\">\n",
       "  <thead>\n",
       "    <tr style=\"text-align: right;\">\n",
       "      <th></th>\n",
       "      <th>name</th>\n",
       "      <th>founded_year</th>\n",
       "    </tr>\n",
       "    <tr>\n",
       "      <th>_id</th>\n",
       "      <th></th>\n",
       "      <th></th>\n",
       "    </tr>\n",
       "  </thead>\n",
       "  <tbody>\n",
       "    <tr>\n",
       "      <th>52cdef7c4bab8bd675297d90</th>\n",
       "      <td>Postini</td>\n",
       "      <td>1999</td>\n",
       "    </tr>\n",
       "    <tr>\n",
       "      <th>52cdef7c4bab8bd675297d93</th>\n",
       "      <td>Fox Interactive Media</td>\n",
       "      <td>1979</td>\n",
       "    </tr>\n",
       "    <tr>\n",
       "      <th>52cdef7c4bab8bd675297d95</th>\n",
       "      <td>StumbleUpon</td>\n",
       "      <td>2002</td>\n",
       "    </tr>\n",
       "    <tr>\n",
       "      <th>52cdef7c4bab8bd675297d9b</th>\n",
       "      <td>eBay</td>\n",
       "      <td>1995</td>\n",
       "    </tr>\n",
       "    <tr>\n",
       "      <th>52cdef7c4bab8bd675297d9f</th>\n",
       "      <td>Viacom</td>\n",
       "      <td>1971</td>\n",
       "    </tr>\n",
       "  </tbody>\n",
       "</table>\n",
       "</div>"
      ],
      "text/plain": [
       "                                           name  founded_year\n",
       "_id                                                          \n",
       "52cdef7c4bab8bd675297d90                Postini          1999\n",
       "52cdef7c4bab8bd675297d93  Fox Interactive Media          1979\n",
       "52cdef7c4bab8bd675297d95            StumbleUpon          2002\n",
       "52cdef7c4bab8bd675297d9b                   eBay          1995\n",
       "52cdef7c4bab8bd675297d9f                 Viacom          1971"
      ]
     },
     "execution_count": 48,
     "metadata": {},
     "output_type": "execute_result"
    }
   ],
   "source": [
    "query={'$and': [{'category_code': 'web'},\n",
    "                {'founded_year': {'$lte': 2002}}]}\n",
    "\n",
    "\n",
    "filtro={'founded_year': True, 'name': True}\n",
    "\n",
    "df=pd.DataFrame(list(colec.find(query, filtro)))\n",
    "\n",
    "df.set_index('_id', inplace=True)\n",
    "\n",
    "df.head()"
   ]
  },
  {
   "cell_type": "code",
   "execution_count": 49,
   "id": "05ce38fe",
   "metadata": {},
   "outputs": [
    {
     "data": {
      "text/plain": [
       "[{'name': 'Facebook', 'category_code': 'social', 'founded_year': 2004},\n",
       " {'name': 'WeGame', 'category_code': 'web', 'founded_year': 1840}]"
      ]
     },
     "execution_count": 49,
     "metadata": {},
     "output_type": "execute_result"
    }
   ],
   "source": [
    "# select name, category_code, founded_year from colec where name in ('WeGame', 'Facebook');\n",
    "\n",
    "query={'name': {'$in': ['WeGame', 'Facebook']}}\n",
    "\n",
    "filtro={'name': True, 'category_code': True, 'founded_year': True, '_id': False}\n",
    "\n",
    "list(colec.find(query, filtro))"
   ]
  },
  {
   "cell_type": "code",
   "execution_count": 50,
   "id": "9163322b",
   "metadata": {},
   "outputs": [
    {
     "data": {
      "text/plain": [
       "[{'name': 'Facebook', 'category_code': 'social', 'founded_year': 2004},\n",
       " {'name': 'FaceTec', 'category_code': 'software', 'founded_year': 2002},\n",
       " {'name': 'Face Your Manga', 'category_code': 'web', 'founded_year': None},\n",
       " {'name': 'Facebookster',\n",
       "  'category_code': 'public_relations',\n",
       "  'founded_year': 2003},\n",
       " {'name': 'Facebook Causes Application',\n",
       "  'category_code': None,\n",
       "  'founded_year': None},\n",
       " {'name': 'FaceKoo', 'category_code': 'network_hosting', 'founded_year': 2008},\n",
       " {'name': 'FacebookLicious!',\n",
       "  'category_code': 'games_video',\n",
       "  'founded_year': 2007},\n",
       " {'name': 'FaceTime Strategy',\n",
       "  'category_code': 'public_relations',\n",
       "  'founded_year': None}]"
      ]
     },
     "execution_count": 50,
     "metadata": {},
     "output_type": "execute_result"
    }
   ],
   "source": [
    "# select name, category_code, founded_year from colec where name like 'Face%'; \n",
    "\n",
    "\n",
    "query={'name': {'$regex': '^Face'}}\n",
    "\n",
    "filtro={'name': True, 'category_code': True, 'founded_year': True, '_id': False}\n",
    "\n",
    "list(colec.find(query, filtro))"
   ]
  },
  {
   "cell_type": "markdown",
   "id": "3a5a081e",
   "metadata": {},
   "source": [
    "### Geoqueries"
   ]
  },
  {
   "cell_type": "code",
   "execution_count": 51,
   "id": "fc1ac2f4",
   "metadata": {},
   "outputs": [],
   "source": [
    "# documentos que contengan oficinas, devuelve solo el nombre y el array de oficinas\n",
    "\n",
    "\n",
    "query={'offices': {'$not': {'$size': 0}}}\n",
    "\n",
    "filtro={'_id': 0, 'name': 1, 'offices': 1}\n",
    "\n",
    "ofi=colec.find(query, filtro)"
   ]
  },
  {
   "cell_type": "code",
   "execution_count": 52,
   "id": "fda7a05e",
   "metadata": {},
   "outputs": [
    {
     "data": {
      "text/html": [
       "<div>\n",
       "<style scoped>\n",
       "    .dataframe tbody tr th:only-of-type {\n",
       "        vertical-align: middle;\n",
       "    }\n",
       "\n",
       "    .dataframe tbody tr th {\n",
       "        vertical-align: top;\n",
       "    }\n",
       "\n",
       "    .dataframe thead th {\n",
       "        text-align: right;\n",
       "    }\n",
       "</style>\n",
       "<table border=\"1\" class=\"dataframe\">\n",
       "  <thead>\n",
       "    <tr style=\"text-align: right;\">\n",
       "      <th></th>\n",
       "      <th>name</th>\n",
       "      <th>offices</th>\n",
       "    </tr>\n",
       "  </thead>\n",
       "  <tbody>\n",
       "    <tr>\n",
       "      <th>0</th>\n",
       "      <td>Wetpaint</td>\n",
       "      <td>[{'description': '', 'address1': '710 - 2nd Av...</td>\n",
       "    </tr>\n",
       "    <tr>\n",
       "      <th>1</th>\n",
       "      <td>AdventNet</td>\n",
       "      <td>[{'description': 'Headquarters', 'address1': '...</td>\n",
       "    </tr>\n",
       "    <tr>\n",
       "      <th>2</th>\n",
       "      <td>Zoho</td>\n",
       "      <td>[{'description': 'Headquarters', 'address1': '...</td>\n",
       "    </tr>\n",
       "    <tr>\n",
       "      <th>3</th>\n",
       "      <td>Digg</td>\n",
       "      <td>[{'description': None, 'address1': '135 Missis...</td>\n",
       "    </tr>\n",
       "    <tr>\n",
       "      <th>4</th>\n",
       "      <td>Facebook</td>\n",
       "      <td>[{'description': 'Headquarters', 'address1': '...</td>\n",
       "    </tr>\n",
       "  </tbody>\n",
       "</table>\n",
       "</div>"
      ],
      "text/plain": [
       "        name                                            offices\n",
       "0   Wetpaint  [{'description': '', 'address1': '710 - 2nd Av...\n",
       "1  AdventNet  [{'description': 'Headquarters', 'address1': '...\n",
       "2       Zoho  [{'description': 'Headquarters', 'address1': '...\n",
       "3       Digg  [{'description': None, 'address1': '135 Missis...\n",
       "4   Facebook  [{'description': 'Headquarters', 'address1': '..."
      ]
     },
     "execution_count": 52,
     "metadata": {},
     "output_type": "execute_result"
    }
   ],
   "source": [
    "df=pd.DataFrame(ofi)\n",
    "\n",
    "df=df.dropna()\n",
    "\n",
    "df.head()"
   ]
  },
  {
   "cell_type": "code",
   "execution_count": 53,
   "id": "4b6ea2d9",
   "metadata": {},
   "outputs": [
    {
     "data": {
      "text/plain": [
       "[{'description': '',\n",
       "  'address1': '710 - 2nd Avenue',\n",
       "  'address2': 'Suite 1100',\n",
       "  'zip_code': '98104',\n",
       "  'city': 'Seattle',\n",
       "  'state_code': 'WA',\n",
       "  'country_code': 'USA',\n",
       "  'latitude': 47.603122,\n",
       "  'longitude': -122.333253},\n",
       " {'description': '',\n",
       "  'address1': '270 Lafayette Street',\n",
       "  'address2': 'Suite 505',\n",
       "  'zip_code': '10012',\n",
       "  'city': 'New York',\n",
       "  'state_code': 'NY',\n",
       "  'country_code': 'USA',\n",
       "  'latitude': 40.7237306,\n",
       "  'longitude': -73.9964312}]"
      ]
     },
     "execution_count": 53,
     "metadata": {},
     "output_type": "execute_result"
    }
   ],
   "source": [
    "df.offices[0]"
   ]
  },
  {
   "cell_type": "code",
   "execution_count": 54,
   "id": "ca153d3d",
   "metadata": {},
   "outputs": [],
   "source": [
    "# extraigo la primera oficina y creo geopunto\n",
    "\n",
    "def get_first(data):\n",
    "    \n",
    "    data=data.offices\n",
    "    \n",
    "    principal=None\n",
    "    \n",
    "    if data[0]['latitude'] and data[0]['longitude']:\n",
    "        \n",
    "        principal={'type': 'Point',\n",
    "                   'coordinates': [data[0]['longitude'], data[0]['latitude']]}\n",
    "        \n",
    "    return {'total_offices': len(data),\n",
    "            'lat': data[0]['latitude'],\n",
    "            'lng': data[0]['longitude'],\n",
    "            'principal': principal}"
   ]
  },
  {
   "cell_type": "code",
   "execution_count": 57,
   "id": "79428353",
   "metadata": {},
   "outputs": [
    {
     "data": {
      "text/html": [
       "<div>\n",
       "<style scoped>\n",
       "    .dataframe tbody tr th:only-of-type {\n",
       "        vertical-align: middle;\n",
       "    }\n",
       "\n",
       "    .dataframe tbody tr th {\n",
       "        vertical-align: top;\n",
       "    }\n",
       "\n",
       "    .dataframe thead th {\n",
       "        text-align: right;\n",
       "    }\n",
       "</style>\n",
       "<table border=\"1\" class=\"dataframe\">\n",
       "  <thead>\n",
       "    <tr style=\"text-align: right;\">\n",
       "      <th></th>\n",
       "      <th>total_offices</th>\n",
       "      <th>lat</th>\n",
       "      <th>lng</th>\n",
       "      <th>principal</th>\n",
       "    </tr>\n",
       "  </thead>\n",
       "  <tbody>\n",
       "    <tr>\n",
       "      <th>0</th>\n",
       "      <td>2.0</td>\n",
       "      <td>47.603122</td>\n",
       "      <td>-122.333253</td>\n",
       "      <td>{'type': 'Point', 'coordinates': [-122.333253,...</td>\n",
       "    </tr>\n",
       "    <tr>\n",
       "      <th>1</th>\n",
       "      <td>1.0</td>\n",
       "      <td>37.692934</td>\n",
       "      <td>-121.904945</td>\n",
       "      <td>{'type': 'Point', 'coordinates': [-121.904945,...</td>\n",
       "    </tr>\n",
       "    <tr>\n",
       "      <th>2</th>\n",
       "      <td>1.0</td>\n",
       "      <td>37.692934</td>\n",
       "      <td>-121.904945</td>\n",
       "      <td>{'type': 'Point', 'coordinates': [-121.904945,...</td>\n",
       "    </tr>\n",
       "    <tr>\n",
       "      <th>3</th>\n",
       "      <td>1.0</td>\n",
       "      <td>37.764726</td>\n",
       "      <td>-122.394523</td>\n",
       "      <td>{'type': 'Point', 'coordinates': [-122.394523,...</td>\n",
       "    </tr>\n",
       "    <tr>\n",
       "      <th>4</th>\n",
       "      <td>3.0</td>\n",
       "      <td>37.416050</td>\n",
       "      <td>-122.151801</td>\n",
       "      <td>{'type': 'Point', 'coordinates': [-122.151801,...</td>\n",
       "    </tr>\n",
       "  </tbody>\n",
       "</table>\n",
       "</div>"
      ],
      "text/plain": [
       "   total_offices        lat         lng  \\\n",
       "0            2.0  47.603122 -122.333253   \n",
       "1            1.0  37.692934 -121.904945   \n",
       "2            1.0  37.692934 -121.904945   \n",
       "3            1.0  37.764726 -122.394523   \n",
       "4            3.0  37.416050 -122.151801   \n",
       "\n",
       "                                           principal  \n",
       "0  {'type': 'Point', 'coordinates': [-122.333253,...  \n",
       "1  {'type': 'Point', 'coordinates': [-121.904945,...  \n",
       "2  {'type': 'Point', 'coordinates': [-121.904945,...  \n",
       "3  {'type': 'Point', 'coordinates': [-122.394523,...  \n",
       "4  {'type': 'Point', 'coordinates': [-122.151801,...  "
      ]
     },
     "execution_count": 57,
     "metadata": {},
     "output_type": "execute_result"
    }
   ],
   "source": [
    "first_office=df[['offices']].apply(get_first, result_type='expand', axis=1)\n",
    "\n",
    "first_office.head()"
   ]
  },
  {
   "cell_type": "code",
   "execution_count": 58,
   "id": "479d9e52",
   "metadata": {},
   "outputs": [
    {
     "data": {
      "text/html": [
       "<div>\n",
       "<style scoped>\n",
       "    .dataframe tbody tr th:only-of-type {\n",
       "        vertical-align: middle;\n",
       "    }\n",
       "\n",
       "    .dataframe tbody tr th {\n",
       "        vertical-align: top;\n",
       "    }\n",
       "\n",
       "    .dataframe thead th {\n",
       "        text-align: right;\n",
       "    }\n",
       "</style>\n",
       "<table border=\"1\" class=\"dataframe\">\n",
       "  <thead>\n",
       "    <tr style=\"text-align: right;\">\n",
       "      <th></th>\n",
       "      <th>name</th>\n",
       "      <th>total_offices</th>\n",
       "      <th>lat</th>\n",
       "      <th>lng</th>\n",
       "      <th>principal</th>\n",
       "    </tr>\n",
       "  </thead>\n",
       "  <tbody>\n",
       "    <tr>\n",
       "      <th>0</th>\n",
       "      <td>Wetpaint</td>\n",
       "      <td>2.0</td>\n",
       "      <td>47.603122</td>\n",
       "      <td>-122.333253</td>\n",
       "      <td>{'type': 'Point', 'coordinates': [-122.333253,...</td>\n",
       "    </tr>\n",
       "    <tr>\n",
       "      <th>1</th>\n",
       "      <td>AdventNet</td>\n",
       "      <td>1.0</td>\n",
       "      <td>37.692934</td>\n",
       "      <td>-121.904945</td>\n",
       "      <td>{'type': 'Point', 'coordinates': [-121.904945,...</td>\n",
       "    </tr>\n",
       "    <tr>\n",
       "      <th>2</th>\n",
       "      <td>Zoho</td>\n",
       "      <td>1.0</td>\n",
       "      <td>37.692934</td>\n",
       "      <td>-121.904945</td>\n",
       "      <td>{'type': 'Point', 'coordinates': [-121.904945,...</td>\n",
       "    </tr>\n",
       "    <tr>\n",
       "      <th>3</th>\n",
       "      <td>Digg</td>\n",
       "      <td>1.0</td>\n",
       "      <td>37.764726</td>\n",
       "      <td>-122.394523</td>\n",
       "      <td>{'type': 'Point', 'coordinates': [-122.394523,...</td>\n",
       "    </tr>\n",
       "    <tr>\n",
       "      <th>4</th>\n",
       "      <td>Facebook</td>\n",
       "      <td>3.0</td>\n",
       "      <td>37.416050</td>\n",
       "      <td>-122.151801</td>\n",
       "      <td>{'type': 'Point', 'coordinates': [-122.151801,...</td>\n",
       "    </tr>\n",
       "  </tbody>\n",
       "</table>\n",
       "</div>"
      ],
      "text/plain": [
       "        name  total_offices        lat         lng  \\\n",
       "0   Wetpaint            2.0  47.603122 -122.333253   \n",
       "1  AdventNet            1.0  37.692934 -121.904945   \n",
       "2       Zoho            1.0  37.692934 -121.904945   \n",
       "3       Digg            1.0  37.764726 -122.394523   \n",
       "4   Facebook            3.0  37.416050 -122.151801   \n",
       "\n",
       "                                           principal  \n",
       "0  {'type': 'Point', 'coordinates': [-122.333253,...  \n",
       "1  {'type': 'Point', 'coordinates': [-121.904945,...  \n",
       "2  {'type': 'Point', 'coordinates': [-121.904945,...  \n",
       "3  {'type': 'Point', 'coordinates': [-122.394523,...  \n",
       "4  {'type': 'Point', 'coordinates': [-122.151801,...  "
      ]
     },
     "execution_count": 58,
     "metadata": {},
     "output_type": "execute_result"
    }
   ],
   "source": [
    "first_office=first_office.dropna()\n",
    "\n",
    "df=pd.concat([df, first_office], axis=1).drop('offices', axis=1)\n",
    "\n",
    "df=df.dropna()\n",
    "\n",
    "df.head()"
   ]
  },
  {
   "cell_type": "code",
   "execution_count": null,
   "id": "06e2a013",
   "metadata": {},
   "outputs": [],
   "source": [
    "#df.to_json('../data/oficinas.json')"
   ]
  },
  {
   "cell_type": "code",
   "execution_count": 60,
   "id": "7908dfad",
   "metadata": {},
   "outputs": [
    {
     "data": {
      "text/plain": [
       "<pymongo.results.InsertManyResult at 0x10f73c970>"
      ]
     },
     "execution_count": 60,
     "metadata": {},
     "output_type": "execute_result"
    }
   ],
   "source": [
    "db.first_office.insert_many(df.to_dict('records'))"
   ]
  },
  {
   "cell_type": "code",
   "execution_count": 61,
   "id": "958eb501",
   "metadata": {},
   "outputs": [
    {
     "data": {
      "text/plain": [
       "'principal_2dsphere'"
      ]
     },
     "execution_count": 61,
     "metadata": {},
     "output_type": "execute_result"
    }
   ],
   "source": [
    "db.first_office.create_index([('principal', '2dsphere')])"
   ]
  },
  {
   "cell_type": "code",
   "execution_count": 62,
   "id": "0f5f4495",
   "metadata": {},
   "outputs": [],
   "source": [
    "def find_near(array, radio=1000):\n",
    "    \n",
    "    query={'principal': {'$near': {'$geometry': {'type': 'Point',\n",
    "                                                 'coordinates': array},\n",
    "                                  '$maxDistance': radio}}}\n",
    "\n",
    "\n",
    "    return db.first_office.find(query)"
   ]
  },
  {
   "cell_type": "code",
   "execution_count": 63,
   "id": "5f12b4ea",
   "metadata": {},
   "outputs": [],
   "source": [
    "park_avenue=[-73.987308, 40.738935] "
   ]
  },
  {
   "cell_type": "code",
   "execution_count": 66,
   "id": "f92ce8fc",
   "metadata": {},
   "outputs": [
    {
     "data": {
      "text/html": [
       "<div>\n",
       "<style scoped>\n",
       "    .dataframe tbody tr th:only-of-type {\n",
       "        vertical-align: middle;\n",
       "    }\n",
       "\n",
       "    .dataframe tbody tr th {\n",
       "        vertical-align: top;\n",
       "    }\n",
       "\n",
       "    .dataframe thead th {\n",
       "        text-align: right;\n",
       "    }\n",
       "</style>\n",
       "<table border=\"1\" class=\"dataframe\">\n",
       "  <thead>\n",
       "    <tr style=\"text-align: right;\">\n",
       "      <th></th>\n",
       "      <th>_id</th>\n",
       "      <th>name</th>\n",
       "      <th>total_offices</th>\n",
       "      <th>lat</th>\n",
       "      <th>lng</th>\n",
       "      <th>principal</th>\n",
       "    </tr>\n",
       "  </thead>\n",
       "  <tbody>\n",
       "    <tr>\n",
       "      <th>0</th>\n",
       "      <td>63639fa4822e82b27e3fbff5</td>\n",
       "      <td>SpaBooker</td>\n",
       "      <td>1.0</td>\n",
       "      <td>40.738567</td>\n",
       "      <td>-73.987199</td>\n",
       "      <td>{'type': 'Point', 'coordinates': [-73.987199, ...</td>\n",
       "    </tr>\n",
       "    <tr>\n",
       "      <th>1</th>\n",
       "      <td>63639fa4822e82b27e3fadcd</td>\n",
       "      <td>HealthiNation</td>\n",
       "      <td>1.0</td>\n",
       "      <td>40.739341</td>\n",
       "      <td>-73.988357</td>\n",
       "      <td>{'type': 'Point', 'coordinates': [-73.988357, ...</td>\n",
       "    </tr>\n",
       "    <tr>\n",
       "      <th>2</th>\n",
       "      <td>63639fa4822e82b27e3fa9b5</td>\n",
       "      <td>Special Ops Media</td>\n",
       "      <td>1.0</td>\n",
       "      <td>40.737721</td>\n",
       "      <td>-73.987725</td>\n",
       "      <td>{'type': 'Point', 'coordinates': [-73.987725, ...</td>\n",
       "    </tr>\n",
       "    <tr>\n",
       "      <th>3</th>\n",
       "      <td>63639fa4822e82b27e3fc647</td>\n",
       "      <td>Mashable</td>\n",
       "      <td>1.0</td>\n",
       "      <td>40.740154</td>\n",
       "      <td>-73.986742</td>\n",
       "      <td>{'type': 'Point', 'coordinates': [-73.9867417,...</td>\n",
       "    </tr>\n",
       "    <tr>\n",
       "      <th>4</th>\n",
       "      <td>63639fa4822e82b27e3fb74c</td>\n",
       "      <td>Return Path</td>\n",
       "      <td>1.0</td>\n",
       "      <td>40.740207</td>\n",
       "      <td>-73.987002</td>\n",
       "      <td>{'type': 'Point', 'coordinates': [-73.987002, ...</td>\n",
       "    </tr>\n",
       "  </tbody>\n",
       "</table>\n",
       "</div>"
      ],
      "text/plain": [
       "                        _id               name  total_offices        lat  \\\n",
       "0  63639fa4822e82b27e3fbff5          SpaBooker            1.0  40.738567   \n",
       "1  63639fa4822e82b27e3fadcd      HealthiNation            1.0  40.739341   \n",
       "2  63639fa4822e82b27e3fa9b5  Special Ops Media            1.0  40.737721   \n",
       "3  63639fa4822e82b27e3fc647           Mashable            1.0  40.740154   \n",
       "4  63639fa4822e82b27e3fb74c        Return Path            1.0  40.740207   \n",
       "\n",
       "         lng                                          principal  \n",
       "0 -73.987199  {'type': 'Point', 'coordinates': [-73.987199, ...  \n",
       "1 -73.988357  {'type': 'Point', 'coordinates': [-73.988357, ...  \n",
       "2 -73.987725  {'type': 'Point', 'coordinates': [-73.987725, ...  \n",
       "3 -73.986742  {'type': 'Point', 'coordinates': [-73.9867417,...  \n",
       "4 -73.987002  {'type': 'Point', 'coordinates': [-73.987002, ...  "
      ]
     },
     "execution_count": 66,
     "metadata": {},
     "output_type": "execute_result"
    }
   ],
   "source": [
    "df=pd.DataFrame(find_near(park_avenue))\n",
    "\n",
    "df.head()"
   ]
  },
  {
   "cell_type": "code",
   "execution_count": null,
   "id": "0ffffeb3",
   "metadata": {},
   "outputs": [],
   "source": []
  },
  {
   "cell_type": "code",
   "execution_count": null,
   "id": "9dbd8672",
   "metadata": {},
   "outputs": [],
   "source": []
  }
 ],
 "metadata": {
  "kernelspec": {
   "display_name": "clase",
   "language": "python",
   "name": "clase"
  },
  "language_info": {
   "codemirror_mode": {
    "name": "ipython",
    "version": 3
   },
   "file_extension": ".py",
   "mimetype": "text/x-python",
   "name": "python",
   "nbconvert_exporter": "python",
   "pygments_lexer": "ipython3",
   "version": "3.8.13"
  },
  "varInspector": {
   "cols": {
    "lenName": 16,
    "lenType": 16,
    "lenVar": 40
   },
   "kernels_config": {
    "python": {
     "delete_cmd_postfix": "",
     "delete_cmd_prefix": "del ",
     "library": "var_list.py",
     "varRefreshCmd": "print(var_dic_list())"
    },
    "r": {
     "delete_cmd_postfix": ") ",
     "delete_cmd_prefix": "rm(",
     "library": "var_list.r",
     "varRefreshCmd": "cat(var_dic_list()) "
    }
   },
   "types_to_exclude": [
    "module",
    "function",
    "builtin_function_or_method",
    "instance",
    "_Feature"
   ],
   "window_display": false
  }
 },
 "nbformat": 4,
 "nbformat_minor": 5
}

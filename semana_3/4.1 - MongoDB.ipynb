{
 "cells": [
  {
   "cell_type": "markdown",
   "id": "296c3fa2",
   "metadata": {},
   "source": [
    "# 4.1 - MongoDB\n",
    "\n",
    "![mongo](images/mongodb.jpeg)\n",
    "\n",
    "https://docs.mongodb.com/manual/administration/install-community/\n",
    "\n",
    "https://docs.mongodb.com/compass/current/install/\n",
    "\n",
    "MongoDB es una base de datos orientada a documentos. Esto quiere decir que en lugar de guardar los datos en registros, guarda los datos en documentos. Estos documentos son almacenados en BSON, que es una representación binaria de JSON.\n",
    "\n",
    "Una de las diferencias más importantes con respecto a las bases de datos relacionales, es que no es necesario seguir un esquema. Los documentos de una misma colección, concepto similar a una tabla de una base de datos relacional, pueden tener esquemas diferentes.\n"
   ]
  },
  {
   "cell_type": "code",
   "execution_count": 1,
   "id": "d686b82b",
   "metadata": {},
   "outputs": [
    {
     "name": "stdout",
     "output_type": "stream",
     "text": [
      "Collecting pymongo\n",
      "  Downloading pymongo-4.3.2.tar.gz (807 kB)\n",
      "\u001b[2K     \u001b[38;2;114;156;31m━━━━━━━━━━━━━━━━━━━━━━━━━━━━━━━━━━━━━━━\u001b[0m \u001b[32m807.5/807.5 kB\u001b[0m \u001b[31m5.3 MB/s\u001b[0m eta \u001b[36m0:00:00\u001b[0mm eta \u001b[36m0:00:01\u001b[0m[36m0:00:01\u001b[0m\n",
      "\u001b[?25h  Preparing metadata (setup.py) ... \u001b[?25ldone\n",
      "\u001b[?25hCollecting dnspython<3.0.0,>=1.16.0\n",
      "  Using cached dnspython-2.2.1-py3-none-any.whl (269 kB)\n",
      "Building wheels for collected packages: pymongo\n",
      "  Building wheel for pymongo (setup.py) ... \u001b[?25ldone\n",
      "\u001b[?25h  Created wheel for pymongo: filename=pymongo-4.3.2-cp38-cp38-macosx_11_0_arm64.whl size=382271 sha256=9956fb61b4490e01a6109ec2bfab15cf9a1b2189fc63a617198ae51bff2a6585\n",
      "  Stored in directory: /Users/iudh/Library/Caches/pip/wheels/b6/27/c0/2115037dcd1e4236d418cf84f38ddc5439eda58664c72c3bb5\n",
      "Successfully built pymongo\n",
      "Installing collected packages: dnspython, pymongo\n",
      "Successfully installed dnspython-2.2.1 pymongo-4.3.2\n",
      "Note: you may need to restart the kernel to use updated packages.\n"
     ]
    }
   ],
   "source": [
    "%pip install pymongo"
   ]
  },
  {
   "cell_type": "code",
   "execution_count": 2,
   "id": "b53f90eb",
   "metadata": {},
   "outputs": [],
   "source": [
    "from pymongo import MongoClient\n",
    "\n",
    "import warnings\n",
    "warnings.filterwarnings('ignore')"
   ]
  },
  {
   "cell_type": "code",
   "execution_count": 4,
   "id": "87c2662e",
   "metadata": {},
   "outputs": [
    {
     "data": {
      "text/plain": [
       "MongoClient(host=['localhost:27017'], document_class=dict, tz_aware=False, connect=True)"
      ]
     },
     "execution_count": 4,
     "metadata": {},
     "output_type": "execute_result"
    }
   ],
   "source": [
    "str_conn='mongodb://localhost:27017'\n",
    "\n",
    "cursor=MongoClient(str_conn)\n",
    "\n",
    "cursor"
   ]
  },
  {
   "cell_type": "code",
   "execution_count": 5,
   "id": "0eff5667",
   "metadata": {},
   "outputs": [
    {
     "data": {
      "text/plain": [
       "['admin',\n",
       " 'arbbot',\n",
       " 'campus_tools',\n",
       " 'companies',\n",
       " 'complete_exchange_matches',\n",
       " 'config',\n",
       " 'ironcomes',\n",
       " 'local',\n",
       " 'telegram_messages',\n",
       " 'total_records']"
      ]
     },
     "execution_count": 5,
     "metadata": {},
     "output_type": "execute_result"
    }
   ],
   "source": [
    "cursor.list_database_names()   # lista de bases de datos"
   ]
  },
  {
   "cell_type": "code",
   "execution_count": 6,
   "id": "882a8427",
   "metadata": {},
   "outputs": [],
   "source": [
    "db=cursor.nueva_db   # nueva base de datos"
   ]
  },
  {
   "cell_type": "code",
   "execution_count": 7,
   "id": "ae026dc9",
   "metadata": {},
   "outputs": [
    {
     "data": {
      "text/plain": [
       "['admin',\n",
       " 'arbbot',\n",
       " 'campus_tools',\n",
       " 'companies',\n",
       " 'complete_exchange_matches',\n",
       " 'config',\n",
       " 'ironcomes',\n",
       " 'local',\n",
       " 'telegram_messages',\n",
       " 'total_records']"
      ]
     },
     "execution_count": 7,
     "metadata": {},
     "output_type": "execute_result"
    }
   ],
   "source": [
    "cursor.list_database_names() "
   ]
  },
  {
   "cell_type": "code",
   "execution_count": 8,
   "id": "af4151db",
   "metadata": {},
   "outputs": [],
   "source": [
    "colec=db.n_colec   # nueva coleccion"
   ]
  },
  {
   "cell_type": "code",
   "execution_count": 10,
   "id": "bc989056",
   "metadata": {},
   "outputs": [
    {
     "data": {
      "text/plain": [
       "[]"
      ]
     },
     "execution_count": 10,
     "metadata": {},
     "output_type": "execute_result"
    }
   ],
   "source": [
    "db.list_collection_names() "
   ]
  },
  {
   "cell_type": "code",
   "execution_count": 12,
   "id": "85c8002d",
   "metadata": {},
   "outputs": [
    {
     "data": {
      "text/plain": [
       "<pymongo.results.InsertOneResult at 0x106eb8340>"
      ]
     },
     "execution_count": 12,
     "metadata": {},
     "output_type": "execute_result"
    }
   ],
   "source": [
    "dictio={'nombre': 'Pepe', 'edad': 35, '4': [0, 1, 2 ,3]}\n",
    "\n",
    "colec.insert_one(dictio)"
   ]
  },
  {
   "cell_type": "code",
   "execution_count": 13,
   "id": "6afb0b69",
   "metadata": {},
   "outputs": [
    {
     "data": {
      "text/plain": [
       "['admin',\n",
       " 'arbbot',\n",
       " 'campus_tools',\n",
       " 'companies',\n",
       " 'complete_exchange_matches',\n",
       " 'config',\n",
       " 'ironcomes',\n",
       " 'local',\n",
       " 'nueva_db',\n",
       " 'telegram_messages',\n",
       " 'total_records']"
      ]
     },
     "execution_count": 13,
     "metadata": {},
     "output_type": "execute_result"
    }
   ],
   "source": [
    "cursor.list_database_names() "
   ]
  },
  {
   "cell_type": "code",
   "execution_count": 14,
   "id": "f4320811",
   "metadata": {},
   "outputs": [
    {
     "data": {
      "text/plain": [
       "['n_colec']"
      ]
     },
     "execution_count": 14,
     "metadata": {},
     "output_type": "execute_result"
    }
   ],
   "source": [
    "db.list_collection_names() "
   ]
  },
  {
   "cell_type": "code",
   "execution_count": 15,
   "id": "812407c3",
   "metadata": {},
   "outputs": [
    {
     "data": {
      "text/plain": [
       "<pymongo.results.InsertManyResult at 0x106c2f850>"
      ]
     },
     "execution_count": 15,
     "metadata": {},
     "output_type": "execute_result"
    }
   ],
   "source": [
    "# insertar varios\n",
    "\n",
    "# insert into colec (columnas) values (valores);   equivalente SQL\n",
    "\n",
    "json=[{'nombre': 'yo', 'edad': 38},\n",
    "      {'_id': 20, 'actividad': 'natacion', 'lugar': 'aqui'}]\n",
    "\n",
    "colec.insert_many(json)"
   ]
  },
  {
   "cell_type": "code",
   "execution_count": 17,
   "id": "e54fc648",
   "metadata": {},
   "outputs": [
    {
     "data": {
      "text/plain": [
       "<pymongo.results.InsertManyResult at 0x10633d070>"
      ]
     },
     "execution_count": 17,
     "metadata": {},
     "output_type": "execute_result"
    }
   ],
   "source": [
    "json=[{'nombre': 'Ana', 'edad': 24},\n",
    "      {'_id': 24, 'actividad': 'natacion', 'hora': '22:00', 'lugar': 'aculla'}]\n",
    "\n",
    "\n",
    "colec.insert_many(json)"
   ]
  },
  {
   "cell_type": "code",
   "execution_count": 18,
   "id": "0dcf515f",
   "metadata": {},
   "outputs": [
    {
     "data": {
      "text/plain": [
       "<pymongo.cursor.Cursor at 0x111218580>"
      ]
     },
     "execution_count": 18,
     "metadata": {},
     "output_type": "execute_result"
    }
   ],
   "source": [
    "# select * from colec;\n",
    "\n",
    "colec.find()"
   ]
  },
  {
   "cell_type": "code",
   "execution_count": 19,
   "id": "51f1daf9",
   "metadata": {},
   "outputs": [
    {
     "data": {
      "text/plain": [
       "[{'_id': ObjectId('636387a819554d6948b903a9'),\n",
       "  'nombre': 'Pepe',\n",
       "  'edad': 35,\n",
       "  '4': [0, 1, 2, 3]},\n",
       " {'_id': ObjectId('6363885219554d6948b903aa'), 'nombre': 'yo', 'edad': 38},\n",
       " {'_id': 20, 'actividad': 'natacion', 'lugar': 'aqui'},\n",
       " {'_id': ObjectId('6363887419554d6948b903ab'), 'nombre': 'Ana', 'edad': 24},\n",
       " {'_id': ObjectId('6363888119554d6948b903ac'), 'nombre': 'Ana', 'edad': 24},\n",
       " {'_id': 24, 'actividad': 'natacion', 'hora': '22:00', 'lugar': 'aculla'}]"
      ]
     },
     "execution_count": 19,
     "metadata": {},
     "output_type": "execute_result"
    }
   ],
   "source": [
    "list(colec.find())"
   ]
  },
  {
   "cell_type": "code",
   "execution_count": 20,
   "id": "45b50423",
   "metadata": {},
   "outputs": [],
   "source": [
    "a=list(colec.find())"
   ]
  },
  {
   "cell_type": "code",
   "execution_count": 21,
   "id": "20e41237",
   "metadata": {},
   "outputs": [
    {
     "data": {
      "text/plain": [
       "{'_id': ObjectId('6363888119554d6948b903ac'), 'nombre': 'Ana', 'edad': 24}"
      ]
     },
     "execution_count": 21,
     "metadata": {},
     "output_type": "execute_result"
    }
   ],
   "source": [
    "a[4]"
   ]
  },
  {
   "cell_type": "code",
   "execution_count": 23,
   "id": "db7dc826",
   "metadata": {},
   "outputs": [
    {
     "data": {
      "text/plain": [
       "[0, 1, 2, 3]"
      ]
     },
     "execution_count": 23,
     "metadata": {},
     "output_type": "execute_result"
    }
   ],
   "source": [
    "a[0]['4']"
   ]
  },
  {
   "cell_type": "markdown",
   "id": "5cec891a",
   "metadata": {},
   "source": [
    "### Queries"
   ]
  },
  {
   "cell_type": "code",
   "execution_count": 24,
   "id": "308bdc0f",
   "metadata": {},
   "outputs": [
    {
     "data": {
      "text/plain": [
       "[{'_id': ObjectId('636387a819554d6948b903a9'),\n",
       "  'nombre': 'Pepe',\n",
       "  'edad': 35,\n",
       "  '4': [0, 1, 2, 3]},\n",
       " {'_id': ObjectId('6363885219554d6948b903aa'), 'nombre': 'yo', 'edad': 38},\n",
       " {'_id': 20, 'actividad': 'natacion', 'lugar': 'aqui'},\n",
       " {'_id': ObjectId('6363887419554d6948b903ab'), 'nombre': 'Ana', 'edad': 24},\n",
       " {'_id': ObjectId('6363888119554d6948b903ac'), 'nombre': 'Ana', 'edad': 24},\n",
       " {'_id': 24, 'actividad': 'natacion', 'hora': '22:00', 'lugar': 'aculla'}]"
      ]
     },
     "execution_count": 24,
     "metadata": {},
     "output_type": "execute_result"
    }
   ],
   "source": [
    "list(colec.find())   # select * from colec;"
   ]
  },
  {
   "cell_type": "code",
   "execution_count": 25,
   "id": "52107153",
   "metadata": {},
   "outputs": [
    {
     "data": {
      "text/plain": [
       "[{'_id': ObjectId('6363887419554d6948b903ab'), 'nombre': 'Ana', 'edad': 24},\n",
       " {'_id': ObjectId('6363888119554d6948b903ac'), 'nombre': 'Ana', 'edad': 24}]"
      ]
     },
     "execution_count": 25,
     "metadata": {},
     "output_type": "execute_result"
    }
   ],
   "source": [
    "list(colec.find({'edad': 24}))   # select * from colec where edad=24;"
   ]
  },
  {
   "cell_type": "code",
   "execution_count": 26,
   "id": "dbfc33db",
   "metadata": {},
   "outputs": [
    {
     "data": {
      "text/plain": [
       "[{'_id': ObjectId('6363885219554d6948b903aa'), 'nombre': 'yo', 'edad': 38}]"
      ]
     },
     "execution_count": 26,
     "metadata": {},
     "output_type": "execute_result"
    }
   ],
   "source": [
    "list(colec.find({'nombre': 'yo'}))   # select * from colec where nombre=yo;"
   ]
  },
  {
   "cell_type": "code",
   "execution_count": 27,
   "id": "b2294eb5",
   "metadata": {},
   "outputs": [
    {
     "data": {
      "text/plain": [
       "[{'_id': ObjectId('636387a819554d6948b903a9'),\n",
       "  'nombre': 'Pepe',\n",
       "  'edad': 35,\n",
       "  '4': [0, 1, 2, 3]},\n",
       " {'_id': ObjectId('6363885219554d6948b903aa'), 'nombre': 'yo', 'edad': 38}]"
      ]
     },
     "execution_count": 27,
     "metadata": {},
     "output_type": "execute_result"
    }
   ],
   "source": [
    "list(colec.find({'edad': {'$gt': 24}}))   # select * from colec where edad>24;"
   ]
  },
  {
   "cell_type": "code",
   "execution_count": 28,
   "id": "347ac0ff",
   "metadata": {},
   "outputs": [
    {
     "data": {
      "text/plain": [
       "[{'_id': ObjectId('636387a819554d6948b903a9'),\n",
       "  'nombre': 'Pepe',\n",
       "  'edad': 35,\n",
       "  '4': [0, 1, 2, 3]},\n",
       " {'_id': ObjectId('6363885219554d6948b903aa'), 'nombre': 'yo', 'edad': 38},\n",
       " {'_id': ObjectId('6363887419554d6948b903ab'), 'nombre': 'Ana', 'edad': 24},\n",
       " {'_id': ObjectId('6363888119554d6948b903ac'), 'nombre': 'Ana', 'edad': 24}]"
      ]
     },
     "execution_count": 28,
     "metadata": {},
     "output_type": "execute_result"
    }
   ],
   "source": [
    "list(colec.find({'edad': {'$gte': 24}}))   # select * from colec where edad>=24;"
   ]
  },
  {
   "cell_type": "code",
   "execution_count": 29,
   "id": "18f2b6d7",
   "metadata": {},
   "outputs": [
    {
     "data": {
      "text/plain": [
       "[{'_id': ObjectId('636387a819554d6948b903a9'),\n",
       "  'nombre': 'Pepe',\n",
       "  'edad': 35,\n",
       "  '4': [0, 1, 2, 3]},\n",
       " {'_id': ObjectId('6363887419554d6948b903ab'), 'nombre': 'Ana', 'edad': 24},\n",
       " {'_id': ObjectId('6363888119554d6948b903ac'), 'nombre': 'Ana', 'edad': 24}]"
      ]
     },
     "execution_count": 29,
     "metadata": {},
     "output_type": "execute_result"
    }
   ],
   "source": [
    "list(colec.find({'edad': {'$lt': 38}}))   # select * from colec where edad<38;"
   ]
  },
  {
   "cell_type": "code",
   "execution_count": 30,
   "id": "834043b6",
   "metadata": {},
   "outputs": [
    {
     "data": {
      "text/plain": [
       "[{'_id': ObjectId('636387a819554d6948b903a9'),\n",
       "  'nombre': 'Pepe',\n",
       "  'edad': 35,\n",
       "  '4': [0, 1, 2, 3]},\n",
       " {'_id': ObjectId('6363887419554d6948b903ab'), 'nombre': 'Ana', 'edad': 24},\n",
       " {'_id': ObjectId('6363888119554d6948b903ac'), 'nombre': 'Ana', 'edad': 24}]"
      ]
     },
     "execution_count": 30,
     "metadata": {},
     "output_type": "execute_result"
    }
   ],
   "source": [
    "list(colec.find({'edad': {'$lte': 35}}))   # select * from colec where edad<=35;"
   ]
  },
  {
   "cell_type": "code",
   "execution_count": 31,
   "id": "27846ebb",
   "metadata": {},
   "outputs": [
    {
     "data": {
      "text/plain": [
       "[{'_id': ObjectId('636387a819554d6948b903a9'),\n",
       "  'nombre': 'Pepe',\n",
       "  'edad': 35,\n",
       "  '4': [0, 1, 2, 3]},\n",
       " {'_id': 20, 'actividad': 'natacion', 'lugar': 'aqui'},\n",
       " {'_id': ObjectId('6363887419554d6948b903ab'), 'nombre': 'Ana', 'edad': 24},\n",
       " {'_id': ObjectId('6363888119554d6948b903ac'), 'nombre': 'Ana', 'edad': 24},\n",
       " {'_id': 24, 'actividad': 'natacion', 'hora': '22:00', 'lugar': 'aculla'}]"
      ]
     },
     "execution_count": 31,
     "metadata": {},
     "output_type": "execute_result"
    }
   ],
   "source": [
    "list(colec.find({'edad': {'$ne': 38}}))   # select * from colec where edad!=38;"
   ]
  },
  {
   "cell_type": "code",
   "execution_count": 34,
   "id": "0442338a",
   "metadata": {},
   "outputs": [
    {
     "data": {
      "text/plain": [
       "[{'_id': ObjectId('636387a819554d6948b903a9'),\n",
       "  'nombre': 'Pepe',\n",
       "  'edad': 35,\n",
       "  '4': [0, 1, 2, 3]}]"
      ]
     },
     "execution_count": 34,
     "metadata": {},
     "output_type": "execute_result"
    }
   ],
   "source": [
    "list(colec.find({'$and':[{'edad': {'$ne': 38}}, \n",
    "                         {'nombre': 'Pepe'}]}))   \n",
    "\n",
    "# select * from colec where edad!=38 and nombre=Pepe;"
   ]
  },
  {
   "cell_type": "code",
   "execution_count": 36,
   "id": "dce6127a",
   "metadata": {},
   "outputs": [
    {
     "data": {
      "text/plain": [
       "[{'_id': ObjectId('636387a819554d6948b903a9'),\n",
       "  'nombre': 'Pepe',\n",
       "  'edad': 35,\n",
       "  '4': [0, 1, 2, 3]}]"
      ]
     },
     "execution_count": 36,
     "metadata": {},
     "output_type": "execute_result"
    }
   ],
   "source": [
    "list(colec.find({'$and':[{'edad': {'$lt': 38}}, \n",
    "                         {'edad': {'$gt': 24}}]}))   \n",
    "\n",
    "# select * from colec where edad<38 and edad>24;\n",
    "# select * from colec where edad between (38, 24);"
   ]
  },
  {
   "cell_type": "code",
   "execution_count": 37,
   "id": "cb1b6794",
   "metadata": {},
   "outputs": [
    {
     "data": {
      "text/plain": [
       "[{'_id': ObjectId('636387a819554d6948b903a9'),\n",
       "  'nombre': 'Pepe',\n",
       "  'edad': 35,\n",
       "  '4': [0, 1, 2, 3]}]"
      ]
     },
     "execution_count": 37,
     "metadata": {},
     "output_type": "execute_result"
    }
   ],
   "source": [
    "query={'$and':[{'edad': {'$lt': 38}}, \n",
    "               {'edad': {'$gt': 24}}]}\n",
    "\n",
    "list(colec.find(query))  "
   ]
  },
  {
   "cell_type": "code",
   "execution_count": 38,
   "id": "bd5b3f2d",
   "metadata": {},
   "outputs": [
    {
     "data": {
      "text/plain": [
       "[{'_id': ObjectId('636387a819554d6948b903a9'),\n",
       "  'nombre': 'Pepe',\n",
       "  'edad': 35,\n",
       "  '4': [0, 1, 2, 3]},\n",
       " {'_id': ObjectId('6363885219554d6948b903aa'), 'nombre': 'yo', 'edad': 38},\n",
       " {'_id': 20, 'actividad': 'natacion', 'lugar': 'aqui'}]"
      ]
     },
     "execution_count": 38,
     "metadata": {},
     "output_type": "execute_result"
    }
   ],
   "source": [
    "query={'edad': {'$ne': 24}}\n",
    "\n",
    "list(colec.find(query).limit(3))  \n",
    "\n",
    "# select * from colec where edad!=24 limit 3;"
   ]
  },
  {
   "cell_type": "code",
   "execution_count": 42,
   "id": "509215c5",
   "metadata": {},
   "outputs": [
    {
     "data": {
      "text/plain": [
       "[{'_id': 24, 'actividad': 'natacion', 'hora': '22:00', 'lugar': 'aculla'},\n",
       " {'_id': 20, 'actividad': 'natacion', 'lugar': 'aqui'},\n",
       " {'_id': ObjectId('636387a819554d6948b903a9'),\n",
       "  'nombre': 'Pepe',\n",
       "  'edad': 35,\n",
       "  '4': [0, 1, 2, 3]}]"
      ]
     },
     "execution_count": 42,
     "metadata": {},
     "output_type": "execute_result"
    }
   ],
   "source": [
    "query={'edad': {'$ne': 24}}\n",
    "\n",
    "list(colec.find(query).sort('edad', 1).limit(3))   \n",
    "\n",
    "# select * from colec where edad!=24 order by edad asc limit 3;"
   ]
  },
  {
   "cell_type": "code",
   "execution_count": 43,
   "id": "3596c61e",
   "metadata": {},
   "outputs": [
    {
     "data": {
      "text/plain": [
       "<pymongo.results.UpdateResult at 0x111416a90>"
      ]
     },
     "execution_count": 43,
     "metadata": {},
     "output_type": "execute_result"
    }
   ],
   "source": [
    "colec.update_one({'_id': 20}, {'$set': {'actividad': 'atletismo'}})"
   ]
  },
  {
   "cell_type": "code",
   "execution_count": 44,
   "id": "d3462603",
   "metadata": {},
   "outputs": [
    {
     "data": {
      "text/plain": [
       "[{'_id': 20, 'actividad': 'atletismo', 'lugar': 'aqui'}]"
      ]
     },
     "execution_count": 44,
     "metadata": {},
     "output_type": "execute_result"
    }
   ],
   "source": [
    "list(colec.find({'_id': 20}))"
   ]
  },
  {
   "cell_type": "code",
   "execution_count": 45,
   "id": "bb1ec1ca",
   "metadata": {
    "scrolled": false
   },
   "outputs": [
    {
     "data": {
      "text/plain": [
       "<pymongo.results.UpdateResult at 0x111416dc0>"
      ]
     },
     "execution_count": 45,
     "metadata": {},
     "output_type": "execute_result"
    }
   ],
   "source": [
    "colec.update_many({'nombre': 'Ana'}, {'$set': {'edad': 1}})"
   ]
  },
  {
   "cell_type": "code",
   "execution_count": 46,
   "id": "5acb8754",
   "metadata": {},
   "outputs": [
    {
     "data": {
      "text/plain": [
       "[{'_id': ObjectId('636387a819554d6948b903a9'),\n",
       "  'nombre': 'Pepe',\n",
       "  'edad': 35,\n",
       "  '4': [0, 1, 2, 3]},\n",
       " {'_id': ObjectId('6363885219554d6948b903aa'), 'nombre': 'yo', 'edad': 38},\n",
       " {'_id': 20, 'actividad': 'atletismo', 'lugar': 'aqui'},\n",
       " {'_id': ObjectId('6363887419554d6948b903ab'), 'nombre': 'Ana', 'edad': 1},\n",
       " {'_id': ObjectId('6363888119554d6948b903ac'), 'nombre': 'Ana', 'edad': 1},\n",
       " {'_id': 24, 'actividad': 'natacion', 'hora': '22:00', 'lugar': 'aculla'}]"
      ]
     },
     "execution_count": 46,
     "metadata": {},
     "output_type": "execute_result"
    }
   ],
   "source": [
    "list(colec.find())"
   ]
  },
  {
   "cell_type": "code",
   "execution_count": 49,
   "id": "5e8b0e07",
   "metadata": {},
   "outputs": [
    {
     "data": {
      "text/plain": [
       "[{'_id': '', 'count': 6}]"
      ]
     },
     "execution_count": 49,
     "metadata": {},
     "output_type": "execute_result"
    }
   ],
   "source": [
    "# select count(*) from colec group by _id;     # por cada id suma 1\n",
    "\n",
    "list(colec.aggregate([{'$group': {'_id': '', 'count': {'$sum': 1}}}]))"
   ]
  },
  {
   "cell_type": "code",
   "execution_count": 50,
   "id": "0d184896",
   "metadata": {},
   "outputs": [
    {
     "data": {
      "text/plain": [
       "<pymongo.results.DeleteResult at 0x111416d90>"
      ]
     },
     "execution_count": 50,
     "metadata": {},
     "output_type": "execute_result"
    }
   ],
   "source": [
    "colec.delete_one({'_id': 20})\n",
    "\n",
    "# delete from colec where _id=20;"
   ]
  },
  {
   "cell_type": "code",
   "execution_count": 51,
   "id": "d2e6184f",
   "metadata": {},
   "outputs": [
    {
     "data": {
      "text/plain": [
       "<pymongo.results.DeleteResult at 0x111416ca0>"
      ]
     },
     "execution_count": 51,
     "metadata": {},
     "output_type": "execute_result"
    }
   ],
   "source": [
    "colec.delete_many({'nombre': 'Ana'})\n",
    "\n",
    "# delete from colec where nombre=Ana;"
   ]
  },
  {
   "cell_type": "code",
   "execution_count": 52,
   "id": "0993fa7f",
   "metadata": {},
   "outputs": [
    {
     "data": {
      "text/plain": [
       "[{'_id': ObjectId('636387a819554d6948b903a9'),\n",
       "  'nombre': 'Pepe',\n",
       "  'edad': 35,\n",
       "  '4': [0, 1, 2, 3]},\n",
       " {'_id': ObjectId('6363885219554d6948b903aa'), 'nombre': 'yo', 'edad': 38},\n",
       " {'_id': 24, 'actividad': 'natacion', 'hora': '22:00', 'lugar': 'aculla'}]"
      ]
     },
     "execution_count": 52,
     "metadata": {},
     "output_type": "execute_result"
    }
   ],
   "source": [
    "list(colec.find())"
   ]
  },
  {
   "cell_type": "code",
   "execution_count": 53,
   "id": "2e7629b3",
   "metadata": {},
   "outputs": [],
   "source": [
    "colec.drop()"
   ]
  },
  {
   "cell_type": "code",
   "execution_count": 54,
   "id": "90c16280",
   "metadata": {},
   "outputs": [
    {
     "data": {
      "text/plain": [
       "[]"
      ]
     },
     "execution_count": 54,
     "metadata": {},
     "output_type": "execute_result"
    }
   ],
   "source": [
    "db.list_collection_names()"
   ]
  },
  {
   "cell_type": "markdown",
   "id": "be3cedee",
   "metadata": {},
   "source": [
    "### DB Companies"
   ]
  },
  {
   "cell_type": "code",
   "execution_count": 55,
   "id": "501d1ab6",
   "metadata": {},
   "outputs": [],
   "source": [
    "db=cursor.companies"
   ]
  },
  {
   "cell_type": "code",
   "execution_count": 56,
   "id": "03fe7510",
   "metadata": {},
   "outputs": [],
   "source": [
    "colec=db.companies"
   ]
  },
  {
   "cell_type": "code",
   "execution_count": 58,
   "id": "96a82439",
   "metadata": {
    "scrolled": false
   },
   "outputs": [],
   "source": [
    "#list(colec.find().limit(1))"
   ]
  },
  {
   "cell_type": "code",
   "execution_count": null,
   "id": "d163257f",
   "metadata": {},
   "outputs": [],
   "source": []
  },
  {
   "cell_type": "code",
   "execution_count": null,
   "id": "39053424",
   "metadata": {},
   "outputs": [],
   "source": []
  },
  {
   "cell_type": "code",
   "execution_count": null,
   "id": "2e4f4e5c",
   "metadata": {},
   "outputs": [],
   "source": []
  },
  {
   "cell_type": "code",
   "execution_count": null,
   "id": "e457d14d",
   "metadata": {},
   "outputs": [],
   "source": []
  },
  {
   "cell_type": "code",
   "execution_count": null,
   "id": "05ce38fe",
   "metadata": {},
   "outputs": [],
   "source": []
  },
  {
   "cell_type": "markdown",
   "id": "3a5a081e",
   "metadata": {},
   "source": [
    "### Geoqueries"
   ]
  },
  {
   "cell_type": "code",
   "execution_count": null,
   "id": "fc1ac2f4",
   "metadata": {},
   "outputs": [],
   "source": []
  },
  {
   "cell_type": "code",
   "execution_count": null,
   "id": "fda7a05e",
   "metadata": {},
   "outputs": [],
   "source": []
  },
  {
   "cell_type": "code",
   "execution_count": null,
   "id": "4b6ea2d9",
   "metadata": {},
   "outputs": [],
   "source": []
  },
  {
   "cell_type": "code",
   "execution_count": null,
   "id": "ca153d3d",
   "metadata": {},
   "outputs": [],
   "source": []
  },
  {
   "cell_type": "code",
   "execution_count": null,
   "id": "9981bc6a",
   "metadata": {},
   "outputs": [],
   "source": []
  },
  {
   "cell_type": "code",
   "execution_count": null,
   "id": "79428353",
   "metadata": {},
   "outputs": [],
   "source": []
  },
  {
   "cell_type": "code",
   "execution_count": null,
   "id": "479d9e52",
   "metadata": {},
   "outputs": [],
   "source": []
  },
  {
   "cell_type": "code",
   "execution_count": null,
   "id": "06e2a013",
   "metadata": {},
   "outputs": [],
   "source": []
  },
  {
   "cell_type": "code",
   "execution_count": null,
   "id": "7908dfad",
   "metadata": {},
   "outputs": [],
   "source": []
  },
  {
   "cell_type": "code",
   "execution_count": null,
   "id": "958eb501",
   "metadata": {},
   "outputs": [],
   "source": []
  },
  {
   "cell_type": "code",
   "execution_count": null,
   "id": "0f5f4495",
   "metadata": {},
   "outputs": [],
   "source": []
  }
 ],
 "metadata": {
  "kernelspec": {
   "display_name": "clase",
   "language": "python",
   "name": "clase"
  },
  "language_info": {
   "codemirror_mode": {
    "name": "ipython",
    "version": 3
   },
   "file_extension": ".py",
   "mimetype": "text/x-python",
   "name": "python",
   "nbconvert_exporter": "python",
   "pygments_lexer": "ipython3",
   "version": "3.8.13"
  },
  "varInspector": {
   "cols": {
    "lenName": 16,
    "lenType": 16,
    "lenVar": 40
   },
   "kernels_config": {
    "python": {
     "delete_cmd_postfix": "",
     "delete_cmd_prefix": "del ",
     "library": "var_list.py",
     "varRefreshCmd": "print(var_dic_list())"
    },
    "r": {
     "delete_cmd_postfix": ") ",
     "delete_cmd_prefix": "rm(",
     "library": "var_list.r",
     "varRefreshCmd": "cat(var_dic_list()) "
    }
   },
   "types_to_exclude": [
    "module",
    "function",
    "builtin_function_or_method",
    "instance",
    "_Feature"
   ],
   "window_display": false
  }
 },
 "nbformat": 4,
 "nbformat_minor": 5
}

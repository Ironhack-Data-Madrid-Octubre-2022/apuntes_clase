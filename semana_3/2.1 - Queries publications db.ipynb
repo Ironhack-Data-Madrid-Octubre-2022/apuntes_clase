{
 "cells": [
  {
   "cell_type": "markdown",
   "metadata": {},
   "source": [
    "# 2.1 - Queries publications db"
   ]
  },
  {
   "cell_type": "markdown",
   "metadata": {},
   "source": [
    "### caso select everything\n",
    "```mysql\n",
    "select * from publishers;\n",
    "```"
   ]
  },
  {
   "cell_type": "markdown",
   "metadata": {},
   "source": [
    "### caso where\n",
    "```mysql\n",
    "select * from publishers where city='Boston' or city='Chicago';\n",
    "select * from publishers where country='USA';\n",
    "```"
   ]
  },
  {
   "cell_type": "markdown",
   "metadata": {},
   "source": [
    "### misma query con IN\n",
    "```mysql\n",
    "select * from publishers where city in ('Boston', 'Chicago');\n",
    "```"
   ]
  },
  {
   "cell_type": "markdown",
   "metadata": {},
   "source": [
    "### ejemplo join\n",
    "```mysql\n",
    "select * from titles as t\n",
    "left join titleauthor as a\n",
    "on t.title_id=a.title_id;\n",
    "```"
   ]
  },
  {
   "cell_type": "markdown",
   "metadata": {},
   "source": [
    "### lo mismo\n",
    "```mysql\n",
    "select * from titles \n",
    "left join titleauthor \n",
    "on titles.title_id=titleauthor.title_id;\n",
    "```"
   ]
  },
  {
   "cell_type": "markdown",
   "metadata": {},
   "source": [
    "### otro ejemplo join\n",
    "```mysql\n",
    "select title, title_id\n",
    "from titles as title\n",
    "left join\n",
    "titleauthor as author \n",
    "on title_id = title_id;\n",
    "```"
   ]
  },
  {
   "cell_type": "markdown",
   "metadata": {},
   "source": [
    "### concat y doble join\n",
    "```mysql\n",
    "select t.title, t.title_id, a.au_id, concat(au.au_fname, ' ', au.au_lname) as completename\n",
    "from titles as t\n",
    "left join titleauthor as a\n",
    "on t.title_id=a.title_id\n",
    "left join authors as au\n",
    "on a.au_id=au.au_id;\n",
    "```"
   ]
  },
  {
   "cell_type": "markdown",
   "metadata": {},
   "source": [
    "### libros con autores y año\n",
    "```mysql\n",
    "select title, year(max(pubdate)) as 'year', count(titleauthor.title_id) as numauthors,\n",
    "group_concat(concat(authors.au_fname, ' ', authors.au_lname)) as allauthors\n",
    "from titles\n",
    "left join titleauthor\n",
    "on titles.title_id=titleauthor.title_id\n",
    "left join authors\n",
    "on authors.au_id=titleauthor.au_id\n",
    "group by titles.title\n",
    "order by numauthors desc;\n",
    "```"
   ]
  },
  {
   "cell_type": "markdown",
   "metadata": {},
   "source": [
    "### otro ejemplo \n",
    "```mysql\n",
    "select *\n",
    "from publications.employee emp\n",
    "right join publications.jobs job\n",
    "on emp.job_id=job.job_id\n",
    "union\n",
    "select *\n",
    "from publications.employee emp\n",
    "left join publications.jobs job\n",
    "on emp.job_id=job.job_id;\n",
    "```"
   ]
  },
  {
   "cell_type": "markdown",
   "metadata": {},
   "source": [
    "### libros con autor\n",
    "```mysql\n",
    "select t.title, t.title_id, a.au_id, CONCAT(au.au_fname, ' ', au.au_lname) as completename\n",
    "from titles as t\n",
    "left join titleauthor as a\n",
    "on t.title_id = a.title_id\n",
    "left join authors as au\n",
    "on a.au_id = au.au_id;\n",
    "```"
   ]
  },
  {
   "cell_type": "markdown",
   "metadata": {},
   "source": [
    "### libros con nombre completo del autor y año\n",
    "```mysql\n",
    "select title,  year(max(pubdate)) as \"year\", count(titleauthor.title_id) as numautores, \n",
    "group_concat(concat(authors.au_fname,' ', authors.au_lname))\n",
    "from titles\n",
    "left join titleauthor\n",
    "on titles.title_id = titleauthor.title_id\n",
    "left join authors\n",
    "on authors.au_id = titleauthor.au_id\n",
    "group by titles.title\n",
    "order by numautores desc;\n",
    "```"
   ]
  },
  {
   "cell_type": "markdown",
   "metadata": {},
   "source": [
    "### Union\n",
    "```mysql\n",
    "select  au_id, city as m from authors where state=\"IN\"\n",
    "union\n",
    "select au_id, royaltyper as m from  titleauthor;\n",
    "```"
   ]
  },
  {
   "cell_type": "markdown",
   "metadata": {},
   "source": [
    "### Subquery\n",
    "```mysql\n",
    "select stor_id, m.title, m.title_id, payterms  \n",
    "from sales \n",
    "inner join titles as m on sales.title_id = m.title_id\n",
    "where payterms != \"Net 30\" and  m.title_id in (\n",
    "    \n",
    "\t\tselect titles.title_id from sales \n",
    "\t\tinner join titles on sales.title_id = titles.title_id\n",
    "\t\twhere payterms = \"Net 30\"\n",
    "    \n",
    "\t);\n",
    "```"
   ]
  }
 ],
 "metadata": {
  "kernelspec": {
   "display_name": "Python 3 (ipykernel)",
   "language": "python",
   "name": "python3"
  },
  "language_info": {
   "codemirror_mode": {
    "name": "ipython",
    "version": 3
   },
   "file_extension": ".py",
   "mimetype": "text/x-python",
   "name": "python",
   "nbconvert_exporter": "python",
   "pygments_lexer": "ipython3",
   "version": "3.8.13"
  },
  "varInspector": {
   "cols": {
    "lenName": 16,
    "lenType": 16,
    "lenVar": 40
   },
   "kernels_config": {
    "python": {
     "delete_cmd_postfix": "",
     "delete_cmd_prefix": "del ",
     "library": "var_list.py",
     "varRefreshCmd": "print(var_dic_list())"
    },
    "r": {
     "delete_cmd_postfix": ") ",
     "delete_cmd_prefix": "rm(",
     "library": "var_list.r",
     "varRefreshCmd": "cat(var_dic_list()) "
    }
   },
   "types_to_exclude": [
    "module",
    "function",
    "builtin_function_or_method",
    "instance",
    "_Feature"
   ],
   "window_display": false
  }
 },
 "nbformat": 4,
 "nbformat_minor": 4
}

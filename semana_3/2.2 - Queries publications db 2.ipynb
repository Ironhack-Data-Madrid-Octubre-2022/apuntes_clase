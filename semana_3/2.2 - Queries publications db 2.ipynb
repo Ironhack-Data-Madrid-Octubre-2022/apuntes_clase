{
 "cells": [
  {
   "cell_type": "markdown",
   "metadata": {},
   "source": [
    "# 2.2 - Queries publications db 2"
   ]
  },
  {
   "cell_type": "markdown",
   "metadata": {},
   "source": [
    "### Caso join\n",
    "```mysql\n",
    "select stores.stor_name as store,\n",
    "count(distinct(ord_num)) as orders,\n",
    "count(title_id) as items, sum(qty) as qty\n",
    "from publications.sales sales\n",
    "inner join publications.stores stores\n",
    "on stores.stor_id=sales.stor_id\n",
    "group by store;\n",
    "```"
   ]
  },
  {
   "cell_type": "markdown",
   "metadata": {},
   "source": [
    "### Cálculo y subquery\n",
    "```mysql\n",
    "select store, items/orders as avgitems,\n",
    "qty/items avgqty\n",
    "from\n",
    "(select stores.stor_name as store,\n",
    "count(distinct(ord_num)) as orders,\n",
    "count(title_id) as items, sum(qty) as qty\n",
    "from publications.sales sales\n",
    "inner join publications.stores stores\n",
    "on stores.stor_id=sales.stor_id\n",
    "group by store) averages\n",
    ";\n",
    "```"
   ]
  },
  {
   "cell_type": "markdown",
   "metadata": {},
   "source": [
    "### Subquery larga\n",
    "```mysql\n",
    "select store, ord_num as orderNumber,\n",
    "title, sales.qty as qty,\n",
    "price, type, (sales.qty*price) as revenue\n",
    "from\n",
    "(select stores.stor_id as storeID,\n",
    "stores.stor_name as store, \n",
    "count(distinct(ord_num)) as orders,\n",
    "count(title_id) as items, \n",
    "sum(qty) as qty\n",
    "from publications.sales sales\n",
    "inner join publications.stores stores\n",
    "on stores.stor_id=sales.stor_id\n",
    "group by storeID, store\n",
    ") summary\n",
    "inner join publications.sales sales\n",
    "on summary.storeID=sales.stor_id\n",
    "inner join publications.titles \n",
    "on sales.title_id=titles.title_id\n",
    "where items/orders>1\n",
    "```"
   ]
  },
  {
   "cell_type": "markdown",
   "metadata": {},
   "source": [
    "### Crear tabla temporal\n",
    "```mysql\n",
    "create temporary table publications.store_sales_summary\n",
    "select stores.stor_id as storeID, stores.stor_name as store,\n",
    "count(distinct(ord_num)) as orders, \n",
    "count(title_id) as items, sum(qty) as qty\n",
    "from publications.sales sales\n",
    "inner join publications.stores stores\n",
    "on stores.stor_id=sales.stor_id\n",
    "group by storeID, store\n",
    ";\n",
    "\n",
    "```"
   ]
  },
  {
   "cell_type": "markdown",
   "metadata": {},
   "source": [
    "### LLamada tabla temporal\n",
    "```mysql\n",
    "select *\n",
    "from publications.store_sales_summary;\n",
    "```"
   ]
  }
 ],
 "metadata": {
  "kernelspec": {
   "display_name": "Python 3 (ipykernel)",
   "language": "python",
   "name": "python3"
  },
  "language_info": {
   "codemirror_mode": {
    "name": "ipython",
    "version": 3
   },
   "file_extension": ".py",
   "mimetype": "text/x-python",
   "name": "python",
   "nbconvert_exporter": "python",
   "pygments_lexer": "ipython3",
   "version": "3.8.13"
  },
  "varInspector": {
   "cols": {
    "lenName": 16,
    "lenType": 16,
    "lenVar": 40
   },
   "kernels_config": {
    "python": {
     "delete_cmd_postfix": "",
     "delete_cmd_prefix": "del ",
     "library": "var_list.py",
     "varRefreshCmd": "print(var_dic_list())"
    },
    "r": {
     "delete_cmd_postfix": ") ",
     "delete_cmd_prefix": "rm(",
     "library": "var_list.r",
     "varRefreshCmd": "cat(var_dic_list()) "
    }
   },
   "types_to_exclude": [
    "module",
    "function",
    "builtin_function_or_method",
    "instance",
    "_Feature"
   ],
   "window_display": false
  }
 },
 "nbformat": 4,
 "nbformat_minor": 4
}

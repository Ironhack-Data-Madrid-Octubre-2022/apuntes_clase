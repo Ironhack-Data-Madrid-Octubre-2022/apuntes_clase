{
 "cells": [
  {
   "cell_type": "markdown",
   "metadata": {},
   "source": [
    "# 3.1 - Web Scraping (selenium)\n",
    "\n",
    "**[Documentación](https://selenium-python.readthedocs.io/)**\n",
    "\n",
    "$$$$\n",
    "\n",
    "![selenium](images/selenium.png)\n",
    "\n",
    "$$$$\n",
    "\n",
    "Selenium es un entorno de pruebas de software para aplicaciones basadas en la web. Selenium provee una herramienta de grabar/reproducir para crear pruebas sin usar un lenguaje de scripting para pruebas (Selenium IDE). Incluye también un lenguaje específico de dominio para pruebas (Selenese) para escribir pruebas en un amplio número de lenguajes de programación populares incluyendo Java, C#, Ruby, Groovy, Perl, Php y Python. Las pruebas pueden ejecutarse entonces usando la mayoría de los navegadores web modernos en diferentes sistemas operativos como Windows, Linux y OSX.\n",
    "\n",
    "Selenium fue originalmente desarrollado por Jason Huggins en 2004 y pronto se unieron al esfuerzo otras personas especialistas en pruebas y programación. Es un software de código abierto bajo la licencia apache 2.0 que puede ser descargada y usada sin cargo. El nombre proviene de una broma hecha por Huggins burlándose de un competidor llamado Mercury (mercurio) diciendo que el envenenamiento por mercurio puede ser curado tomando complementos de Selenium. Los participantes tomaron el nombre y siguieron con él. Existen otros proyectos que se desarrollan alrededor de Selenium como Selenium Grid, para probar concurrencia de múltiples pruebas concurrentes de clientes remotos o locales, así como Flash Selenium para probar programas escritos en Adobe Flex o Selenium Silverlight.\n",
    "\n",
    "\n",
    "### Componentes\n",
    "\n",
    "**Selenium IDE**\n",
    "\n",
    "Selenium IDE es un entorno de desarrollo integrado para pruebas con Selenium. Está implementado como una extensión de Firefox y permite grabar, editar y depurar pruebas. Originalmente se le conoció como Selenium Recorder.\n",
    "\n",
    "Se pueden desarrollar automáticamente scripts al crear una grabación y de esa manera se puede editar manualmente con sentencias y comandos para que la reproducción de nuestra grabación sea correcta\n",
    "\n",
    "Los scripts se generan en Selanese, un lenguaje de scripting especial para Selenium. Selanese provee comandos que ejecutan acciones sobre objetos en el navegador, como hacer clic en un enlace, seleccionar de una lista de opciones, verificar la presencia de un texto en particular así como para tomar la totalidad de la página producto de las acciones.\n",
    "\n",
    "Características:\n",
    "\n",
    "+ Grabación y reproducción fácil\n",
    "+ Selección inteligente de campos usando ID, nombre o XPath según se necesite.\n",
    "+ Compleción automática de los comandos de Selenium más comunes.\n",
    "+ Pruebas de revisión cruzada\n",
    "+ Depuración y puntos de verificación (breakpoint)\n",
    "+ Almacenar las pruebas como Selanese, Ruby, Java y otros formatos.\n",
    "+ Soporte al archivo user-extensions.js\n",
    "+ Opción para asertar el título de la página.\n",
    "+ Opción de modificarle a la medida con el uso de complementos\n",
    "\n",
    "\n",
    "**Selenium Client API**\n",
    "\n",
    "Interfaz de programación de aplicaciones (API) de clientes Como alternativa a escribir pruebas en Selanese, las pruebas pueden escribirse en varios lenguajes de programación, éstos se comunican con Selenium mediante llamadas a los métodos de Selenium Client API. Actualmente Selenium provee API para Java, C#, Ruby y Python. Con Selenium 2 se presentó una nueva API de clientes, con WebDriver como componente central, aunque la anterior API puede seguirse usando llamando a la clase Selenium.\n",
    "\n",
    "\n",
    "**Selenium Remote Control**\n",
    "\n",
    "Selenium Remote Control (RC) es un servidor escrito en Java que acepta comandos al navegador vía HTTP. RC hace posible escribir pruebas automatizadas para aplicaciones web, en cualquier lenguaje de programación lo que permite una mejor integración de Selenium a entornos de prueba existentes. Para hacer la escritura de pruebas más fácil, Selenium actualmente provee controladores de dispositivos para PHP, Python, Ruby,.NET, Perl y Java. El controlador de Java puede usarse para Javascript vía el motor Rhino. Selenium Remote Control fue una refactorización de Driven Selenium o Selenium B, la versión original lanzaba directamente un proceso para el navegador en cuestión desde el lenguaje de prueba; el protocolo de cable (confusamente llamado Selanese también en aquel tiempo) fue reimplementado al portarse a cada lenguaje. Después de la refactorización, hubo un proceso intermediario demonio entre el script controlador y el navegador. Los beneficios incluyeron la capacidad de controlar navegadores remotos y reducir la necesidad de portar el código a un número creciente de lenguajes. Con la liberación de Selenium 2, Selenium RC fue oficialmente descartado en favor de Selenium WebDriver.\n",
    "\n",
    "\n",
    "**Selenium WebDriver**\n",
    "\n",
    "Selenium WebDriver es el sucesor de Selenium RC. Selenium WebDriver acepta comandos (enviados en Selenese o vía el API de cliente) y los envía a un navegador. Esto se implementa a través de un controlador del navegador específico para cada navegador que envía los comandos y trae los resultados de regreso. La mayoría de los controladores del navegador lanzan y acceden a la aplicación de navegador (como Mozilla Firefox o Internet Explorer), pero también hay un controlador para HtmlUnit que simula un navegador. A diferencia de Selenium 1, donde el servidor Selenium RC era indispensable, en Selenium WebDriver no se requiere de un servidor especial para ejecutar las pruebas, en vez de ello WebDriver inicia una instancia del navegador y lo controla; sin embargo puede usarse Selenium Grid (ver abajo) para ejecutar pruebas en sistemas remotos (ver más abajo). Desde inicios de 2012, Simon Stewart de Google (inventor del WebDriver) y David Burns de la Fundación Mozilla se encuentran negociando con el W3C que WebDriver se convierta en un estándar de Internet, como tal Selenium-Webdriver (Selenium 2.0) apunta a ser la implementación de referencia del estándar WebDriver en varios lenguajes de programación. Selenium-WebDriver está completamente implementado y soportado en Java, Ruby, Python y C#. En la práctica, esto significa que la API de Selenium 2.0 tiene significativamente menos llamadas que el API de Selenium 1.0. Donde Selenium 1.0 intentaba proveer una interfaz rica en muchas operaciones, Selenium 2.0 intenta proveer de los bloques de construcción básicos con los cuales los desarrolladores puedan programar su propio lenguaje específico de dominio. Uno de ellos ya existe y es el proyecto Watir en Ruby que tiene una historia rica en buen diseño. Watir-WebDriver implementa el API de Watir como un envolvente del Selenium-Webdriver en Ruby. Watir-WebDriver se crea de forma completamente automática, basado en las especificaciones del WebDriver y HTML.\n",
    "\n",
    "**Selenium Grid**\n",
    "\n",
    "Selenium Grid es un servidor que permite usar instancias de navegador ejecutándose en máquinas remotas. Con Selenium Grid, uno de los servidores actúa como concentrador. Las pruebas contactan al concentrador para obtener acceso a instancias de navegadores; el concentrador lleva una lista de instancias de los navegadores (Nodos de WebDriver) y permiten a las pruebas usar estas instancias. Selenium Grid permite ejecutar pruebas en paralelo en múltiples máquinas y manejar diferentes versiones y configuraciones de manera centralizada."
   ]
  },
  {
   "cell_type": "markdown",
   "metadata": {},
   "source": [
    "Nosotros usaremos fundamentalmente el Webdriver en Python.\n",
    "\n",
    "https://chromedriver.chromium.org/downloads"
   ]
  },
  {
   "cell_type": "markdown",
   "metadata": {},
   "source": [
    "Para instalar:\n",
    "    \n",
    "```bash\n",
    "conda install -c conda-forge selenium\n",
    "```"
   ]
  },
  {
   "cell_type": "code",
   "execution_count": 1,
   "metadata": {},
   "outputs": [],
   "source": [
    "from selenium import webdriver"
   ]
  },
  {
   "cell_type": "code",
   "execution_count": null,
   "metadata": {
    "scrolled": false
   },
   "outputs": [],
   "source": [
    "#help(webdriver)"
   ]
  },
  {
   "cell_type": "code",
   "execution_count": null,
   "metadata": {},
   "outputs": [],
   "source": [
    "PATH='driver/chromedriver'   # ruta al archivo del driver\n",
    "\n",
    "driver=webdriver.Chrome(PATH)\n",
    "\n",
    "driver.get(URL)"
   ]
  },
  {
   "cell_type": "markdown",
   "metadata": {},
   "source": [
    "**Si no has descargado el driver para Google, o el geckodriver para Firefox, puedes manejarlo para Chrome con esta librería.**"
   ]
  },
  {
   "cell_type": "code",
   "execution_count": null,
   "metadata": {},
   "outputs": [],
   "source": [
    "%pip install webdriver-manager"
   ]
  },
  {
   "cell_type": "code",
   "execution_count": 2,
   "metadata": {},
   "outputs": [],
   "source": [
    "from webdriver_manager.chrome import ChromeDriverManager"
   ]
  },
  {
   "cell_type": "code",
   "execution_count": null,
   "metadata": {},
   "outputs": [],
   "source": [
    "PATH=ChromeDriverManager().install()   # instala el driver\n",
    "\n",
    "driver=webdriver.Chrome(PATH)         # abre una pestaña de chrome\n",
    "\n",
    "driver.get('https://www.google.es')     # entra en google"
   ]
  },
  {
   "cell_type": "markdown",
   "metadata": {},
   "source": [
    "### Realizando una búsqueda en Google\n",
    "\n",
    "Importamos `time` para el manejo de los tiempos dentro del código. Haremos una búsqueda en Google y extraeremos los enlaces de los resultados."
   ]
  },
  {
   "cell_type": "code",
   "execution_count": 3,
   "metadata": {},
   "outputs": [],
   "source": [
    "from selenium.webdriver.common.by import By   # para buscar segun tag, id, class, etc...\n",
    "\n",
    "import time\n",
    "\n",
    "import warnings\n",
    "warnings.filterwarnings('ignore')"
   ]
  },
  {
   "cell_type": "code",
   "execution_count": 4,
   "metadata": {},
   "outputs": [],
   "source": [
    "URL='https://www.google.es/search?q='"
   ]
  },
  {
   "cell_type": "code",
   "execution_count": 5,
   "metadata": {},
   "outputs": [],
   "source": [
    "busqueda='machine learning'"
   ]
  },
  {
   "cell_type": "code",
   "execution_count": 12,
   "metadata": {},
   "outputs": [],
   "source": [
    "PATH=ChromeDriverManager().install()   # instala el driver\n",
    "\n",
    "driver=webdriver.Chrome(PATH)         # abre una pestaña de chrome\n",
    "\n",
    "driver.get(URL + busqueda)     # entra en google\n",
    "\n",
    "time.sleep(2)    # para 2 secs\n",
    "\n",
    "driver.find_element(By.XPATH, '//*[@id=\"L2AGLb\"]').click() # acepta cookies"
   ]
  },
  {
   "cell_type": "code",
   "execution_count": 13,
   "metadata": {},
   "outputs": [],
   "source": [
    "driver.find_element(By.XPATH, '//*[@id=\"pnnext\"]/span[2]').click()"
   ]
  },
  {
   "cell_type": "code",
   "execution_count": 18,
   "metadata": {},
   "outputs": [
    {
     "data": {
      "text/plain": [
       "'https://support.google.com/websearch/answer/106230?hl=es'"
      ]
     },
     "execution_count": 18,
     "metadata": {},
     "output_type": "execute_result"
    }
   ],
   "source": [
    "# bs4  -  sopa.find('a').attrs['href']\n",
    "\n",
    "driver.find_elements(By.TAG_NAME, 'a')[4].get_attribute('href')"
   ]
  },
  {
   "cell_type": "code",
   "execution_count": 19,
   "metadata": {},
   "outputs": [
    {
     "data": {
      "text/plain": [
       "[None,\n",
       " 'https://support.google.com/websearch/answer/181196?hl=es',\n",
       " None,\n",
       " 'https://www.google.es/webhp?hl=es&sa=X&ved=0ahUKEwijoO-M16D7AhUiolwKHUflCWk4ChA8CAg',\n",
       " 'https://support.google.com/websearch/answer/106230?hl=es',\n",
       " 'https://www.google.es/search?q=machine+learning&ei=h2RrY5nvDMyjgAafzZ3gBw&start=10&sa=N&ved=2ahUKEwjZzsD11qD7AhXMEcAKHZ9mB3wQ8NMDegQIARAW&biw=1167&bih=887#',\n",
       " 'https://www.google.es/intl/es/about/products?tab=wh',\n",
       " 'https://accounts.google.com/ServiceLogin?hl=es&passive=true&continue=https://www.google.es/search%3Fq%3Dmachine%2Blearning%26ei%3Dh2RrY5nvDMyjgAafzZ3gBw%26start%3D10%26sa%3DN%26ved%3D2ahUKEwjZzsD11qD7AhXMEcAKHZ9mB3wQ8NMDegQIARAW%26biw%3D1167%26bih%3D887&ec=GAZAAQ',\n",
       " 'https://www.google.es/search?q=machine+learning&biw=1167&bih=887&source=lnms&tbm=isch&sa=X&ved=2ahUKEwijoO-M16D7AhUiolwKHUflCWk4ChD8BSgBegQIARAD',\n",
       " 'https://www.google.es/search?q=machine+learning&biw=1167&bih=887&source=lnms&tbm=nws&sa=X&ved=2ahUKEwijoO-M16D7AhUiolwKHUflCWk4ChD8BSgCegQIARAE',\n",
       " 'https://www.google.es/search?q=machine+learning&biw=1167&bih=887&source=lnms&tbm=vid&sa=X&ved=2ahUKEwijoO-M16D7AhUiolwKHUflCWk4ChD8BSgDegQIARAF',\n",
       " 'https://www.google.es/search?q=machine+learning&biw=1167&bih=887&source=lnms&tbm=bks&sa=X&ved=2ahUKEwijoO-M16D7AhUiolwKHUflCWk4ChD8BSgEegQIARAG',\n",
       " 'https://maps.google.es/maps?q=machine+learning&biw=1167&bih=887&um=1&ie=UTF-8&sa=X&ved=2ahUKEwijoO-M16D7AhUiolwKHUflCWk4ChD8BSgAegQIARAK',\n",
       " 'https://www.google.es/search?q=machine+learning&biw=1167&bih=887&source=lnms&tbm=shop&sa=X&ved=2ahUKEwijoO-M16D7AhUiolwKHUflCWk4ChD8BSgBegQIARAL',\n",
       " 'https://www.google.es/flights?q=machine+learning&biw=1167&bih=887&source=lnms&tbm=flm&sa=X&ved=2ahUKEwijoO-M16D7AhUiolwKHUflCWk4ChD8BSgCegQIARAM',\n",
       " 'https://www.google.com/finance?sa=X&ved=2ahUKEwijoO-M16D7AhUiolwKHUflCWk4ChD8BSgDegQIARAN',\n",
       " 'https://www.google.es/search?q=machine+learning&biw=1167&bih=887&source=lnt&tbs=ctr:countryES&cr=countryES&sa=X&ved=2ahUKEwijoO-M16D7AhUiolwKHUflCWk4ChCnBXoECAEQFQ',\n",
       " 'https://www.google.es/search?q=machine+learning&biw=1167&bih=887&source=lnt&tbs=lr:lang_1es&lr=lang_es&sa=X&ved=2ahUKEwijoO-M16D7AhUiolwKHUflCWk4ChCnBXoECAEQGg',\n",
       " 'https://www.google.es/search?q=machine+learning&biw=1167&bih=887&source=lnt&tbs=qdr:h&sa=X&ved=2ahUKEwijoO-M16D7AhUiolwKHUflCWk4ChCnBXoECAEQHw',\n",
       " 'https://www.google.es/search?q=machine+learning&biw=1167&bih=887&source=lnt&tbs=qdr:d&sa=X&ved=2ahUKEwijoO-M16D7AhUiolwKHUflCWk4ChCnBXoECAEQIA']"
      ]
     },
     "execution_count": 19,
     "metadata": {},
     "output_type": "execute_result"
    }
   ],
   "source": [
    "links=[e.get_attribute('href') for e in driver.find_elements(By.TAG_NAME, 'a')]\n",
    "\n",
    "links[:20]"
   ]
  },
  {
   "cell_type": "code",
   "execution_count": 20,
   "metadata": {},
   "outputs": [],
   "source": [
    "driver.quit()"
   ]
  },
  {
   "cell_type": "code",
   "execution_count": 21,
   "metadata": {},
   "outputs": [
    {
     "data": {
      "text/plain": [
       "'https://accounts.google.com/ServiceLogin?hl=es&passive=true&continue=https://www.google.es/search%3Fq%3Dmachine%2Blearning%26ei%3Dh2RrY5nvDMyjgAafzZ3gBw%26start%3D10%26sa%3DN%26ved%3D2ahUKEwjZzsD11qD7AhXMEcAKHZ9mB3wQ8NMDegQIARAW%26biw%3D1167%26bih%3D887&ec=GAZAAQ'"
      ]
     },
     "execution_count": 21,
     "metadata": {},
     "output_type": "execute_result"
    }
   ],
   "source": [
    "links[7]"
   ]
  },
  {
   "cell_type": "markdown",
   "metadata": {},
   "source": [
    "### Ejemplo Linkedin (perfiles)"
   ]
  },
  {
   "cell_type": "code",
   "execution_count": 22,
   "metadata": {},
   "outputs": [
    {
     "data": {
      "text/plain": [
       "<html><head>\n",
       "<script type=\"text/javascript\">\n",
       "window.onload = function() {\n",
       "  // Parse the tracking code from cookies.\n",
       "  var trk = \"bf\";\n",
       "  var trkInfo = \"bf\";\n",
       "  var cookies = document.cookie.split(\"; \");\n",
       "  for (var i = 0; i < cookies.length; ++i) {\n",
       "    if ((cookies[i].indexOf(\"trkCode=\") == 0) && (cookies[i].length > 8)) {\n",
       "      trk = cookies[i].substring(8);\n",
       "    }\n",
       "    else if ((cookies[i].indexOf(\"trkInfo=\") == 0) && (cookies[i].length > 8)) {\n",
       "      trkInfo = cookies[i].substring(8);\n",
       "    }\n",
       "  }\n",
       "\n",
       "  if (window.location.protocol == \"http:\") {\n",
       "    // If \"sl\" cookie is set, redirect to https.\n",
       "    for (var i = 0; i < cookies.length; ++i) {\n",
       "      if ((cookies[i].indexOf(\"sl=\") == 0) && (cookies[i].length > 3)) {\n",
       "        window.location.href = \"https:\" + window.location.href.substring(window.location.protocol.length);\n",
       "        return;\n",
       "      }\n",
       "    }\n",
       "  }\n",
       "\n",
       "  // Get the new domain. For international domains such as\n",
       "  // fr.linkedin.com, we convert it to www.linkedin.com\n",
       "  // treat .cn similar to .com here\n",
       "  var domain = location.host;\n",
       "  if (domain != \"www.linkedin.com\" && domain != \"www.linkedin.cn\") {\n",
       "    var subdomainIndex = location.host.indexOf(\".linkedin\");\n",
       "    if (subdomainIndex != -1) {\n",
       "      domain = \"www\" + location.host.substring(subdomainIndex);\n",
       "    }\n",
       "  }\n",
       "\n",
       "  window.location.href = \"https://\" + domain + \"/authwall?trk=\" + trk + \"&trkInfo=\" + trkInfo +\n",
       "      \"&original_referer=\" + document.referrer.substr(0, 200) +\n",
       "      \"&sessionRedirect=\" + encodeURIComponent(window.location.href);\n",
       "}\n",
       "</script>\n",
       "</head></html>"
      ]
     },
     "execution_count": 22,
     "metadata": {},
     "output_type": "execute_result"
    }
   ],
   "source": [
    "import requests as req\n",
    "\n",
    "from bs4 import BeautifulSoup as bs\n",
    "\n",
    "url='https://www.linkedin.com/in/yonatan-rodriguez/'\n",
    "\n",
    "html=req.get(url).text\n",
    "\n",
    "bs(html, 'html.parser')"
   ]
  },
  {
   "cell_type": "code",
   "execution_count": 23,
   "metadata": {},
   "outputs": [],
   "source": [
    "from selenium.webdriver.chrome.options import Options\n",
    "\n",
    "# opciones del driver\n",
    "opciones=Options()\n",
    "\n",
    "# quita la bandera de ser robot\n",
    "opciones.add_experimental_option('excludeSwitches', ['enable-automation'])\n",
    "opciones.add_experimental_option('useAutomationExtension', False)\n",
    "\n",
    "# guardar las cookies\n",
    "opciones.add_argument('user-data-dir=selenium')    # mantiene las coockies"
   ]
  },
  {
   "cell_type": "code",
   "execution_count": 26,
   "metadata": {},
   "outputs": [],
   "source": [
    "driver=webdriver.Chrome(PATH, options=opciones)\n",
    "\n",
    "driver.get(url)"
   ]
  },
  {
   "cell_type": "code",
   "execution_count": 31,
   "metadata": {},
   "outputs": [],
   "source": [
    "# datos\n",
    "\n",
    "nombre=driver.find_element(By.XPATH, '//*[@id=\"ember29\"]/div[2]/div[2]/div[1]/div[1]/h1').text\n",
    "\n",
    "titulo=driver.find_element(By.CSS_SELECTOR, '#ember29 > div.ph5.pb5 > div.mt2.relative > div:nth-child(1) > div.text-body-medium.break-words').text\n",
    "\n",
    "lugar=driver.find_element(By.XPATH, '//*[@id=\"ember29\"]/div[2]/div[2]/div[2]/span[1]').text\n",
    "\n",
    "curro=driver.find_element(By.XPATH, '//*[@id=\"ember29\"]/div[2]/div[2]/ul/li[1]/button/span/div').text\n",
    "\n",
    "driver.quit()"
   ]
  },
  {
   "cell_type": "code",
   "execution_count": 32,
   "metadata": {},
   "outputs": [
    {
     "data": {
      "text/plain": [
       "{'nombre': 'Yonatan Rodriguez Alvarez',\n",
       " 'titulo': 'Data Scientist - Data Educator',\n",
       " 'lugar': 'Madrid, Comunidad de Madrid, España',\n",
       " 'curro': 'Ironhack'}"
      ]
     },
     "execution_count": 32,
     "metadata": {},
     "output_type": "execute_result"
    }
   ],
   "source": [
    "{'nombre': nombre,\n",
    " 'titulo': titulo,\n",
    " 'lugar': lugar,\n",
    " 'curro': curro}"
   ]
  },
  {
   "cell_type": "markdown",
   "metadata": {},
   "source": [
    "### Ejemplo ESPN\n",
    "\n",
    "https://www.espn.com/soccer/competitions"
   ]
  },
  {
   "cell_type": "code",
   "execution_count": 33,
   "metadata": {},
   "outputs": [],
   "source": [
    "url='https://www.espn.com/soccer/competitions'"
   ]
  },
  {
   "cell_type": "code",
   "execution_count": 34,
   "metadata": {},
   "outputs": [],
   "source": [
    "driver=webdriver.Chrome(PATH)\n",
    "\n",
    "driver.get(url)"
   ]
  },
  {
   "cell_type": "code",
   "execution_count": 35,
   "metadata": {},
   "outputs": [],
   "source": [
    "# cookies\n",
    "\n",
    "acepto=driver.find_element(By.XPATH, '//*[@id=\"onetrust-accept-btn-handler\"]')\n",
    "\n",
    "acepto.click()\n",
    "\n",
    "time.sleep(2)   # hace que el codigo se pare aqui 2 segundos"
   ]
  },
  {
   "cell_type": "code",
   "execution_count": 36,
   "metadata": {},
   "outputs": [],
   "source": [
    "# teams españa\n",
    "\n",
    "teams=driver.find_element(By.XPATH, '//*[@id=\"fittPageContainer\"]/div[3]/div/div[1]/div/div[2]/div[2]/div/div[4]/div/section/div/div/span[2]/a')\n",
    "\n",
    "teams.click()\n",
    "\n",
    "time.sleep(2)   # hace que el codigo se pare aqui 2 segundos"
   ]
  },
  {
   "cell_type": "code",
   "execution_count": 37,
   "metadata": {},
   "outputs": [],
   "source": [
    "# stats del atm\n",
    "\n",
    "atm=driver.find_element(By.XPATH, '//*[@id=\"fittPageContainer\"]/div[3]/div/div[1]/div[1]/div[2]/div[1]/div/div[3]/div/section/div/div/span[2]/a')\n",
    "\n",
    "atm.click()\n",
    "\n",
    "time.sleep(2)   # hace que el codigo se pare aqui 2 segundos"
   ]
  },
  {
   "cell_type": "code",
   "execution_count": 38,
   "metadata": {},
   "outputs": [],
   "source": [
    "# disciplina\n",
    "\n",
    "disc=driver.find_element(By.XPATH, '//*[@id=\"fittPageContainer\"]/div[2]/div[5]/div/div[1]/section/div/div[2]/nav/ul/li[2]/a')\n",
    "\n",
    "disc.click()\n",
    "\n",
    "time.sleep(2)   # hace que el codigo se pare aqui 2 segundos"
   ]
  },
  {
   "cell_type": "code",
   "execution_count": 39,
   "metadata": {},
   "outputs": [
    {
     "data": {
      "text/plain": [
       "'https://www.espn.com/soccer/team/stats/_/id/1068/league/ESP.1/view/discipline'"
      ]
     },
     "execution_count": 39,
     "metadata": {},
     "output_type": "execute_result"
    }
   ],
   "source": [
    "driver.current_url"
   ]
  },
  {
   "cell_type": "code",
   "execution_count": null,
   "metadata": {},
   "outputs": [],
   "source": [
    "tabla=driver.find_element(By.TAG_NAME, 'tbody')\n",
    "\n",
    "filas=tabla.find_elements(By.TAG_NAME, 'tr')\n",
    "\n",
    "\n",
    "data=[]\n",
    "\n",
    "\n",
    "for f in filas:\n",
    "    \n",
    "    elemen=f.find_elements(By.TAG_NAME, 'td')\n",
    "    \n",
    "    tmp=[]\n",
    "    \n",
    "    for e in elemen:\n",
    "        \n",
    "        tmp.append(e.text)\n",
    "        \n",
    "    data.append(tmp)\n",
    "\n",
    "    \n",
    "data"
   ]
  },
  {
   "cell_type": "code",
   "execution_count": 52,
   "metadata": {},
   "outputs": [
    {
     "data": {
      "text/plain": [
       "[['1', 'Saúl Ñíguez', '11', '5', '0', '5'],\n",
       " ['', 'Mario Hermoso', '3', '2', '1', '5'],\n",
       " ['', 'José Giménez', '9', '5', '0', '5'],\n",
       " ['4', 'Nahuel Molina', '10', '1', '1', '4'],\n",
       " ['5', 'Alberto Moreno', '5', '3', '0', '3'],\n",
       " ['', 'Geoffrey Kondogbia', '11', '3', '0', '3'],\n",
       " ['7', 'Axel Witsel', '13', '2', '0', '2'],\n",
       " ['', 'Koke', '9', '2', '0', '2'],\n",
       " ['', 'Reinildo Mandava', '13', '2', '0', '2'],\n",
       " ['', 'Stefan Savic', '9', '2', '0', '2'],\n",
       " ['11', 'Marcos Llorente', '7', '1', '0', '1'],\n",
       " ['', 'Yannick Carrasco', '12', '1', '0', '1'],\n",
       " ['', 'Rodrigo De Paul', '11', '1', '0', '1'],\n",
       " ['', 'Ivo Grbic', '4', '1', '0', '1'],\n",
       " ['', 'Jan Oblak', '11', '1', '0', '1'],\n",
       " ['16', 'Pablo Barrios Rivas', '1', '0', '0', '0'],\n",
       " ['', 'Adrian Corral', '0', '0', '0', '0'],\n",
       " ['', 'Thomas Lemar', '8', '0', '0', '0'],\n",
       " ['', 'Sergio Diez', '0', '0', '0', '0'],\n",
       " ['', 'Marco Moreno', '0', '0', '0', '0'],\n",
       " ['', 'Sergio Reguilón', '0', '0', '0', '0'],\n",
       " ['', 'Felipe', '1', '0', '0', '0'],\n",
       " ['', 'Sergio Mestre', '0', '0', '0', '0'],\n",
       " ['', 'Antonio Gomis', '0', '0', '0', '0'],\n",
       " ['', 'Alejandro Iturbe', '0', '0', '0', '0']]"
      ]
     },
     "execution_count": 52,
     "metadata": {},
     "output_type": "execute_result"
    }
   ],
   "source": [
    "data=[[e.text for e in f.find_elements(By.TAG_NAME, 'td')] \n",
    "      for f in tabla.find_elements(By.TAG_NAME, 'tr')]\n",
    "\n",
    "data"
   ]
  },
  {
   "cell_type": "code",
   "execution_count": 56,
   "metadata": {},
   "outputs": [
    {
     "data": {
      "text/plain": [
       "['RK', 'NAME', 'P', 'YC', 'RC', 'PTS']"
      ]
     },
     "execution_count": 56,
     "metadata": {},
     "output_type": "execute_result"
    }
   ],
   "source": [
    "cabeceras=driver.find_element(By.TAG_NAME, 'thead')\n",
    "\n",
    "cabeceras=[c.text for c in cabeceras.find_elements(By.TAG_NAME, 'th')]\n",
    "\n",
    "driver.quit()\n",
    "\n",
    "cabeceras"
   ]
  },
  {
   "cell_type": "code",
   "execution_count": 57,
   "metadata": {},
   "outputs": [],
   "source": [
    "import pandas as pd"
   ]
  },
  {
   "cell_type": "code",
   "execution_count": 58,
   "metadata": {},
   "outputs": [
    {
     "data": {
      "text/html": [
       "<div>\n",
       "<style scoped>\n",
       "    .dataframe tbody tr th:only-of-type {\n",
       "        vertical-align: middle;\n",
       "    }\n",
       "\n",
       "    .dataframe tbody tr th {\n",
       "        vertical-align: top;\n",
       "    }\n",
       "\n",
       "    .dataframe thead th {\n",
       "        text-align: right;\n",
       "    }\n",
       "</style>\n",
       "<table border=\"1\" class=\"dataframe\">\n",
       "  <thead>\n",
       "    <tr style=\"text-align: right;\">\n",
       "      <th></th>\n",
       "      <th>RK</th>\n",
       "      <th>NAME</th>\n",
       "      <th>P</th>\n",
       "      <th>YC</th>\n",
       "      <th>RC</th>\n",
       "      <th>PTS</th>\n",
       "    </tr>\n",
       "  </thead>\n",
       "  <tbody>\n",
       "    <tr>\n",
       "      <th>0</th>\n",
       "      <td>1</td>\n",
       "      <td>Saúl Ñíguez</td>\n",
       "      <td>11</td>\n",
       "      <td>5</td>\n",
       "      <td>0</td>\n",
       "      <td>5</td>\n",
       "    </tr>\n",
       "    <tr>\n",
       "      <th>1</th>\n",
       "      <td></td>\n",
       "      <td>Mario Hermoso</td>\n",
       "      <td>3</td>\n",
       "      <td>2</td>\n",
       "      <td>1</td>\n",
       "      <td>5</td>\n",
       "    </tr>\n",
       "    <tr>\n",
       "      <th>2</th>\n",
       "      <td></td>\n",
       "      <td>José Giménez</td>\n",
       "      <td>9</td>\n",
       "      <td>5</td>\n",
       "      <td>0</td>\n",
       "      <td>5</td>\n",
       "    </tr>\n",
       "    <tr>\n",
       "      <th>3</th>\n",
       "      <td>4</td>\n",
       "      <td>Nahuel Molina</td>\n",
       "      <td>10</td>\n",
       "      <td>1</td>\n",
       "      <td>1</td>\n",
       "      <td>4</td>\n",
       "    </tr>\n",
       "    <tr>\n",
       "      <th>4</th>\n",
       "      <td>5</td>\n",
       "      <td>Alberto Moreno</td>\n",
       "      <td>5</td>\n",
       "      <td>3</td>\n",
       "      <td>0</td>\n",
       "      <td>3</td>\n",
       "    </tr>\n",
       "    <tr>\n",
       "      <th>5</th>\n",
       "      <td></td>\n",
       "      <td>Geoffrey Kondogbia</td>\n",
       "      <td>11</td>\n",
       "      <td>3</td>\n",
       "      <td>0</td>\n",
       "      <td>3</td>\n",
       "    </tr>\n",
       "    <tr>\n",
       "      <th>6</th>\n",
       "      <td>7</td>\n",
       "      <td>Axel Witsel</td>\n",
       "      <td>13</td>\n",
       "      <td>2</td>\n",
       "      <td>0</td>\n",
       "      <td>2</td>\n",
       "    </tr>\n",
       "    <tr>\n",
       "      <th>7</th>\n",
       "      <td></td>\n",
       "      <td>Koke</td>\n",
       "      <td>9</td>\n",
       "      <td>2</td>\n",
       "      <td>0</td>\n",
       "      <td>2</td>\n",
       "    </tr>\n",
       "    <tr>\n",
       "      <th>8</th>\n",
       "      <td></td>\n",
       "      <td>Reinildo Mandava</td>\n",
       "      <td>13</td>\n",
       "      <td>2</td>\n",
       "      <td>0</td>\n",
       "      <td>2</td>\n",
       "    </tr>\n",
       "    <tr>\n",
       "      <th>9</th>\n",
       "      <td></td>\n",
       "      <td>Stefan Savic</td>\n",
       "      <td>9</td>\n",
       "      <td>2</td>\n",
       "      <td>0</td>\n",
       "      <td>2</td>\n",
       "    </tr>\n",
       "    <tr>\n",
       "      <th>10</th>\n",
       "      <td>11</td>\n",
       "      <td>Marcos Llorente</td>\n",
       "      <td>7</td>\n",
       "      <td>1</td>\n",
       "      <td>0</td>\n",
       "      <td>1</td>\n",
       "    </tr>\n",
       "    <tr>\n",
       "      <th>11</th>\n",
       "      <td></td>\n",
       "      <td>Yannick Carrasco</td>\n",
       "      <td>12</td>\n",
       "      <td>1</td>\n",
       "      <td>0</td>\n",
       "      <td>1</td>\n",
       "    </tr>\n",
       "    <tr>\n",
       "      <th>12</th>\n",
       "      <td></td>\n",
       "      <td>Rodrigo De Paul</td>\n",
       "      <td>11</td>\n",
       "      <td>1</td>\n",
       "      <td>0</td>\n",
       "      <td>1</td>\n",
       "    </tr>\n",
       "    <tr>\n",
       "      <th>13</th>\n",
       "      <td></td>\n",
       "      <td>Ivo Grbic</td>\n",
       "      <td>4</td>\n",
       "      <td>1</td>\n",
       "      <td>0</td>\n",
       "      <td>1</td>\n",
       "    </tr>\n",
       "    <tr>\n",
       "      <th>14</th>\n",
       "      <td></td>\n",
       "      <td>Jan Oblak</td>\n",
       "      <td>11</td>\n",
       "      <td>1</td>\n",
       "      <td>0</td>\n",
       "      <td>1</td>\n",
       "    </tr>\n",
       "    <tr>\n",
       "      <th>15</th>\n",
       "      <td>16</td>\n",
       "      <td>Pablo Barrios Rivas</td>\n",
       "      <td>1</td>\n",
       "      <td>0</td>\n",
       "      <td>0</td>\n",
       "      <td>0</td>\n",
       "    </tr>\n",
       "    <tr>\n",
       "      <th>16</th>\n",
       "      <td></td>\n",
       "      <td>Adrian Corral</td>\n",
       "      <td>0</td>\n",
       "      <td>0</td>\n",
       "      <td>0</td>\n",
       "      <td>0</td>\n",
       "    </tr>\n",
       "    <tr>\n",
       "      <th>17</th>\n",
       "      <td></td>\n",
       "      <td>Thomas Lemar</td>\n",
       "      <td>8</td>\n",
       "      <td>0</td>\n",
       "      <td>0</td>\n",
       "      <td>0</td>\n",
       "    </tr>\n",
       "    <tr>\n",
       "      <th>18</th>\n",
       "      <td></td>\n",
       "      <td>Sergio Diez</td>\n",
       "      <td>0</td>\n",
       "      <td>0</td>\n",
       "      <td>0</td>\n",
       "      <td>0</td>\n",
       "    </tr>\n",
       "    <tr>\n",
       "      <th>19</th>\n",
       "      <td></td>\n",
       "      <td>Marco Moreno</td>\n",
       "      <td>0</td>\n",
       "      <td>0</td>\n",
       "      <td>0</td>\n",
       "      <td>0</td>\n",
       "    </tr>\n",
       "    <tr>\n",
       "      <th>20</th>\n",
       "      <td></td>\n",
       "      <td>Sergio Reguilón</td>\n",
       "      <td>0</td>\n",
       "      <td>0</td>\n",
       "      <td>0</td>\n",
       "      <td>0</td>\n",
       "    </tr>\n",
       "    <tr>\n",
       "      <th>21</th>\n",
       "      <td></td>\n",
       "      <td>Felipe</td>\n",
       "      <td>1</td>\n",
       "      <td>0</td>\n",
       "      <td>0</td>\n",
       "      <td>0</td>\n",
       "    </tr>\n",
       "    <tr>\n",
       "      <th>22</th>\n",
       "      <td></td>\n",
       "      <td>Sergio Mestre</td>\n",
       "      <td>0</td>\n",
       "      <td>0</td>\n",
       "      <td>0</td>\n",
       "      <td>0</td>\n",
       "    </tr>\n",
       "    <tr>\n",
       "      <th>23</th>\n",
       "      <td></td>\n",
       "      <td>Antonio Gomis</td>\n",
       "      <td>0</td>\n",
       "      <td>0</td>\n",
       "      <td>0</td>\n",
       "      <td>0</td>\n",
       "    </tr>\n",
       "    <tr>\n",
       "      <th>24</th>\n",
       "      <td></td>\n",
       "      <td>Alejandro Iturbe</td>\n",
       "      <td>0</td>\n",
       "      <td>0</td>\n",
       "      <td>0</td>\n",
       "      <td>0</td>\n",
       "    </tr>\n",
       "  </tbody>\n",
       "</table>\n",
       "</div>"
      ],
      "text/plain": [
       "    RK                 NAME   P YC RC PTS\n",
       "0    1          Saúl Ñíguez  11  5  0   5\n",
       "1             Mario Hermoso   3  2  1   5\n",
       "2              José Giménez   9  5  0   5\n",
       "3    4        Nahuel Molina  10  1  1   4\n",
       "4    5       Alberto Moreno   5  3  0   3\n",
       "5        Geoffrey Kondogbia  11  3  0   3\n",
       "6    7          Axel Witsel  13  2  0   2\n",
       "7                      Koke   9  2  0   2\n",
       "8          Reinildo Mandava  13  2  0   2\n",
       "9              Stefan Savic   9  2  0   2\n",
       "10  11      Marcos Llorente   7  1  0   1\n",
       "11         Yannick Carrasco  12  1  0   1\n",
       "12          Rodrigo De Paul  11  1  0   1\n",
       "13                Ivo Grbic   4  1  0   1\n",
       "14                Jan Oblak  11  1  0   1\n",
       "15  16  Pablo Barrios Rivas   1  0  0   0\n",
       "16            Adrian Corral   0  0  0   0\n",
       "17             Thomas Lemar   8  0  0   0\n",
       "18              Sergio Diez   0  0  0   0\n",
       "19             Marco Moreno   0  0  0   0\n",
       "20          Sergio Reguilón   0  0  0   0\n",
       "21                   Felipe   1  0  0   0\n",
       "22            Sergio Mestre   0  0  0   0\n",
       "23            Antonio Gomis   0  0  0   0\n",
       "24         Alejandro Iturbe   0  0  0   0"
      ]
     },
     "execution_count": 58,
     "metadata": {},
     "output_type": "execute_result"
    }
   ],
   "source": [
    "df=pd.DataFrame(data, columns=cabeceras)\n",
    "\n",
    "df"
   ]
  },
  {
   "cell_type": "code",
   "execution_count": null,
   "metadata": {},
   "outputs": [],
   "source": []
  }
 ],
 "metadata": {
  "kernelspec": {
   "display_name": "clase",
   "language": "python",
   "name": "clase"
  },
  "language_info": {
   "codemirror_mode": {
    "name": "ipython",
    "version": 3
   },
   "file_extension": ".py",
   "mimetype": "text/x-python",
   "name": "python",
   "nbconvert_exporter": "python",
   "pygments_lexer": "ipython3",
   "version": "3.8.13"
  },
  "varInspector": {
   "cols": {
    "lenName": 16,
    "lenType": 16,
    "lenVar": 40
   },
   "kernels_config": {
    "python": {
     "delete_cmd_postfix": "",
     "delete_cmd_prefix": "del ",
     "library": "var_list.py",
     "varRefreshCmd": "print(var_dic_list())"
    },
    "r": {
     "delete_cmd_postfix": ") ",
     "delete_cmd_prefix": "rm(",
     "library": "var_list.r",
     "varRefreshCmd": "cat(var_dic_list()) "
    }
   },
   "types_to_exclude": [
    "module",
    "function",
    "builtin_function_or_method",
    "instance",
    "_Feature"
   ],
   "window_display": false
  }
 },
 "nbformat": 4,
 "nbformat_minor": 4
}

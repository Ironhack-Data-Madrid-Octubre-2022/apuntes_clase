{
 "cells": [
  {
   "cell_type": "markdown",
   "metadata": {},
   "source": [
    "# 3.2- Automatización\n",
    "\n",
    "![automatizacion](images/automatizacion.png)"
   ]
  },
  {
   "cell_type": "markdown",
   "metadata": {},
   "source": [
    "Selenium automatiza los navegadores. Principalmente, es para la automatización de aplicaciones web con fines de pruebas, pero ciertamente no se limita a eso. Las tareas aburridas de administración basadas en web pueden ser automatizadas.\n",
    "\n",
    "Veremos como realizar estas automatizaciones y además ocultar nuestro driver para que parezca una persona."
   ]
  },
  {
   "cell_type": "markdown",
   "metadata": {},
   "source": [
    "**Librerias**"
   ]
  },
  {
   "cell_type": "code",
   "execution_count": 1,
   "metadata": {},
   "outputs": [],
   "source": [
    "from selenium import webdriver # driver de selenium\n",
    "\n",
    "import time   # para manejar tiempo\n",
    "\n",
    "import pandas as pd"
   ]
  },
  {
   "cell_type": "markdown",
   "metadata": {},
   "source": [
    "### Opciones del driver\n",
    "\n",
    "https://peter.sh/experiments/chromium-command-line-switches/\n"
   ]
  },
  {
   "cell_type": "code",
   "execution_count": 2,
   "metadata": {},
   "outputs": [],
   "source": [
    "from selenium.webdriver.chrome.options import Options"
   ]
  },
  {
   "cell_type": "code",
   "execution_count": 3,
   "metadata": {},
   "outputs": [],
   "source": [
    "# opciones del driver\n",
    "\n",
    "opciones=Options()\n",
    "\n",
    "# quita la bandera de ser robot\n",
    "opciones.add_experimental_option('excludeSwitches', ['enable-automation'])\n",
    "opciones.add_experimental_option('useAutomationExtension', False)\n",
    "\n",
    "opciones.headless=False   # si True, no aparece la ventana (headless=no visible)\n",
    "\n",
    "opciones.add_argument('--start-maximized')         # comienza maximizado\n",
    "\n",
    "#opciones.add_extension('driver/adblock.crx')       # adblocker\n",
    "\n",
    "#opciones.add_argument('user-data-dir=selenium')    # mantiene las coockies\n",
    "\n",
    "\n",
    "#opciones.add_argument('--incognito')              # incognito\n",
    " \n",
    "#opciones.add_argument('--no-proxy-server')                 # sin proxy\n",
    "#opciones.add_argument('proxy-server=106.122.8.54:3128')    # proxy custom"
   ]
  },
  {
   "cell_type": "markdown",
   "metadata": {},
   "source": [
    "### Creando usuario random\n",
    "\n",
    "https://pypi.org/project/fake-useragent/"
   ]
  },
  {
   "cell_type": "code",
   "execution_count": 4,
   "metadata": {},
   "outputs": [
    {
     "name": "stdout",
     "output_type": "stream",
     "text": [
      "Requirement already satisfied: fake-useragent in /Users/iudh/miniforge3/envs/clase/lib/python3.8/site-packages (0.1.14)\n",
      "Note: you may need to restart the kernel to use updated packages.\n"
     ]
    }
   ],
   "source": [
    "%pip install fake-useragent"
   ]
  },
  {
   "cell_type": "code",
   "execution_count": 5,
   "metadata": {},
   "outputs": [
    {
     "name": "stdout",
     "output_type": "stream",
     "text": [
      "Mozilla/4.0 (compatible; MSIE 8.0; Windows NT 6.1; WOW64; Trident/4.0; SLCC2; .NET CLR 2.0.50727; Media Center PC 6.0; .NET CLR 3.5.30729; .NET CLR 3.0.30729; .NET4.0C)\n"
     ]
    }
   ],
   "source": [
    "from fake_useragent import UserAgent\n",
    "\n",
    "usuario=UserAgent().random\n",
    "\n",
    "print(usuario)\n",
    "\n",
    "#opciones.add_argument(f'user-agent={usuario}')"
   ]
  },
  {
   "cell_type": "markdown",
   "metadata": {},
   "source": [
    "### Editando el archivo chromedriver\n",
    "\n",
    "\n",
    "Distil web monitor comprueba el patrón de regex  \"[a-z]dc_\", y el chromedriver tiene una variable que cumple con dicho patrón \"cdc_\". Esto hace posible la detección del driver en la red por parte de los monitores.\n",
    "\n",
    "\n",
    "**Cambiando la string cdc_**\n",
    "\n",
    "Podemos editar el chromedriver usando Vim, escribiendo en terminal:\n",
    "\n",
    "`vim /ruta/al/chromedriver`\n",
    "\n",
    "Una ver abierto el Vim, verás muchas **@** en el archivo. En el editor realizamos los siguientes pasos:\n",
    "\n",
    "+ Vamos a reemplazar la string `cdc_` todas las veces que aparece escribiendo: `%s/cdc_/arm_/g`. arm_ es solo un ejemplo, se puede sustituir con cualquier string con la condición de que se mantenga la longitud, si no el driver fallará.\n",
    "\n",
    "+ Para guardar los cambios y salir de Vim se escribe: `:wq!` y presiona Enter. Para salir sin guardar `:q!`.\n"
   ]
  },
  {
   "cell_type": "code",
   "execution_count": 6,
   "metadata": {},
   "outputs": [],
   "source": [
    "from webdriver_manager.chrome import ChromeDriverManager\n",
    "\n",
    "PATH=ChromeDriverManager().install()"
   ]
  },
  {
   "cell_type": "markdown",
   "metadata": {},
   "source": [
    "### Ejemplo ¿?"
   ]
  },
  {
   "cell_type": "code",
   "execution_count": 7,
   "metadata": {},
   "outputs": [],
   "source": [
    "from selenium import webdriver # driver de selenium\n",
    "\n",
    "import time   # para manejar tiempo\n",
    "\n",
    "from selenium.webdriver.chrome.options import Options\n",
    "\n",
    "from selenium.webdriver.common.by import By   # para buscar segun tag, id, class, etc...\n",
    "\n",
    "from selenium.webdriver.support.ui import WebDriverWait   # es para esperar\n",
    "\n",
    "from selenium.webdriver.support import expected_conditions as EC  # condiciones esperadas...\n",
    "\n",
    "from selenium.webdriver import ActionChains as AC   # acciones encadenadas, rollo doble click\n",
    "\n",
    "from selenium.webdriver.common.keys import Keys  # manejar teclas\n",
    "\n",
    "\n",
    "import warnings\n",
    "warnings.filterwarnings('ignore')"
   ]
  },
  {
   "cell_type": "code",
   "execution_count": 8,
   "metadata": {},
   "outputs": [],
   "source": [
    "opciones=Options()\n",
    "\n",
    "# quita la bandera de ser robot\n",
    "opciones.add_experimental_option('excludeSwitches', ['enable-automation'])\n",
    "opciones.add_experimental_option('useAutomationExtension', False)\n",
    "\n",
    "opciones.headless=False   # si True, no aparece la ventana (headless=no visible)\n",
    "\n",
    "opciones.add_argument('--start-maximized')         # comienza maximizado\n",
    "\n",
    "opciones.add_extension('driver/adblock.crx')       # adblocker\n",
    "\n",
    "opciones.add_argument('user-data-dir=selenium')    # mantiene las coockies\n"
   ]
  },
  {
   "cell_type": "code",
   "execution_count": 9,
   "metadata": {},
   "outputs": [],
   "source": [
    "from webdriver_manager.chrome import ChromeDriverManager\n",
    "\n",
    "PATH=ChromeDriverManager().install()"
   ]
  },
  {
   "cell_type": "code",
   "execution_count": 10,
   "metadata": {},
   "outputs": [],
   "source": [
    "url='https://repelisplus.blue/'"
   ]
  },
  {
   "cell_type": "code",
   "execution_count": 11,
   "metadata": {},
   "outputs": [],
   "source": [
    "driver=webdriver.Chrome(PATH, options=opciones)\n",
    "\n",
    "driver.get(url)\n",
    "\n",
    "time.sleep(2)"
   ]
  },
  {
   "cell_type": "code",
   "execution_count": 12,
   "metadata": {},
   "outputs": [],
   "source": [
    "texto=driver.find_element(By.XPATH, '/html/body/div[1]/div[2]/button')\n",
    "\n",
    "texto.click()"
   ]
  },
  {
   "cell_type": "code",
   "execution_count": 13,
   "metadata": {},
   "outputs": [],
   "source": [
    "texto=driver.find_element(By.XPATH, '/html/body/div[1]/div[3]/form/input')\n",
    "\n",
    "texto.send_keys('final space')  # escribe texto\n",
    "\n",
    "texto.send_keys(u'\\ue007')  # tecla ENTER\n",
    "\n",
    "time.sleep(2)"
   ]
  },
  {
   "cell_type": "code",
   "execution_count": 14,
   "metadata": {},
   "outputs": [],
   "source": [
    "# entrar en la serie\n",
    "\n",
    "driver.find_element(By.XPATH, '/html/body/div[3]/div/div/div[1]/a').click()\n",
    "\n",
    "time.sleep(2)"
   ]
  },
  {
   "cell_type": "code",
   "execution_count": 15,
   "metadata": {},
   "outputs": [],
   "source": [
    "# scroll, codigo javascript\n",
    "\n",
    "#driver.execute_script('window.scrollTo(0, document.body.scrollHeight);') # hasta abajo\n",
    "\n",
    "driver.execute_script('window.scrollTo(0, 200);')  # 200px de scroll\n",
    "\n",
    "time.sleep(2)"
   ]
  },
  {
   "cell_type": "code",
   "execution_count": 16,
   "metadata": {},
   "outputs": [],
   "source": [
    "# verahora\n",
    "\n",
    "verahora=driver.find_element(By.XPATH, '/html/body/div[3]/div/div[1]/div[4]/div[1]/a')\n",
    "\n",
    "verahora.click()\n",
    "\n",
    "time.sleep(2)"
   ]
  },
  {
   "cell_type": "code",
   "execution_count": 17,
   "metadata": {},
   "outputs": [],
   "source": [
    "# cap1\n",
    "\n",
    "cap=driver.find_element(By.XPATH, '/html/body/div[3]/div/div[1]/div[3]/div[2]/div[1]/a')\n",
    "\n",
    "cap.click()\n",
    "\n",
    "time.sleep(2)"
   ]
  },
  {
   "cell_type": "code",
   "execution_count": 18,
   "metadata": {},
   "outputs": [],
   "source": [
    "# idioma\n",
    "\n",
    "idioma=driver.find_element(By.XPATH, '/html/body/div[4]/div/div[2]/div[2]/div[2]/div[1]/a')\n",
    "\n",
    "idioma.click()\n",
    "\n",
    "time.sleep(2)"
   ]
  },
  {
   "cell_type": "code",
   "execution_count": 19,
   "metadata": {},
   "outputs": [],
   "source": [
    "# cambiar de frame, de html\n",
    "\n",
    "iframe=driver.find_element(By.XPATH, '/html/body/div[5]/iframe')\n",
    "\n",
    "driver.switch_to.frame(iframe)\n",
    "time.sleep(2)"
   ]
  },
  {
   "cell_type": "code",
   "execution_count": 20,
   "metadata": {},
   "outputs": [],
   "source": [
    "iframe=driver.find_element(By.XPATH, '/html/body/iframe')\n",
    "\n",
    "driver.switch_to.frame(iframe)\n",
    "time.sleep(2)"
   ]
  },
  {
   "cell_type": "code",
   "execution_count": 21,
   "metadata": {},
   "outputs": [],
   "source": [
    "driver.switch_to.default_content()  # frame original"
   ]
  },
  {
   "cell_type": "code",
   "execution_count": 22,
   "metadata": {},
   "outputs": [],
   "source": [
    "# mascaras, doble click\n",
    "\n",
    "mascara=driver.find_element(By.XPATH, '//*[@id=\"adxx\"]')\n",
    "\n",
    "AC(driver).double_click(mascara).perform()\n",
    "\n",
    "time.sleep(2)"
   ]
  },
  {
   "cell_type": "code",
   "execution_count": 23,
   "metadata": {},
   "outputs": [],
   "source": [
    "# cambiar de frame, de html\n",
    "\n",
    "iframe=driver.find_element(By.XPATH, '/html/body/div[5]/iframe')\n",
    "\n",
    "driver.switch_to.frame(iframe)\n",
    "time.sleep(2)\n",
    "\n",
    "iframe=driver.find_element(By.XPATH, '/html/body/iframe')\n",
    "\n",
    "driver.switch_to.frame(iframe)\n",
    "time.sleep(2)"
   ]
  },
  {
   "cell_type": "code",
   "execution_count": 24,
   "metadata": {},
   "outputs": [],
   "source": [
    "# cancel\n",
    "\n",
    "cancel=driver.find_element(By.XPATH, '/html/body/div[3]/div/div/div[2]/div[2]')\n",
    "\n",
    "cancel.click()"
   ]
  },
  {
   "cell_type": "code",
   "execution_count": null,
   "metadata": {},
   "outputs": [],
   "source": []
  }
 ],
 "metadata": {
  "finalized": {
   "timestamp": 1662450386230,
   "trusted": true
  },
  "kernelspec": {
   "display_name": "clase",
   "language": "python",
   "name": "clase"
  },
  "language_info": {
   "codemirror_mode": {
    "name": "ipython",
    "version": 3
   },
   "file_extension": ".py",
   "mimetype": "text/x-python",
   "name": "python",
   "nbconvert_exporter": "python",
   "pygments_lexer": "ipython3",
   "version": "3.8.13"
  },
  "varInspector": {
   "cols": {
    "lenName": 16,
    "lenType": 16,
    "lenVar": 40
   },
   "kernels_config": {
    "python": {
     "delete_cmd_postfix": "",
     "delete_cmd_prefix": "del ",
     "library": "var_list.py",
     "varRefreshCmd": "print(var_dic_list())"
    },
    "r": {
     "delete_cmd_postfix": ") ",
     "delete_cmd_prefix": "rm(",
     "library": "var_list.r",
     "varRefreshCmd": "cat(var_dic_list()) "
    }
   },
   "types_to_exclude": [
    "module",
    "function",
    "builtin_function_or_method",
    "instance",
    "_Feature"
   ],
   "window_display": false
  }
 },
 "nbformat": 4,
 "nbformat_minor": 4
}

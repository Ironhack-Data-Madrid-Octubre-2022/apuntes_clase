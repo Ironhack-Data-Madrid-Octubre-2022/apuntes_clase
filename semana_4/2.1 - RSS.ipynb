{
 "cells": [
  {
   "cell_type": "markdown",
   "metadata": {},
   "source": [
    "# 2.1 - RSS\n",
    "\n",
    "$$$$\n",
    "\n",
    "![rss](images/rss.png)\n",
    "\n"
   ]
  },
  {
   "cell_type": "markdown",
   "metadata": {},
   "source": [
    "RSS son las siglas de **Really Simple Syndication**, un formato XML para distribuir contenido en la web. Se utiliza para difundir información actualizada frecuentemente a usuarios que se han suscrito a la fuente de contenidos. El formato permite distribuir contenidos sin necesidad de un navegador, utilizando programas llamados agregadores de noticias, diseñados para leer contenidos RSS. A pesar de eso, es posible utilizar el mismo navegador para ver los contenidos RSS. Las últimas versiones de los principales navegadores permiten leer los RSS sin necesidad de programas adicionales. RSS es parte de la familia de los formatos XML, desarrollado específicamente para todo tipo de sitios que se actualicen con frecuencia y por medio del cual se puede compartir la información y usarla en otros sitios web o programas. A esto se le conoce como redifusión web o sindicación web .\n",
    "\n",
    "\n",
    "En el archivo RSS simplemente están los datos de las novedades del sitio, como el título, fecha de publicación o la descripción. El programa que lea el RSS será encargado de darle estilo o apariencia a los datos que se incluyan en el archivo y presentarlos de una manera atractiva al usuario y de fácil lectura.\n",
    "\n",
    "Que RSS sea un formato basado en XML significa que el archivo RSS se compone por una serie de etiquetas definidas que tendrán un formato dado, y que respetará las reglas generales de XML. Este archivo normalmente es nombrado index.xml y se encuentra ubicado en la página principal.\n",
    "\n",
    "Vale aclarar que RSS no es un protocolo, dado que no contempla parámetros de ningún tipo. No es posible definir mediante una consulta un criterio de búsqueda. \n"
   ]
  },
  {
   "cell_type": "markdown",
   "metadata": {},
   "source": [
    "## Trabajando con RSS\n",
    "\n",
    "Normalmente, el feed del RSS corresponde a un archivo con la extensión .rss. Tenemos una herramienta perfecta para manejar ese tipo de feed."
   ]
  },
  {
   "cell_type": "code",
   "execution_count": 1,
   "metadata": {},
   "outputs": [
    {
     "name": "stdout",
     "output_type": "stream",
     "text": [
      "Collecting feedparser\n",
      "  Using cached feedparser-6.0.10-py3-none-any.whl (81 kB)\n",
      "Collecting sgmllib3k\n",
      "  Using cached sgmllib3k-1.0.0.tar.gz (5.8 kB)\n",
      "  Preparing metadata (setup.py) ... \u001b[?25ldone\n",
      "\u001b[?25hBuilding wheels for collected packages: sgmllib3k\n",
      "  Building wheel for sgmllib3k (setup.py) ... \u001b[?25ldone\n",
      "\u001b[?25h  Created wheel for sgmllib3k: filename=sgmllib3k-1.0.0-py3-none-any.whl size=6048 sha256=f15ebeee83c772650abaac2e7f9dc71453a564c9d06a33f6b90489fe8ba4c619\n",
      "  Stored in directory: /Users/iudh/Library/Caches/pip/wheels/73/ad/a4/0dff4a6ef231fc0dfa12ffbac2a36cebfdddfe059f50e019aa\n",
      "Successfully built sgmllib3k\n",
      "Installing collected packages: sgmllib3k, feedparser\n",
      "Successfully installed feedparser-6.0.10 sgmllib3k-1.0.0\n",
      "Note: you may need to restart the kernel to use updated packages.\n"
     ]
    }
   ],
   "source": [
    "%pip install feedparser"
   ]
  },
  {
   "cell_type": "code",
   "execution_count": 2,
   "metadata": {},
   "outputs": [],
   "source": [
    "import feedparser"
   ]
  },
  {
   "cell_type": "markdown",
   "metadata": {},
   "source": [
    "### Reddit RSS\n",
    "\n",
    "Para extraer el contenido, tan solo pasamos la url del RSS al feedparser."
   ]
  },
  {
   "cell_type": "code",
   "execution_count": 3,
   "metadata": {},
   "outputs": [],
   "source": [
    "reddit=feedparser.parse('https://www.reddit.com/r/news/.rss')"
   ]
  },
  {
   "cell_type": "code",
   "execution_count": 4,
   "metadata": {},
   "outputs": [
    {
     "data": {
      "text/plain": [
       "feedparser.util.FeedParserDict"
      ]
     },
     "execution_count": 4,
     "metadata": {},
     "output_type": "execute_result"
    }
   ],
   "source": [
    "type(reddit)"
   ]
  },
  {
   "cell_type": "code",
   "execution_count": 6,
   "metadata": {},
   "outputs": [
    {
     "data": {
      "text/plain": [
       "dict_keys(['bozo', 'entries', 'feed', 'headers', 'href', 'status', 'encoding', 'version', 'namespaces'])"
      ]
     },
     "execution_count": 6,
     "metadata": {},
     "output_type": "execute_result"
    }
   ],
   "source": [
    "reddit.keys()"
   ]
  },
  {
   "cell_type": "code",
   "execution_count": 8,
   "metadata": {},
   "outputs": [
    {
     "data": {
      "text/plain": [
       "dict_keys(['tags', 'updated', 'updated_parsed', 'icon', 'id', 'guidislink', 'link', 'links', 'logo', 'subtitle', 'subtitle_detail', 'title', 'title_detail'])"
      ]
     },
     "execution_count": 8,
     "metadata": {},
     "output_type": "execute_result"
    }
   ],
   "source": [
    "reddit['feed'].keys()"
   ]
  },
  {
   "cell_type": "code",
   "execution_count": 11,
   "metadata": {},
   "outputs": [
    {
     "data": {
      "text/plain": [
       "dict_keys(['authors', 'author_detail', 'href', 'author', 'tags', 'content', 'summary', 'id', 'guidislink', 'link', 'links', 'updated', 'updated_parsed', 'published', 'published_parsed', 'title', 'title_detail'])"
      ]
     },
     "execution_count": 11,
     "metadata": {},
     "output_type": "execute_result"
    }
   ],
   "source": [
    "reddit['entries'][0].keys()"
   ]
  },
  {
   "cell_type": "code",
   "execution_count": 12,
   "metadata": {},
   "outputs": [
    {
     "data": {
      "text/plain": [
       "[{'type': 'text/html',\n",
       "  'language': None,\n",
       "  'base': 'https://www.reddit.com/r/news/.rss',\n",
       "  'value': '&#32; submitted by &#32; <a href=\"https://www.reddit.com/user/hearsdemons\"> /u/hearsdemons </a> <br /> <span><a href=\"https://www.masslive.com/news/2022/11/mit-reports-twitter-lost-over-1-million-users-since-elon-musks-takeover.html?outputType=amp\">[link]</a></span> &#32; <span><a href=\"https://www.reddit.com/r/news/comments/yp14rc/mit_reports_twitter_lost_over_1_million_users/\">[comments]</a></span>'}]"
      ]
     },
     "execution_count": 12,
     "metadata": {},
     "output_type": "execute_result"
    }
   ],
   "source": [
    "reddit['entries'][0]['content']"
   ]
  },
  {
   "cell_type": "markdown",
   "metadata": {},
   "source": [
    "### [Nasa](https://www.nasa.gov/content/nasa-rss-feeds) RSS"
   ]
  },
  {
   "cell_type": "code",
   "execution_count": 13,
   "metadata": {},
   "outputs": [],
   "source": [
    "nasa=feedparser.parse('https://www.nasa.gov/rss/dyn/mission_pages/kepler/news/kepler-newsandfeatures-RSS.rss')"
   ]
  },
  {
   "cell_type": "code",
   "execution_count": 14,
   "metadata": {},
   "outputs": [
    {
     "data": {
      "text/plain": [
       "dict_keys(['bozo', 'entries', 'feed', 'headers', 'href', 'status', 'encoding', 'version', 'namespaces'])"
      ]
     },
     "execution_count": 14,
     "metadata": {},
     "output_type": "execute_result"
    }
   ],
   "source": [
    "nasa.keys()"
   ]
  },
  {
   "cell_type": "code",
   "execution_count": 16,
   "metadata": {},
   "outputs": [
    {
     "data": {
      "text/plain": [
       "{'title': \"New Deep Learning Method Adds 301 Planets to Kepler's Total Count\",\n",
       " 'title_detail': {'type': 'text/plain',\n",
       "  'language': 'en',\n",
       "  'base': 'http://www.nasa.gov/',\n",
       "  'value': \"New Deep Learning Method Adds 301 Planets to Kepler's Total Count\"},\n",
       " 'links': [{'rel': 'alternate',\n",
       "   'type': 'text/html',\n",
       "   'href': 'http://www.nasa.gov/feature/ames/new-deep-learning-method-adds-301-planets-to-keplers-total-count'},\n",
       "  {'length': '7380534',\n",
       "   'type': 'image/gif',\n",
       "   'href': 'http://www.nasa.gov/sites/default/files/styles/1x1_cardfeed/public/thumbnails/image/exoplanet_banner_1.gif?itok=L3rCP01p',\n",
       "   'rel': 'enclosure'}],\n",
       " 'link': 'http://www.nasa.gov/feature/ames/new-deep-learning-method-adds-301-planets-to-keplers-total-count',\n",
       " 'summary': 'Scientists recently added a whopping 301 newly confirmed exoplanets to the total exoplanet tally.',\n",
       " 'summary_detail': {'type': 'text/html',\n",
       "  'language': 'en',\n",
       "  'base': 'http://www.nasa.gov/',\n",
       "  'value': 'Scientists recently added a whopping 301 newly confirmed exoplanets to the total exoplanet tally.'},\n",
       " 'id': 'http://www.nasa.gov/feature/ames/new-deep-learning-method-adds-301-planets-to-keplers-total-count',\n",
       " 'guidislink': False,\n",
       " 'published': 'Mon, 22 Nov 2021 20:36 EST',\n",
       " 'published_parsed': time.struct_time(tm_year=2021, tm_mon=11, tm_mday=23, tm_hour=1, tm_min=36, tm_sec=0, tm_wday=1, tm_yday=327, tm_isdst=0),\n",
       " 'source': {'href': 'http://www.nasa.gov/rss/dyn/mission_pages/kepler/news/kepler-newsandfeatures-RSS.rss',\n",
       "  'title': 'Kepler News and Features'}}"
      ]
     },
     "execution_count": 16,
     "metadata": {},
     "output_type": "execute_result"
    }
   ],
   "source": [
    "nasa['entries'][0]"
   ]
  },
  {
   "cell_type": "code",
   "execution_count": 23,
   "metadata": {},
   "outputs": [
    {
     "data": {
      "text/html": [
       "<img src=\"http://www.nasa.gov/sites/default/files/styles/1x1_cardfeed/public/thumbnails/image/exoplanet_banner_1.gif?itok=L3rCP01p\"/>"
      ],
      "text/plain": [
       "<IPython.core.display.Image object>"
      ]
     },
     "metadata": {},
     "output_type": "display_data"
    }
   ],
   "source": [
    "url=nasa['entries'][0]['links'][-1]['href']\n",
    "\n",
    "\n",
    "from IPython.display import Image\n",
    "\n",
    "display(Image(url=url))"
   ]
  },
  {
   "cell_type": "markdown",
   "metadata": {},
   "source": [
    "### [ForexLive](https://www.forexlive.com/rss) RSS"
   ]
  },
  {
   "cell_type": "code",
   "execution_count": 24,
   "metadata": {},
   "outputs": [],
   "source": [
    "crypto=feedparser.parse('https://www.forexlive.com/feed/cryptocurrency')"
   ]
  },
  {
   "cell_type": "code",
   "execution_count": 25,
   "metadata": {},
   "outputs": [
    {
     "data": {
      "text/plain": [
       "dict_keys(['bozo', 'entries', 'feed', 'headers', 'etag', 'href', 'status', 'encoding', 'version', 'namespaces'])"
      ]
     },
     "execution_count": 25,
     "metadata": {},
     "output_type": "execute_result"
    }
   ],
   "source": [
    "crypto.keys()"
   ]
  },
  {
   "cell_type": "code",
   "execution_count": 26,
   "metadata": {
    "scrolled": false
   },
   "outputs": [
    {
     "data": {
      "text/plain": [
       "{'title': 'BTC/USD drops under USD 20K - contagion from FTX',\n",
       " 'title_detail': {'type': 'text/plain',\n",
       "  'language': None,\n",
       "  'base': 'https://www.forexlive.com/feed/cryptocurrency',\n",
       "  'value': 'BTC/USD drops under USD 20K - contagion from FTX'},\n",
       " 'comments': 'https://forexlive.com/Cryptocurrency/btcusd-drops-under-usd-20k-contagion-from-ftx-20221108/#respond',\n",
       " 'published': 'Tue, 08 Nov 2022 04:15:29 GMT',\n",
       " 'published_parsed': time.struct_time(tm_year=2022, tm_mon=11, tm_mday=8, tm_hour=4, tm_min=15, tm_sec=29, tm_wday=1, tm_yday=312, tm_isdst=0),\n",
       " 'authors': [{'name': 'Eamonn Sheridan'}, {'name': 'forexlive.com'}],\n",
       " 'author': 'forexlive.com',\n",
       " 'author_detail': {'name': 'Eamonn Sheridan'},\n",
       " 'tags': [{'term': 'Cryptocurrency', 'scheme': None, 'label': None}],\n",
       " 'id': 'https://forexlive.com/Cryptocurrency/btcusd-drops-under-usd-20k-contagion-from-ftx-20221108/',\n",
       " 'guidislink': True,\n",
       " 'link': 'https://forexlive.com/Cryptocurrency/btcusd-drops-under-usd-20k-contagion-from-ftx-20221108/',\n",
       " 'links': [{'rel': 'alternate',\n",
       "   'type': 'text/html',\n",
       "   'href': 'https://forexlive.com/Cryptocurrency/btcusd-drops-under-usd-20k-contagion-from-ftx-20221108/'},\n",
       "  {'rel': 'canonical',\n",
       "   'type': 'text/html',\n",
       "   'href': 'https://forexlive.com/Cryptocurrency/btcusd-drops-under-usd-20k-contagion-from-ftx-20221108/'}],\n",
       " 'summary': '&lt;p&gt;This from overnight:&lt;/p&gt;&lt;ul&gt;&lt;li&gt;&lt;a href=&quot;https://www.forexlive.com/Cryptocurrency/battle-of-the-titans-in-the-crypto-market-wont-have-any-winners-20221107/&quot; rel=&quot;follow&quot; target=&quot;_blank&quot; class=&quot;article-link&quot;&gt;Battle of the titans in the crypto market won&apos;t have any winners&lt;/a&gt;&lt;/li&gt;&lt;/ul&gt;&lt;p&gt;Update during Asia time:&lt;/p&gt;&lt;ul&gt;&lt;li&gt;&lt;a href=&quot;https://www.forexlive.com/Cryptocurrency/ftt-coin-is-falling-further-under-20-20221108/&quot; rel=&quot;follow&quot; target=&quot;_self&quot; class=&quot;article-link vertical-align-baseline&quot;&gt;FTT coin is falling further, under $20&lt;/a&gt;&lt;/li&gt;&lt;/ul&gt;&lt;p&gt;Contagion is spreading further across crypto. Bitcoin falling sharply, but not a huge drop&lt;/p&gt;\\n\\n                This article was written by Eamonn Sheridan at forexlive.com.',\n",
       " 'summary_detail': {'type': 'text/html',\n",
       "  'language': None,\n",
       "  'base': 'https://www.forexlive.com/feed/cryptocurrency',\n",
       "  'value': '&lt;p&gt;This from overnight:&lt;/p&gt;&lt;ul&gt;&lt;li&gt;&lt;a href=&quot;https://www.forexlive.com/Cryptocurrency/battle-of-the-titans-in-the-crypto-market-wont-have-any-winners-20221107/&quot; rel=&quot;follow&quot; target=&quot;_blank&quot; class=&quot;article-link&quot;&gt;Battle of the titans in the crypto market won&apos;t have any winners&lt;/a&gt;&lt;/li&gt;&lt;/ul&gt;&lt;p&gt;Update during Asia time:&lt;/p&gt;&lt;ul&gt;&lt;li&gt;&lt;a href=&quot;https://www.forexlive.com/Cryptocurrency/ftt-coin-is-falling-further-under-20-20221108/&quot; rel=&quot;follow&quot; target=&quot;_self&quot; class=&quot;article-link vertical-align-baseline&quot;&gt;FTT coin is falling further, under $20&lt;/a&gt;&lt;/li&gt;&lt;/ul&gt;&lt;p&gt;Contagion is spreading further across crypto. Bitcoin falling sharply, but not a huge drop&lt;/p&gt;\\n\\n                This article was written by Eamonn Sheridan at forexlive.com.'}}"
      ]
     },
     "execution_count": 26,
     "metadata": {},
     "output_type": "execute_result"
    }
   ],
   "source": [
    "crypto['entries'][0]"
   ]
  },
  {
   "cell_type": "markdown",
   "metadata": {},
   "source": [
    "### [Unam](http://www.ssn.unam.mx) RSS\n",
    "\n",
    "A veces el RSS viene directamente en formato .xml\n",
    "\n",
    "Veremos como tratarlo."
   ]
  },
  {
   "cell_type": "code",
   "execution_count": 27,
   "metadata": {},
   "outputs": [
    {
     "name": "stdout",
     "output_type": "stream",
     "text": [
      "Collecting xmltodict\n",
      "  Using cached xmltodict-0.13.0-py2.py3-none-any.whl (10.0 kB)\n",
      "Installing collected packages: xmltodict\n",
      "Successfully installed xmltodict-0.13.0\n",
      "Note: you may need to restart the kernel to use updated packages.\n"
     ]
    }
   ],
   "source": [
    "%pip install xmltodict"
   ]
  },
  {
   "cell_type": "code",
   "execution_count": 28,
   "metadata": {},
   "outputs": [],
   "source": [
    "import requests as req\n",
    "import xmltodict"
   ]
  },
  {
   "cell_type": "code",
   "execution_count": 30,
   "metadata": {},
   "outputs": [],
   "source": [
    "url='http://www.ssn.unam.mx/rss/ultimos-sismos.xml'\n",
    "\n",
    "data=req.get(url).text\n",
    "\n",
    "unam=xmltodict.parse(data)"
   ]
  },
  {
   "cell_type": "code",
   "execution_count": 32,
   "metadata": {},
   "outputs": [
    {
     "data": {
      "text/plain": [
       "dict_keys(['rss'])"
      ]
     },
     "execution_count": 32,
     "metadata": {},
     "output_type": "execute_result"
    }
   ],
   "source": [
    "unam.keys()"
   ]
  },
  {
   "cell_type": "code",
   "execution_count": 34,
   "metadata": {},
   "outputs": [
    {
     "data": {
      "text/plain": [
       "dict_keys(['@version', '@xmlns:geo', 'channel'])"
      ]
     },
     "execution_count": 34,
     "metadata": {},
     "output_type": "execute_result"
    }
   ],
   "source": [
    "unam['rss'].keys()"
   ]
  },
  {
   "cell_type": "code",
   "execution_count": 37,
   "metadata": {},
   "outputs": [
    {
     "data": {
      "text/plain": [
       "15"
      ]
     },
     "execution_count": 37,
     "metadata": {},
     "output_type": "execute_result"
    }
   ],
   "source": [
    "len(unam['rss']['channel']['item'])"
   ]
  },
  {
   "cell_type": "code",
   "execution_count": 38,
   "metadata": {},
   "outputs": [
    {
     "data": {
      "text/plain": [
       "{'title': '3.1, 17 km al SUR de  COALCOMAN, MICH',\n",
       " 'description': '<p>Fecha:2022-11-07 15:49:23 (Hora de M&eacute;xico)<br/>Lat/Lon: 18.63/-103.19<br/>Profundidad: 5.0 km </p>',\n",
       " 'link': 'http://www2.ssn.unam.mx:8080/jsp/localizacion-de-sismo.jsp?latitud=18.63&longitud=-103.19&prf=5.0 km&ma=3.1&fecha=2022-11-07&hora=15:49:23&loc=17 km al SUR de  COALCOMAN, MICH &evento=1',\n",
       " 'geo:lat': '18.63',\n",
       " 'geo:long': '-103.19'}"
      ]
     },
     "execution_count": 38,
     "metadata": {},
     "output_type": "execute_result"
    }
   ],
   "source": [
    "unam['rss']['channel']['item'][0]"
   ]
  },
  {
   "cell_type": "markdown",
   "metadata": {},
   "source": [
    "También podemos pasar los datos a un dataframe:"
   ]
  },
  {
   "cell_type": "code",
   "execution_count": 39,
   "metadata": {},
   "outputs": [],
   "source": [
    "import pandas as pd"
   ]
  },
  {
   "cell_type": "code",
   "execution_count": 40,
   "metadata": {},
   "outputs": [
    {
     "data": {
      "text/html": [
       "<div>\n",
       "<style scoped>\n",
       "    .dataframe tbody tr th:only-of-type {\n",
       "        vertical-align: middle;\n",
       "    }\n",
       "\n",
       "    .dataframe tbody tr th {\n",
       "        vertical-align: top;\n",
       "    }\n",
       "\n",
       "    .dataframe thead th {\n",
       "        text-align: right;\n",
       "    }\n",
       "</style>\n",
       "<table border=\"1\" class=\"dataframe\">\n",
       "  <thead>\n",
       "    <tr style=\"text-align: right;\">\n",
       "      <th></th>\n",
       "      <th>title</th>\n",
       "      <th>description</th>\n",
       "      <th>link</th>\n",
       "      <th>geo:lat</th>\n",
       "      <th>geo:long</th>\n",
       "    </tr>\n",
       "  </thead>\n",
       "  <tbody>\n",
       "    <tr>\n",
       "      <th>0</th>\n",
       "      <td>3.1, 17 km al SUR de  COALCOMAN, MICH</td>\n",
       "      <td>&lt;p&gt;Fecha:2022-11-07 15:49:23 (Hora de M&amp;eacute...</td>\n",
       "      <td>http://www2.ssn.unam.mx:8080/jsp/localizacion-...</td>\n",
       "      <td>18.63</td>\n",
       "      <td>-103.19</td>\n",
       "    </tr>\n",
       "    <tr>\n",
       "      <th>1</th>\n",
       "      <td>3.9, 18 km al ESTE de  H HUAJUAPAN DE LEON, OAX</td>\n",
       "      <td>&lt;p&gt;Fecha:2022-11-07 15:45:08 (Hora de M&amp;eacute...</td>\n",
       "      <td>http://www2.ssn.unam.mx:8080/jsp/localizacion-...</td>\n",
       "      <td>17.77</td>\n",
       "      <td>-97.61</td>\n",
       "    </tr>\n",
       "    <tr>\n",
       "      <th>2</th>\n",
       "      <td>3.6, 83 km al NORTE de  SANTA ROSALIA, BCS</td>\n",
       "      <td>&lt;p&gt;Fecha:2022-11-07 15:22:55 (Hora de M&amp;eacute...</td>\n",
       "      <td>http://www2.ssn.unam.mx:8080/jsp/localizacion-...</td>\n",
       "      <td>28.09</td>\n",
       "      <td>-112.35</td>\n",
       "    </tr>\n",
       "    <tr>\n",
       "      <th>3</th>\n",
       "      <td>3.8, 83 km al SUR de  COALCOMAN, MICH</td>\n",
       "      <td>&lt;p&gt;Fecha:2022-11-07 15:22:21 (Hora de M&amp;eacute...</td>\n",
       "      <td>http://www2.ssn.unam.mx:8080/jsp/localizacion-...</td>\n",
       "      <td>18.03</td>\n",
       "      <td>-103.3</td>\n",
       "    </tr>\n",
       "    <tr>\n",
       "      <th>4</th>\n",
       "      <td>3.5, 9 km al SUR de  PINOTEPA NACIONAL, OAX</td>\n",
       "      <td>&lt;p&gt;Fecha:2022-11-07 15:06:50 (Hora de M&amp;eacute...</td>\n",
       "      <td>http://www2.ssn.unam.mx:8080/jsp/localizacion-...</td>\n",
       "      <td>16.26</td>\n",
       "      <td>-98.07</td>\n",
       "    </tr>\n",
       "    <tr>\n",
       "      <th>5</th>\n",
       "      <td>4.1, 95 km al SUR de  COALCOMAN, MICH</td>\n",
       "      <td>&lt;p&gt;Fecha:2022-11-07 14:45:42 (Hora de M&amp;eacute...</td>\n",
       "      <td>http://www2.ssn.unam.mx:8080/jsp/localizacion-...</td>\n",
       "      <td>17.92</td>\n",
       "      <td>-103.24</td>\n",
       "    </tr>\n",
       "    <tr>\n",
       "      <th>6</th>\n",
       "      <td>3.4, 27 km al NORESTE de  RIO GRANDE, OAX</td>\n",
       "      <td>&lt;p&gt;Fecha:2022-11-07 14:43:21 (Hora de M&amp;eacute...</td>\n",
       "      <td>http://www2.ssn.unam.mx:8080/jsp/localizacion-...</td>\n",
       "      <td>16.09</td>\n",
       "      <td>-97.2</td>\n",
       "    </tr>\n",
       "    <tr>\n",
       "      <th>7</th>\n",
       "      <td>3.2, 35 km al SUR de  OMETEPEC, GRO</td>\n",
       "      <td>&lt;p&gt;Fecha:2022-11-07 13:53:59 (Hora de M&amp;eacute...</td>\n",
       "      <td>http://www2.ssn.unam.mx:8080/jsp/localizacion-...</td>\n",
       "      <td>16.38</td>\n",
       "      <td>-98.48</td>\n",
       "    </tr>\n",
       "    <tr>\n",
       "      <th>8</th>\n",
       "      <td>3.4, 94 km al SUROESTE de  COALCOMAN, MICH</td>\n",
       "      <td>&lt;p&gt;Fecha:2022-11-07 13:16:22 (Hora de M&amp;eacute...</td>\n",
       "      <td>http://www2.ssn.unam.mx:8080/jsp/localizacion-...</td>\n",
       "      <td>18.0</td>\n",
       "      <td>-103.52</td>\n",
       "    </tr>\n",
       "    <tr>\n",
       "      <th>9</th>\n",
       "      <td>3.3, 64 km al SUR de  COALCOMAN, MICH</td>\n",
       "      <td>&lt;p&gt;Fecha:2022-11-07 12:42:07 (Hora de M&amp;eacute...</td>\n",
       "      <td>http://www2.ssn.unam.mx:8080/jsp/localizacion-...</td>\n",
       "      <td>18.2</td>\n",
       "      <td>-103.23</td>\n",
       "    </tr>\n",
       "    <tr>\n",
       "      <th>10</th>\n",
       "      <td>3.9, 13 km al NOROESTE de  VALENTE DIAZ, VER</td>\n",
       "      <td>&lt;p&gt;Fecha:2022-11-07 12:37:07 (Hora de M&amp;eacute...</td>\n",
       "      <td>http://www2.ssn.unam.mx:8080/jsp/localizacion-...</td>\n",
       "      <td>19.26</td>\n",
       "      <td>-96.26</td>\n",
       "    </tr>\n",
       "    <tr>\n",
       "      <th>11</th>\n",
       "      <td>3.5, 95 km al SUR de  COALCOMAN, MICH</td>\n",
       "      <td>&lt;p&gt;Fecha:2022-11-07 12:19:41 (Hora de M&amp;eacute...</td>\n",
       "      <td>http://www2.ssn.unam.mx:8080/jsp/localizacion-...</td>\n",
       "      <td>17.92</td>\n",
       "      <td>-103.24</td>\n",
       "    </tr>\n",
       "    <tr>\n",
       "      <th>12</th>\n",
       "      <td>3.7, 10 km al NORTE de  GPE VICTORIA(KM.43), BC</td>\n",
       "      <td>&lt;p&gt;Fecha:2022-11-07 11:54:25 (Hora de M&amp;eacute...</td>\n",
       "      <td>http://www2.ssn.unam.mx:8080/jsp/localizacion-...</td>\n",
       "      <td>32.37</td>\n",
       "      <td>-115.12</td>\n",
       "    </tr>\n",
       "    <tr>\n",
       "      <th>13</th>\n",
       "      <td>3.7, 48 km al SURESTE de  SAN FELIPE, BC</td>\n",
       "      <td>&lt;p&gt;Fecha:2022-11-07 11:47:55 (Hora de M&amp;eacute...</td>\n",
       "      <td>http://www2.ssn.unam.mx:8080/jsp/localizacion-...</td>\n",
       "      <td>30.8</td>\n",
       "      <td>-114.41</td>\n",
       "    </tr>\n",
       "    <tr>\n",
       "      <th>14</th>\n",
       "      <td>3.5, 25 km al SUROESTE de  COYUCA DE BENITEZ, GRO</td>\n",
       "      <td>&lt;p&gt;Fecha:2022-11-07 11:29:50 (Hora de M&amp;eacute...</td>\n",
       "      <td>http://www2.ssn.unam.mx:8080/jsp/localizacion-...</td>\n",
       "      <td>16.93</td>\n",
       "      <td>-100.31</td>\n",
       "    </tr>\n",
       "  </tbody>\n",
       "</table>\n",
       "</div>"
      ],
      "text/plain": [
       "                                                title  \\\n",
       "0               3.1, 17 km al SUR de  COALCOMAN, MICH   \n",
       "1     3.9, 18 km al ESTE de  H HUAJUAPAN DE LEON, OAX   \n",
       "2          3.6, 83 km al NORTE de  SANTA ROSALIA, BCS   \n",
       "3               3.8, 83 km al SUR de  COALCOMAN, MICH   \n",
       "4         3.5, 9 km al SUR de  PINOTEPA NACIONAL, OAX   \n",
       "5               4.1, 95 km al SUR de  COALCOMAN, MICH   \n",
       "6           3.4, 27 km al NORESTE de  RIO GRANDE, OAX   \n",
       "7                 3.2, 35 km al SUR de  OMETEPEC, GRO   \n",
       "8          3.4, 94 km al SUROESTE de  COALCOMAN, MICH   \n",
       "9               3.3, 64 km al SUR de  COALCOMAN, MICH   \n",
       "10       3.9, 13 km al NOROESTE de  VALENTE DIAZ, VER   \n",
       "11              3.5, 95 km al SUR de  COALCOMAN, MICH   \n",
       "12    3.7, 10 km al NORTE de  GPE VICTORIA(KM.43), BC   \n",
       "13           3.7, 48 km al SURESTE de  SAN FELIPE, BC   \n",
       "14  3.5, 25 km al SUROESTE de  COYUCA DE BENITEZ, GRO   \n",
       "\n",
       "                                          description  \\\n",
       "0   <p>Fecha:2022-11-07 15:49:23 (Hora de M&eacute...   \n",
       "1   <p>Fecha:2022-11-07 15:45:08 (Hora de M&eacute...   \n",
       "2   <p>Fecha:2022-11-07 15:22:55 (Hora de M&eacute...   \n",
       "3   <p>Fecha:2022-11-07 15:22:21 (Hora de M&eacute...   \n",
       "4   <p>Fecha:2022-11-07 15:06:50 (Hora de M&eacute...   \n",
       "5   <p>Fecha:2022-11-07 14:45:42 (Hora de M&eacute...   \n",
       "6   <p>Fecha:2022-11-07 14:43:21 (Hora de M&eacute...   \n",
       "7   <p>Fecha:2022-11-07 13:53:59 (Hora de M&eacute...   \n",
       "8   <p>Fecha:2022-11-07 13:16:22 (Hora de M&eacute...   \n",
       "9   <p>Fecha:2022-11-07 12:42:07 (Hora de M&eacute...   \n",
       "10  <p>Fecha:2022-11-07 12:37:07 (Hora de M&eacute...   \n",
       "11  <p>Fecha:2022-11-07 12:19:41 (Hora de M&eacute...   \n",
       "12  <p>Fecha:2022-11-07 11:54:25 (Hora de M&eacute...   \n",
       "13  <p>Fecha:2022-11-07 11:47:55 (Hora de M&eacute...   \n",
       "14  <p>Fecha:2022-11-07 11:29:50 (Hora de M&eacute...   \n",
       "\n",
       "                                                 link geo:lat geo:long  \n",
       "0   http://www2.ssn.unam.mx:8080/jsp/localizacion-...   18.63  -103.19  \n",
       "1   http://www2.ssn.unam.mx:8080/jsp/localizacion-...   17.77   -97.61  \n",
       "2   http://www2.ssn.unam.mx:8080/jsp/localizacion-...   28.09  -112.35  \n",
       "3   http://www2.ssn.unam.mx:8080/jsp/localizacion-...   18.03   -103.3  \n",
       "4   http://www2.ssn.unam.mx:8080/jsp/localizacion-...   16.26   -98.07  \n",
       "5   http://www2.ssn.unam.mx:8080/jsp/localizacion-...   17.92  -103.24  \n",
       "6   http://www2.ssn.unam.mx:8080/jsp/localizacion-...   16.09    -97.2  \n",
       "7   http://www2.ssn.unam.mx:8080/jsp/localizacion-...   16.38   -98.48  \n",
       "8   http://www2.ssn.unam.mx:8080/jsp/localizacion-...    18.0  -103.52  \n",
       "9   http://www2.ssn.unam.mx:8080/jsp/localizacion-...    18.2  -103.23  \n",
       "10  http://www2.ssn.unam.mx:8080/jsp/localizacion-...   19.26   -96.26  \n",
       "11  http://www2.ssn.unam.mx:8080/jsp/localizacion-...   17.92  -103.24  \n",
       "12  http://www2.ssn.unam.mx:8080/jsp/localizacion-...   32.37  -115.12  \n",
       "13  http://www2.ssn.unam.mx:8080/jsp/localizacion-...    30.8  -114.41  \n",
       "14  http://www2.ssn.unam.mx:8080/jsp/localizacion-...   16.93  -100.31  "
      ]
     },
     "execution_count": 40,
     "metadata": {},
     "output_type": "execute_result"
    }
   ],
   "source": [
    "pd.DataFrame(unam['rss']['channel']['item'])"
   ]
  },
  {
   "cell_type": "markdown",
   "metadata": {},
   "source": [
    "Como vemos, los datos no están organizados como nos gustaría. Procedemos a un ejemplo de transformación de los datos.\n",
    "\n"
   ]
  },
  {
   "cell_type": "markdown",
   "metadata": {},
   "source": [
    "**Ejemplo Extraer-Transformar de manera funcional:**"
   ]
  },
  {
   "cell_type": "code",
   "execution_count": 42,
   "metadata": {},
   "outputs": [],
   "source": [
    "# funcion para extraer el dictio del xml\n",
    "\n",
    "\n",
    "def get_xml():\n",
    "    \n",
    "    url='http://www.ssn.unam.mx/rss/ultimos-sismos.xml'\n",
    "\n",
    "    data=req.get(url).text\n",
    "\n",
    "    unam=xmltodict.parse(data)\n",
    "    \n",
    "    return unam"
   ]
  },
  {
   "cell_type": "code",
   "execution_count": 49,
   "metadata": {},
   "outputs": [],
   "source": [
    "# limpiar\n",
    "\n",
    "def get_clean_data():\n",
    "    \n",
    "    dictio=get_xml()\n",
    "    \n",
    "    res=[]\n",
    "    \n",
    "    for item in dictio['rss']['channel']['item']:\n",
    "        \n",
    "        link=item['link']\n",
    "        \n",
    "        raw_data=link.split('?')[1].split('&')[:-1]\n",
    "        \n",
    "        data=[d.split('=') for d in raw_data]\n",
    "        \n",
    "        data={k:v for k,v in data}\n",
    "        \n",
    "        res.append(data)\n",
    "        \n",
    "    \n",
    "    return res"
   ]
  },
  {
   "cell_type": "code",
   "execution_count": 51,
   "metadata": {},
   "outputs": [],
   "source": [
    "sismos=pd.DataFrame(get_clean_data())"
   ]
  },
  {
   "cell_type": "code",
   "execution_count": 52,
   "metadata": {},
   "outputs": [
    {
     "data": {
      "text/html": [
       "<div>\n",
       "<style scoped>\n",
       "    .dataframe tbody tr th:only-of-type {\n",
       "        vertical-align: middle;\n",
       "    }\n",
       "\n",
       "    .dataframe tbody tr th {\n",
       "        vertical-align: top;\n",
       "    }\n",
       "\n",
       "    .dataframe thead th {\n",
       "        text-align: right;\n",
       "    }\n",
       "</style>\n",
       "<table border=\"1\" class=\"dataframe\">\n",
       "  <thead>\n",
       "    <tr style=\"text-align: right;\">\n",
       "      <th></th>\n",
       "      <th>latitud</th>\n",
       "      <th>longitud</th>\n",
       "      <th>prf</th>\n",
       "      <th>ma</th>\n",
       "      <th>fecha</th>\n",
       "      <th>hora</th>\n",
       "      <th>loc</th>\n",
       "    </tr>\n",
       "  </thead>\n",
       "  <tbody>\n",
       "    <tr>\n",
       "      <th>0</th>\n",
       "      <td>18.63</td>\n",
       "      <td>-103.19</td>\n",
       "      <td>5.0 km</td>\n",
       "      <td>3.1</td>\n",
       "      <td>2022-11-07</td>\n",
       "      <td>15:49:23</td>\n",
       "      <td>17 km al SUR de  COALCOMAN, MICH</td>\n",
       "    </tr>\n",
       "    <tr>\n",
       "      <th>1</th>\n",
       "      <td>17.77</td>\n",
       "      <td>-97.61</td>\n",
       "      <td>58.0 km</td>\n",
       "      <td>3.9</td>\n",
       "      <td>2022-11-07</td>\n",
       "      <td>15:45:08</td>\n",
       "      <td>18 km al ESTE de  H HUAJUAPAN DE LEON, OAX</td>\n",
       "    </tr>\n",
       "    <tr>\n",
       "      <th>2</th>\n",
       "      <td>28.09</td>\n",
       "      <td>-112.35</td>\n",
       "      <td>10.0 km</td>\n",
       "      <td>3.6</td>\n",
       "      <td>2022-11-07</td>\n",
       "      <td>15:22:55</td>\n",
       "      <td>83 km al NORTE de  SANTA ROSALIA, BCS</td>\n",
       "    </tr>\n",
       "    <tr>\n",
       "      <th>3</th>\n",
       "      <td>18.03</td>\n",
       "      <td>-103.3</td>\n",
       "      <td>9.0 km</td>\n",
       "      <td>3.8</td>\n",
       "      <td>2022-11-07</td>\n",
       "      <td>15:22:21</td>\n",
       "      <td>83 km al SUR de  COALCOMAN, MICH</td>\n",
       "    </tr>\n",
       "    <tr>\n",
       "      <th>4</th>\n",
       "      <td>16.26</td>\n",
       "      <td>-98.07</td>\n",
       "      <td>14.0 km</td>\n",
       "      <td>3.5</td>\n",
       "      <td>2022-11-07</td>\n",
       "      <td>15:06:50</td>\n",
       "      <td>9 km al SUR de  PINOTEPA NACIONAL, OAX</td>\n",
       "    </tr>\n",
       "    <tr>\n",
       "      <th>5</th>\n",
       "      <td>17.92</td>\n",
       "      <td>-103.24</td>\n",
       "      <td>3.0 km</td>\n",
       "      <td>4.1</td>\n",
       "      <td>2022-11-07</td>\n",
       "      <td>14:45:42</td>\n",
       "      <td>95 km al SUR de  COALCOMAN, MICH</td>\n",
       "    </tr>\n",
       "    <tr>\n",
       "      <th>6</th>\n",
       "      <td>16.09</td>\n",
       "      <td>-97.2</td>\n",
       "      <td>27.0 km</td>\n",
       "      <td>3.4</td>\n",
       "      <td>2022-11-07</td>\n",
       "      <td>14:43:21</td>\n",
       "      <td>27 km al NORESTE de  RIO GRANDE, OAX</td>\n",
       "    </tr>\n",
       "    <tr>\n",
       "      <th>7</th>\n",
       "      <td>16.38</td>\n",
       "      <td>-98.48</td>\n",
       "      <td>5.0 km</td>\n",
       "      <td>3.2</td>\n",
       "      <td>2022-11-07</td>\n",
       "      <td>13:53:59</td>\n",
       "      <td>35 km al SUR de  OMETEPEC, GRO</td>\n",
       "    </tr>\n",
       "    <tr>\n",
       "      <th>8</th>\n",
       "      <td>18.0</td>\n",
       "      <td>-103.52</td>\n",
       "      <td>5.0 km</td>\n",
       "      <td>3.4</td>\n",
       "      <td>2022-11-07</td>\n",
       "      <td>13:16:22</td>\n",
       "      <td>94 km al SUROESTE de  COALCOMAN, MICH</td>\n",
       "    </tr>\n",
       "    <tr>\n",
       "      <th>9</th>\n",
       "      <td>18.2</td>\n",
       "      <td>-103.23</td>\n",
       "      <td>11.0 km</td>\n",
       "      <td>3.3</td>\n",
       "      <td>2022-11-07</td>\n",
       "      <td>12:42:07</td>\n",
       "      <td>64 km al SUR de  COALCOMAN, MICH</td>\n",
       "    </tr>\n",
       "    <tr>\n",
       "      <th>10</th>\n",
       "      <td>19.26</td>\n",
       "      <td>-96.26</td>\n",
       "      <td>12.0 km</td>\n",
       "      <td>3.9</td>\n",
       "      <td>2022-11-07</td>\n",
       "      <td>12:37:07</td>\n",
       "      <td>13 km al NOROESTE de  VALENTE DIAZ, VER</td>\n",
       "    </tr>\n",
       "    <tr>\n",
       "      <th>11</th>\n",
       "      <td>17.92</td>\n",
       "      <td>-103.24</td>\n",
       "      <td>9.0 km</td>\n",
       "      <td>3.5</td>\n",
       "      <td>2022-11-07</td>\n",
       "      <td>12:19:41</td>\n",
       "      <td>95 km al SUR de  COALCOMAN, MICH</td>\n",
       "    </tr>\n",
       "    <tr>\n",
       "      <th>12</th>\n",
       "      <td>32.37</td>\n",
       "      <td>-115.12</td>\n",
       "      <td>6.0 km</td>\n",
       "      <td>3.7</td>\n",
       "      <td>2022-11-07</td>\n",
       "      <td>11:54:25</td>\n",
       "      <td>10 km al NORTE de  GPE VICTORIA(KM.43), BC</td>\n",
       "    </tr>\n",
       "    <tr>\n",
       "      <th>13</th>\n",
       "      <td>30.8</td>\n",
       "      <td>-114.41</td>\n",
       "      <td>2.0 km</td>\n",
       "      <td>3.7</td>\n",
       "      <td>2022-11-07</td>\n",
       "      <td>11:47:55</td>\n",
       "      <td>48 km al SURESTE de  SAN FELIPE, BC</td>\n",
       "    </tr>\n",
       "    <tr>\n",
       "      <th>14</th>\n",
       "      <td>16.93</td>\n",
       "      <td>-100.31</td>\n",
       "      <td>9.0 km</td>\n",
       "      <td>3.5</td>\n",
       "      <td>2022-11-07</td>\n",
       "      <td>11:29:50</td>\n",
       "      <td>25 km al SUROESTE de  COYUCA DE BENITEZ, GRO</td>\n",
       "    </tr>\n",
       "  </tbody>\n",
       "</table>\n",
       "</div>"
      ],
      "text/plain": [
       "   latitud longitud      prf   ma       fecha      hora  \\\n",
       "0    18.63  -103.19   5.0 km  3.1  2022-11-07  15:49:23   \n",
       "1    17.77   -97.61  58.0 km  3.9  2022-11-07  15:45:08   \n",
       "2    28.09  -112.35  10.0 km  3.6  2022-11-07  15:22:55   \n",
       "3    18.03   -103.3   9.0 km  3.8  2022-11-07  15:22:21   \n",
       "4    16.26   -98.07  14.0 km  3.5  2022-11-07  15:06:50   \n",
       "5    17.92  -103.24   3.0 km  4.1  2022-11-07  14:45:42   \n",
       "6    16.09    -97.2  27.0 km  3.4  2022-11-07  14:43:21   \n",
       "7    16.38   -98.48   5.0 km  3.2  2022-11-07  13:53:59   \n",
       "8     18.0  -103.52   5.0 km  3.4  2022-11-07  13:16:22   \n",
       "9     18.2  -103.23  11.0 km  3.3  2022-11-07  12:42:07   \n",
       "10   19.26   -96.26  12.0 km  3.9  2022-11-07  12:37:07   \n",
       "11   17.92  -103.24   9.0 km  3.5  2022-11-07  12:19:41   \n",
       "12   32.37  -115.12   6.0 km  3.7  2022-11-07  11:54:25   \n",
       "13    30.8  -114.41   2.0 km  3.7  2022-11-07  11:47:55   \n",
       "14   16.93  -100.31   9.0 km  3.5  2022-11-07  11:29:50   \n",
       "\n",
       "                                              loc  \n",
       "0               17 km al SUR de  COALCOMAN, MICH   \n",
       "1     18 km al ESTE de  H HUAJUAPAN DE LEON, OAX   \n",
       "2          83 km al NORTE de  SANTA ROSALIA, BCS   \n",
       "3               83 km al SUR de  COALCOMAN, MICH   \n",
       "4         9 km al SUR de  PINOTEPA NACIONAL, OAX   \n",
       "5               95 km al SUR de  COALCOMAN, MICH   \n",
       "6           27 km al NORESTE de  RIO GRANDE, OAX   \n",
       "7                 35 km al SUR de  OMETEPEC, GRO   \n",
       "8          94 km al SUROESTE de  COALCOMAN, MICH   \n",
       "9               64 km al SUR de  COALCOMAN, MICH   \n",
       "10       13 km al NOROESTE de  VALENTE DIAZ, VER   \n",
       "11              95 km al SUR de  COALCOMAN, MICH   \n",
       "12    10 km al NORTE de  GPE VICTORIA(KM.43), BC   \n",
       "13           48 km al SURESTE de  SAN FELIPE, BC   \n",
       "14  25 km al SUROESTE de  COYUCA DE BENITEZ, GRO   "
      ]
     },
     "execution_count": 52,
     "metadata": {},
     "output_type": "execute_result"
    }
   ],
   "source": [
    "sismos"
   ]
  },
  {
   "cell_type": "code",
   "execution_count": 53,
   "metadata": {},
   "outputs": [
    {
     "name": "stdout",
     "output_type": "stream",
     "text": [
      "<class 'pandas.core.frame.DataFrame'>\n",
      "RangeIndex: 15 entries, 0 to 14\n",
      "Data columns (total 7 columns):\n",
      " #   Column    Non-Null Count  Dtype \n",
      "---  ------    --------------  ----- \n",
      " 0   latitud   15 non-null     object\n",
      " 1   longitud  15 non-null     object\n",
      " 2   prf       15 non-null     object\n",
      " 3   ma        15 non-null     object\n",
      " 4   fecha     15 non-null     object\n",
      " 5   hora      15 non-null     object\n",
      " 6   loc       15 non-null     object\n",
      "dtypes: object(7)\n",
      "memory usage: 968.0+ bytes\n"
     ]
    }
   ],
   "source": [
    "sismos.info()"
   ]
  },
  {
   "cell_type": "code",
   "execution_count": 54,
   "metadata": {
    "scrolled": false
   },
   "outputs": [
    {
     "data": {
      "text/plain": [
       "{'@version': '2.0',\n",
       " '@xmlns:geo': 'http://www.w3.org/2003/01/geo/wgs84_pos#',\n",
       " 'channel': {'title': 'Últimos sismos registrados por el SSN',\n",
       "  'link': 'http://www.ssn.unam.mx',\n",
       "  'description': 'Reporte de los últimos sismos en México',\n",
       "  'item': [{'title': '3.1, 17 km al SUR de  COALCOMAN, MICH',\n",
       "    'description': '<p>Fecha:2022-11-07 15:49:23 (Hora de M&eacute;xico)<br/>Lat/Lon: 18.63/-103.19<br/>Profundidad: 5.0 km </p>',\n",
       "    'link': 'http://www2.ssn.unam.mx:8080/jsp/localizacion-de-sismo.jsp?latitud=18.63&longitud=-103.19&prf=5.0 km&ma=3.1&fecha=2022-11-07&hora=15:49:23&loc=17 km al SUR de  COALCOMAN, MICH &evento=1',\n",
       "    'geo:lat': '18.63',\n",
       "    'geo:long': '-103.19'},\n",
       "   {'title': '3.9, 18 km al ESTE de  H HUAJUAPAN DE LEON, OAX',\n",
       "    'description': '<p>Fecha:2022-11-07 15:45:08 (Hora de M&eacute;xico)<br/>Lat/Lon: 17.77/-97.61<br/>Profundidad: 58.0 km </p>',\n",
       "    'link': 'http://www2.ssn.unam.mx:8080/jsp/localizacion-de-sismo.jsp?latitud=17.77&longitud=-97.61&prf=58.0 km&ma=3.9&fecha=2022-11-07&hora=15:45:08&loc=18 km al ESTE de  H HUAJUAPAN DE LEON, OAX &evento=1',\n",
       "    'geo:lat': '17.77',\n",
       "    'geo:long': '-97.61'},\n",
       "   {'title': '3.6, 83 km al NORTE de  SANTA ROSALIA, BCS',\n",
       "    'description': '<p>Fecha:2022-11-07 15:22:55 (Hora de M&eacute;xico)<br/>Lat/Lon: 28.09/-112.35<br/>Profundidad: 10.0 km </p>',\n",
       "    'link': 'http://www2.ssn.unam.mx:8080/jsp/localizacion-de-sismo.jsp?latitud=28.09&longitud=-112.35&prf=10.0 km&ma=3.6&fecha=2022-11-07&hora=15:22:55&loc=83 km al NORTE de  SANTA ROSALIA, BCS &evento=1',\n",
       "    'geo:lat': '28.09',\n",
       "    'geo:long': '-112.35'},\n",
       "   {'title': '3.8, 83 km al SUR de  COALCOMAN, MICH',\n",
       "    'description': '<p>Fecha:2022-11-07 15:22:21 (Hora de M&eacute;xico)<br/>Lat/Lon: 18.03/-103.3<br/>Profundidad: 9.0 km </p>',\n",
       "    'link': 'http://www2.ssn.unam.mx:8080/jsp/localizacion-de-sismo.jsp?latitud=18.03&longitud=-103.3&prf=9.0 km&ma=3.8&fecha=2022-11-07&hora=15:22:21&loc=83 km al SUR de  COALCOMAN, MICH &evento=1',\n",
       "    'geo:lat': '18.03',\n",
       "    'geo:long': '-103.3'},\n",
       "   {'title': '3.5, 9 km al SUR de  PINOTEPA NACIONAL, OAX',\n",
       "    'description': '<p>Fecha:2022-11-07 15:06:50 (Hora de M&eacute;xico)<br/>Lat/Lon: 16.26/-98.07<br/>Profundidad: 14.0 km </p>',\n",
       "    'link': 'http://www2.ssn.unam.mx:8080/jsp/localizacion-de-sismo.jsp?latitud=16.26&longitud=-98.07&prf=14.0 km&ma=3.5&fecha=2022-11-07&hora=15:06:50&loc=9 km al SUR de  PINOTEPA NACIONAL, OAX &evento=1',\n",
       "    'geo:lat': '16.26',\n",
       "    'geo:long': '-98.07'},\n",
       "   {'title': '4.1, 95 km al SUR de  COALCOMAN, MICH',\n",
       "    'description': '<p>Fecha:2022-11-07 14:45:42 (Hora de M&eacute;xico)<br/>Lat/Lon: 17.92/-103.24<br/>Profundidad: 3.0 km </p>',\n",
       "    'link': 'http://www2.ssn.unam.mx:8080/jsp/localizacion-de-sismo.jsp?latitud=17.92&longitud=-103.24&prf=3.0 km&ma=4.1&fecha=2022-11-07&hora=14:45:42&loc=95 km al SUR de  COALCOMAN, MICH &evento=1',\n",
       "    'geo:lat': '17.92',\n",
       "    'geo:long': '-103.24'},\n",
       "   {'title': '3.4, 27 km al NORESTE de  RIO GRANDE, OAX',\n",
       "    'description': '<p>Fecha:2022-11-07 14:43:21 (Hora de M&eacute;xico)<br/>Lat/Lon: 16.09/-97.2<br/>Profundidad: 27.0 km </p>',\n",
       "    'link': 'http://www2.ssn.unam.mx:8080/jsp/localizacion-de-sismo.jsp?latitud=16.09&longitud=-97.2&prf=27.0 km&ma=3.4&fecha=2022-11-07&hora=14:43:21&loc=27 km al NORESTE de  RIO GRANDE, OAX &evento=1',\n",
       "    'geo:lat': '16.09',\n",
       "    'geo:long': '-97.2'},\n",
       "   {'title': '3.2, 35 km al SUR de  OMETEPEC, GRO',\n",
       "    'description': '<p>Fecha:2022-11-07 13:53:59 (Hora de M&eacute;xico)<br/>Lat/Lon: 16.38/-98.48<br/>Profundidad: 5.0 km </p>',\n",
       "    'link': 'http://www2.ssn.unam.mx:8080/jsp/localizacion-de-sismo.jsp?latitud=16.38&longitud=-98.48&prf=5.0 km&ma=3.2&fecha=2022-11-07&hora=13:53:59&loc=35 km al SUR de  OMETEPEC, GRO &evento=1',\n",
       "    'geo:lat': '16.38',\n",
       "    'geo:long': '-98.48'},\n",
       "   {'title': '3.4, 94 km al SUROESTE de  COALCOMAN, MICH',\n",
       "    'description': '<p>Fecha:2022-11-07 13:16:22 (Hora de M&eacute;xico)<br/>Lat/Lon: 18.0/-103.52<br/>Profundidad: 5.0 km </p>',\n",
       "    'link': 'http://www2.ssn.unam.mx:8080/jsp/localizacion-de-sismo.jsp?latitud=18.0&longitud=-103.52&prf=5.0 km&ma=3.4&fecha=2022-11-07&hora=13:16:22&loc=94 km al SUROESTE de  COALCOMAN, MICH &evento=1',\n",
       "    'geo:lat': '18.0',\n",
       "    'geo:long': '-103.52'},\n",
       "   {'title': '3.3, 64 km al SUR de  COALCOMAN, MICH',\n",
       "    'description': '<p>Fecha:2022-11-07 12:42:07 (Hora de M&eacute;xico)<br/>Lat/Lon: 18.2/-103.23<br/>Profundidad: 11.0 km </p>',\n",
       "    'link': 'http://www2.ssn.unam.mx:8080/jsp/localizacion-de-sismo.jsp?latitud=18.2&longitud=-103.23&prf=11.0 km&ma=3.3&fecha=2022-11-07&hora=12:42:07&loc=64 km al SUR de  COALCOMAN, MICH &evento=1',\n",
       "    'geo:lat': '18.2',\n",
       "    'geo:long': '-103.23'},\n",
       "   {'title': '3.9, 13 km al NOROESTE de  VALENTE DIAZ, VER',\n",
       "    'description': '<p>Fecha:2022-11-07 12:37:07 (Hora de M&eacute;xico)<br/>Lat/Lon: 19.26/-96.26<br/>Profundidad: 12.0 km </p>',\n",
       "    'link': 'http://www2.ssn.unam.mx:8080/jsp/localizacion-de-sismo.jsp?latitud=19.26&longitud=-96.26&prf=12.0 km&ma=3.9&fecha=2022-11-07&hora=12:37:07&loc=13 km al NOROESTE de  VALENTE DIAZ, VER &evento=1',\n",
       "    'geo:lat': '19.26',\n",
       "    'geo:long': '-96.26'},\n",
       "   {'title': '3.5, 95 km al SUR de  COALCOMAN, MICH',\n",
       "    'description': '<p>Fecha:2022-11-07 12:19:41 (Hora de M&eacute;xico)<br/>Lat/Lon: 17.92/-103.24<br/>Profundidad: 9.0 km </p>',\n",
       "    'link': 'http://www2.ssn.unam.mx:8080/jsp/localizacion-de-sismo.jsp?latitud=17.92&longitud=-103.24&prf=9.0 km&ma=3.5&fecha=2022-11-07&hora=12:19:41&loc=95 km al SUR de  COALCOMAN, MICH &evento=1',\n",
       "    'geo:lat': '17.92',\n",
       "    'geo:long': '-103.24'},\n",
       "   {'title': '3.7, 10 km al NORTE de  GPE VICTORIA(KM.43), BC',\n",
       "    'description': '<p>Fecha:2022-11-07 11:54:25 (Hora de M&eacute;xico)<br/>Lat/Lon: 32.37/-115.12<br/>Profundidad: 6.0 km </p>',\n",
       "    'link': 'http://www2.ssn.unam.mx:8080/jsp/localizacion-de-sismo.jsp?latitud=32.37&longitud=-115.12&prf=6.0 km&ma=3.7&fecha=2022-11-07&hora=11:54:25&loc=10 km al NORTE de  GPE VICTORIA(KM.43), BC &evento=1',\n",
       "    'geo:lat': '32.37',\n",
       "    'geo:long': '-115.12'},\n",
       "   {'title': '3.7, 48 km al SURESTE de  SAN FELIPE, BC',\n",
       "    'description': '<p>Fecha:2022-11-07 11:47:55 (Hora de M&eacute;xico)<br/>Lat/Lon: 30.8/-114.41<br/>Profundidad: 2.0 km </p>',\n",
       "    'link': 'http://www2.ssn.unam.mx:8080/jsp/localizacion-de-sismo.jsp?latitud=30.8&longitud=-114.41&prf=2.0 km&ma=3.7&fecha=2022-11-07&hora=11:47:55&loc=48 km al SURESTE de  SAN FELIPE, BC &evento=1',\n",
       "    'geo:lat': '30.8',\n",
       "    'geo:long': '-114.41'},\n",
       "   {'title': '3.5, 25 km al SUROESTE de  COYUCA DE BENITEZ, GRO',\n",
       "    'description': '<p>Fecha:2022-11-07 11:29:50 (Hora de M&eacute;xico)<br/>Lat/Lon: 16.93/-100.31<br/>Profundidad: 9.0 km </p>',\n",
       "    'link': 'http://www2.ssn.unam.mx:8080/jsp/localizacion-de-sismo.jsp?latitud=16.93&longitud=-100.31&prf=9.0 km&ma=3.5&fecha=2022-11-07&hora=11:29:50&loc=25 km al SUROESTE de  COYUCA DE BENITEZ, GRO &evento=1',\n",
       "    'geo:lat': '16.93',\n",
       "    'geo:long': '-100.31'}]}}"
      ]
     },
     "execution_count": 54,
     "metadata": {},
     "output_type": "execute_result"
    }
   ],
   "source": [
    "unam['rss']"
   ]
  },
  {
   "cell_type": "code",
   "execution_count": null,
   "metadata": {},
   "outputs": [],
   "source": []
  }
 ],
 "metadata": {
  "kernelspec": {
   "display_name": "prueba",
   "language": "python",
   "name": "prueba"
  },
  "language_info": {
   "codemirror_mode": {
    "name": "ipython",
    "version": 3
   },
   "file_extension": ".py",
   "mimetype": "text/x-python",
   "name": "python",
   "nbconvert_exporter": "python",
   "pygments_lexer": "ipython3",
   "version": "3.7.13"
  }
 },
 "nbformat": 4,
 "nbformat_minor": 4
}

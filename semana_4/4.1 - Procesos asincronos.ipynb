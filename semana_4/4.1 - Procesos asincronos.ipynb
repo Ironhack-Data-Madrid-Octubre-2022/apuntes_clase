{
 "cells": [
  {
   "cell_type": "markdown",
   "metadata": {},
   "source": [
    "# 4.1 - Procesos asíncronos\n",
    "\n",
    "\n",
    "![async](images/async.png)\n",
    "\n",
    "\n",
    "\n",
    "\n",
    "**[Documentación](https://docs.python.org/3/library/asyncio.html)**\n",
    "\n",
    "\n",
    "**asyncio** es una biblioteca para escribir código [concurrente](https://es.wikipedia.org/wiki/Concurrencia_(inform%C3%A1tica)) utilizando la sintaxis async/await. Se utiliza como base en múltiples frameworks asíncronos de Python y provee un alto rendimiento en redes y servidores web, bibliotecas de conexión de base de datos, colas de tareas distribuidas, etc.\n",
    "\n",
    "Suele encajar perfectamente para operaciones con límite de E/S y código de red estructurado de alto nivel. Además provee un conjunto de APIs de alto nivel para:\n",
    "\n",
    "+ ejecutar corutinas de Python de manera concurrente y tener control total sobre su ejecución\n",
    "\n",
    "+ realizar redes E/S y comunicación entre procesos(IPC)\n",
    "\n",
    "+ controlar subprocesos\n",
    "\n",
    "+ distribuir tareas a través de colas\n",
    "\n",
    "+ sincronizar código concurrente\n",
    "\n",
    "Adicionalmente, existen APIs de bajo nivel para desarrolladores de bibliotecas y frameworks para:\n",
    "\n",
    "+ crear y administrar bucles de eventos, los cuales proveen APIs asíncronas para redes, ejecutando subprocesos, gestionando señales del sistema operativo, etc..\n",
    "\n",
    "+ implementar protocolos eficientes utilizando transportes\n",
    "\n",
    "+ bibliotecas puente basadas en retrollamadas y código con sintaxis async/wait\n",
    "\n",
    "$$$$\n",
    "\n",
    "Nosotros nos enfocaremos en el uso de bucles de eventos para la extracción de datos de la web.\n"
   ]
  },
  {
   "cell_type": "markdown",
   "metadata": {},
   "source": [
    "### Hola Mundo"
   ]
  },
  {
   "cell_type": "code",
   "execution_count": 1,
   "metadata": {},
   "outputs": [
    {
     "name": "stdout",
     "output_type": "stream",
     "text": [
      "Holaaa...\n",
      "pero que pashhhaaa...\n"
     ]
    }
   ],
   "source": [
    "import asyncio\n",
    "\n",
    "# funcion asincrona\n",
    "async def saludar():\n",
    "    print('Holaaa...')\n",
    "    \n",
    "    await asyncio.sleep(3)\n",
    "    \n",
    "    print('pero que pashhhaaa...')\n",
    "    \n",
    "    \n",
    "await saludar()           # en jupyter\n",
    "#asyncio.run(saludar())   # en un .py"
   ]
  },
  {
   "cell_type": "markdown",
   "metadata": {},
   "source": [
    "### Ejemplo response\n",
    "\n",
    "Comprobando la respuesta de tres urls."
   ]
  },
  {
   "cell_type": "code",
   "execution_count": 2,
   "metadata": {},
   "outputs": [],
   "source": [
    "import requests as req"
   ]
  },
  {
   "cell_type": "code",
   "execution_count": 3,
   "metadata": {},
   "outputs": [
    {
     "data": {
      "text/plain": [
       "<Response [200]>"
      ]
     },
     "execution_count": 3,
     "metadata": {},
     "output_type": "execute_result"
    }
   ],
   "source": [
    "url='https://s3-eu-west-1.amazonaws.com/'\n",
    "\n",
    "req.get(url)"
   ]
  },
  {
   "cell_type": "code",
   "execution_count": 4,
   "metadata": {},
   "outputs": [],
   "source": [
    "urls=[\n",
    "    'https://s3-eu-west-1.amazonaws.com/ih-materials/uploads/data-static/documents/breakfast.jpg',\n",
    "    'https://s3-eu-west-1.amazonaws.com/ih-materials/uploads/data-static/documents/forbidden',\n",
    "    'https://s3-eu-west-1.amazonaws.com/ih-materials/uploads/data-static/documents/the-html5-breakfast-site.html'\n",
    "]"
   ]
  },
  {
   "cell_type": "code",
   "execution_count": 5,
   "metadata": {},
   "outputs": [
    {
     "name": "stdout",
     "output_type": "stream",
     "text": [
      "<Response [200]>\n",
      "<Response [403]>\n",
      "<Response [200]>\n"
     ]
    }
   ],
   "source": [
    "for url in urls:   # de una en una\n",
    "    print(req.get(url))"
   ]
  },
  {
   "cell_type": "code",
   "execution_count": 6,
   "metadata": {},
   "outputs": [
    {
     "name": "stdout",
     "output_type": "stream",
     "text": [
      "200\n",
      "403\n",
      "200\n"
     ]
    }
   ],
   "source": [
    "# asincrone\n",
    "\n",
    "\n",
    "async def comprobar():\n",
    "    \n",
    "    bucle=asyncio.get_event_loop()   # bucle asincrona\n",
    "    \n",
    "    futuros=[]\n",
    "    \n",
    "    for url in urls:\n",
    "        \n",
    "        promesa=bucle.run_in_executor(None, req.get, url)\n",
    "        \n",
    "        futuros.append(promesa)\n",
    "        \n",
    "    for res in await asyncio.gather(*futuros):  # aqui se los pido, los response\n",
    "        print(res.status_code)\n",
    "        \n",
    "        \n",
    "await comprobar()"
   ]
  },
  {
   "cell_type": "markdown",
   "metadata": {},
   "source": [
    "### Ejemplo ESPN\n",
    "\n",
    "Volvamos al ejemplo de scrapeo de la págine de ESPN. Vamos a realizar múltiples requests para obtener los datos de todos los equipos.\n",
    "\n",
    "\n",
    "https://www.espn.com/soccer/competitions"
   ]
  },
  {
   "cell_type": "code",
   "execution_count": 7,
   "metadata": {},
   "outputs": [],
   "source": [
    "from selenium import webdriver\n",
    "from selenium.webdriver.common.by import By\n",
    "\n",
    "import time\n",
    "\n",
    "import pandas as pd\n",
    "\n",
    "from webdriver_manager.chrome import ChromeDriverManager\n",
    "\n",
    "PATH=ChromeDriverManager().install()\n",
    "\n",
    "import warnings\n",
    "warnings.filterwarnings('ignore')"
   ]
  },
  {
   "cell_type": "code",
   "execution_count": 8,
   "metadata": {},
   "outputs": [],
   "source": [
    "url='https://www.espn.com/soccer/competitions'"
   ]
  },
  {
   "cell_type": "code",
   "execution_count": 9,
   "metadata": {},
   "outputs": [],
   "source": [
    "driver=webdriver.Chrome(PATH)\n",
    "\n",
    "driver.get(url)\n",
    "\n",
    "# cookies\n",
    "aceptar=driver.find_element(By.XPATH, '//*[@id=\"onetrust-accept-btn-handler\"]')\n",
    "aceptar.click()\n",
    "\n",
    "time.sleep(4)\n",
    "\n",
    "# selecciona equipos laliga\n",
    "equipos=driver.find_element(By.XPATH, '//*[@id=\"fittPageContainer\"]/div[3]/div/div[1]/div/div[2]/div[2]/div/div[4]/div/section/div/div/span[2]/a')\n",
    "equipos.click()\n",
    "\n",
    "time.sleep(2)"
   ]
  },
  {
   "cell_type": "code",
   "execution_count": 10,
   "metadata": {},
   "outputs": [
    {
     "data": {
      "text/plain": [
       "['https://www.espn.com/soccer/team/stats/_/id/6832/almeria',\n",
       " 'https://www.espn.com/soccer/team/stats/_/id/93/athletic-club',\n",
       " 'https://www.espn.com/soccer/team/stats/_/id/1068/atletico-madrid',\n",
       " 'https://www.espn.com/soccer/team/stats/_/id/83/barcelona',\n",
       " 'https://www.espn.com/soccer/team/stats/_/id/85/celta-vigo',\n",
       " 'https://www.espn.com/soccer/team/stats/_/id/3842/cadiz',\n",
       " 'https://www.espn.com/soccer/team/stats/_/id/3751/elche',\n",
       " 'https://www.espn.com/soccer/team/stats/_/id/88/espanyol',\n",
       " 'https://www.espn.com/soccer/team/stats/_/id/2922/getafe',\n",
       " 'https://www.espn.com/soccer/team/stats/_/id/9812/girona',\n",
       " 'https://www.espn.com/soccer/team/stats/_/id/84/mallorca',\n",
       " 'https://www.espn.com/soccer/team/stats/_/id/97/osasuna',\n",
       " 'https://www.espn.com/soccer/team/stats/_/id/101/rayo-vallecano',\n",
       " 'https://www.espn.com/soccer/team/stats/_/id/244/real-betis',\n",
       " 'https://www.espn.com/soccer/team/stats/_/id/86/real-madrid',\n",
       " 'https://www.espn.com/soccer/team/stats/_/id/89/real-sociedad',\n",
       " 'https://www.espn.com/soccer/team/stats/_/id/95/real-valladolid',\n",
       " 'https://www.espn.com/soccer/team/stats/_/id/243/sevilla',\n",
       " 'https://www.espn.com/soccer/team/stats/_/id/94/valencia',\n",
       " 'https://www.espn.com/soccer/team/stats/_/id/102/villarreal']"
      ]
     },
     "execution_count": 10,
     "metadata": {},
     "output_type": "execute_result"
    }
   ],
   "source": [
    "stats=driver.find_elements(By.CSS_SELECTOR,'a.AnchorLink')\n",
    "\n",
    "\n",
    "teams_stats=[]\n",
    "\n",
    "for e in stats:\n",
    "    \n",
    "    link=e.get_attribute('href')\n",
    "    \n",
    "    if '/team/stats/' in link:\n",
    "        teams_stats.append(link)\n",
    "        \n",
    "    else:\n",
    "        continue\n",
    "        \n",
    "        \n",
    "driver.quit()\n",
    "\n",
    "teams_stats"
   ]
  },
  {
   "cell_type": "code",
   "execution_count": 11,
   "metadata": {},
   "outputs": [
    {
     "data": {
      "text/plain": [
       "20"
      ]
     },
     "execution_count": 11,
     "metadata": {},
     "output_type": "execute_result"
    }
   ],
   "source": [
    "len(teams_stats)"
   ]
  },
  {
   "cell_type": "markdown",
   "metadata": {},
   "source": [
    "**Extracción asincrónica**"
   ]
  },
  {
   "cell_type": "code",
   "execution_count": 12,
   "metadata": {},
   "outputs": [],
   "source": [
    "def asincrono(funcion):\n",
    "    \n",
    "    def eventos(*args, **kwargs):\n",
    "        return asyncio.get_event_loop().run_in_executor(None, funcion, *args, **kwargs)\n",
    "    \n",
    "    return eventos"
   ]
  },
  {
   "cell_type": "code",
   "execution_count": 13,
   "metadata": {},
   "outputs": [],
   "source": [
    "DATOS=[]\n",
    "\n",
    "CABECERAS=[]"
   ]
  },
  {
   "cell_type": "code",
   "execution_count": 14,
   "metadata": {},
   "outputs": [],
   "source": [
    "@asincrono\n",
    "def extraer(url):\n",
    "    \n",
    "    global DATOS, CABECERAS\n",
    "    \n",
    "    # inicia el driver\n",
    "    driver=webdriver.Chrome(PATH)\n",
    "    driver.get(url)\n",
    "\n",
    "    time.sleep(2)\n",
    "\n",
    "    # acepta cookies\n",
    "    aceptar=driver.find_element(By.XPATH, '//*[@id=\"onetrust-accept-btn-handler\"]')\n",
    "    aceptar.click()\n",
    "\n",
    "    time.sleep(2)\n",
    "    \n",
    "    # disciplina\n",
    "    dis=driver.find_element(By.XPATH,'//*[@id=\"fittPageContainer\"]/div[2]/div[5]/div/div[1]/section/div/div[2]/nav/ul/li[2]/a')\n",
    "    dis.click()\n",
    "\n",
    "    time.sleep(2)\n",
    "    \n",
    "    tabla=driver.find_element(By.TAG_NAME,'tbody')\n",
    "\n",
    "    filas=tabla.find_elements(By.TAG_NAME, 'tr')\n",
    "\n",
    "\n",
    "    data=[]\n",
    "\n",
    "    for f in filas:\n",
    "\n",
    "        elementos=f.find_elements(By.TAG_NAME, 'td') \n",
    "\n",
    "        tmp=[]\n",
    "\n",
    "        for e in elementos:\n",
    "\n",
    "            tmp.append(e.text)\n",
    "            \n",
    "        tmp.append(url.split('/')[-1])\n",
    "        data.append(tmp)\n",
    "        \n",
    "\n",
    "    cabeceras=driver.find_element(By.TAG_NAME, 'thead')\n",
    "\n",
    "    cabeceras=[c.text for c in cabeceras.find_elements(By.TAG_NAME, 'th')]+['TEAM']\n",
    "    \n",
    "    \n",
    "    DATOS+=data\n",
    "\n",
    "    CABECERAS=cabeceras"
   ]
  },
  {
   "cell_type": "code",
   "execution_count": 15,
   "metadata": {},
   "outputs": [
    {
     "data": {
      "text/plain": [
       "<Future pending cb=[_chain_future.<locals>._call_check_cancel() at /Users/iudh/miniforge3/envs/clase/lib/python3.8/asyncio/futures.py:360]>"
      ]
     },
     "metadata": {},
     "output_type": "display_data"
    },
    {
     "data": {
      "text/plain": [
       "<Future pending cb=[_chain_future.<locals>._call_check_cancel() at /Users/iudh/miniforge3/envs/clase/lib/python3.8/asyncio/futures.py:360]>"
      ]
     },
     "metadata": {},
     "output_type": "display_data"
    },
    {
     "data": {
      "text/plain": [
       "<Future pending cb=[_chain_future.<locals>._call_check_cancel() at /Users/iudh/miniforge3/envs/clase/lib/python3.8/asyncio/futures.py:360]>"
      ]
     },
     "metadata": {},
     "output_type": "display_data"
    },
    {
     "data": {
      "text/plain": [
       "<Future pending cb=[_chain_future.<locals>._call_check_cancel() at /Users/iudh/miniforge3/envs/clase/lib/python3.8/asyncio/futures.py:360]>"
      ]
     },
     "metadata": {},
     "output_type": "display_data"
    },
    {
     "data": {
      "text/plain": [
       "<Future pending cb=[_chain_future.<locals>._call_check_cancel() at /Users/iudh/miniforge3/envs/clase/lib/python3.8/asyncio/futures.py:360]>"
      ]
     },
     "metadata": {},
     "output_type": "display_data"
    }
   ],
   "source": [
    "for url in teams_stats[:5]:\n",
    "    \n",
    "    res=extraer(url)\n",
    "    display(res)"
   ]
  },
  {
   "cell_type": "code",
   "execution_count": 20,
   "metadata": {},
   "outputs": [],
   "source": [
    "df=pd.DataFrame(DATOS, columns=CABECERAS)"
   ]
  },
  {
   "cell_type": "code",
   "execution_count": 21,
   "metadata": {},
   "outputs": [
    {
     "data": {
      "text/html": [
       "<div>\n",
       "<style scoped>\n",
       "    .dataframe tbody tr th:only-of-type {\n",
       "        vertical-align: middle;\n",
       "    }\n",
       "\n",
       "    .dataframe tbody tr th {\n",
       "        vertical-align: top;\n",
       "    }\n",
       "\n",
       "    .dataframe thead th {\n",
       "        text-align: right;\n",
       "    }\n",
       "</style>\n",
       "<table border=\"1\" class=\"dataframe\">\n",
       "  <thead>\n",
       "    <tr style=\"text-align: right;\">\n",
       "      <th></th>\n",
       "      <th>RK</th>\n",
       "      <th>NAME</th>\n",
       "      <th>P</th>\n",
       "      <th>YC</th>\n",
       "      <th>RC</th>\n",
       "      <th>PTS</th>\n",
       "      <th>TEAM</th>\n",
       "    </tr>\n",
       "  </thead>\n",
       "  <tbody>\n",
       "    <tr>\n",
       "      <th>0</th>\n",
       "      <td>1</td>\n",
       "      <td>Sergio Busquets</td>\n",
       "      <td>12</td>\n",
       "      <td>5</td>\n",
       "      <td>1</td>\n",
       "      <td>8</td>\n",
       "      <td>barcelona</td>\n",
       "    </tr>\n",
       "    <tr>\n",
       "      <th>1</th>\n",
       "      <td>2</td>\n",
       "      <td>Gerard Piqué</td>\n",
       "      <td>6</td>\n",
       "      <td>3</td>\n",
       "      <td>1</td>\n",
       "      <td>6</td>\n",
       "      <td>barcelona</td>\n",
       "    </tr>\n",
       "    <tr>\n",
       "      <th>2</th>\n",
       "      <td>3</td>\n",
       "      <td>Robert Lewandowski</td>\n",
       "      <td>14</td>\n",
       "      <td>0</td>\n",
       "      <td>1</td>\n",
       "      <td>3</td>\n",
       "      <td>barcelona</td>\n",
       "    </tr>\n",
       "    <tr>\n",
       "      <th>3</th>\n",
       "      <td></td>\n",
       "      <td>Franck Kessié</td>\n",
       "      <td>7</td>\n",
       "      <td>3</td>\n",
       "      <td>0</td>\n",
       "      <td>3</td>\n",
       "      <td>barcelona</td>\n",
       "    </tr>\n",
       "    <tr>\n",
       "      <th>4</th>\n",
       "      <td></td>\n",
       "      <td>Ronald Araújo</td>\n",
       "      <td>6</td>\n",
       "      <td>3</td>\n",
       "      <td>0</td>\n",
       "      <td>3</td>\n",
       "      <td>barcelona</td>\n",
       "    </tr>\n",
       "  </tbody>\n",
       "</table>\n",
       "</div>"
      ],
      "text/plain": [
       "  RK                NAME   P YC RC PTS       TEAM\n",
       "0  1     Sergio Busquets  12  5  1   8  barcelona\n",
       "1  2        Gerard Piqué   6  3  1   6  barcelona\n",
       "2  3  Robert Lewandowski  14  0  1   3  barcelona\n",
       "3          Franck Kessié   7  3  0   3  barcelona\n",
       "4          Ronald Araújo   6  3  0   3  barcelona"
      ]
     },
     "execution_count": 21,
     "metadata": {},
     "output_type": "execute_result"
    }
   ],
   "source": [
    "df.head()"
   ]
  },
  {
   "cell_type": "code",
   "execution_count": 22,
   "metadata": {},
   "outputs": [
    {
     "data": {
      "text/plain": [
       "(119, 7)"
      ]
     },
     "execution_count": 22,
     "metadata": {},
     "output_type": "execute_result"
    }
   ],
   "source": [
    "df.shape"
   ]
  },
  {
   "cell_type": "code",
   "execution_count": 23,
   "metadata": {},
   "outputs": [
    {
     "data": {
      "text/plain": [
       "array(['barcelona', 'athletic-club', 'atletico-madrid', 'celta-vigo',\n",
       "       'almeria'], dtype=object)"
      ]
     },
     "execution_count": 23,
     "metadata": {},
     "output_type": "execute_result"
    }
   ],
   "source": [
    "df.TEAM.unique()"
   ]
  },
  {
   "cell_type": "code",
   "execution_count": null,
   "metadata": {},
   "outputs": [],
   "source": []
  },
  {
   "cell_type": "code",
   "execution_count": null,
   "metadata": {},
   "outputs": [],
   "source": []
  }
 ],
 "metadata": {
  "kernelspec": {
   "display_name": "clase",
   "language": "python",
   "name": "clase"
  },
  "language_info": {
   "codemirror_mode": {
    "name": "ipython",
    "version": 3
   },
   "file_extension": ".py",
   "mimetype": "text/x-python",
   "name": "python",
   "nbconvert_exporter": "python",
   "pygments_lexer": "ipython3",
   "version": "3.8.13"
  },
  "varInspector": {
   "cols": {
    "lenName": 16,
    "lenType": 16,
    "lenVar": 40
   },
   "kernels_config": {
    "python": {
     "delete_cmd_postfix": "",
     "delete_cmd_prefix": "del ",
     "library": "var_list.py",
     "varRefreshCmd": "print(var_dic_list())"
    },
    "r": {
     "delete_cmd_postfix": ") ",
     "delete_cmd_prefix": "rm(",
     "library": "var_list.r",
     "varRefreshCmd": "cat(var_dic_list()) "
    }
   },
   "types_to_exclude": [
    "module",
    "function",
    "builtin_function_or_method",
    "instance",
    "_Feature"
   ],
   "window_display": false
  }
 },
 "nbformat": 4,
 "nbformat_minor": 4
}

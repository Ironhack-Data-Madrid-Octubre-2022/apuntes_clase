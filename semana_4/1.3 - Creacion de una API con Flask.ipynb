{
 "cells": [
  {
   "cell_type": "markdown",
   "metadata": {},
   "source": [
    "# 1.3- Creación de una API con Flask\n",
    "\n",
    "**[Documentación](https://flask.palletsprojects.com/en/1.1.x/)**\n",
    "\n",
    "\n",
    "\n",
    "![flask_api](images/flask_api.webp)\n",
    "\n",
    "\n",
    "\n",
    "Flask es un Microframework de Python que está basado en Werkzeug, Jinja 2 y buenas intenciones. Mediante Flask podemos construir aplicaciones web y servicios Restful (APIs) con Python de una forma extraordinariamente sencilla. Con pocas líneas podemos llegar a tener un servicio Restful funcionando. La mayor virtud de Flask es poder crear rutas web de una forma muy sencilla. "
   ]
  },
  {
   "cell_type": "code",
   "execution_count": null,
   "metadata": {},
   "outputs": [],
   "source": []
  },
  {
   "cell_type": "markdown",
   "metadata": {},
   "source": [
    "### Hola mundo en Flask"
   ]
  },
  {
   "cell_type": "code",
   "execution_count": null,
   "metadata": {},
   "outputs": [],
   "source": []
  },
  {
   "cell_type": "markdown",
   "metadata": {},
   "source": [
    "http://127.0.0.1:5000/"
   ]
  },
  {
   "cell_type": "markdown",
   "metadata": {},
   "source": [
    "### Usando varios endpoints y parámetros"
   ]
  },
  {
   "cell_type": "code",
   "execution_count": null,
   "metadata": {},
   "outputs": [],
   "source": []
  },
  {
   "cell_type": "markdown",
   "metadata": {},
   "source": [
    "+ Página principal: http://127.0.0.1:5000/\n",
    "+ Sumar: http://127.0.0.1:5000/sumar?n1=3&n2=20\n",
    "+ Restar: http://127.0.0.1:5000/restar?n1=3&n2=20"
   ]
  },
  {
   "cell_type": "markdown",
   "metadata": {},
   "source": [
    "### Creando una API "
   ]
  },
  {
   "cell_type": "code",
   "execution_count": null,
   "metadata": {},
   "outputs": [],
   "source": []
  },
  {
   "cell_type": "markdown",
   "metadata": {},
   "source": [
    "+ Página principal: http://127.0.0.1:5000/\n",
    "\n",
    "+ Cálculo de la descripción: http://127.0.0.1:5000/calc/\n",
    "\n",
    "+ Filtrado por género: http://127.0.0.1:5000/filtrar/?gen=Games\n",
    "\n",
    "+ Selección de columnas: http://127.0.0.1:5000/selec/?c1=user_rating&c2=user_rating_ver\n"
   ]
  },
  {
   "cell_type": "markdown",
   "metadata": {},
   "source": [
    "### Haciendo el despliegue (deploy)\n",
    "\n",
    "\n",
    "PythonAnywhere es un servicio para ejecutar código python en servidores 'en la nube'. Lo vamos a usar para alojar nuestra API para que esté disponible en Internet. Lo primero es crearnos una cuenta gratuita en **https://www.pythonanywhere.com**.\n",
    "\n",
    "$$$$\n",
    "\n",
    "![pythonanywhere](images/pythonanywhere.png)\n",
    "\n",
    "$$$$\n",
    "\n",
    "A continuación, crearemos una carpeta para el proyecto que va a contener el archivo csv con los datos y el archivo `main.py` con el código de nuestra API. Nos vamos a la pestaña de archivos:\n",
    "\n",
    "![pythonanywhere_files](images/pythonanywhere_files.png)\n",
    "\n",
    "$$$$\n",
    "\n",
    "![pythonanywhere_directorios](images/pythonanywhere_directorios.png)\n"
   ]
  },
  {
   "cell_type": "markdown",
   "metadata": {},
   "source": [
    "La carpeta la llamaremos API, y tendrá ésta estructura:\n",
    "\n",
    "```\n",
    "API\n",
    "|   main.py\n",
    "└───data\n",
    "    │   apple_store.csv\n",
    "```"
   ]
  },
  {
   "cell_type": "markdown",
   "metadata": {},
   "source": [
    "#### Archivo `main.py`\n",
    "\n",
    "Requiere algún cambio:"
   ]
  },
  {
   "cell_type": "markdown",
   "metadata": {},
   "source": [
    "```python\n",
    "\n",
    "from flask import Flask, request      # se importan librerias\n",
    "import pandas as pd\n",
    "import os\n",
    "\n",
    "\n",
    "app=Flask(__name__)         # inicializar la aplicacion \n",
    "\n",
    "\n",
    "data=None                   # inicializa variables\n",
    "\n",
    "\n",
    "PATH=os.path.dirname(os.path.abspath(__file__)) # ruta absoluta a este archivo, necesario en pythonanywhere\n",
    "\n",
    "\n",
    "\n",
    "@app.before_first_request   # antes del primer request\n",
    "def startup():\n",
    "    global data   # variable global data\n",
    "    \n",
    "    data=pd.read_csv(PATH + '/data/apple_store.csv')   # se sobreescribe la variable global\n",
    "\n",
    "    \n",
    "@app.route('/')             \n",
    "def main():          \n",
    "    # funcion en la raiz, solo devuelve una string\n",
    "    return 'Apple Store API'\n",
    "\n",
    "\n",
    "\n",
    "@app.route('/calc/')  # ruta url a otra parte de la pagina\n",
    "def calcular():\n",
    "    # esta funcion devuelve la descripcion del dataframe\n",
    "    return str(data.describe().T.to_json())\n",
    "\n",
    "\n",
    "\n",
    "\n",
    "@app.route('/filtrar/')  # ruta url a otra parte de la pagina\n",
    "def filtrar():\n",
    "    # funcion para filtar por genero\n",
    "    \n",
    "    param=request.args.get('gen')\n",
    "    \n",
    "    filtrado=data[data.prime_genre==param].to_json()\n",
    "    \n",
    "    return str(filtrado)\n",
    "\n",
    "\n",
    "\n",
    "@app.route('/selec/')  # ruta de la url\n",
    "def seleccionar():\n",
    "    # funcion que selecciona parte del dataframe\n",
    "    \n",
    "    # parametros, columnas a seleccionar\n",
    "    params=request.args   # diccionario, key=nombre del parámetro, value=valor aportado en la url\n",
    "    \n",
    "    cols=[v for v in params.values()]  # valores, en este caso nombres de columna\n",
    "   \n",
    "    seleccion=data[cols].to_json()\n",
    "    \n",
    "    return str(seleccion)\n",
    "```"
   ]
  },
  {
   "cell_type": "markdown",
   "metadata": {},
   "source": [
    " "
   ]
  },
  {
   "cell_type": "markdown",
   "metadata": {},
   "source": [
    "#### Finalización\n",
    "\n",
    "Una vez que hemos subido los archivos, tenemos que establecer la ruta al código fuente y el servidor `wsgi`:\n",
    "\n",
    "$$$$\n",
    "\n",
    "![pythonanywhere_source_code](images/pythonanywhere_source_code.png)\n",
    "\n",
    "$$$$\n",
    "\n",
    "![pythonanywhere_wsgi](images/pythonanywhere_wsgi.png)\n",
    "\n",
    "\n",
    "$$$$\n",
    "\n",
    "Por último debemos **recargar el servidor**:\n",
    "\n",
    "\n",
    "$$$$\n",
    "\n",
    "![pythonanywhere_reload](images/pythonanywhere_reload.png)\n",
    "\n",
    "\n",
    "$$$$\n",
    "\n",
    "Si surge un error en el servidor, recurriremos al **log**:\n",
    "\n",
    "$$$$\n",
    "\n",
    "![pythonanywhere_log](images/pythonanywhere_log.png)"
   ]
  },
  {
   "cell_type": "markdown",
   "metadata": {},
   "source": [
    "**Prueba API:**\n",
    "\n",
    "+ Página principal: http://yon.pythonanywhere.com/\n",
    "\n",
    "+ Cálculo de la descripción: http://yon.pythonanywhere.com/calc/\n",
    "\n",
    "+ Filtrado por género: http://yon.pythonanywhere.com/filtrar/?gen=Games\n",
    "\n",
    "+ Selección de columnas: http://yon.pythonanywhere.com/selec/?c1=user_rating&c2=user_rating_ver"
   ]
  },
  {
   "cell_type": "markdown",
   "metadata": {},
   "source": [
    "$$$$\n",
    "\n",
    "\n",
    "### Heroku (alternativa a pythonanywhere)\n",
    "\n",
    "![heroku](images/heroku.webp)\n",
    "\n",
    "$$$$ El manejo de [Heroku](https://www.heroku.com/) es ligeramente más complejo:\n",
    "\n",
    "\n",
    "En primer lugar se crea un entorno virtual con el nombre de la aplicacion.\n",
    "\n",
    "```\n",
    "python3 -m virtualenv nombre\n",
    "```\n",
    "\n",
    "$$$$\n",
    "\n",
    "Se activa el entorno virtual y se entra en la carpeta...\n",
    "\n",
    "```\n",
    "source ~/nombre/bin/activate\n",
    "\n",
    "cd nombre\n",
    "```\n",
    "\n",
    "$$$$\n",
    "\n",
    "\n",
    "Se inicializa el repo de git...\n",
    "\n",
    "```\n",
    "git init\n",
    "```\n",
    "\n",
    "$$$$\n",
    "\n",
    "Se instalan las dependencias...\n",
    "\n",
    "```\n",
    "pip install flask gunicorn ....\n",
    "```\n",
    "\n",
    "$$$$\n",
    "\n",
    "Se crea el archivo de requerimientos...\n",
    "\n",
    "```\n",
    "pip freeze>requirements.txt \n",
    "```\n",
    "\n",
    "$$$$\n",
    "\n",
    "\n",
    "Se crea el archivo Procfile...\n",
    "\n",
    "```\n",
    "touch Procfile\n",
    "```\n",
    "\n",
    "$$$$\n",
    "\n",
    "\n",
    "y dentro de él lo siguiente:\n",
    "\n",
    "```\n",
    "web: gunicorn wsgi:app\n",
    "```\n",
    "\n",
    "$$$$\n",
    "\n",
    "Se crea el archivo runtime.txt..\n",
    "\n",
    "```\n",
    "touch runtime.txt\n",
    "```\n",
    "\n",
    "$$$$\n",
    "\n",
    "\n",
    "y dentro de él la versión de python:\n",
    "\n",
    "```\n",
    "python-3.7.5\n",
    "```\n",
    "\n",
    "$$$$\n",
    "\n",
    "Se crea el archivo wsgi.py\n",
    "\n",
    "```\n",
    "touch wsgi.py\n",
    "```\n",
    "\n",
    "$$$$\n",
    "\n",
    "con el siguiente codigo:\n",
    "```python\n",
    "from app.main import app \n",
    "  \n",
    "if __name__ == \"__main__\": \n",
    "        app.run() \n",
    "\n",
    "```\n",
    "$$$$\n",
    "\n",
    "Una vez realizado este proceso,  se crea la carpeta app, y dentro de ella se ponen todos los archivos de la aplicacion, main.py y todas las demas carpetas.\n",
    "\n",
    "\n",
    "Una vez hecho esto:\n",
    "\n",
    "``` \n",
    "git add .\n",
    "git commit -m 'deploy'\n",
    "\n",
    "heroku login\n",
    "heroku create nombre-app\n",
    "```\n",
    "\n",
    "$$$$\n",
    "\n",
    "Despues puede dar un fallo, hay que darle el buildpack de python en heroku.\n",
    "\n",
    "Por último:\n",
    "\n",
    "```\n",
    "git push heroku master\n",
    "```"
   ]
  }
 ],
 "metadata": {
  "finalized": {
   "timestamp": 1661759007155,
   "trusted": true
  },
  "kernelspec": {
   "display_name": "prueba",
   "language": "python",
   "name": "prueba"
  },
  "language_info": {
   "codemirror_mode": {
    "name": "ipython",
    "version": 3
   },
   "file_extension": ".py",
   "mimetype": "text/x-python",
   "name": "python",
   "nbconvert_exporter": "python",
   "pygments_lexer": "ipython3",
   "version": "3.7.13"
  },
  "varInspector": {
   "cols": {
    "lenName": 16,
    "lenType": 16,
    "lenVar": 40
   },
   "kernels_config": {
    "python": {
     "delete_cmd_postfix": "",
     "delete_cmd_prefix": "del ",
     "library": "var_list.py",
     "varRefreshCmd": "print(var_dic_list())"
    },
    "r": {
     "delete_cmd_postfix": ") ",
     "delete_cmd_prefix": "rm(",
     "library": "var_list.r",
     "varRefreshCmd": "cat(var_dic_list()) "
    }
   },
   "types_to_exclude": [
    "module",
    "function",
    "builtin_function_or_method",
    "instance",
    "_Feature"
   ],
   "window_display": false
  }
 },
 "nbformat": 4,
 "nbformat_minor": 4
}

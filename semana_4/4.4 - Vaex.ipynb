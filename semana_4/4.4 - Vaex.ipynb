{
 "cells": [
  {
   "cell_type": "markdown",
   "metadata": {},
   "source": [
    "# 4.4 - Vaex\n",
    "\n",
    "\n",
    "![vaex](images/vaex.png)\n",
    "\n",
    "$$$$\n",
    "\n",
    "\n",
    "[Vaex](https://vaex.io/docs/index.html) es una librería de python library para dataframes (lazy Out-of-Core DataFrames), de manera similar a Pandas. Nos permite visualizar y explorar datos tabulares, calcular medidas de tendencia central como la media, la desviación standard, moda, etc.., a una velocidad de $10^{9}$ filas/registros por segundo. Vaex usa mapeo de memoria, política de ci¡opia cero en memoria,  y la llamada computación lazy para mejor rendimeiento, sin gastar memoria.\n",
    "\n",
    "**¿Por qué Vaex?**\n",
    "\n",
    "+ Rendimiento: trabaja con grandes cantidades de datos, pudiendo procesar $10^{9}$ filas/registros por segundo\n",
    "\n",
    "+ Columnas virtuales/lazy: computa al vuelo, sin gastar memoria\n",
    "\n",
    "+ Eficiente a nivel de memoria: no realiza copias en memoria cuando filtra/selecciona/samplea.\n",
    "\n",
    "+ Visualizacion: directamente soportada\n",
    "\n",
    "\n",
    "\n",
    "https://towardsdatascience.com/how-to-analyse-100s-of-gbs-of-data-on-your-laptop-with-python-f83363dda94\n",
    "\n",
    "**Data:** https://vaex.io/docs/datasets.html\n",
    "\n",
    "**si no plotea...:** https://stackoverflow.com/questions/57323126/how-to-do-interactive-2d-scatter-plot-zoom-point-selection-in-vaex"
   ]
  },
  {
   "cell_type": "code",
   "execution_count": null,
   "metadata": {},
   "outputs": [],
   "source": [
    "%pip install vaex"
   ]
  },
  {
   "cell_type": "code",
   "execution_count": null,
   "metadata": {},
   "outputs": [],
   "source": [
    "import vaex\n",
    "\n",
    "import numpy as np\n",
    "import pylab as plt\n",
    "%matplotlib inline\n",
    "import seaborn\n",
    "\n",
    "import warnings\n",
    "warnings.filterwarnings('ignore')"
   ]
  },
  {
   "cell_type": "code",
   "execution_count": null,
   "metadata": {},
   "outputs": [],
   "source": [
    "%%time\n",
    "\n",
    "# tamaño del archivo\n",
    "\n",
    "!ls -l -h ../data/yellow_taxi_2015_f32s.hdf5"
   ]
  },
  {
   "cell_type": "code",
   "execution_count": null,
   "metadata": {},
   "outputs": [],
   "source": [
    "%%time\n",
    "\n",
    "# leer archivo\n",
    "\n",
    "df=vaex.open('../data/yellow_taxi_2015_f32s.hdf5')\n",
    "\n",
    "df"
   ]
  },
  {
   "cell_type": "code",
   "execution_count": null,
   "metadata": {},
   "outputs": [],
   "source": [
    "%%time\n",
    "\n",
    "df.plot_widget(df.pickup_longitude,\n",
    "               df.pickup_latitude,\n",
    "               backend='bqplot',\n",
    "               shape=512,\n",
    "               limits=[[-74.05, -73.75], [40.58, 40.90]],\n",
    "               f='log1p', \n",
    "               colormap='plasma')"
   ]
  },
  {
   "cell_type": "code",
   "execution_count": null,
   "metadata": {},
   "outputs": [],
   "source": [
    "%%time\n",
    "\n",
    "df.plot_widget(df.dropoff_longitude,\n",
    "               df.dropoff_latitude,\n",
    "               backend='bqplot',\n",
    "               shape=512,\n",
    "               limits=[[-74.05, -73.75], [40.58, 40.90]],\n",
    "               f='log1p', \n",
    "               colormap='plasma')"
   ]
  },
  {
   "cell_type": "code",
   "execution_count": null,
   "metadata": {},
   "outputs": [],
   "source": [
    "%%time\n",
    "df.describe()"
   ]
  },
  {
   "cell_type": "code",
   "execution_count": null,
   "metadata": {},
   "outputs": [],
   "source": []
  }
 ],
 "metadata": {
  "finalized": {
   "timestamp": 1655976436445,
   "trusted": true
  },
  "kernelspec": {
   "display_name": "prueba",
   "language": "python",
   "name": "prueba"
  },
  "language_info": {
   "codemirror_mode": {
    "name": "ipython",
    "version": 3
   },
   "file_extension": ".py",
   "mimetype": "text/x-python",
   "name": "python",
   "nbconvert_exporter": "python",
   "pygments_lexer": "ipython3",
   "version": "3.7.13"
  },
  "varInspector": {
   "cols": {
    "lenName": 16,
    "lenType": 16,
    "lenVar": 40
   },
   "kernels_config": {
    "python": {
     "delete_cmd_postfix": "",
     "delete_cmd_prefix": "del ",
     "library": "var_list.py",
     "varRefreshCmd": "print(var_dic_list())"
    },
    "r": {
     "delete_cmd_postfix": ") ",
     "delete_cmd_prefix": "rm(",
     "library": "var_list.r",
     "varRefreshCmd": "cat(var_dic_list()) "
    }
   },
   "types_to_exclude": [
    "module",
    "function",
    "builtin_function_or_method",
    "instance",
    "_Feature"
   ],
   "window_display": false
  }
 },
 "nbformat": 4,
 "nbformat_minor": 4
}

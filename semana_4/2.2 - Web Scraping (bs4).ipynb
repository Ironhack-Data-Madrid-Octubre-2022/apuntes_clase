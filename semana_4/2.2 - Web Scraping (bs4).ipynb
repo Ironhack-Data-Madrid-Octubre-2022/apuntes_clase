{
 "cells": [
  {
   "cell_type": "markdown",
   "metadata": {},
   "source": [
    "# 2.2 - Web Scraping (bs4)\n",
    "\n",
    "$$$$\n",
    "\n",
    "![scraping](images/scraping.png)\n",
    "\n",
    "$$$$\n",
    "\n",
    "Web scraping o raspado web, es una técnica utilizada mediante programas de software para extraer información de sitios web. Usualmente, estos programas simulan la navegación de un humano en la web ya sea utilizando el protocolo HTTP manualmente, o incrustando un navegador en una aplicación.\n",
    "\n",
    "El web scraping está muy relacionado con la indexación de la web, la cual indexa la información de la web utilizando un robot y es una técnica universal adoptada por la mayoría de los motores de búsqueda. Sin embargo, el web scraping se enfoca más en la transformación de datos sin estructura en la web, como el formato HTML, en datos estructurados que pueden ser almacenados y analizados en una base de datos central, en una hoja de cálculo o en alguna otra fuente de almacenamiento. Alguno de los usos del web scraping son la comparación de precios en tiendas, la monitorización de datos relacionados con el clima de cierta región, la detección de cambios en sitios webs y la integración de datos en sitios webs. \n",
    "\n",
    "En los últimos años el web scraping se ha convertido en una técnica muy utilizada dentro del sector del posicionamiento web gracias a su capacidad de generar grandes cantidades de datos para crear contenidos de calidad.\n",
    "\n",
    "Podríamos pensar que el web scraping es nuestro último recurso a falta de una API o un feed RSS. A falta de una fuente de datos, siempre podemos extraer aquello que sale por pantalla."
   ]
  },
  {
   "cell_type": "markdown",
   "metadata": {},
   "source": [
    "### Extracción desde el HTML\n",
    "\n",
    "Para scrapear una página web, en primer lugar debemos conocer las estructura que tiene el HTML. Veamos la estructura básica.\n",
    "\n",
    "El HTML consiste en contenido `<etiquetado>`, es como si fueran cajas de contenido, organizado de manera jerárquica:\n",
    "\n",
    "```\n",
    "<html>\n",
    "    <head>\n",
    "        <title>Titulo de la pagina</title>\n",
    "    </head>\n",
    "    <body>\n",
    "        <h1>Cabecera</h1>\n",
    "        <p>Parrafo</p>\n",
    "    </body>\n",
    "</html>\n",
    "```\n",
    "\n",
    "$$$$\n",
    "\n",
    "Las etiquetas el HTML se pueden clasificar en varios grupos, dependiendo del tipo de contenido que posea. Estos son algunos ejemplos:\n",
    "\n",
    "+ cabecera: `<h1>`, `<h2>`, `<h3>`, `<hgroup>`...\n",
    "+ texto: `<b>`, `<p>`...\n",
    "+ embebido: `<audio>`, `<img>`, `<video>`...\n",
    "+ tabular: `<table>`, `<tr>`, `<td>`, `<tbody>`...\n",
    "+ secciones: `<header>`, `<section>`, `<article>`...\n",
    "+ metadata: `<meta>`, `<title>`, `<script>`...\n",
    "\n",
    "$$$$\n",
    "\n",
    "Las etiquetas pueden tener atributos. Por ejemplo:\n",
    " \n",
    "`<div class=\"text-monospace\" id=\"name_132\", href=\"www.example.com\"> Contenido de la pagina </div>` \n",
    "\n",
    "Esta etiqueta `div` tiene los siguientes atributos:\n",
    "\n",
    "+ class: atributo con valor \"text-monospace\". La clase no es única en la página.\n",
    "+ id: atributo con valor \"name_132\". El id de una etiqueta la identifica de manera unívoca.\n",
    "+ href: atributo con valor \"www.example.com\". El href suele contener el link a otra parte de la página.\n",
    "\n",
    "Siguiendo con la analogía de las cajas, si una etiqueta de HTML es una caja, los atributos serían las pegatinas pegadas en la tapa de la caja.\n",
    "\n",
    "Conociendo cual es el contenido que queremos extraer, debemos encontrar las etiquetas dentro del HTML de la página web."
   ]
  },
  {
   "cell_type": "markdown",
   "metadata": {},
   "source": [
    "Usaremos la herramienta **[BeautifulSoup](https://www.crummy.com/software/BeautifulSoup/bs4/doc/)**."
   ]
  },
  {
   "cell_type": "code",
   "execution_count": 1,
   "metadata": {},
   "outputs": [
    {
     "name": "stdout",
     "output_type": "stream",
     "text": [
      "Requirement already satisfied: beautifulsoup4 in /Users/iudh/opt/anaconda3/envs/prueba/lib/python3.7/site-packages (4.11.1)\n",
      "Requirement already satisfied: soupsieve>1.2 in /Users/iudh/opt/anaconda3/envs/prueba/lib/python3.7/site-packages (from beautifulsoup4) (2.3.2.post1)\n",
      "Note: you may need to restart the kernel to use updated packages.\n"
     ]
    }
   ],
   "source": [
    "%pip install beautifulsoup4"
   ]
  },
  {
   "cell_type": "code",
   "execution_count": 2,
   "metadata": {},
   "outputs": [],
   "source": [
    "import requests as req\n",
    "\n",
    "from bs4 import BeautifulSoup as bs   # ambos alias son cosa mia"
   ]
  },
  {
   "cell_type": "markdown",
   "metadata": {},
   "source": [
    "### Ejemplos Wikipedia\n",
    "\n",
    "**[Países europeos según esperanza de vida](https://en.wikipedia.org/wiki/List_of_European_countries_by_life_expectancy)**"
   ]
  },
  {
   "cell_type": "code",
   "execution_count": 3,
   "metadata": {},
   "outputs": [],
   "source": [
    "url='https://en.wikipedia.org/wiki/List_of_European_countries_by_life_expectancy'"
   ]
  },
  {
   "cell_type": "code",
   "execution_count": 4,
   "metadata": {},
   "outputs": [
    {
     "data": {
      "text/plain": [
       "'<!DOCTYPE html>\\n<html class=\"client-nojs\" lang=\"en\" dir=\"ltr\">\\n<head>\\n<meta charset=\"UTF-8\"/>\\n<title>List of European countries by life expectancy - Wikipedia</title>\\n<script>document.documentElement.className=\"client-js\";RLCONF={\"wgBreakFrames\":false,\"wgSeparatorTransformTable\":[\"\",\"\"],\"wgDigitTransformTable\":[\"\",\"\"],\"wgDefaultDateFormat\":\"dmy\",\"wgMonthNames\":[\"\",\"January\",\"February\",\"March\",\"April\",\"May\",\"June\",\"July\",\"August\",\"September\",\"October\",\"November\",\"December\"],\"wgRequestId\":\"f740cf84-97e3-496a-90f9-a2d2c6aaea30\",\"wgCSPNonce\":false,\"wgCanonicalNamespace\":\"\",\"wgCanonicalSpecialPageName\":false,\"wgNamespaceNumber\":0,\"wgPageName\":\"List_of_European_countries_by_life_expectancy\",\"wgTitle\":\"List of European countries by life expectancy\",\"wgCurRevisionId\":1114435189,\"wgRevisionId\":1114435189,\"wgArticleId\":22175559,\"wgIsArticle\":true,\"wgIsRedirect\":false,\"wgAction\":\"view\",\"wgUserName\":null,\"wgUserGroups\":[\"*\"],\"wgCategories\":[\"Use dmy dates from April 2022\",\"Articles with short desc'"
      ]
     },
     "execution_count": 4,
     "metadata": {},
     "output_type": "execute_result"
    }
   ],
   "source": [
    "# usamos requests para extraer el html en string\n",
    "\n",
    "html=req.get(url).text\n",
    "\n",
    "html[:1000]"
   ]
  },
  {
   "cell_type": "code",
   "execution_count": 6,
   "metadata": {
    "scrolled": false
   },
   "outputs": [
    {
     "data": {
      "text/plain": [
       "bs4.BeautifulSoup"
      ]
     },
     "execution_count": 6,
     "metadata": {},
     "output_type": "execute_result"
    }
   ],
   "source": [
    "# parsear\n",
    "\n",
    "soup=bs(html, 'html.parser')\n",
    "\n",
    "type(soup)"
   ]
  },
  {
   "cell_type": "code",
   "execution_count": 13,
   "metadata": {
    "scrolled": false
   },
   "outputs": [
    {
     "data": {
      "text/plain": [
       "13"
      ]
     },
     "execution_count": 13,
     "metadata": {},
     "output_type": "execute_result"
    }
   ],
   "source": [
    "len(soup.find_all('table'))"
   ]
  },
  {
   "cell_type": "code",
   "execution_count": 17,
   "metadata": {},
   "outputs": [
    {
     "data": {
      "text/plain": [
       "bs4.element.Tag"
      ]
     },
     "execution_count": 17,
     "metadata": {},
     "output_type": "execute_result"
    }
   ],
   "source": [
    "tabla=soup.find_all('table')[3]\n",
    "\n",
    "type(tabla)"
   ]
  },
  {
   "cell_type": "code",
   "execution_count": 23,
   "metadata": {},
   "outputs": [
    {
     "data": {
      "text/plain": [
       "['',\n",
       " 'Rank',\n",
       " '',\n",
       " 'Country',\n",
       " 'Life expectancy[6]',\n",
       " '',\n",
       " 'Influenza vaccination rate, people aged 65 and over, 2016 (%)[7]',\n",
       " '']"
      ]
     },
     "execution_count": 23,
     "metadata": {},
     "output_type": "execute_result"
    }
   ],
   "source": [
    "tabla.find_all('tr')[0].text.split('\\n')"
   ]
  },
  {
   "cell_type": "code",
   "execution_count": 25,
   "metadata": {},
   "outputs": [
    {
     "data": {
      "text/plain": [
       "[['Rank',\n",
       "  '',\n",
       "  'Country',\n",
       "  'Life expectancy[6]',\n",
       "  '',\n",
       "  'Influenza vaccination rate, people aged 65 and over, 2016 (%)[7]'],\n",
       " ['1', '', '\\xa0Monaco[8]', '', '89.4'],\n",
       " ['2', '', '\\xa0San Marino[9]', '', '83.4'],\n",
       " ['3', '', '\\xa0Switzerland', '83.0'],\n",
       " ['4', '', '\\xa0Spain', '82.8', '', '56%']]"
      ]
     },
     "execution_count": 25,
     "metadata": {},
     "output_type": "execute_result"
    }
   ],
   "source": [
    "filas=tabla.find_all('tr')\n",
    "\n",
    "filas=[f.text.strip().split('\\n') for f in filas]\n",
    "\n",
    "filas[:5]"
   ]
  },
  {
   "cell_type": "code",
   "execution_count": 26,
   "metadata": {},
   "outputs": [
    {
     "data": {
      "text/plain": [
       "[['Rank',\n",
       "  'Country',\n",
       "  'Life expectancy[6]',\n",
       "  'Influenza vaccination rate, people aged 65 and over, 2016 (%)[7]'],\n",
       " ['1', '\\xa0Monaco[8]', '89.4'],\n",
       " ['2', '\\xa0San Marino[9]', '83.4'],\n",
       " ['3', '\\xa0Switzerland', '83.0'],\n",
       " ['4', '\\xa0Spain', '82.8', '56%']]"
      ]
     },
     "execution_count": 26,
     "metadata": {},
     "output_type": "execute_result"
    }
   ],
   "source": [
    "final=[]\n",
    "\n",
    "for f in filas:\n",
    "    \n",
    "    tmp=[]\n",
    "    \n",
    "    for palabra in f:\n",
    "        \n",
    "        if palabra!='':\n",
    "            tmp.append(palabra)\n",
    "    \n",
    "    final.append(tmp)\n",
    "    \n",
    "final[:5]"
   ]
  },
  {
   "cell_type": "code",
   "execution_count": 27,
   "metadata": {},
   "outputs": [
    {
     "data": {
      "text/plain": [
       "[['Rank',\n",
       "  'Country',\n",
       "  'Life expectancy[6]',\n",
       "  'Influenza vaccination rate, people aged 65 and over, 2016 (%)[7]'],\n",
       " ['1', '\\xa0Monaco[8]', '89.4'],\n",
       " ['2', '\\xa0San Marino[9]', '83.4'],\n",
       " ['3', '\\xa0Switzerland', '83.0'],\n",
       " ['4', '\\xa0Spain', '82.8', '56%']]"
      ]
     },
     "execution_count": 27,
     "metadata": {},
     "output_type": "execute_result"
    }
   ],
   "source": [
    "filas=[[palabra for palabra in f if palabra!=''] for f in filas]\n",
    "\n",
    "filas[:5]"
   ]
  },
  {
   "cell_type": "code",
   "execution_count": 29,
   "metadata": {},
   "outputs": [
    {
     "data": {
      "text/html": [
       "<div>\n",
       "<style scoped>\n",
       "    .dataframe tbody tr th:only-of-type {\n",
       "        vertical-align: middle;\n",
       "    }\n",
       "\n",
       "    .dataframe tbody tr th {\n",
       "        vertical-align: top;\n",
       "    }\n",
       "\n",
       "    .dataframe thead th {\n",
       "        text-align: right;\n",
       "    }\n",
       "</style>\n",
       "<table border=\"1\" class=\"dataframe\">\n",
       "  <thead>\n",
       "    <tr style=\"text-align: right;\">\n",
       "      <th></th>\n",
       "      <th>Rank</th>\n",
       "      <th>Country</th>\n",
       "      <th>Life expectancy[6]</th>\n",
       "      <th>Influenza vaccination rate, people aged 65 and over, 2016 (%)[7]</th>\n",
       "    </tr>\n",
       "  </thead>\n",
       "  <tbody>\n",
       "    <tr>\n",
       "      <th>0</th>\n",
       "      <td>1</td>\n",
       "      <td>Monaco[8]</td>\n",
       "      <td>89.4</td>\n",
       "      <td>None</td>\n",
       "    </tr>\n",
       "    <tr>\n",
       "      <th>1</th>\n",
       "      <td>2</td>\n",
       "      <td>San Marino[9]</td>\n",
       "      <td>83.4</td>\n",
       "      <td>None</td>\n",
       "    </tr>\n",
       "    <tr>\n",
       "      <th>2</th>\n",
       "      <td>3</td>\n",
       "      <td>Switzerland</td>\n",
       "      <td>83.0</td>\n",
       "      <td>None</td>\n",
       "    </tr>\n",
       "    <tr>\n",
       "      <th>3</th>\n",
       "      <td>4</td>\n",
       "      <td>Spain</td>\n",
       "      <td>82.8</td>\n",
       "      <td>56%</td>\n",
       "    </tr>\n",
       "    <tr>\n",
       "      <th>4</th>\n",
       "      <td>5</td>\n",
       "      <td>Liechtenstein</td>\n",
       "      <td>82.7</td>\n",
       "      <td>28%</td>\n",
       "    </tr>\n",
       "  </tbody>\n",
       "</table>\n",
       "</div>"
      ],
      "text/plain": [
       "  Rank         Country Life expectancy[6]  \\\n",
       "0    1       Monaco[8]               89.4   \n",
       "1    2   San Marino[9]               83.4   \n",
       "2    3     Switzerland               83.0   \n",
       "3    4           Spain               82.8   \n",
       "4    5   Liechtenstein               82.7   \n",
       "\n",
       "  Influenza vaccination rate, people aged 65 and over, 2016 (%)[7]  \n",
       "0                                               None                \n",
       "1                                               None                \n",
       "2                                               None                \n",
       "3                                                56%                \n",
       "4                                                28%                "
      ]
     },
     "execution_count": 29,
     "metadata": {},
     "output_type": "execute_result"
    }
   ],
   "source": [
    "import pandas as pd\n",
    "\n",
    "col_names=filas[0]\n",
    "\n",
    "data=filas[1:]\n",
    "\n",
    "df=pd.DataFrame(data, columns=col_names)\n",
    "\n",
    "df.head()"
   ]
  },
  {
   "cell_type": "code",
   "execution_count": 30,
   "metadata": {},
   "outputs": [
    {
     "data": {
      "text/html": [
       "<div>\n",
       "<style scoped>\n",
       "    .dataframe tbody tr th:only-of-type {\n",
       "        vertical-align: middle;\n",
       "    }\n",
       "\n",
       "    .dataframe tbody tr th {\n",
       "        vertical-align: top;\n",
       "    }\n",
       "\n",
       "    .dataframe thead th {\n",
       "        text-align: right;\n",
       "    }\n",
       "</style>\n",
       "<table border=\"1\" class=\"dataframe\">\n",
       "  <thead>\n",
       "    <tr style=\"text-align: right;\">\n",
       "      <th></th>\n",
       "      <th>Rank</th>\n",
       "      <th>Country</th>\n",
       "      <th>Life</th>\n",
       "      <th>expectancy[6]</th>\n",
       "      <th>Influenza</th>\n",
       "      <th>vaccination</th>\n",
       "      <th>rate,</th>\n",
       "      <th>people</th>\n",
       "      <th>aged</th>\n",
       "      <th>65</th>\n",
       "      <th>and</th>\n",
       "      <th>over,</th>\n",
       "      <th>2016</th>\n",
       "      <th>(%)[7]</th>\n",
       "    </tr>\n",
       "  </thead>\n",
       "  <tbody>\n",
       "    <tr>\n",
       "      <th>0</th>\n",
       "      <td>1</td>\n",
       "      <td>Monaco[8]</td>\n",
       "      <td>89.4</td>\n",
       "      <td>None</td>\n",
       "      <td>None</td>\n",
       "      <td>NaN</td>\n",
       "      <td>NaN</td>\n",
       "      <td>NaN</td>\n",
       "      <td>NaN</td>\n",
       "      <td>NaN</td>\n",
       "      <td>NaN</td>\n",
       "      <td>NaN</td>\n",
       "      <td>NaN</td>\n",
       "      <td>NaN</td>\n",
       "    </tr>\n",
       "    <tr>\n",
       "      <th>1</th>\n",
       "      <td>2</td>\n",
       "      <td>San</td>\n",
       "      <td>Marino[9]</td>\n",
       "      <td>83.4</td>\n",
       "      <td>None</td>\n",
       "      <td>NaN</td>\n",
       "      <td>NaN</td>\n",
       "      <td>NaN</td>\n",
       "      <td>NaN</td>\n",
       "      <td>NaN</td>\n",
       "      <td>NaN</td>\n",
       "      <td>NaN</td>\n",
       "      <td>NaN</td>\n",
       "      <td>NaN</td>\n",
       "    </tr>\n",
       "    <tr>\n",
       "      <th>2</th>\n",
       "      <td>3</td>\n",
       "      <td>Switzerland</td>\n",
       "      <td>83.0</td>\n",
       "      <td>None</td>\n",
       "      <td>None</td>\n",
       "      <td>NaN</td>\n",
       "      <td>NaN</td>\n",
       "      <td>NaN</td>\n",
       "      <td>NaN</td>\n",
       "      <td>NaN</td>\n",
       "      <td>NaN</td>\n",
       "      <td>NaN</td>\n",
       "      <td>NaN</td>\n",
       "      <td>NaN</td>\n",
       "    </tr>\n",
       "    <tr>\n",
       "      <th>3</th>\n",
       "      <td>4</td>\n",
       "      <td>Spain</td>\n",
       "      <td>82.8</td>\n",
       "      <td>56%</td>\n",
       "      <td>None</td>\n",
       "      <td>NaN</td>\n",
       "      <td>NaN</td>\n",
       "      <td>NaN</td>\n",
       "      <td>NaN</td>\n",
       "      <td>NaN</td>\n",
       "      <td>NaN</td>\n",
       "      <td>NaN</td>\n",
       "      <td>NaN</td>\n",
       "      <td>NaN</td>\n",
       "    </tr>\n",
       "    <tr>\n",
       "      <th>4</th>\n",
       "      <td>5</td>\n",
       "      <td>Liechtenstein</td>\n",
       "      <td>82.7</td>\n",
       "      <td>28%</td>\n",
       "      <td>None</td>\n",
       "      <td>NaN</td>\n",
       "      <td>NaN</td>\n",
       "      <td>NaN</td>\n",
       "      <td>NaN</td>\n",
       "      <td>NaN</td>\n",
       "      <td>NaN</td>\n",
       "      <td>NaN</td>\n",
       "      <td>NaN</td>\n",
       "      <td>NaN</td>\n",
       "    </tr>\n",
       "  </tbody>\n",
       "</table>\n",
       "</div>"
      ],
      "text/plain": [
       "   Rank        Country       Life expectancy[6] Influenza  vaccination  rate,  \\\n",
       "0     1      Monaco[8]       89.4          None      None          NaN    NaN   \n",
       "1     2            San  Marino[9]          83.4      None          NaN    NaN   \n",
       "2     3    Switzerland       83.0          None      None          NaN    NaN   \n",
       "3     4          Spain       82.8           56%      None          NaN    NaN   \n",
       "4     5  Liechtenstein       82.7           28%      None          NaN    NaN   \n",
       "\n",
       "   people  aged  65  and  over,  2016  (%)[7]  \n",
       "0     NaN   NaN NaN  NaN    NaN   NaN     NaN  \n",
       "1     NaN   NaN NaN  NaN    NaN   NaN     NaN  \n",
       "2     NaN   NaN NaN  NaN    NaN   NaN     NaN  \n",
       "3     NaN   NaN NaN  NaN    NaN   NaN     NaN  \n",
       "4     NaN   NaN NaN  NaN    NaN   NaN     NaN  "
      ]
     },
     "execution_count": 30,
     "metadata": {},
     "output_type": "execute_result"
    }
   ],
   "source": [
    "# esto solo es de pandas\n",
    "\n",
    "df_c=pd.read_clipboard()  # ctrl+V\n",
    "\n",
    "df_c.head()"
   ]
  },
  {
   "cell_type": "code",
   "execution_count": 31,
   "metadata": {},
   "outputs": [
    {
     "data": {
      "text/html": [
       "<div>\n",
       "<style scoped>\n",
       "    .dataframe tbody tr th:only-of-type {\n",
       "        vertical-align: middle;\n",
       "    }\n",
       "\n",
       "    .dataframe tbody tr th {\n",
       "        vertical-align: top;\n",
       "    }\n",
       "\n",
       "    .dataframe thead th {\n",
       "        text-align: right;\n",
       "    }\n",
       "</style>\n",
       "<table border=\"1\" class=\"dataframe\">\n",
       "  <thead>\n",
       "    <tr style=\"text-align: right;\">\n",
       "      <th></th>\n",
       "      <th>pd.read_clipboard()</th>\n",
       "    </tr>\n",
       "  </thead>\n",
       "  <tbody>\n",
       "  </tbody>\n",
       "</table>\n",
       "</div>"
      ],
      "text/plain": [
       "Empty DataFrame\n",
       "Columns: [pd.read_clipboard()]\n",
       "Index: []"
      ]
     },
     "execution_count": 31,
     "metadata": {},
     "output_type": "execute_result"
    }
   ],
   "source": [
    "pd.read_clipboard()"
   ]
  },
  {
   "cell_type": "markdown",
   "metadata": {},
   "source": [
    "### Ejemplo geolocalización por IP\n",
    "\n",
    "https://tools.keycdn.com/geo"
   ]
  },
  {
   "cell_type": "markdown",
   "metadata": {},
   "source": [
    "**¿Dónde estoy?**"
   ]
  },
  {
   "cell_type": "code",
   "execution_count": 32,
   "metadata": {},
   "outputs": [],
   "source": [
    "url='https://tools.keycdn.com/geo?host=2.136.116.82'"
   ]
  },
  {
   "cell_type": "code",
   "execution_count": 33,
   "metadata": {},
   "outputs": [],
   "source": [
    "html=req.get(url).content\n",
    "\n",
    "sopa=bs(html, 'html.parser')"
   ]
  },
  {
   "cell_type": "code",
   "execution_count": 35,
   "metadata": {},
   "outputs": [
    {
     "data": {
      "text/plain": [
       "<div class=\"mt-4\" id=\"geoResult\">\n",
       "<div class=\"bg-light medium rounded p-3\">\n",
       "<p class=\"small text-uppercase text-muted font-weight-semi-bold line-height-headings mb-2\">Location</p> <dl class=\"row mb-0\">\n",
       "<dt class=\"col-4\">City</dt><dd class=\"col-8 text-monospace\">Lasarte</dd><dt class=\"col-4\">Region</dt><dd class=\"col-8 text-monospace\">Gipuzkoa (SS)</dd><dt class=\"col-4\">Postal code</dt><dd class=\"col-8 text-monospace\">20160</dd><dt class=\"col-4\">Country</dt><dd class=\"col-8 text-monospace\">Spain (ES)</dd><dt class=\"col-4\">Continent</dt><dd class=\"col-8 text-monospace\">Europe (EU)</dd><dt class=\"col-4\">Coordinates</dt><dd class=\"col-8 text-monospace\">43.2675 (lat) / -2.0226 (long)</dd><dt class=\"col-4\">Time</dt><dd class=\"col-8 text-monospace\">2022-11-08 11:44:15 (Europe/Madrid)</dd> </dl>\n",
       "<p class=\"small text-uppercase text-muted font-weight-semi-bold line-height-headings mt-4 mb-2\">Network</p>\n",
       "<dl class=\"row mb-0\">\n",
       "<dt class=\"col-4\">IP address</dt><dd class=\"col-8 text-monospace\">2.136.116.82</dd><dt class=\"col-4\">Hostname</dt><dd class=\"col-8 text-monospace\">82.red-2-136-116.staticip.rima-tde.net</dd><dt class=\"col-4\">Provider</dt><dd class=\"col-8 text-monospace\">Telefonica De Espana S.a.u.</dd><dt class=\"col-4\">ASN</dt><dd class=\"col-8 text-monospace\">3352</dd> </dl>\n",
       "</div>\n",
       "<div class=\"mapael mt-4\" id=\"geoMap\">\n",
       "<div class=\"map position-relative\"></div>\n",
       "</div>\n",
       "</div>"
      ]
     },
     "execution_count": 35,
     "metadata": {},
     "output_type": "execute_result"
    }
   ],
   "source": [
    "sopa.find('div', id='geoResult')"
   ]
  },
  {
   "cell_type": "code",
   "execution_count": 40,
   "metadata": {},
   "outputs": [
    {
     "data": {
      "text/plain": [
       "<div class=\"mt-4\" id=\"geoResult\">\n",
       "<div class=\"bg-light medium rounded p-3\">\n",
       "<p class=\"small text-uppercase text-muted font-weight-semi-bold line-height-headings mb-2\">Location</p> <dl class=\"row mb-0\">\n",
       "<dt class=\"col-4\">City</dt><dd class=\"col-8 text-monospace\">Lasarte</dd><dt class=\"col-4\">Region</dt><dd class=\"col-8 text-monospace\">Gipuzkoa (SS)</dd><dt class=\"col-4\">Postal code</dt><dd class=\"col-8 text-monospace\">20160</dd><dt class=\"col-4\">Country</dt><dd class=\"col-8 text-monospace\">Spain (ES)</dd><dt class=\"col-4\">Continent</dt><dd class=\"col-8 text-monospace\">Europe (EU)</dd><dt class=\"col-4\">Coordinates</dt><dd class=\"col-8 text-monospace\">43.2675 (lat) / -2.0226 (long)</dd><dt class=\"col-4\">Time</dt><dd class=\"col-8 text-monospace\">2022-11-08 11:44:15 (Europe/Madrid)</dd> </dl>\n",
       "<p class=\"small text-uppercase text-muted font-weight-semi-bold line-height-headings mt-4 mb-2\">Network</p>\n",
       "<dl class=\"row mb-0\">\n",
       "<dt class=\"col-4\">IP address</dt><dd class=\"col-8 text-monospace\">2.136.116.82</dd><dt class=\"col-4\">Hostname</dt><dd class=\"col-8 text-monospace\">82.red-2-136-116.staticip.rima-tde.net</dd><dt class=\"col-4\">Provider</dt><dd class=\"col-8 text-monospace\">Telefonica De Espana S.a.u.</dd><dt class=\"col-4\">ASN</dt><dd class=\"col-8 text-monospace\">3352</dd> </dl>\n",
       "</div>\n",
       "<div class=\"mapael mt-4\" id=\"geoMap\">\n",
       "<div class=\"map position-relative\"></div>\n",
       "</div>\n",
       "</div>"
      ]
     },
     "execution_count": 40,
     "metadata": {},
     "output_type": "execute_result"
    }
   ],
   "source": [
    "sopa.find('div', {'id': 'geoResult', 'class': 'mt-4'})"
   ]
  },
  {
   "cell_type": "code",
   "execution_count": 41,
   "metadata": {},
   "outputs": [],
   "source": [
    "tabla=sopa.find('div', {'id': 'geoResult', 'class': 'mt-4'})"
   ]
  },
  {
   "cell_type": "code",
   "execution_count": 42,
   "metadata": {},
   "outputs": [
    {
     "data": {
      "text/plain": [
       "<div class=\"mt-4\" id=\"geoResult\">\n",
       "<div class=\"bg-light medium rounded p-3\">\n",
       "<p class=\"small text-uppercase text-muted font-weight-semi-bold line-height-headings mb-2\">Location</p> <dl class=\"row mb-0\">\n",
       "<dt class=\"col-4\">City</dt><dd class=\"col-8 text-monospace\">Lasarte</dd><dt class=\"col-4\">Region</dt><dd class=\"col-8 text-monospace\">Gipuzkoa (SS)</dd><dt class=\"col-4\">Postal code</dt><dd class=\"col-8 text-monospace\">20160</dd><dt class=\"col-4\">Country</dt><dd class=\"col-8 text-monospace\">Spain (ES)</dd><dt class=\"col-4\">Continent</dt><dd class=\"col-8 text-monospace\">Europe (EU)</dd><dt class=\"col-4\">Coordinates</dt><dd class=\"col-8 text-monospace\">43.2675 (lat) / -2.0226 (long)</dd><dt class=\"col-4\">Time</dt><dd class=\"col-8 text-monospace\">2022-11-08 11:44:15 (Europe/Madrid)</dd> </dl>\n",
       "<p class=\"small text-uppercase text-muted font-weight-semi-bold line-height-headings mt-4 mb-2\">Network</p>\n",
       "<dl class=\"row mb-0\">\n",
       "<dt class=\"col-4\">IP address</dt><dd class=\"col-8 text-monospace\">2.136.116.82</dd><dt class=\"col-4\">Hostname</dt><dd class=\"col-8 text-monospace\">82.red-2-136-116.staticip.rima-tde.net</dd><dt class=\"col-4\">Provider</dt><dd class=\"col-8 text-monospace\">Telefonica De Espana S.a.u.</dd><dt class=\"col-4\">ASN</dt><dd class=\"col-8 text-monospace\">3352</dd> </dl>\n",
       "</div>\n",
       "<div class=\"mapael mt-4\" id=\"geoMap\">\n",
       "<div class=\"map position-relative\"></div>\n",
       "</div>\n",
       "</div>"
      ]
     },
     "execution_count": 42,
     "metadata": {},
     "output_type": "execute_result"
    }
   ],
   "source": [
    "tabla"
   ]
  },
  {
   "cell_type": "code",
   "execution_count": 43,
   "metadata": {},
   "outputs": [
    {
     "data": {
      "text/plain": [
       "[<dd class=\"col-8 text-monospace\">Lasarte</dd>,\n",
       " <dd class=\"col-8 text-monospace\">Gipuzkoa (SS)</dd>,\n",
       " <dd class=\"col-8 text-monospace\">20160</dd>,\n",
       " <dd class=\"col-8 text-monospace\">Spain (ES)</dd>,\n",
       " <dd class=\"col-8 text-monospace\">Europe (EU)</dd>,\n",
       " <dd class=\"col-8 text-monospace\">43.2675 (lat) / -2.0226 (long)</dd>,\n",
       " <dd class=\"col-8 text-monospace\">2022-11-08 11:44:15 (Europe/Madrid)</dd>,\n",
       " <dd class=\"col-8 text-monospace\">2.136.116.82</dd>,\n",
       " <dd class=\"col-8 text-monospace\">82.red-2-136-116.staticip.rima-tde.net</dd>,\n",
       " <dd class=\"col-8 text-monospace\">Telefonica De Espana S.a.u.</dd>,\n",
       " <dd class=\"col-8 text-monospace\">3352</dd>]"
      ]
     },
     "execution_count": 43,
     "metadata": {},
     "output_type": "execute_result"
    }
   ],
   "source": [
    "tabla.find_all('dd')"
   ]
  },
  {
   "cell_type": "code",
   "execution_count": 46,
   "metadata": {},
   "outputs": [
    {
     "data": {
      "text/plain": [
       "['Lasarte',\n",
       " 'Gipuzkoa (SS)',\n",
       " '20160',\n",
       " 'Spain (ES)',\n",
       " 'Europe (EU)',\n",
       " '43.2675 (lat) / -2.0226 (long)',\n",
       " '2022-11-08 11:44:15 (Europe/Madrid)',\n",
       " '2.136.116.82',\n",
       " '82.red-2-136-116.staticip.rima-tde.net',\n",
       " 'Telefonica De Espana S.a.u.',\n",
       " '3352']"
      ]
     },
     "execution_count": 46,
     "metadata": {},
     "output_type": "execute_result"
    }
   ],
   "source": [
    "[e.text for e in tabla.find_all('dd')]"
   ]
  },
  {
   "cell_type": "code",
   "execution_count": 47,
   "metadata": {},
   "outputs": [],
   "source": [
    "conexion=[e.text for e in tabla.find_all('dd')]"
   ]
  },
  {
   "cell_type": "code",
   "execution_count": 48,
   "metadata": {},
   "outputs": [],
   "source": [
    "# creo una funcion para todo el proceso, segun ip\n",
    "\n",
    "def encontrar(ip):\n",
    "    \n",
    "    url=f'https://tools.keycdn.com/geo?host={ip}'\n",
    "    \n",
    "    html=req.get(url).content\n",
    "\n",
    "    sopa=bs(html, 'html.parser')\n",
    "    \n",
    "    tabla=sopa.find('div', {'id': 'geoResult', 'class': 'mt-4'})\n",
    "    \n",
    "    conexion=[e.text for e in tabla.find_all('dd')]\n",
    "    \n",
    "    return conexion"
   ]
  },
  {
   "cell_type": "code",
   "execution_count": 49,
   "metadata": {},
   "outputs": [
    {
     "data": {
      "text/plain": [
       "['Guam (GU)',\n",
       " 'Oceania (OC)',\n",
       " '13.4786 (lat) / 144.8183 (long)',\n",
       " '2022-11-08 20:50:37 (Pacific/Guam)',\n",
       " '168.123.4.5',\n",
       " '168.123.4.5',\n",
       " 'UNIVERSITY-GUAM',\n",
       " '395400']"
      ]
     },
     "execution_count": 49,
     "metadata": {},
     "output_type": "execute_result"
    }
   ],
   "source": [
    "encontrar('168.123.4.5')"
   ]
  },
  {
   "cell_type": "code",
   "execution_count": 50,
   "metadata": {},
   "outputs": [
    {
     "data": {
      "text/plain": [
       "['Madrid',\n",
       " 'Madrid (M)',\n",
       " '28019',\n",
       " 'Spain (ES)',\n",
       " 'Europe (EU)',\n",
       " '40.4163 (lat) / -3.6934 (long)',\n",
       " '2022-11-08 11:50:47 (Europe/Madrid)',\n",
       " '46.222.34.200',\n",
       " '46.222.34.200',\n",
       " 'Xtra Telecom S.A.',\n",
       " '15704']"
      ]
     },
     "execution_count": 50,
     "metadata": {},
     "output_type": "execute_result"
    }
   ],
   "source": [
    "encontrar('46.222.34.200')"
   ]
  },
  {
   "cell_type": "markdown",
   "metadata": {},
   "source": [
    "### Ejemplo LinkedIn"
   ]
  },
  {
   "cell_type": "code",
   "execution_count": 52,
   "metadata": {},
   "outputs": [],
   "source": [
    "url='https://www.linkedin.com/jobs/search/?currentJobId=3237846298&f_TPR=r604800&keywords=analista%20de%20datos&refresh=true'"
   ]
  },
  {
   "cell_type": "code",
   "execution_count": 53,
   "metadata": {},
   "outputs": [],
   "source": [
    "html=req.get(url).text\n",
    "\n",
    "sopa=bs(html, 'html.parser')"
   ]
  },
  {
   "cell_type": "code",
   "execution_count": 60,
   "metadata": {
    "scrolled": false
   },
   "outputs": [],
   "source": [
    "tarjetas=sopa.find('ul', class_='jobs-search__results-list')"
   ]
  },
  {
   "cell_type": "code",
   "execution_count": 63,
   "metadata": {
    "scrolled": false
   },
   "outputs": [
    {
     "data": {
      "text/plain": [
       "25"
      ]
     },
     "execution_count": 63,
     "metadata": {},
     "output_type": "execute_result"
    }
   ],
   "source": [
    "len(tarjetas.find_all('li'))"
   ]
  },
  {
   "cell_type": "code",
   "execution_count": 83,
   "metadata": {},
   "outputs": [],
   "source": [
    "curro=tarjetas.find_all('li')[0]\n",
    "\n",
    "titulo=curro.find('h3').text.strip()\n",
    "\n",
    "empresa=curro.find('h4').text.strip()\n",
    "\n",
    "pais=curro.find('span', class_=\"job-search-card__location\").text.strip()\n",
    "\n",
    "link=curro.find('a').attrs['href']\n",
    "\n",
    "fecha=curro.find('time').attrs['datetime']"
   ]
  },
  {
   "cell_type": "code",
   "execution_count": 84,
   "metadata": {},
   "outputs": [
    {
     "data": {
      "text/plain": [
       "{'titulo': 'Data Analyst',\n",
       " 'empresa': 'FIGS',\n",
       " 'pais': 'Santa Monica, CA',\n",
       " 'link': 'https://www.linkedin.com/jobs/view/data-analyst-at-figs-3303419441?refId=gRJuwOsUcW60RoWpDR7Lfw%3D%3D&trackingId=42JSFsENyy%2BLqDvMPDQwzQ%3D%3D&position=1&pageNum=0&trk=public_jobs_jserp-result_search-card',\n",
       " 'fecha': '2022-11-01'}"
      ]
     },
     "execution_count": 84,
     "metadata": {},
     "output_type": "execute_result"
    }
   ],
   "source": [
    "{'titulo': titulo,\n",
    " 'empresa': empresa,\n",
    " 'pais': pais,\n",
    " 'link': link,\n",
    " 'fecha': fecha}"
   ]
  },
  {
   "cell_type": "code",
   "execution_count": 85,
   "metadata": {
    "scrolled": false
   },
   "outputs": [],
   "source": [
    "def linkedin(keywords, loc, n_secs, num_pages):\n",
    "    \n",
    "    URL='https://www.linkedin.com/jobs/search/'\n",
    "    \n",
    "    data=[]\n",
    "    \n",
    "    for i in range(num_pages):\n",
    "        \n",
    "        scrape_url=''.join([URL, \n",
    "                            f'?keywords={keywords}',\n",
    "                            f'&location={loc}',\n",
    "                            f'&f_TPR={n_secs}',\n",
    "                            f'&start={i*25}'])\n",
    "        \n",
    "        print(scrape_url)\n",
    "        \n",
    "        html=req.get(scrape_url).text\n",
    "\n",
    "        sopa=bs(html, 'html.parser')\n",
    "        \n",
    "        tarjetas=sopa.find('ul', class_='jobs-search__results-list').find_all('li')\n",
    "        \n",
    "        for oferta in tarjetas:  # bucle sobre los li, las tarjetas de cada curro\n",
    "            \n",
    "            curro=oferta\n",
    "\n",
    "            titulo=curro.find('h3').text.strip()\n",
    "\n",
    "            empresa=curro.find('h4').text.strip()\n",
    "\n",
    "            pais=curro.find('span', class_=\"job-search-card__location\").text.strip()\n",
    "\n",
    "            link_curro=curro.find('a').attrs['href']\n",
    "\n",
    "            fecha_publi=curro.find('time').attrs['datetime']\n",
    "                        \n",
    "            data.append({'titulo': titulo,\n",
    "                         'empresa': empresa,\n",
    "                         'pais': pais,\n",
    "                         'link': link_curro,\n",
    "                         'fecha': fecha_publi})\n",
    "            \n",
    "            \n",
    "    return pd.DataFrame(data)"
   ]
  },
  {
   "cell_type": "code",
   "execution_count": 86,
   "metadata": {},
   "outputs": [
    {
     "name": "stdout",
     "output_type": "stream",
     "text": [
      "https://www.linkedin.com/jobs/search/?keywords=ingeniero de datos&location=spain&f_TPR=60000&start=0\n",
      "https://www.linkedin.com/jobs/search/?keywords=ingeniero de datos&location=spain&f_TPR=60000&start=25\n",
      "https://www.linkedin.com/jobs/search/?keywords=ingeniero de datos&location=spain&f_TPR=60000&start=50\n"
     ]
    }
   ],
   "source": [
    "df=linkedin('ingeniero de datos', 'spain', 60000, 3)"
   ]
  },
  {
   "cell_type": "code",
   "execution_count": 87,
   "metadata": {
    "scrolled": false
   },
   "outputs": [
    {
     "data": {
      "text/html": [
       "<div>\n",
       "<style scoped>\n",
       "    .dataframe tbody tr th:only-of-type {\n",
       "        vertical-align: middle;\n",
       "    }\n",
       "\n",
       "    .dataframe tbody tr th {\n",
       "        vertical-align: top;\n",
       "    }\n",
       "\n",
       "    .dataframe thead th {\n",
       "        text-align: right;\n",
       "    }\n",
       "</style>\n",
       "<table border=\"1\" class=\"dataframe\">\n",
       "  <thead>\n",
       "    <tr style=\"text-align: right;\">\n",
       "      <th></th>\n",
       "      <th>titulo</th>\n",
       "      <th>empresa</th>\n",
       "      <th>pais</th>\n",
       "      <th>link</th>\n",
       "      <th>fecha</th>\n",
       "    </tr>\n",
       "  </thead>\n",
       "  <tbody>\n",
       "    <tr>\n",
       "      <th>0</th>\n",
       "      <td>Data Engineer Intern</td>\n",
       "      <td>MANGO</td>\n",
       "      <td>Barcelona, Catalonia, Spain</td>\n",
       "      <td>https://es.linkedin.com/jobs/view/data-enginee...</td>\n",
       "      <td>2022-10-27</td>\n",
       "    </tr>\n",
       "    <tr>\n",
       "      <th>1</th>\n",
       "      <td>Data Engineer</td>\n",
       "      <td>Orange Bank</td>\n",
       "      <td>Pozuelo de Alarcón, Community of Madrid, Spain</td>\n",
       "      <td>https://es.linkedin.com/jobs/view/data-enginee...</td>\n",
       "      <td>2022-11-03</td>\n",
       "    </tr>\n",
       "    <tr>\n",
       "      <th>2</th>\n",
       "      <td>Data Engineer</td>\n",
       "      <td>PIXIE</td>\n",
       "      <td>Madrid, Community of Madrid, Spain</td>\n",
       "      <td>https://es.linkedin.com/jobs/view/data-enginee...</td>\n",
       "      <td>2022-11-07</td>\n",
       "    </tr>\n",
       "    <tr>\n",
       "      <th>3</th>\n",
       "      <td>Data Engineer (Junior)</td>\n",
       "      <td>urbanData Analytics (Alantra Group)</td>\n",
       "      <td>Madrid, Community of Madrid, Spain</td>\n",
       "      <td>https://es.linkedin.com/jobs/view/data-enginee...</td>\n",
       "      <td>2022-10-20</td>\n",
       "    </tr>\n",
       "    <tr>\n",
       "      <th>4</th>\n",
       "      <td>Data Engineer</td>\n",
       "      <td>Experfy</td>\n",
       "      <td>Barcelona, Catalonia, Spain</td>\n",
       "      <td>https://es.linkedin.com/jobs/view/data-enginee...</td>\n",
       "      <td>2022-10-11</td>\n",
       "    </tr>\n",
       "  </tbody>\n",
       "</table>\n",
       "</div>"
      ],
      "text/plain": [
       "                   titulo                              empresa  \\\n",
       "0    Data Engineer Intern                                MANGO   \n",
       "1           Data Engineer                          Orange Bank   \n",
       "2           Data Engineer                                PIXIE   \n",
       "3  Data Engineer (Junior)  urbanData Analytics (Alantra Group)   \n",
       "4           Data Engineer                              Experfy   \n",
       "\n",
       "                                             pais  \\\n",
       "0                     Barcelona, Catalonia, Spain   \n",
       "1  Pozuelo de Alarcón, Community of Madrid, Spain   \n",
       "2              Madrid, Community of Madrid, Spain   \n",
       "3              Madrid, Community of Madrid, Spain   \n",
       "4                     Barcelona, Catalonia, Spain   \n",
       "\n",
       "                                                link       fecha  \n",
       "0  https://es.linkedin.com/jobs/view/data-enginee...  2022-10-27  \n",
       "1  https://es.linkedin.com/jobs/view/data-enginee...  2022-11-03  \n",
       "2  https://es.linkedin.com/jobs/view/data-enginee...  2022-11-07  \n",
       "3  https://es.linkedin.com/jobs/view/data-enginee...  2022-10-20  \n",
       "4  https://es.linkedin.com/jobs/view/data-enginee...  2022-10-11  "
      ]
     },
     "execution_count": 87,
     "metadata": {},
     "output_type": "execute_result"
    }
   ],
   "source": [
    "df.head()"
   ]
  },
  {
   "cell_type": "code",
   "execution_count": 88,
   "metadata": {
    "scrolled": false
   },
   "outputs": [
    {
     "data": {
      "text/html": [
       "<table border=\"1\" class=\"dataframe\">\n",
       "  <thead>\n",
       "    <tr style=\"text-align: right;\">\n",
       "      <th></th>\n",
       "      <th>titulo</th>\n",
       "      <th>empresa</th>\n",
       "      <th>pais</th>\n",
       "      <th>link</th>\n",
       "      <th>fecha</th>\n",
       "    </tr>\n",
       "  </thead>\n",
       "  <tbody>\n",
       "    <tr>\n",
       "      <th>0</th>\n",
       "      <td>Data Engineer Intern</td>\n",
       "      <td>MANGO</td>\n",
       "      <td>Barcelona, Catalonia, Spain</td>\n",
       "      <td><a href=\"https://es.linkedin.com/jobs/view/data-engineer-intern-at-mango-3343089377?refId=LFZUw7QY0UVirrLD8JJ%2BSA%3D%3D&trackingId=xwH7axPs0AzwWVzc2%2Bl3lA%3D%3D&position=1&pageNum=0&trk=public_jobs_jserp-result_search-card\" target=\"_blank\">https://es.linkedin.com/jobs/view/data-engineer-intern-at-mango-3343089377?refId=LFZUw7QY0UVirrLD8JJ%2BSA%3D%3D&amp;trackingId=xwH7axPs0AzwWVzc2%2Bl3lA%3D%3D&amp;position=1&amp;pageNum=0&amp;trk=public_jobs_jserp-result_search-card</a></td>\n",
       "      <td>2022-10-27</td>\n",
       "    </tr>\n",
       "    <tr>\n",
       "      <th>1</th>\n",
       "      <td>Data Engineer</td>\n",
       "      <td>Orange Bank</td>\n",
       "      <td>Pozuelo de Alarcón, Community of Madrid, Spain</td>\n",
       "      <td><a href=\"https://es.linkedin.com/jobs/view/data-engineer-at-orange-bank-3341547932?refId=LFZUw7QY0UVirrLD8JJ%2BSA%3D%3D&trackingId=C9Ut82PuckJWAQrEDV%2BjIA%3D%3D&position=2&pageNum=0&trk=public_jobs_jserp-result_search-card\" target=\"_blank\">https://es.linkedin.com/jobs/view/data-engineer-at-orange-bank-3341547932?refId=LFZUw7QY0UVirrLD8JJ%2BSA%3D%3D&amp;trackingId=C9Ut82PuckJWAQrEDV%2BjIA%3D%3D&amp;position=2&amp;pageNum=0&amp;trk=public_jobs_jserp-result_search-card</a></td>\n",
       "      <td>2022-11-03</td>\n",
       "    </tr>\n",
       "    <tr>\n",
       "      <th>2</th>\n",
       "      <td>Data Engineer</td>\n",
       "      <td>PIXIE</td>\n",
       "      <td>Madrid, Community of Madrid, Spain</td>\n",
       "      <td><a href=\"https://es.linkedin.com/jobs/view/data-engineer-at-pixie-3346442539?refId=LFZUw7QY0UVirrLD8JJ%2BSA%3D%3D&trackingId=Dk9RhpJN8c4cFMbKgJkiYw%3D%3D&position=3&pageNum=0&trk=public_jobs_jserp-result_search-card\" target=\"_blank\">https://es.linkedin.com/jobs/view/data-engineer-at-pixie-3346442539?refId=LFZUw7QY0UVirrLD8JJ%2BSA%3D%3D&amp;trackingId=Dk9RhpJN8c4cFMbKgJkiYw%3D%3D&amp;position=3&amp;pageNum=0&amp;trk=public_jobs_jserp-result_search-card</a></td>\n",
       "      <td>2022-11-07</td>\n",
       "    </tr>\n",
       "    <tr>\n",
       "      <th>3</th>\n",
       "      <td>Data Engineer (Junior)</td>\n",
       "      <td>urbanData Analytics (Alantra Group)</td>\n",
       "      <td>Madrid, Community of Madrid, Spain</td>\n",
       "      <td><a href=\"https://es.linkedin.com/jobs/view/data-engineer-junior-at-urbandata-analytics-alantra-group-3317325293?refId=LFZUw7QY0UVirrLD8JJ%2BSA%3D%3D&trackingId=bonvwxtum16CcfwQiL2jBg%3D%3D&position=4&pageNum=0&trk=public_jobs_jserp-result_search-card\" target=\"_blank\">https://es.linkedin.com/jobs/view/data-engineer-junior-at-urbandata-analytics-alantra-group-3317325293?refId=LFZUw7QY0UVirrLD8JJ%2BSA%3D%3D&amp;trackingId=bonvwxtum16CcfwQiL2jBg%3D%3D&amp;position=4&amp;pageNum=0&amp;trk=public_jobs_jserp-result_search-card</a></td>\n",
       "      <td>2022-10-20</td>\n",
       "    </tr>\n",
       "    <tr>\n",
       "      <th>4</th>\n",
       "      <td>Data Engineer</td>\n",
       "      <td>Experfy</td>\n",
       "      <td>Barcelona, Catalonia, Spain</td>\n",
       "      <td><a href=\"https://es.linkedin.com/jobs/view/data-engineer-at-experfy-3347220098?refId=LFZUw7QY0UVirrLD8JJ%2BSA%3D%3D&trackingId=CQI7Zz3YC23V8FwIwpzB8g%3D%3D&position=5&pageNum=0&trk=public_jobs_jserp-result_search-card\" target=\"_blank\">https://es.linkedin.com/jobs/view/data-engineer-at-experfy-3347220098?refId=LFZUw7QY0UVirrLD8JJ%2BSA%3D%3D&amp;trackingId=CQI7Zz3YC23V8FwIwpzB8g%3D%3D&amp;position=5&amp;pageNum=0&amp;trk=public_jobs_jserp-result_search-card</a></td>\n",
       "      <td>2022-10-11</td>\n",
       "    </tr>\n",
       "    <tr>\n",
       "      <th>5</th>\n",
       "      <td>Data Engineer (Junior)</td>\n",
       "      <td>urbanData Analytics (Alantra Group)</td>\n",
       "      <td>Madrid, Community of Madrid, Spain</td>\n",
       "      <td><a href=\"https://es.linkedin.com/jobs/view/data-engineer-junior-at-urbandata-analytics-alantra-group-3317325295?refId=LFZUw7QY0UVirrLD8JJ%2BSA%3D%3D&trackingId=UVXLb7eI1hA7tiZ8l4wKNw%3D%3D&position=6&pageNum=0&trk=public_jobs_jserp-result_search-card\" target=\"_blank\">https://es.linkedin.com/jobs/view/data-engineer-junior-at-urbandata-analytics-alantra-group-3317325295?refId=LFZUw7QY0UVirrLD8JJ%2BSA%3D%3D&amp;trackingId=UVXLb7eI1hA7tiZ8l4wKNw%3D%3D&amp;position=6&amp;pageNum=0&amp;trk=public_jobs_jserp-result_search-card</a></td>\n",
       "      <td>2022-10-20</td>\n",
       "    </tr>\n",
       "    <tr>\n",
       "      <th>6</th>\n",
       "      <td>Analista de datos Junior</td>\n",
       "      <td>Grupo Planeta</td>\n",
       "      <td>Barcelona, Catalonia, Spain</td>\n",
       "      <td><a href=\"https://es.linkedin.com/jobs/view/analista-de-datos-junior-at-grupo-planeta-2970849771?refId=LFZUw7QY0UVirrLD8JJ%2BSA%3D%3D&trackingId=CS0QgHl8xA4S92aWirE6WQ%3D%3D&position=7&pageNum=0&trk=public_jobs_jserp-result_search-card\" target=\"_blank\">https://es.linkedin.com/jobs/view/analista-de-datos-junior-at-grupo-planeta-2970849771?refId=LFZUw7QY0UVirrLD8JJ%2BSA%3D%3D&amp;trackingId=CS0QgHl8xA4S92aWirE6WQ%3D%3D&amp;position=7&amp;pageNum=0&amp;trk=public_jobs_jserp-result_search-card</a></td>\n",
       "      <td>2022-03-10</td>\n",
       "    </tr>\n",
       "    <tr>\n",
       "      <th>7</th>\n",
       "      <td>Analista de Datos Junior</td>\n",
       "      <td>btd grupo</td>\n",
       "      <td>Madrid, Community of Madrid, Spain</td>\n",
       "      <td><a href=\"https://es.linkedin.com/jobs/view/analista-de-datos-junior-at-btd-grupo-3330106465?refId=LFZUw7QY0UVirrLD8JJ%2BSA%3D%3D&trackingId=O2GzgL5aU57VrII%2FQM6fMQ%3D%3D&position=8&pageNum=0&trk=public_jobs_jserp-result_search-card\" target=\"_blank\">https://es.linkedin.com/jobs/view/analista-de-datos-junior-at-btd-grupo-3330106465?refId=LFZUw7QY0UVirrLD8JJ%2BSA%3D%3D&amp;trackingId=O2GzgL5aU57VrII%2FQM6fMQ%3D%3D&amp;position=8&amp;pageNum=0&amp;trk=public_jobs_jserp-result_search-card</a></td>\n",
       "      <td>2022-09-30</td>\n",
       "    </tr>\n",
       "    <tr>\n",
       "      <th>8</th>\n",
       "      <td>Data Engineer</td>\n",
       "      <td>ForwardKeys</td>\n",
       "      <td>Valencia, Valencian Community, Spain</td>\n",
       "      <td><a href=\"https://es.linkedin.com/jobs/view/data-engineer-at-forwardkeys-3345357926?refId=LFZUw7QY0UVirrLD8JJ%2BSA%3D%3D&trackingId=LuWf%2FJTbdlaXGP74tjdQlQ%3D%3D&position=9&pageNum=0&trk=public_jobs_jserp-result_search-card\" target=\"_blank\">https://es.linkedin.com/jobs/view/data-engineer-at-forwardkeys-3345357926?refId=LFZUw7QY0UVirrLD8JJ%2BSA%3D%3D&amp;trackingId=LuWf%2FJTbdlaXGP74tjdQlQ%3D%3D&amp;position=9&amp;pageNum=0&amp;trk=public_jobs_jserp-result_search-card</a></td>\n",
       "      <td>2022-11-04</td>\n",
       "    </tr>\n",
       "    <tr>\n",
       "      <th>9</th>\n",
       "      <td>Junior Data Developer</td>\n",
       "      <td>We Bring Strategy Consultants</td>\n",
       "      <td>Madrid, Community of Madrid, Spain</td>\n",
       "      <td><a href=\"https://es.linkedin.com/jobs/view/junior-data-developer-at-we-bring-strategy-consultants-3342193780?refId=LFZUw7QY0UVirrLD8JJ%2BSA%3D%3D&trackingId=HDxSdA7Q63EfUG5Aheblpg%3D%3D&position=10&pageNum=0&trk=public_jobs_jserp-result_search-card\" target=\"_blank\">https://es.linkedin.com/jobs/view/junior-data-developer-at-we-bring-strategy-consultants-3342193780?refId=LFZUw7QY0UVirrLD8JJ%2BSA%3D%3D&amp;trackingId=HDxSdA7Q63EfUG5Aheblpg%3D%3D&amp;position=10&amp;pageNum=0&amp;trk=public_jobs_jserp-result_search-card</a></td>\n",
       "      <td>2022-10-09</td>\n",
       "    </tr>\n",
       "    <tr>\n",
       "      <th>10</th>\n",
       "      <td>Data Engineer (Junior)</td>\n",
       "      <td>urbanData Analytics (Alantra Group)</td>\n",
       "      <td>Madrid, Community of Madrid, Spain</td>\n",
       "      <td><a href=\"https://es.linkedin.com/jobs/view/data-engineer-junior-at-urbandata-analytics-alantra-group-3342601820?refId=LFZUw7QY0UVirrLD8JJ%2BSA%3D%3D&trackingId=3apXoOi8wcgImwgiEBnUqQ%3D%3D&position=11&pageNum=0&trk=public_jobs_jserp-result_search-card\" target=\"_blank\">https://es.linkedin.com/jobs/view/data-engineer-junior-at-urbandata-analytics-alantra-group-3342601820?refId=LFZUw7QY0UVirrLD8JJ%2BSA%3D%3D&amp;trackingId=3apXoOi8wcgImwgiEBnUqQ%3D%3D&amp;position=11&amp;pageNum=0&amp;trk=public_jobs_jserp-result_search-card</a></td>\n",
       "      <td>2022-10-20</td>\n",
       "    </tr>\n",
       "    <tr>\n",
       "      <th>11</th>\n",
       "      <td>JUNIOR DATA ANALYST</td>\n",
       "      <td>MANGO</td>\n",
       "      <td>Barcelona, Catalonia, Spain</td>\n",
       "      <td><a href=\"https://es.linkedin.com/jobs/view/junior-data-analyst-at-mango-3349478099?refId=LFZUw7QY0UVirrLD8JJ%2BSA%3D%3D&trackingId=xkxKmw2KvntSDvdWtJahuw%3D%3D&position=12&pageNum=0&trk=public_jobs_jserp-result_search-card\" target=\"_blank\">https://es.linkedin.com/jobs/view/junior-data-analyst-at-mango-3349478099?refId=LFZUw7QY0UVirrLD8JJ%2BSA%3D%3D&amp;trackingId=xkxKmw2KvntSDvdWtJahuw%3D%3D&amp;position=12&amp;pageNum=0&amp;trk=public_jobs_jserp-result_search-card</a></td>\n",
       "      <td>2022-10-13</td>\n",
       "    </tr>\n",
       "    <tr>\n",
       "      <th>12</th>\n",
       "      <td>Senior Marketing Data Analyst</td>\n",
       "      <td>Treatwell</td>\n",
       "      <td>Madrid, Community of Madrid, Spain</td>\n",
       "      <td><a href=\"https://es.linkedin.com/jobs/view/senior-marketing-data-analyst-at-treatwell-3347899484?refId=LFZUw7QY0UVirrLD8JJ%2BSA%3D%3D&trackingId=hsAKYf4ZRRO5tGpWmIJeOQ%3D%3D&position=13&pageNum=0&trk=public_jobs_jserp-result_search-card\" target=\"_blank\">https://es.linkedin.com/jobs/view/senior-marketing-data-analyst-at-treatwell-3347899484?refId=LFZUw7QY0UVirrLD8JJ%2BSA%3D%3D&amp;trackingId=hsAKYf4ZRRO5tGpWmIJeOQ%3D%3D&amp;position=13&amp;pageNum=0&amp;trk=public_jobs_jserp-result_search-card</a></td>\n",
       "      <td>2022-11-08</td>\n",
       "    </tr>\n",
       "    <tr>\n",
       "      <th>13</th>\n",
       "      <td>Data Developer</td>\n",
       "      <td>BBVA IT España</td>\n",
       "      <td>Madrid, Community of Madrid, Spain</td>\n",
       "      <td><a href=\"https://es.linkedin.com/jobs/view/data-developer-at-bbva-it-espa%C3%B1a-3290571154?refId=LFZUw7QY0UVirrLD8JJ%2BSA%3D%3D&trackingId=qNbm8D6NvOHS%2Fnkq6nplDA%3D%3D&position=14&pageNum=0&trk=public_jobs_jserp-result_search-card\" target=\"_blank\">https://es.linkedin.com/jobs/view/data-developer-at-bbva-it-espa%C3%B1a-3290571154?refId=LFZUw7QY0UVirrLD8JJ%2BSA%3D%3D&amp;trackingId=qNbm8D6NvOHS%2Fnkq6nplDA%3D%3D&amp;position=14&amp;pageNum=0&amp;trk=public_jobs_jserp-result_search-card</a></td>\n",
       "      <td>2022-10-24</td>\n",
       "    </tr>\n",
       "    <tr>\n",
       "      <th>14</th>\n",
       "      <td>Data Engineer</td>\n",
       "      <td>K2 Partnering Solutions</td>\n",
       "      <td>Spain</td>\n",
       "      <td><a href=\"https://es.linkedin.com/jobs/view/data-engineer-at-k2-partnering-solutions-3336336666?refId=LFZUw7QY0UVirrLD8JJ%2BSA%3D%3D&trackingId=Hvu4wT0egWvuxwtcQKShUQ%3D%3D&position=15&pageNum=0&trk=public_jobs_jserp-result_search-card\" target=\"_blank\">https://es.linkedin.com/jobs/view/data-engineer-at-k2-partnering-solutions-3336336666?refId=LFZUw7QY0UVirrLD8JJ%2BSA%3D%3D&amp;trackingId=Hvu4wT0egWvuxwtcQKShUQ%3D%3D&amp;position=15&amp;pageNum=0&amp;trk=public_jobs_jserp-result_search-card</a></td>\n",
       "      <td>2022-11-03</td>\n",
       "    </tr>\n",
       "    <tr>\n",
       "      <th>15</th>\n",
       "      <td>Analista de Datos Junior</td>\n",
       "      <td>ILERNA FP Online</td>\n",
       "      <td>Greater Madrid Metropolitan Area</td>\n",
       "      <td><a href=\"https://es.linkedin.com/jobs/view/analista-de-datos-junior-at-ilerna-fp-online-3334675991?refId=LFZUw7QY0UVirrLD8JJ%2BSA%3D%3D&trackingId=Wvjj%2FrSioaCpr34CmDgSdQ%3D%3D&position=16&pageNum=0&trk=public_jobs_jserp-result_search-card\" target=\"_blank\">https://es.linkedin.com/jobs/view/analista-de-datos-junior-at-ilerna-fp-online-3334675991?refId=LFZUw7QY0UVirrLD8JJ%2BSA%3D%3D&amp;trackingId=Wvjj%2FrSioaCpr34CmDgSdQ%3D%3D&amp;position=16&amp;pageNum=0&amp;trk=public_jobs_jserp-result_search-card</a></td>\n",
       "      <td>2022-10-31</td>\n",
       "    </tr>\n",
       "    <tr>\n",
       "      <th>16</th>\n",
       "      <td>Data Engineer</td>\n",
       "      <td>Talent Search People</td>\n",
       "      <td>Barcelona, Catalonia, Spain</td>\n",
       "      <td><a href=\"https://es.linkedin.com/jobs/view/data-engineer-at-talent-search-people-3341235014?refId=LFZUw7QY0UVirrLD8JJ%2BSA%3D%3D&trackingId=srFbKDPpOuaWuW%2FGcah3DA%3D%3D&position=17&pageNum=0&trk=public_jobs_jserp-result_search-card\" target=\"_blank\">https://es.linkedin.com/jobs/view/data-engineer-at-talent-search-people-3341235014?refId=LFZUw7QY0UVirrLD8JJ%2BSA%3D%3D&amp;trackingId=srFbKDPpOuaWuW%2FGcah3DA%3D%3D&amp;position=17&amp;pageNum=0&amp;trk=public_jobs_jserp-result_search-card</a></td>\n",
       "      <td>2022-11-07</td>\n",
       "    </tr>\n",
       "    <tr>\n",
       "      <th>17</th>\n",
       "      <td>Data Engineer</td>\n",
       "      <td>Iwantic</td>\n",
       "      <td>Murcia, Región de Murcia, Spain</td>\n",
       "      <td><a href=\"https://es.linkedin.com/jobs/view/data-engineer-at-iwantic-3341549240?refId=LFZUw7QY0UVirrLD8JJ%2BSA%3D%3D&trackingId=Wx9dXcqaXCcXQmpXir%2B49Q%3D%3D&position=18&pageNum=0&trk=public_jobs_jserp-result_search-card\" target=\"_blank\">https://es.linkedin.com/jobs/view/data-engineer-at-iwantic-3341549240?refId=LFZUw7QY0UVirrLD8JJ%2BSA%3D%3D&amp;trackingId=Wx9dXcqaXCcXQmpXir%2B49Q%3D%3D&amp;position=18&amp;pageNum=0&amp;trk=public_jobs_jserp-result_search-card</a></td>\n",
       "      <td>2022-11-03</td>\n",
       "    </tr>\n",
       "    <tr>\n",
       "      <th>18</th>\n",
       "      <td>Data Engineer - Join Leading Start-up Success Story</td>\n",
       "      <td>Allai - weareallai.com</td>\n",
       "      <td>Barcelona, Catalonia, Spain</td>\n",
       "      <td><a href=\"https://es.linkedin.com/jobs/view/data-engineer-join-leading-start-up-success-story-at-allai-weareallai-com-3350975534?refId=LFZUw7QY0UVirrLD8JJ%2BSA%3D%3D&trackingId=9FsRYZjVOYyRYr1C7XFrKA%3D%3D&position=19&pageNum=0&trk=public_jobs_jserp-result_search-card\" target=\"_blank\">https://es.linkedin.com/jobs/view/data-engineer-join-leading-start-up-success-story-at-allai-weareallai-com-3350975534?refId=LFZUw7QY0UVirrLD8JJ%2BSA%3D%3D&amp;trackingId=9FsRYZjVOYyRYr1C7XFrKA%3D%3D&amp;position=19&amp;pageNum=0&amp;trk=public_jobs_jserp-result_search-card</a></td>\n",
       "      <td>2022-11-08</td>\n",
       "    </tr>\n",
       "    <tr>\n",
       "      <th>19</th>\n",
       "      <td>Data Engineer</td>\n",
       "      <td>Enzyme</td>\n",
       "      <td>Barcelona, Catalonia, Spain</td>\n",
       "      <td><a href=\"https://es.linkedin.com/jobs/view/data-engineer-at-enzyme-3312666818?refId=LFZUw7QY0UVirrLD8JJ%2BSA%3D%3D&trackingId=em8diO%2Fxx279oYVxrIZ4Zw%3D%3D&position=20&pageNum=0&trk=public_jobs_jserp-result_search-card\" target=\"_blank\">https://es.linkedin.com/jobs/view/data-engineer-at-enzyme-3312666818?refId=LFZUw7QY0UVirrLD8JJ%2BSA%3D%3D&amp;trackingId=em8diO%2Fxx279oYVxrIZ4Zw%3D%3D&amp;position=20&amp;pageNum=0&amp;trk=public_jobs_jserp-result_search-card</a></td>\n",
       "      <td>2022-09-17</td>\n",
       "    </tr>\n",
       "    <tr>\n",
       "      <th>20</th>\n",
       "      <td>Data Analyst</td>\n",
       "      <td>Ukio</td>\n",
       "      <td>Barcelona, Catalonia, Spain</td>\n",
       "      <td><a href=\"https://es.linkedin.com/jobs/view/data-analyst-at-ukio-3276060853?refId=LFZUw7QY0UVirrLD8JJ%2BSA%3D%3D&trackingId=oUyFZM0cWVsiFXf20Aaeqg%3D%3D&position=21&pageNum=0&trk=public_jobs_jserp-result_search-card\" target=\"_blank\">https://es.linkedin.com/jobs/view/data-analyst-at-ukio-3276060853?refId=LFZUw7QY0UVirrLD8JJ%2BSA%3D%3D&amp;trackingId=oUyFZM0cWVsiFXf20Aaeqg%3D%3D&amp;position=21&amp;pageNum=0&amp;trk=public_jobs_jserp-result_search-card</a></td>\n",
       "      <td>2022-09-19</td>\n",
       "    </tr>\n",
       "    <tr>\n",
       "      <th>21</th>\n",
       "      <td>Data Engineer</td>\n",
       "      <td>The Cocktail</td>\n",
       "      <td>Spain</td>\n",
       "      <td><a href=\"https://es.linkedin.com/jobs/view/data-engineer-at-the-cocktail-3322507715?refId=LFZUw7QY0UVirrLD8JJ%2BSA%3D%3D&trackingId=j0PafULFcd%2BINh7tGUhCog%3D%3D&position=22&pageNum=0&trk=public_jobs_jserp-result_search-card\" target=\"_blank\">https://es.linkedin.com/jobs/view/data-engineer-at-the-cocktail-3322507715?refId=LFZUw7QY0UVirrLD8JJ%2BSA%3D%3D&amp;trackingId=j0PafULFcd%2BINh7tGUhCog%3D%3D&amp;position=22&amp;pageNum=0&amp;trk=public_jobs_jserp-result_search-card</a></td>\n",
       "      <td>2022-10-19</td>\n",
       "    </tr>\n",
       "    <tr>\n",
       "      <th>22</th>\n",
       "      <td>Data Engineer</td>\n",
       "      <td>Ookla</td>\n",
       "      <td>Málaga, Andalusia, Spain</td>\n",
       "      <td><a href=\"https://es.linkedin.com/jobs/view/data-engineer-at-ookla-3314494037?refId=LFZUw7QY0UVirrLD8JJ%2BSA%3D%3D&trackingId=yM5C83FJWHPBwh4JsaEXJA%3D%3D&position=23&pageNum=0&trk=public_jobs_jserp-result_search-card\" target=\"_blank\">https://es.linkedin.com/jobs/view/data-engineer-at-ookla-3314494037?refId=LFZUw7QY0UVirrLD8JJ%2BSA%3D%3D&amp;trackingId=yM5C83FJWHPBwh4JsaEXJA%3D%3D&amp;position=23&amp;pageNum=0&amp;trk=public_jobs_jserp-result_search-card</a></td>\n",
       "      <td>2022-09-28</td>\n",
       "    </tr>\n",
       "    <tr>\n",
       "      <th>23</th>\n",
       "      <td>Data Visualization Analyst</td>\n",
       "      <td>Experfy</td>\n",
       "      <td>Barcelona, Catalonia, Spain</td>\n",
       "      <td><a href=\"https://es.linkedin.com/jobs/view/data-visualization-analyst-at-experfy-3347571251?refId=LFZUw7QY0UVirrLD8JJ%2BSA%3D%3D&trackingId=DNkEr1kgMFc06gD%2BgTfU0Q%3D%3D&position=24&pageNum=0&trk=public_jobs_jserp-result_search-card\" target=\"_blank\">https://es.linkedin.com/jobs/view/data-visualization-analyst-at-experfy-3347571251?refId=LFZUw7QY0UVirrLD8JJ%2BSA%3D%3D&amp;trackingId=DNkEr1kgMFc06gD%2BgTfU0Q%3D%3D&amp;position=24&amp;pageNum=0&amp;trk=public_jobs_jserp-result_search-card</a></td>\n",
       "      <td>2022-10-11</td>\n",
       "    </tr>\n",
       "    <tr>\n",
       "      <th>24</th>\n",
       "      <td>Data Engineer</td>\n",
       "      <td>Carrefour España</td>\n",
       "      <td>Madrid, Community of Madrid, Spain</td>\n",
       "      <td><a href=\"https://es.linkedin.com/jobs/view/data-engineer-at-carrefour-espa%C3%B1a-3345593510?refId=LFZUw7QY0UVirrLD8JJ%2BSA%3D%3D&trackingId=iJtNnk4UbJPIOOxw2o7BGw%3D%3D&position=25&pageNum=0&trk=public_jobs_jserp-result_search-card\" target=\"_blank\">https://es.linkedin.com/jobs/view/data-engineer-at-carrefour-espa%C3%B1a-3345593510?refId=LFZUw7QY0UVirrLD8JJ%2BSA%3D%3D&amp;trackingId=iJtNnk4UbJPIOOxw2o7BGw%3D%3D&amp;position=25&amp;pageNum=0&amp;trk=public_jobs_jserp-result_search-card</a></td>\n",
       "      <td>2022-11-04</td>\n",
       "    </tr>\n",
       "    <tr>\n",
       "      <th>25</th>\n",
       "      <td>Data Engineer Intern</td>\n",
       "      <td>MANGO</td>\n",
       "      <td>Barcelona, Catalonia, Spain</td>\n",
       "      <td><a href=\"https://es.linkedin.com/jobs/view/data-engineer-intern-at-mango-3343089377?refId=bOUPeiilKVcbsDmaqmSCAw%3D%3D&trackingId=2l7EdKN3kVXlxJBR5p45iw%3D%3D&position=1&pageNum=0&trk=public_jobs_jserp-result_search-card\" target=\"_blank\">https://es.linkedin.com/jobs/view/data-engineer-intern-at-mango-3343089377?refId=bOUPeiilKVcbsDmaqmSCAw%3D%3D&amp;trackingId=2l7EdKN3kVXlxJBR5p45iw%3D%3D&amp;position=1&amp;pageNum=0&amp;trk=public_jobs_jserp-result_search-card</a></td>\n",
       "      <td>2022-10-27</td>\n",
       "    </tr>\n",
       "    <tr>\n",
       "      <th>26</th>\n",
       "      <td>Data Engineer</td>\n",
       "      <td>Orange Bank</td>\n",
       "      <td>Pozuelo de Alarcón, Community of Madrid, Spain</td>\n",
       "      <td><a href=\"https://es.linkedin.com/jobs/view/data-engineer-at-orange-bank-3341547932?refId=bOUPeiilKVcbsDmaqmSCAw%3D%3D&trackingId=x2bvs%2F1ts%2FbgiIEDOlJLUw%3D%3D&position=2&pageNum=0&trk=public_jobs_jserp-result_search-card\" target=\"_blank\">https://es.linkedin.com/jobs/view/data-engineer-at-orange-bank-3341547932?refId=bOUPeiilKVcbsDmaqmSCAw%3D%3D&amp;trackingId=x2bvs%2F1ts%2FbgiIEDOlJLUw%3D%3D&amp;position=2&amp;pageNum=0&amp;trk=public_jobs_jserp-result_search-card</a></td>\n",
       "      <td>2022-11-03</td>\n",
       "    </tr>\n",
       "    <tr>\n",
       "      <th>27</th>\n",
       "      <td>Data Engineer</td>\n",
       "      <td>PIXIE</td>\n",
       "      <td>Madrid, Community of Madrid, Spain</td>\n",
       "      <td><a href=\"https://es.linkedin.com/jobs/view/data-engineer-at-pixie-3346442539?refId=bOUPeiilKVcbsDmaqmSCAw%3D%3D&trackingId=XD%2BPLKTjyni331EB%2BG4Q9Q%3D%3D&position=3&pageNum=0&trk=public_jobs_jserp-result_search-card\" target=\"_blank\">https://es.linkedin.com/jobs/view/data-engineer-at-pixie-3346442539?refId=bOUPeiilKVcbsDmaqmSCAw%3D%3D&amp;trackingId=XD%2BPLKTjyni331EB%2BG4Q9Q%3D%3D&amp;position=3&amp;pageNum=0&amp;trk=public_jobs_jserp-result_search-card</a></td>\n",
       "      <td>2022-11-07</td>\n",
       "    </tr>\n",
       "    <tr>\n",
       "      <th>28</th>\n",
       "      <td>Data Engineer (Junior)</td>\n",
       "      <td>urbanData Analytics (Alantra Group)</td>\n",
       "      <td>Madrid, Community of Madrid, Spain</td>\n",
       "      <td><a href=\"https://es.linkedin.com/jobs/view/data-engineer-junior-at-urbandata-analytics-alantra-group-3317325293?refId=bOUPeiilKVcbsDmaqmSCAw%3D%3D&trackingId=rEblVM6rocYKBRZa6ABHsw%3D%3D&position=4&pageNum=0&trk=public_jobs_jserp-result_search-card\" target=\"_blank\">https://es.linkedin.com/jobs/view/data-engineer-junior-at-urbandata-analytics-alantra-group-3317325293?refId=bOUPeiilKVcbsDmaqmSCAw%3D%3D&amp;trackingId=rEblVM6rocYKBRZa6ABHsw%3D%3D&amp;position=4&amp;pageNum=0&amp;trk=public_jobs_jserp-result_search-card</a></td>\n",
       "      <td>2022-10-20</td>\n",
       "    </tr>\n",
       "    <tr>\n",
       "      <th>29</th>\n",
       "      <td>Data Engineer</td>\n",
       "      <td>Experfy</td>\n",
       "      <td>Barcelona, Catalonia, Spain</td>\n",
       "      <td><a href=\"https://es.linkedin.com/jobs/view/data-engineer-at-experfy-3347220098?refId=bOUPeiilKVcbsDmaqmSCAw%3D%3D&trackingId=WvjDrqbL%2BHAJ1rzMHokwPw%3D%3D&position=5&pageNum=0&trk=public_jobs_jserp-result_search-card\" target=\"_blank\">https://es.linkedin.com/jobs/view/data-engineer-at-experfy-3347220098?refId=bOUPeiilKVcbsDmaqmSCAw%3D%3D&amp;trackingId=WvjDrqbL%2BHAJ1rzMHokwPw%3D%3D&amp;position=5&amp;pageNum=0&amp;trk=public_jobs_jserp-result_search-card</a></td>\n",
       "      <td>2022-10-11</td>\n",
       "    </tr>\n",
       "    <tr>\n",
       "      <th>30</th>\n",
       "      <td>Data Engineer (Junior)</td>\n",
       "      <td>urbanData Analytics (Alantra Group)</td>\n",
       "      <td>Madrid, Community of Madrid, Spain</td>\n",
       "      <td><a href=\"https://es.linkedin.com/jobs/view/data-engineer-junior-at-urbandata-analytics-alantra-group-3317325295?refId=bOUPeiilKVcbsDmaqmSCAw%3D%3D&trackingId=%2F3GbeHt8qnDaNl04EolIAA%3D%3D&position=6&pageNum=0&trk=public_jobs_jserp-result_search-card\" target=\"_blank\">https://es.linkedin.com/jobs/view/data-engineer-junior-at-urbandata-analytics-alantra-group-3317325295?refId=bOUPeiilKVcbsDmaqmSCAw%3D%3D&amp;trackingId=%2F3GbeHt8qnDaNl04EolIAA%3D%3D&amp;position=6&amp;pageNum=0&amp;trk=public_jobs_jserp-result_search-card</a></td>\n",
       "      <td>2022-10-20</td>\n",
       "    </tr>\n",
       "    <tr>\n",
       "      <th>31</th>\n",
       "      <td>Analista de datos Junior</td>\n",
       "      <td>Grupo Planeta</td>\n",
       "      <td>Barcelona, Catalonia, Spain</td>\n",
       "      <td><a href=\"https://es.linkedin.com/jobs/view/analista-de-datos-junior-at-grupo-planeta-2970849771?refId=bOUPeiilKVcbsDmaqmSCAw%3D%3D&trackingId=K8OIi2TnDTzg9I2an2KGew%3D%3D&position=7&pageNum=0&trk=public_jobs_jserp-result_search-card\" target=\"_blank\">https://es.linkedin.com/jobs/view/analista-de-datos-junior-at-grupo-planeta-2970849771?refId=bOUPeiilKVcbsDmaqmSCAw%3D%3D&amp;trackingId=K8OIi2TnDTzg9I2an2KGew%3D%3D&amp;position=7&amp;pageNum=0&amp;trk=public_jobs_jserp-result_search-card</a></td>\n",
       "      <td>2022-03-10</td>\n",
       "    </tr>\n",
       "    <tr>\n",
       "      <th>32</th>\n",
       "      <td>Analista de Datos Junior</td>\n",
       "      <td>btd grupo</td>\n",
       "      <td>Madrid, Community of Madrid, Spain</td>\n",
       "      <td><a href=\"https://es.linkedin.com/jobs/view/analista-de-datos-junior-at-btd-grupo-3330106465?refId=bOUPeiilKVcbsDmaqmSCAw%3D%3D&trackingId=2KhJAukIOasmdK8MlzKOpA%3D%3D&position=8&pageNum=0&trk=public_jobs_jserp-result_search-card\" target=\"_blank\">https://es.linkedin.com/jobs/view/analista-de-datos-junior-at-btd-grupo-3330106465?refId=bOUPeiilKVcbsDmaqmSCAw%3D%3D&amp;trackingId=2KhJAukIOasmdK8MlzKOpA%3D%3D&amp;position=8&amp;pageNum=0&amp;trk=public_jobs_jserp-result_search-card</a></td>\n",
       "      <td>2022-09-30</td>\n",
       "    </tr>\n",
       "    <tr>\n",
       "      <th>33</th>\n",
       "      <td>Data Engineer</td>\n",
       "      <td>ForwardKeys</td>\n",
       "      <td>Valencia, Valencian Community, Spain</td>\n",
       "      <td><a href=\"https://es.linkedin.com/jobs/view/data-engineer-at-forwardkeys-3345357926?refId=bOUPeiilKVcbsDmaqmSCAw%3D%3D&trackingId=6eaxHTVdQI6Uf0X4i%2FWQ4Q%3D%3D&position=9&pageNum=0&trk=public_jobs_jserp-result_search-card\" target=\"_blank\">https://es.linkedin.com/jobs/view/data-engineer-at-forwardkeys-3345357926?refId=bOUPeiilKVcbsDmaqmSCAw%3D%3D&amp;trackingId=6eaxHTVdQI6Uf0X4i%2FWQ4Q%3D%3D&amp;position=9&amp;pageNum=0&amp;trk=public_jobs_jserp-result_search-card</a></td>\n",
       "      <td>2022-11-04</td>\n",
       "    </tr>\n",
       "    <tr>\n",
       "      <th>34</th>\n",
       "      <td>Junior Data Developer</td>\n",
       "      <td>We Bring Strategy Consultants</td>\n",
       "      <td>Madrid, Community of Madrid, Spain</td>\n",
       "      <td><a href=\"https://es.linkedin.com/jobs/view/junior-data-developer-at-we-bring-strategy-consultants-3342193780?refId=bOUPeiilKVcbsDmaqmSCAw%3D%3D&trackingId=9SYHSv6qiUcDU1uprIDH5w%3D%3D&position=10&pageNum=0&trk=public_jobs_jserp-result_search-card\" target=\"_blank\">https://es.linkedin.com/jobs/view/junior-data-developer-at-we-bring-strategy-consultants-3342193780?refId=bOUPeiilKVcbsDmaqmSCAw%3D%3D&amp;trackingId=9SYHSv6qiUcDU1uprIDH5w%3D%3D&amp;position=10&amp;pageNum=0&amp;trk=public_jobs_jserp-result_search-card</a></td>\n",
       "      <td>2022-10-09</td>\n",
       "    </tr>\n",
       "    <tr>\n",
       "      <th>35</th>\n",
       "      <td>Data Engineer (Junior)</td>\n",
       "      <td>urbanData Analytics (Alantra Group)</td>\n",
       "      <td>Madrid, Community of Madrid, Spain</td>\n",
       "      <td><a href=\"https://es.linkedin.com/jobs/view/data-engineer-junior-at-urbandata-analytics-alantra-group-3342601820?refId=bOUPeiilKVcbsDmaqmSCAw%3D%3D&trackingId=9r1ZYWw5XFaVQO99kGPjjQ%3D%3D&position=11&pageNum=0&trk=public_jobs_jserp-result_search-card\" target=\"_blank\">https://es.linkedin.com/jobs/view/data-engineer-junior-at-urbandata-analytics-alantra-group-3342601820?refId=bOUPeiilKVcbsDmaqmSCAw%3D%3D&amp;trackingId=9r1ZYWw5XFaVQO99kGPjjQ%3D%3D&amp;position=11&amp;pageNum=0&amp;trk=public_jobs_jserp-result_search-card</a></td>\n",
       "      <td>2022-10-20</td>\n",
       "    </tr>\n",
       "    <tr>\n",
       "      <th>36</th>\n",
       "      <td>JUNIOR DATA ANALYST</td>\n",
       "      <td>MANGO</td>\n",
       "      <td>Barcelona, Catalonia, Spain</td>\n",
       "      <td><a href=\"https://es.linkedin.com/jobs/view/junior-data-analyst-at-mango-3349478099?refId=bOUPeiilKVcbsDmaqmSCAw%3D%3D&trackingId=%2FLEX3r8%2BFFOPD7t3iNxdaQ%3D%3D&position=12&pageNum=0&trk=public_jobs_jserp-result_search-card\" target=\"_blank\">https://es.linkedin.com/jobs/view/junior-data-analyst-at-mango-3349478099?refId=bOUPeiilKVcbsDmaqmSCAw%3D%3D&amp;trackingId=%2FLEX3r8%2BFFOPD7t3iNxdaQ%3D%3D&amp;position=12&amp;pageNum=0&amp;trk=public_jobs_jserp-result_search-card</a></td>\n",
       "      <td>2022-10-13</td>\n",
       "    </tr>\n",
       "    <tr>\n",
       "      <th>37</th>\n",
       "      <td>Data Developer</td>\n",
       "      <td>BBVA IT España</td>\n",
       "      <td>Madrid, Community of Madrid, Spain</td>\n",
       "      <td><a href=\"https://es.linkedin.com/jobs/view/data-developer-at-bbva-it-espa%C3%B1a-3290571154?refId=bOUPeiilKVcbsDmaqmSCAw%3D%3D&trackingId=NRwViB38jBMGw3mxOutl2g%3D%3D&position=13&pageNum=0&trk=public_jobs_jserp-result_search-card\" target=\"_blank\">https://es.linkedin.com/jobs/view/data-developer-at-bbva-it-espa%C3%B1a-3290571154?refId=bOUPeiilKVcbsDmaqmSCAw%3D%3D&amp;trackingId=NRwViB38jBMGw3mxOutl2g%3D%3D&amp;position=13&amp;pageNum=0&amp;trk=public_jobs_jserp-result_search-card</a></td>\n",
       "      <td>2022-10-24</td>\n",
       "    </tr>\n",
       "    <tr>\n",
       "      <th>38</th>\n",
       "      <td>Data Engineer</td>\n",
       "      <td>K2 Partnering Solutions</td>\n",
       "      <td>Spain</td>\n",
       "      <td><a href=\"https://es.linkedin.com/jobs/view/data-engineer-at-k2-partnering-solutions-3336336666?refId=bOUPeiilKVcbsDmaqmSCAw%3D%3D&trackingId=vidYn0hiXHlLltJZS5EGog%3D%3D&position=14&pageNum=0&trk=public_jobs_jserp-result_search-card\" target=\"_blank\">https://es.linkedin.com/jobs/view/data-engineer-at-k2-partnering-solutions-3336336666?refId=bOUPeiilKVcbsDmaqmSCAw%3D%3D&amp;trackingId=vidYn0hiXHlLltJZS5EGog%3D%3D&amp;position=14&amp;pageNum=0&amp;trk=public_jobs_jserp-result_search-card</a></td>\n",
       "      <td>2022-11-03</td>\n",
       "    </tr>\n",
       "    <tr>\n",
       "      <th>39</th>\n",
       "      <td>Analista de Datos Junior</td>\n",
       "      <td>ILERNA FP Online</td>\n",
       "      <td>Greater Madrid Metropolitan Area</td>\n",
       "      <td><a href=\"https://es.linkedin.com/jobs/view/analista-de-datos-junior-at-ilerna-fp-online-3334675991?refId=bOUPeiilKVcbsDmaqmSCAw%3D%3D&trackingId=XwNPxptt3JPMboVY2XHzsw%3D%3D&position=15&pageNum=0&trk=public_jobs_jserp-result_search-card\" target=\"_blank\">https://es.linkedin.com/jobs/view/analista-de-datos-junior-at-ilerna-fp-online-3334675991?refId=bOUPeiilKVcbsDmaqmSCAw%3D%3D&amp;trackingId=XwNPxptt3JPMboVY2XHzsw%3D%3D&amp;position=15&amp;pageNum=0&amp;trk=public_jobs_jserp-result_search-card</a></td>\n",
       "      <td>2022-10-31</td>\n",
       "    </tr>\n",
       "    <tr>\n",
       "      <th>40</th>\n",
       "      <td>Data Engineer</td>\n",
       "      <td>Talent Search People</td>\n",
       "      <td>Barcelona, Catalonia, Spain</td>\n",
       "      <td><a href=\"https://es.linkedin.com/jobs/view/data-engineer-at-talent-search-people-3341235014?refId=bOUPeiilKVcbsDmaqmSCAw%3D%3D&trackingId=PGvvSjtu0g%2BzSb5c%2FO%2FQYg%3D%3D&position=16&pageNum=0&trk=public_jobs_jserp-result_search-card\" target=\"_blank\">https://es.linkedin.com/jobs/view/data-engineer-at-talent-search-people-3341235014?refId=bOUPeiilKVcbsDmaqmSCAw%3D%3D&amp;trackingId=PGvvSjtu0g%2BzSb5c%2FO%2FQYg%3D%3D&amp;position=16&amp;pageNum=0&amp;trk=public_jobs_jserp-result_search-card</a></td>\n",
       "      <td>2022-11-07</td>\n",
       "    </tr>\n",
       "    <tr>\n",
       "      <th>41</th>\n",
       "      <td>Data Engineer</td>\n",
       "      <td>Iwantic</td>\n",
       "      <td>Murcia, Región de Murcia, Spain</td>\n",
       "      <td><a href=\"https://es.linkedin.com/jobs/view/data-engineer-at-iwantic-3341549240?refId=bOUPeiilKVcbsDmaqmSCAw%3D%3D&trackingId=lcP4YmTTOi5FFcef%2BRQHOg%3D%3D&position=17&pageNum=0&trk=public_jobs_jserp-result_search-card\" target=\"_blank\">https://es.linkedin.com/jobs/view/data-engineer-at-iwantic-3341549240?refId=bOUPeiilKVcbsDmaqmSCAw%3D%3D&amp;trackingId=lcP4YmTTOi5FFcef%2BRQHOg%3D%3D&amp;position=17&amp;pageNum=0&amp;trk=public_jobs_jserp-result_search-card</a></td>\n",
       "      <td>2022-11-03</td>\n",
       "    </tr>\n",
       "    <tr>\n",
       "      <th>42</th>\n",
       "      <td>Data Engineer - Join Leading Start-up Success Story</td>\n",
       "      <td>Allai - weareallai.com</td>\n",
       "      <td>Barcelona, Catalonia, Spain</td>\n",
       "      <td><a href=\"https://es.linkedin.com/jobs/view/data-engineer-join-leading-start-up-success-story-at-allai-weareallai-com-3350975534?refId=bOUPeiilKVcbsDmaqmSCAw%3D%3D&trackingId=MiJtycKjjUqNjpOQQxzbOg%3D%3D&position=18&pageNum=0&trk=public_jobs_jserp-result_search-card\" target=\"_blank\">https://es.linkedin.com/jobs/view/data-engineer-join-leading-start-up-success-story-at-allai-weareallai-com-3350975534?refId=bOUPeiilKVcbsDmaqmSCAw%3D%3D&amp;trackingId=MiJtycKjjUqNjpOQQxzbOg%3D%3D&amp;position=18&amp;pageNum=0&amp;trk=public_jobs_jserp-result_search-card</a></td>\n",
       "      <td>2022-11-08</td>\n",
       "    </tr>\n",
       "    <tr>\n",
       "      <th>43</th>\n",
       "      <td>Data Engineer</td>\n",
       "      <td>Enzyme</td>\n",
       "      <td>Barcelona, Catalonia, Spain</td>\n",
       "      <td><a href=\"https://es.linkedin.com/jobs/view/data-engineer-at-enzyme-3312666818?refId=bOUPeiilKVcbsDmaqmSCAw%3D%3D&trackingId=mLTYlHzRelf%2Bgqw2TQ1Fdw%3D%3D&position=19&pageNum=0&trk=public_jobs_jserp-result_search-card\" target=\"_blank\">https://es.linkedin.com/jobs/view/data-engineer-at-enzyme-3312666818?refId=bOUPeiilKVcbsDmaqmSCAw%3D%3D&amp;trackingId=mLTYlHzRelf%2Bgqw2TQ1Fdw%3D%3D&amp;position=19&amp;pageNum=0&amp;trk=public_jobs_jserp-result_search-card</a></td>\n",
       "      <td>2022-09-17</td>\n",
       "    </tr>\n",
       "    <tr>\n",
       "      <th>44</th>\n",
       "      <td>Data Analyst</td>\n",
       "      <td>Ukio</td>\n",
       "      <td>Barcelona, Catalonia, Spain</td>\n",
       "      <td><a href=\"https://es.linkedin.com/jobs/view/data-analyst-at-ukio-3276060853?refId=bOUPeiilKVcbsDmaqmSCAw%3D%3D&trackingId=ycb8NLQhJo2jymgMRsf7Eg%3D%3D&position=20&pageNum=0&trk=public_jobs_jserp-result_search-card\" target=\"_blank\">https://es.linkedin.com/jobs/view/data-analyst-at-ukio-3276060853?refId=bOUPeiilKVcbsDmaqmSCAw%3D%3D&amp;trackingId=ycb8NLQhJo2jymgMRsf7Eg%3D%3D&amp;position=20&amp;pageNum=0&amp;trk=public_jobs_jserp-result_search-card</a></td>\n",
       "      <td>2022-09-19</td>\n",
       "    </tr>\n",
       "    <tr>\n",
       "      <th>45</th>\n",
       "      <td>Data Engineer</td>\n",
       "      <td>The Cocktail</td>\n",
       "      <td>Spain</td>\n",
       "      <td><a href=\"https://es.linkedin.com/jobs/view/data-engineer-at-the-cocktail-3322507715?refId=bOUPeiilKVcbsDmaqmSCAw%3D%3D&trackingId=zM2SSkAoa0DCJhFdES2ilg%3D%3D&position=21&pageNum=0&trk=public_jobs_jserp-result_search-card\" target=\"_blank\">https://es.linkedin.com/jobs/view/data-engineer-at-the-cocktail-3322507715?refId=bOUPeiilKVcbsDmaqmSCAw%3D%3D&amp;trackingId=zM2SSkAoa0DCJhFdES2ilg%3D%3D&amp;position=21&amp;pageNum=0&amp;trk=public_jobs_jserp-result_search-card</a></td>\n",
       "      <td>2022-10-19</td>\n",
       "    </tr>\n",
       "    <tr>\n",
       "      <th>46</th>\n",
       "      <td>Data Engineer</td>\n",
       "      <td>Ookla</td>\n",
       "      <td>Málaga, Andalusia, Spain</td>\n",
       "      <td><a href=\"https://es.linkedin.com/jobs/view/data-engineer-at-ookla-3314494037?refId=bOUPeiilKVcbsDmaqmSCAw%3D%3D&trackingId=qLezSCTADKrL4BMVMnQcQg%3D%3D&position=22&pageNum=0&trk=public_jobs_jserp-result_search-card\" target=\"_blank\">https://es.linkedin.com/jobs/view/data-engineer-at-ookla-3314494037?refId=bOUPeiilKVcbsDmaqmSCAw%3D%3D&amp;trackingId=qLezSCTADKrL4BMVMnQcQg%3D%3D&amp;position=22&amp;pageNum=0&amp;trk=public_jobs_jserp-result_search-card</a></td>\n",
       "      <td>2022-09-28</td>\n",
       "    </tr>\n",
       "    <tr>\n",
       "      <th>47</th>\n",
       "      <td>Data Visualization Analyst</td>\n",
       "      <td>Experfy</td>\n",
       "      <td>Barcelona, Catalonia, Spain</td>\n",
       "      <td><a href=\"https://es.linkedin.com/jobs/view/data-visualization-analyst-at-experfy-3347571251?refId=bOUPeiilKVcbsDmaqmSCAw%3D%3D&trackingId=tMpfxzG93AF3NeUGyZJpiw%3D%3D&position=23&pageNum=0&trk=public_jobs_jserp-result_search-card\" target=\"_blank\">https://es.linkedin.com/jobs/view/data-visualization-analyst-at-experfy-3347571251?refId=bOUPeiilKVcbsDmaqmSCAw%3D%3D&amp;trackingId=tMpfxzG93AF3NeUGyZJpiw%3D%3D&amp;position=23&amp;pageNum=0&amp;trk=public_jobs_jserp-result_search-card</a></td>\n",
       "      <td>2022-10-11</td>\n",
       "    </tr>\n",
       "    <tr>\n",
       "      <th>48</th>\n",
       "      <td>Data Engineer</td>\n",
       "      <td>Carrefour España</td>\n",
       "      <td>Madrid, Community of Madrid, Spain</td>\n",
       "      <td><a href=\"https://es.linkedin.com/jobs/view/data-engineer-at-carrefour-espa%C3%B1a-3345593510?refId=bOUPeiilKVcbsDmaqmSCAw%3D%3D&trackingId=DjqPCBj3q0f3xR598kMhmQ%3D%3D&position=24&pageNum=0&trk=public_jobs_jserp-result_search-card\" target=\"_blank\">https://es.linkedin.com/jobs/view/data-engineer-at-carrefour-espa%C3%B1a-3345593510?refId=bOUPeiilKVcbsDmaqmSCAw%3D%3D&amp;trackingId=DjqPCBj3q0f3xR598kMhmQ%3D%3D&amp;position=24&amp;pageNum=0&amp;trk=public_jobs_jserp-result_search-card</a></td>\n",
       "      <td>2022-11-04</td>\n",
       "    </tr>\n",
       "    <tr>\n",
       "      <th>49</th>\n",
       "      <td>Analytics Engineer</td>\n",
       "      <td>The Cocktail</td>\n",
       "      <td>Madrid, Community of Madrid, Spain</td>\n",
       "      <td><a href=\"https://es.linkedin.com/jobs/view/analytics-engineer-at-the-cocktail-2865452480?refId=bOUPeiilKVcbsDmaqmSCAw%3D%3D&trackingId=OlgQKJeBtr0bw28hS6fyKQ%3D%3D&position=25&pageNum=0&trk=public_jobs_jserp-result_search-card\" target=\"_blank\">https://es.linkedin.com/jobs/view/analytics-engineer-at-the-cocktail-2865452480?refId=bOUPeiilKVcbsDmaqmSCAw%3D%3D&amp;trackingId=OlgQKJeBtr0bw28hS6fyKQ%3D%3D&amp;position=25&amp;pageNum=0&amp;trk=public_jobs_jserp-result_search-card</a></td>\n",
       "      <td>2022-10-14</td>\n",
       "    </tr>\n",
       "    <tr>\n",
       "      <th>50</th>\n",
       "      <td>Data Engineer Intern</td>\n",
       "      <td>MANGO</td>\n",
       "      <td>Barcelona, Catalonia, Spain</td>\n",
       "      <td><a href=\"https://es.linkedin.com/jobs/view/data-engineer-intern-at-mango-3343089377?refId=3AWuRJF53dd3L616gY1wuA%3D%3D&trackingId=aLWP0F3HCQJFY%2F2bdfUnZA%3D%3D&position=1&pageNum=0&trk=public_jobs_jserp-result_search-card\" target=\"_blank\">https://es.linkedin.com/jobs/view/data-engineer-intern-at-mango-3343089377?refId=3AWuRJF53dd3L616gY1wuA%3D%3D&amp;trackingId=aLWP0F3HCQJFY%2F2bdfUnZA%3D%3D&amp;position=1&amp;pageNum=0&amp;trk=public_jobs_jserp-result_search-card</a></td>\n",
       "      <td>2022-10-27</td>\n",
       "    </tr>\n",
       "    <tr>\n",
       "      <th>51</th>\n",
       "      <td>Data Engineer</td>\n",
       "      <td>Orange Bank</td>\n",
       "      <td>Pozuelo de Alarcón, Community of Madrid, Spain</td>\n",
       "      <td><a href=\"https://es.linkedin.com/jobs/view/data-engineer-at-orange-bank-3341547932?refId=3AWuRJF53dd3L616gY1wuA%3D%3D&trackingId=8UeA2voT2ALdUa29WaL0LQ%3D%3D&position=2&pageNum=0&trk=public_jobs_jserp-result_search-card\" target=\"_blank\">https://es.linkedin.com/jobs/view/data-engineer-at-orange-bank-3341547932?refId=3AWuRJF53dd3L616gY1wuA%3D%3D&amp;trackingId=8UeA2voT2ALdUa29WaL0LQ%3D%3D&amp;position=2&amp;pageNum=0&amp;trk=public_jobs_jserp-result_search-card</a></td>\n",
       "      <td>2022-11-03</td>\n",
       "    </tr>\n",
       "    <tr>\n",
       "      <th>52</th>\n",
       "      <td>Data Engineer</td>\n",
       "      <td>Cívica</td>\n",
       "      <td>Madrid, Community of Madrid, Spain</td>\n",
       "      <td><a href=\"https://es.linkedin.com/jobs/view/data-engineer-at-c%C3%ADvica-3350959987?refId=3AWuRJF53dd3L616gY1wuA%3D%3D&trackingId=qxvgqAIZP2ZWuLdbz7Kkbg%3D%3D&position=3&pageNum=0&trk=public_jobs_jserp-result_search-card\" target=\"_blank\">https://es.linkedin.com/jobs/view/data-engineer-at-c%C3%ADvica-3350959987?refId=3AWuRJF53dd3L616gY1wuA%3D%3D&amp;trackingId=qxvgqAIZP2ZWuLdbz7Kkbg%3D%3D&amp;position=3&amp;pageNum=0&amp;trk=public_jobs_jserp-result_search-card</a></td>\n",
       "      <td>2022-11-08</td>\n",
       "    </tr>\n",
       "    <tr>\n",
       "      <th>53</th>\n",
       "      <td>Data Engineer</td>\n",
       "      <td>Carrefour España</td>\n",
       "      <td>Madrid, Community of Madrid, Spain</td>\n",
       "      <td><a href=\"https://es.linkedin.com/jobs/view/data-engineer-at-carrefour-espa%C3%B1a-3345593510?refId=3AWuRJF53dd3L616gY1wuA%3D%3D&trackingId=QlE7LOPyiRjP8uylAL%2B71g%3D%3D&position=4&pageNum=0&trk=public_jobs_jserp-result_search-card\" target=\"_blank\">https://es.linkedin.com/jobs/view/data-engineer-at-carrefour-espa%C3%B1a-3345593510?refId=3AWuRJF53dd3L616gY1wuA%3D%3D&amp;trackingId=QlE7LOPyiRjP8uylAL%2B71g%3D%3D&amp;position=4&amp;pageNum=0&amp;trk=public_jobs_jserp-result_search-card</a></td>\n",
       "      <td>2022-11-04</td>\n",
       "    </tr>\n",
       "    <tr>\n",
       "      <th>54</th>\n",
       "      <td>Data Engineer</td>\n",
       "      <td>Birchman Group Spain</td>\n",
       "      <td>Barcelona, Catalonia, Spain</td>\n",
       "      <td><a href=\"https://es.linkedin.com/jobs/view/data-engineer-at-birchman-group-spain-3340072430?refId=3AWuRJF53dd3L616gY1wuA%3D%3D&trackingId=T1JW8q6udw52w87jHUgkUg%3D%3D&position=5&pageNum=0&trk=public_jobs_jserp-result_search-card\" target=\"_blank\">https://es.linkedin.com/jobs/view/data-engineer-at-birchman-group-spain-3340072430?refId=3AWuRJF53dd3L616gY1wuA%3D%3D&amp;trackingId=T1JW8q6udw52w87jHUgkUg%3D%3D&amp;position=5&amp;pageNum=0&amp;trk=public_jobs_jserp-result_search-card</a></td>\n",
       "      <td>2022-10-07</td>\n",
       "    </tr>\n",
       "    <tr>\n",
       "      <th>55</th>\n",
       "      <td>Data Engineer</td>\n",
       "      <td>Entercoms, Inc.</td>\n",
       "      <td>Barcelona, Catalonia, Spain</td>\n",
       "      <td><a href=\"https://es.linkedin.com/jobs/view/data-engineer-at-entercoms-inc-3341699104?refId=3AWuRJF53dd3L616gY1wuA%3D%3D&trackingId=cWAfV%2FSfMidXSmA5cPu9Ig%3D%3D&position=6&pageNum=0&trk=public_jobs_jserp-result_search-card\" target=\"_blank\">https://es.linkedin.com/jobs/view/data-engineer-at-entercoms-inc-3341699104?refId=3AWuRJF53dd3L616gY1wuA%3D%3D&amp;trackingId=cWAfV%2FSfMidXSmA5cPu9Ig%3D%3D&amp;position=6&amp;pageNum=0&amp;trk=public_jobs_jserp-result_search-card</a></td>\n",
       "      <td>2022-11-02</td>\n",
       "    </tr>\n",
       "    <tr>\n",
       "      <th>56</th>\n",
       "      <td>Data Engineer &amp; PowerBI Developer</td>\n",
       "      <td>Crayon</td>\n",
       "      <td>Spain</td>\n",
       "      <td><a href=\"https://es.linkedin.com/jobs/view/data-engineer-powerbi-developer-at-crayon-3335956029?refId=3AWuRJF53dd3L616gY1wuA%3D%3D&trackingId=3%2BNmBt7uaiS8REhNd2S5Bg%3D%3D&position=7&pageNum=0&trk=public_jobs_jserp-result_search-card\" target=\"_blank\">https://es.linkedin.com/jobs/view/data-engineer-powerbi-developer-at-crayon-3335956029?refId=3AWuRJF53dd3L616gY1wuA%3D%3D&amp;trackingId=3%2BNmBt7uaiS8REhNd2S5Bg%3D%3D&amp;position=7&amp;pageNum=0&amp;trk=public_jobs_jserp-result_search-card</a></td>\n",
       "      <td>2022-11-03</td>\n",
       "    </tr>\n",
       "    <tr>\n",
       "      <th>57</th>\n",
       "      <td>Data Engineer</td>\n",
       "      <td>Axpe Consulting</td>\n",
       "      <td>Spain</td>\n",
       "      <td><a href=\"https://es.linkedin.com/jobs/view/data-engineer-at-axpe-consulting-3345021165?refId=3AWuRJF53dd3L616gY1wuA%3D%3D&trackingId=E7PR4iy2Aym2egWNIEJDGQ%3D%3D&position=8&pageNum=0&trk=public_jobs_jserp-result_search-card\" target=\"_blank\">https://es.linkedin.com/jobs/view/data-engineer-at-axpe-consulting-3345021165?refId=3AWuRJF53dd3L616gY1wuA%3D%3D&amp;trackingId=E7PR4iy2Aym2egWNIEJDGQ%3D%3D&amp;position=8&amp;pageNum=0&amp;trk=public_jobs_jserp-result_search-card</a></td>\n",
       "      <td>2022-11-04</td>\n",
       "    </tr>\n",
       "    <tr>\n",
       "      <th>58</th>\n",
       "      <td>Data Engineer</td>\n",
       "      <td>PIXIE</td>\n",
       "      <td>Madrid, Community of Madrid, Spain</td>\n",
       "      <td><a href=\"https://es.linkedin.com/jobs/view/data-engineer-at-pixie-3346442539?refId=3AWuRJF53dd3L616gY1wuA%3D%3D&trackingId=L0yMkreiAE%2Bc%2F7yFyr4miA%3D%3D&position=9&pageNum=0&trk=public_jobs_jserp-result_search-card\" target=\"_blank\">https://es.linkedin.com/jobs/view/data-engineer-at-pixie-3346442539?refId=3AWuRJF53dd3L616gY1wuA%3D%3D&amp;trackingId=L0yMkreiAE%2Bc%2F7yFyr4miA%3D%3D&amp;position=9&amp;pageNum=0&amp;trk=public_jobs_jserp-result_search-card</a></td>\n",
       "      <td>2022-11-07</td>\n",
       "    </tr>\n",
       "    <tr>\n",
       "      <th>59</th>\n",
       "      <td>Data Engineer</td>\n",
       "      <td>idealista</td>\n",
       "      <td>Spain</td>\n",
       "      <td><a href=\"https://es.linkedin.com/jobs/view/data-engineer-at-idealista-3334298463?refId=3AWuRJF53dd3L616gY1wuA%3D%3D&trackingId=oxXs31wNhEu0rIUt8zPnYQ%3D%3D&position=10&pageNum=0&trk=public_jobs_jserp-result_search-card\" target=\"_blank\">https://es.linkedin.com/jobs/view/data-engineer-at-idealista-3334298463?refId=3AWuRJF53dd3L616gY1wuA%3D%3D&amp;trackingId=oxXs31wNhEu0rIUt8zPnYQ%3D%3D&amp;position=10&amp;pageNum=0&amp;trk=public_jobs_jserp-result_search-card</a></td>\n",
       "      <td>2022-11-02</td>\n",
       "    </tr>\n",
       "    <tr>\n",
       "      <th>60</th>\n",
       "      <td>Data Engineer</td>\n",
       "      <td>VMLY&amp;R</td>\n",
       "      <td>Greater Madrid Metropolitan Area</td>\n",
       "      <td><a href=\"https://es.linkedin.com/jobs/view/data-engineer-at-vmly-r-3350952416?refId=3AWuRJF53dd3L616gY1wuA%3D%3D&trackingId=VakM1jWE5a8iKTOJuAob1g%3D%3D&position=11&pageNum=0&trk=public_jobs_jserp-result_search-card\" target=\"_blank\">https://es.linkedin.com/jobs/view/data-engineer-at-vmly-r-3350952416?refId=3AWuRJF53dd3L616gY1wuA%3D%3D&amp;trackingId=VakM1jWE5a8iKTOJuAob1g%3D%3D&amp;position=11&amp;pageNum=0&amp;trk=public_jobs_jserp-result_search-card</a></td>\n",
       "      <td>2022-11-08</td>\n",
       "    </tr>\n",
       "    <tr>\n",
       "      <th>61</th>\n",
       "      <td>Data Engineer</td>\n",
       "      <td>JIC Professional Recruitment</td>\n",
       "      <td>Spain</td>\n",
       "      <td><a href=\"https://es.linkedin.com/jobs/view/data-engineer-at-jic-professional-recruitment-3342914688?refId=3AWuRJF53dd3L616gY1wuA%3D%3D&trackingId=LgvjYgwxp3nPiOzv9L8%2B3g%3D%3D&position=12&pageNum=0&trk=public_jobs_jserp-result_search-card\" target=\"_blank\">https://es.linkedin.com/jobs/view/data-engineer-at-jic-professional-recruitment-3342914688?refId=3AWuRJF53dd3L616gY1wuA%3D%3D&amp;trackingId=LgvjYgwxp3nPiOzv9L8%2B3g%3D%3D&amp;position=12&amp;pageNum=0&amp;trk=public_jobs_jserp-result_search-card</a></td>\n",
       "      <td>2022-11-08</td>\n",
       "    </tr>\n",
       "    <tr>\n",
       "      <th>62</th>\n",
       "      <td>Data Engineer (Junior)</td>\n",
       "      <td>urbanData Analytics (Alantra Group)</td>\n",
       "      <td>Madrid, Community of Madrid, Spain</td>\n",
       "      <td><a href=\"https://es.linkedin.com/jobs/view/data-engineer-junior-at-urbandata-analytics-alantra-group-3317325293?refId=3AWuRJF53dd3L616gY1wuA%3D%3D&trackingId=hw2lcC6EIQnHtAQxJ%2BJ0rA%3D%3D&position=13&pageNum=0&trk=public_jobs_jserp-result_search-card\" target=\"_blank\">https://es.linkedin.com/jobs/view/data-engineer-junior-at-urbandata-analytics-alantra-group-3317325293?refId=3AWuRJF53dd3L616gY1wuA%3D%3D&amp;trackingId=hw2lcC6EIQnHtAQxJ%2BJ0rA%3D%3D&amp;position=13&amp;pageNum=0&amp;trk=public_jobs_jserp-result_search-card</a></td>\n",
       "      <td>2022-10-20</td>\n",
       "    </tr>\n",
       "    <tr>\n",
       "      <th>63</th>\n",
       "      <td>Data Engineer</td>\n",
       "      <td>DataCentric Solutions</td>\n",
       "      <td>Las Rozas de Madrid, Community of Madrid, Spain</td>\n",
       "      <td><a href=\"https://es.linkedin.com/jobs/view/data-engineer-at-deyde-datacentric-3320819595?refId=3AWuRJF53dd3L616gY1wuA%3D%3D&trackingId=DdjiKgyVPtzQMlAbu%2FF0aw%3D%3D&position=14&pageNum=0&trk=public_jobs_jserp-result_search-card\" target=\"_blank\">https://es.linkedin.com/jobs/view/data-engineer-at-deyde-datacentric-3320819595?refId=3AWuRJF53dd3L616gY1wuA%3D%3D&amp;trackingId=DdjiKgyVPtzQMlAbu%2FF0aw%3D%3D&amp;position=14&amp;pageNum=0&amp;trk=public_jobs_jserp-result_search-card</a></td>\n",
       "      <td>2022-11-08</td>\n",
       "    </tr>\n",
       "    <tr>\n",
       "      <th>64</th>\n",
       "      <td>Data Engineer</td>\n",
       "      <td>tinámica</td>\n",
       "      <td>Madrid, Community of Madrid, Spain</td>\n",
       "      <td><a href=\"https://es.linkedin.com/jobs/view/data-engineer-at-tin%C3%A1mica-3343628767?refId=3AWuRJF53dd3L616gY1wuA%3D%3D&trackingId=cT9tGgwybvVf3ZKsxa6gMw%3D%3D&position=15&pageNum=0&trk=public_jobs_jserp-result_search-card\" target=\"_blank\">https://es.linkedin.com/jobs/view/data-engineer-at-tin%C3%A1mica-3343628767?refId=3AWuRJF53dd3L616gY1wuA%3D%3D&amp;trackingId=cT9tGgwybvVf3ZKsxa6gMw%3D%3D&amp;position=15&amp;pageNum=0&amp;trk=public_jobs_jserp-result_search-card</a></td>\n",
       "      <td>2022-11-03</td>\n",
       "    </tr>\n",
       "    <tr>\n",
       "      <th>65</th>\n",
       "      <td>Data Engineer</td>\n",
       "      <td>Allai - weareallai.com</td>\n",
       "      <td>Barcelona, Catalonia, Spain</td>\n",
       "      <td><a href=\"https://es.linkedin.com/jobs/view/data-engineer-at-allai-weareallai-com-3350971791?refId=3AWuRJF53dd3L616gY1wuA%3D%3D&trackingId=NXt8E16Nus1IatWI2vq6CQ%3D%3D&position=16&pageNum=0&trk=public_jobs_jserp-result_search-card\" target=\"_blank\">https://es.linkedin.com/jobs/view/data-engineer-at-allai-weareallai-com-3350971791?refId=3AWuRJF53dd3L616gY1wuA%3D%3D&amp;trackingId=NXt8E16Nus1IatWI2vq6CQ%3D%3D&amp;position=16&amp;pageNum=0&amp;trk=public_jobs_jserp-result_search-card</a></td>\n",
       "      <td>2022-11-08</td>\n",
       "    </tr>\n",
       "    <tr>\n",
       "      <th>66</th>\n",
       "      <td>Data Engineer</td>\n",
       "      <td>Experfy</td>\n",
       "      <td>Barcelona, Catalonia, Spain</td>\n",
       "      <td><a href=\"https://es.linkedin.com/jobs/view/data-engineer-at-experfy-3347220098?refId=3AWuRJF53dd3L616gY1wuA%3D%3D&trackingId=U6S9UsRlHwHfJbSt7K%2Bd%2Bg%3D%3D&position=17&pageNum=0&trk=public_jobs_jserp-result_search-card\" target=\"_blank\">https://es.linkedin.com/jobs/view/data-engineer-at-experfy-3347220098?refId=3AWuRJF53dd3L616gY1wuA%3D%3D&amp;trackingId=U6S9UsRlHwHfJbSt7K%2Bd%2Bg%3D%3D&amp;position=17&amp;pageNum=0&amp;trk=public_jobs_jserp-result_search-card</a></td>\n",
       "      <td>2022-10-11</td>\n",
       "    </tr>\n",
       "    <tr>\n",
       "      <th>67</th>\n",
       "      <td>Data Engineer (Junior)</td>\n",
       "      <td>urbanData Analytics (Alantra Group)</td>\n",
       "      <td>Madrid, Community of Madrid, Spain</td>\n",
       "      <td><a href=\"https://es.linkedin.com/jobs/view/data-engineer-junior-at-urbandata-analytics-alantra-group-3317325295?refId=3AWuRJF53dd3L616gY1wuA%3D%3D&trackingId=AKMIdeEvLZ1WuOhAxyVffA%3D%3D&position=18&pageNum=0&trk=public_jobs_jserp-result_search-card\" target=\"_blank\">https://es.linkedin.com/jobs/view/data-engineer-junior-at-urbandata-analytics-alantra-group-3317325295?refId=3AWuRJF53dd3L616gY1wuA%3D%3D&amp;trackingId=AKMIdeEvLZ1WuOhAxyVffA%3D%3D&amp;position=18&amp;pageNum=0&amp;trk=public_jobs_jserp-result_search-card</a></td>\n",
       "      <td>2022-10-20</td>\n",
       "    </tr>\n",
       "    <tr>\n",
       "      <th>68</th>\n",
       "      <td>Analista de datos Junior</td>\n",
       "      <td>Grupo Planeta</td>\n",
       "      <td>Barcelona, Catalonia, Spain</td>\n",
       "      <td><a href=\"https://es.linkedin.com/jobs/view/analista-de-datos-junior-at-grupo-planeta-2970849771?refId=3AWuRJF53dd3L616gY1wuA%3D%3D&trackingId=Gjp%2Fd0SvNCUHANDuq0rQ%2Bg%3D%3D&position=19&pageNum=0&trk=public_jobs_jserp-result_search-card\" target=\"_blank\">https://es.linkedin.com/jobs/view/analista-de-datos-junior-at-grupo-planeta-2970849771?refId=3AWuRJF53dd3L616gY1wuA%3D%3D&amp;trackingId=Gjp%2Fd0SvNCUHANDuq0rQ%2Bg%3D%3D&amp;position=19&amp;pageNum=0&amp;trk=public_jobs_jserp-result_search-card</a></td>\n",
       "      <td>2022-03-10</td>\n",
       "    </tr>\n",
       "    <tr>\n",
       "      <th>69</th>\n",
       "      <td>Analista de Datos Junior</td>\n",
       "      <td>btd grupo</td>\n",
       "      <td>Madrid, Community of Madrid, Spain</td>\n",
       "      <td><a href=\"https://es.linkedin.com/jobs/view/analista-de-datos-junior-at-btd-grupo-3330106465?refId=3AWuRJF53dd3L616gY1wuA%3D%3D&trackingId=EBig4ftlGljNlufRSdgdfQ%3D%3D&position=20&pageNum=0&trk=public_jobs_jserp-result_search-card\" target=\"_blank\">https://es.linkedin.com/jobs/view/analista-de-datos-junior-at-btd-grupo-3330106465?refId=3AWuRJF53dd3L616gY1wuA%3D%3D&amp;trackingId=EBig4ftlGljNlufRSdgdfQ%3D%3D&amp;position=20&amp;pageNum=0&amp;trk=public_jobs_jserp-result_search-card</a></td>\n",
       "      <td>2022-09-30</td>\n",
       "    </tr>\n",
       "    <tr>\n",
       "      <th>70</th>\n",
       "      <td>Junior Data Developer</td>\n",
       "      <td>We Bring Strategy Consultants</td>\n",
       "      <td>Madrid, Community of Madrid, Spain</td>\n",
       "      <td><a href=\"https://es.linkedin.com/jobs/view/junior-data-developer-at-we-bring-strategy-consultants-3342193780?refId=3AWuRJF53dd3L616gY1wuA%3D%3D&trackingId=%2Bzm5qN1IdPXCmAgvG0JwJA%3D%3D&position=21&pageNum=0&trk=public_jobs_jserp-result_search-card\" target=\"_blank\">https://es.linkedin.com/jobs/view/junior-data-developer-at-we-bring-strategy-consultants-3342193780?refId=3AWuRJF53dd3L616gY1wuA%3D%3D&amp;trackingId=%2Bzm5qN1IdPXCmAgvG0JwJA%3D%3D&amp;position=21&amp;pageNum=0&amp;trk=public_jobs_jserp-result_search-card</a></td>\n",
       "      <td>2022-10-09</td>\n",
       "    </tr>\n",
       "    <tr>\n",
       "      <th>71</th>\n",
       "      <td>Data Engineer (Junior)</td>\n",
       "      <td>urbanData Analytics (Alantra Group)</td>\n",
       "      <td>Madrid, Community of Madrid, Spain</td>\n",
       "      <td><a href=\"https://es.linkedin.com/jobs/view/data-engineer-junior-at-urbandata-analytics-alantra-group-3342601820?refId=3AWuRJF53dd3L616gY1wuA%3D%3D&trackingId=WjZw0Z9feMRNiJQ28Wmd3g%3D%3D&position=22&pageNum=0&trk=public_jobs_jserp-result_search-card\" target=\"_blank\">https://es.linkedin.com/jobs/view/data-engineer-junior-at-urbandata-analytics-alantra-group-3342601820?refId=3AWuRJF53dd3L616gY1wuA%3D%3D&amp;trackingId=WjZw0Z9feMRNiJQ28Wmd3g%3D%3D&amp;position=22&amp;pageNum=0&amp;trk=public_jobs_jserp-result_search-card</a></td>\n",
       "      <td>2022-10-20</td>\n",
       "    </tr>\n",
       "    <tr>\n",
       "      <th>72</th>\n",
       "      <td>Data Engineer</td>\n",
       "      <td>Fever</td>\n",
       "      <td>Madrid, Community of Madrid, Spain</td>\n",
       "      <td><a href=\"https://es.linkedin.com/jobs/view/data-engineer-at-fever-3346757061?refId=3AWuRJF53dd3L616gY1wuA%3D%3D&trackingId=9f7ClNprOeuml10xxgtiag%3D%3D&position=23&pageNum=0&trk=public_jobs_jserp-result_search-card\" target=\"_blank\">https://es.linkedin.com/jobs/view/data-engineer-at-fever-3346757061?refId=3AWuRJF53dd3L616gY1wuA%3D%3D&amp;trackingId=9f7ClNprOeuml10xxgtiag%3D%3D&amp;position=23&amp;pageNum=0&amp;trk=public_jobs_jserp-result_search-card</a></td>\n",
       "      <td>2022-11-02</td>\n",
       "    </tr>\n",
       "    <tr>\n",
       "      <th>73</th>\n",
       "      <td>Data Engineer</td>\n",
       "      <td>Ole Digital Solutions | Diseño, Desarrollo y Dato</td>\n",
       "      <td>Madrid, Community of Madrid, Spain</td>\n",
       "      <td><a href=\"https://es.linkedin.com/jobs/view/data-engineer-at-ole-digital-solutions-dise%C3%B1o-desarrollo-y-dato-3335949145?refId=3AWuRJF53dd3L616gY1wuA%3D%3D&trackingId=7t0rHzgM5vAhgPb3xINdCw%3D%3D&position=24&pageNum=0&trk=public_jobs_jserp-result_search-card\" target=\"_blank\">https://es.linkedin.com/jobs/view/data-engineer-at-ole-digital-solutions-dise%C3%B1o-desarrollo-y-dato-3335949145?refId=3AWuRJF53dd3L616gY1wuA%3D%3D&amp;trackingId=7t0rHzgM5vAhgPb3xINdCw%3D%3D&amp;position=24&amp;pageNum=0&amp;trk=public_jobs_jserp-result_search-card</a></td>\n",
       "      <td>2022-11-03</td>\n",
       "    </tr>\n",
       "    <tr>\n",
       "      <th>74</th>\n",
       "      <td>Data Developer</td>\n",
       "      <td>BBVA IT España</td>\n",
       "      <td>Madrid, Community of Madrid, Spain</td>\n",
       "      <td><a href=\"https://es.linkedin.com/jobs/view/data-developer-at-bbva-it-espa%C3%B1a-3290571154?refId=3AWuRJF53dd3L616gY1wuA%3D%3D&trackingId=%2FcJv004r%2F60mxM08Vxe6%2FA%3D%3D&position=25&pageNum=0&trk=public_jobs_jserp-result_search-card\" target=\"_blank\">https://es.linkedin.com/jobs/view/data-developer-at-bbva-it-espa%C3%B1a-3290571154?refId=3AWuRJF53dd3L616gY1wuA%3D%3D&amp;trackingId=%2FcJv004r%2F60mxM08Vxe6%2FA%3D%3D&amp;position=25&amp;pageNum=0&amp;trk=public_jobs_jserp-result_search-card</a></td>\n",
       "      <td>2022-10-24</td>\n",
       "    </tr>\n",
       "  </tbody>\n",
       "</table>"
      ],
      "text/plain": [
       "<IPython.core.display.HTML object>"
      ]
     },
     "execution_count": 88,
     "metadata": {},
     "output_type": "execute_result"
    }
   ],
   "source": [
    "from IPython.display import HTML\n",
    "\n",
    "HTML(df.to_html(render_links=True))"
   ]
  },
  {
   "cell_type": "code",
   "execution_count": null,
   "metadata": {},
   "outputs": [],
   "source": []
  }
 ],
 "metadata": {
  "kernelspec": {
   "display_name": "prueba",
   "language": "python",
   "name": "prueba"
  },
  "language_info": {
   "codemirror_mode": {
    "name": "ipython",
    "version": 3
   },
   "file_extension": ".py",
   "mimetype": "text/x-python",
   "name": "python",
   "nbconvert_exporter": "python",
   "pygments_lexer": "ipython3",
   "version": "3.7.13"
  },
  "varInspector": {
   "cols": {
    "lenName": 16,
    "lenType": 16,
    "lenVar": 40
   },
   "kernels_config": {
    "python": {
     "delete_cmd_postfix": "",
     "delete_cmd_prefix": "del ",
     "library": "var_list.py",
     "varRefreshCmd": "print(var_dic_list())"
    },
    "r": {
     "delete_cmd_postfix": ") ",
     "delete_cmd_prefix": "rm(",
     "library": "var_list.r",
     "varRefreshCmd": "cat(var_dic_list()) "
    }
   },
   "types_to_exclude": [
    "module",
    "function",
    "builtin_function_or_method",
    "instance",
    "_Feature"
   ],
   "window_display": false
  }
 },
 "nbformat": 4,
 "nbformat_minor": 4
}

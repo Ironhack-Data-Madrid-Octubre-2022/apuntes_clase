{
 "cells": [
  {
   "cell_type": "markdown",
   "id": "1a82a5a0",
   "metadata": {},
   "source": [
    "# 2.2 - AirFlow \n",
    "\n",
    "https://github.com/hgrif/airflow-tutorial\n",
    "\n",
    "\n",
    "\n",
    "Para usar airflow lo adecuado es usar un entorno virtual\n",
    "\n",
    "```\n",
    "conda activate nombre_entorno\n",
    "```\n",
    "\n"
   ]
  },
  {
   "cell_type": "markdown",
   "id": "8347e792",
   "metadata": {},
   "source": [
    "Una vez realizado este paso, se instala AirFlow via `pip`."
   ]
  },
  {
   "cell_type": "code",
   "execution_count": null,
   "id": "8c294364",
   "metadata": {},
   "outputs": [],
   "source": [
    "!pip install apache-airflow\n",
    "\n",
    "!pip install 'apache-airflow[all]' "
   ]
  },
  {
   "cell_type": "markdown",
   "id": "87925c08",
   "metadata": {},
   "source": [
    "https://airflow.apache.org/docs/apache-airflow/stable/extra-packages-ref.html"
   ]
  },
  {
   "cell_type": "markdown",
   "id": "7b3742e2",
   "metadata": {},
   "source": [
    "Si deseamos cambiar la ruta de AirFlow:"
   ]
  },
  {
   "cell_type": "code",
   "execution_count": null,
   "id": "5697b6bb",
   "metadata": {},
   "outputs": [],
   "source": [
    "!export AIRFLOW_HOME=\"$(pwd)\""
   ]
  },
  {
   "cell_type": "markdown",
   "id": "554c6534",
   "metadata": {},
   "source": [
    "Para crear un usuario de AirFlow es necesario definirlo:\n",
    "\n",
    "```\n",
    "airflow users create [-h] [-r ROLE] [-u USERNAME] [-e EMAIL] [-f FIRSTNAME] [-l LASTNAME] [-p PASSWORD] [--use_random_password]\n",
    "```\n"
   ]
  },
  {
   "cell_type": "code",
   "execution_count": null,
   "id": "b77c365a",
   "metadata": {},
   "outputs": [],
   "source": [
    "!airflow users create -r Admin -u yona -e yehonaga@gmail.com -p password -f yona -l rguez"
   ]
  },
  {
   "cell_type": "markdown",
   "id": "ed69c399",
   "metadata": {},
   "source": [
    "Inicializando la base de datos SQL para AirFlow:"
   ]
  },
  {
   "cell_type": "code",
   "execution_count": null,
   "id": "49a41e54",
   "metadata": {},
   "outputs": [],
   "source": [
    "!airflow db init"
   ]
  },
  {
   "cell_type": "markdown",
   "id": "a49bd9aa",
   "metadata": {},
   "source": [
    "Inicializando el servidor: (cambiar secret_key en airflow.cfg)"
   ]
  },
  {
   "cell_type": "code",
   "execution_count": null,
   "id": "07f9b33d",
   "metadata": {},
   "outputs": [],
   "source": [
    "!airflow webserver --port 8080"
   ]
  },
  {
   "cell_type": "markdown",
   "id": "ac5507e1",
   "metadata": {},
   "source": [
    "**Codigo de python con el DAG**\n",
    "\n",
    "Guardar en **/Users/iudh/airflow/dags/dag.py**"
   ]
  },
  {
   "cell_type": "code",
   "execution_count": null,
   "id": "adbd469f",
   "metadata": {},
   "outputs": [],
   "source": [
    "import requests as req\n",
    "from bs4 import BeautifulSoup as bs\n",
    "\n",
    "import pandas as pd\n",
    "\n",
    "from datetime import datetime, timedelta\n",
    "\n",
    "\n",
    "from airflow import DAG\n",
    "from airflow.operators.dummy import DummyOperator\n",
    "from airflow.operators.python import PythonOperator\n",
    "\n",
    "\n",
    "def get_bth_price():\n",
    "\n",
    "    df=pd.read_csv('../data/bth_price.csv')\n",
    "\n",
    "    html=req.get('https://coinmarketcap.com/currencies/bitcoin/historical-data/', 'html.parser').content\n",
    "\n",
    "    soup=bs(html)\n",
    "\n",
    "    bitcoin_price=soup.find('div', class_='priceValue___11gHJ').text\n",
    "\n",
    "    bitcoin_price_var=soup.find('span', class_='sc-1v2ivon-0 iQVSWO').text\n",
    "\n",
    "    bit_eth_price=soup.find('p', class_='sc-10nusm4-0 bspaAT').text.split('H')[0]+'H'\n",
    "\n",
    "    bit_eth_price_var=soup.find('p', class_='sc-10nusm4-0 bspaAT').text.split('H')[1]\n",
    "\n",
    "    dictio={'bitcoin_price': bitcoin_price,\n",
    "            'bitcoin_price_var': bitcoin_price_var,\n",
    "            'bit_eth_price': bit_eth_price,\n",
    "            'bit_eth_price_var': bit_eth_price_var,\n",
    "            'datetime': datetime.now()}\n",
    "\n",
    "    df=df.append(pd.DataFrame(dictio, index=[0]), ignore_index=True)\n",
    "\n",
    "    df.to_csv('../data/bth_price.csv', index=False)\n",
    "    \n",
    "    return 'Get data process DONE'\n",
    "\n",
    "    \n",
    "    \n",
    "def clean_bth_data():\n",
    "    \n",
    "    df=pd.read_csv('../data/bth_price.csv')\n",
    "    try:\n",
    "        df.bitcoin_price=df.bitcoin_price.apply(lambda x: float(x.replace('$', '').replace(',', '')))\n",
    "        df.bitcoin_price_var=df.bitcoin_price_var.apply(lambda x: float(x.replace('%', '')))\n",
    "        df.bit_eth_price=df.bit_eth_price.apply(lambda x: float(x.replace('ETH', '')))\n",
    "        df.bit_eth_price_var=df.bit_eth_price_var.apply(lambda x: float(x.replace('%', '')))\n",
    "\n",
    "    except:\n",
    "        print('Data is clean')\n",
    "\n",
    "    df.to_csv('../data/bth_price.csv', index=False)\n",
    "\n",
    "    return 'Clean data process DONE'\n",
    "    \n",
    "\n",
    "\n",
    "\n",
    "default_args = {\n",
    "    'owner': 'yona',\n",
    "    'depends_on_past': False,\n",
    "    'start_date': datetime(2021, 6, 8),\n",
    "    'email': ['yehonaga@gmail.com'],\n",
    "    'email_on_failure': False,\n",
    "    'email_on_retry': False,\n",
    "    'email_on_success': True,\n",
    "    'retries': 1,\n",
    "    'retry_delay': timedelta(minutes=1),\n",
    "}\n",
    "\n",
    "dag = DAG(\n",
    "    'bth_scrap',\n",
    "    description='Bitcoin price scraping',\n",
    "    schedule_interval='*/1 * * * *',   # cada 1 minuto (https://en.wikipedia.org/wiki/Cron#CRON_expression)\n",
    "    default_args=default_args,\n",
    "    catchup=False,\n",
    ")\n",
    "\n",
    "\n",
    "tarea1=PythonOperator(task_id='get_bth_price', python_callable=get_bth_price, dag=dag)\n",
    "\n",
    "tarea2=PythonOperator(task_id='clean_bth_data', python_callable=clean_bth_data, dag=dag)\n",
    "\n",
    "# secuencia de tareas\n",
    "tarea1 >> tarea2\n",
    "\n",
    "# equivalente\n",
    "#tarea2.set_upstream(tarea1)\n"
   ]
  },
  {
   "cell_type": "markdown",
   "id": "840b5399",
   "metadata": {},
   "source": [
    "**Se ejecuta el codigo...**"
   ]
  },
  {
   "cell_type": "code",
   "execution_count": null,
   "id": "26243fe7",
   "metadata": {
    "scrolled": true
   },
   "outputs": [],
   "source": [
    "#!python /Users/iudh/airflow/dags/dag.py\n",
    "!python /home/iudh/airflow/dags/dag.py"
   ]
  },
  {
   "cell_type": "markdown",
   "id": "193939be",
   "metadata": {},
   "source": [
    "**Se testea...**"
   ]
  },
  {
   "cell_type": "code",
   "execution_count": null,
   "id": "e07fb96d",
   "metadata": {},
   "outputs": [],
   "source": [
    "!airflow tasks test bth_scrap get_bth_price 2021-06-08"
   ]
  },
  {
   "cell_type": "code",
   "execution_count": null,
   "id": "bd784e42",
   "metadata": {},
   "outputs": [],
   "source": [
    "!airflow tasks test bth_scrap clean_bth_data 2021-06-08"
   ]
  },
  {
   "cell_type": "markdown",
   "id": "0b738037",
   "metadata": {},
   "source": [
    "**Activar el DAG**"
   ]
  },
  {
   "cell_type": "code",
   "execution_count": null,
   "id": "59b277c3",
   "metadata": {},
   "outputs": [],
   "source": [
    "!airflow scheduler"
   ]
  },
  {
   "cell_type": "markdown",
   "id": "da2fad28",
   "metadata": {},
   "source": [
    "Desde aqui volver a abrir el webserver para ver el nuevo DAG"
   ]
  },
  {
   "cell_type": "code",
   "execution_count": null,
   "id": "41c1ed4c",
   "metadata": {},
   "outputs": [],
   "source": []
  }
 ],
 "metadata": {
  "finalized": {
   "timestamp": 1623698375205,
   "trusted": true
  },
  "kernelspec": {
   "display_name": "clase",
   "language": "python",
   "name": "clase"
  },
  "language_info": {
   "codemirror_mode": {
    "name": "ipython",
    "version": 3
   },
   "file_extension": ".py",
   "mimetype": "text/x-python",
   "name": "python",
   "nbconvert_exporter": "python",
   "pygments_lexer": "ipython3",
   "version": "3.9.7"
  },
  "varInspector": {
   "cols": {
    "lenName": 16,
    "lenType": 16,
    "lenVar": 40
   },
   "kernels_config": {
    "python": {
     "delete_cmd_postfix": "",
     "delete_cmd_prefix": "del ",
     "library": "var_list.py",
     "varRefreshCmd": "print(var_dic_list())"
    },
    "r": {
     "delete_cmd_postfix": ") ",
     "delete_cmd_prefix": "rm(",
     "library": "var_list.r",
     "varRefreshCmd": "cat(var_dic_list()) "
    }
   },
   "types_to_exclude": [
    "module",
    "function",
    "builtin_function_or_method",
    "instance",
    "_Feature"
   ],
   "window_display": false
  }
 },
 "nbformat": 4,
 "nbformat_minor": 5
}

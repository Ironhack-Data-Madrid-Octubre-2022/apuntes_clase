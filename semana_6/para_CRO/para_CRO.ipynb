{
 "cells": [
  {
   "cell_type": "code",
   "execution_count": 1,
   "id": "b566aa92",
   "metadata": {},
   "outputs": [],
   "source": [
    "from bayes import *"
   ]
  },
  {
   "cell_type": "code",
   "execution_count": 2,
   "id": "229c3884",
   "metadata": {},
   "outputs": [
    {
     "name": "stdout",
     "output_type": "stream",
     "text": [
      "Tasas 0.0018181818181818182 0.0029411764705882353\n"
     ]
    }
   ],
   "source": [
    "# los datos son conocidos: impresiones, conversiones, control y test\n",
    "imps_ctrl, convs_ctrl= 16500, 30\n",
    "imps_test, convs_test= 17000, 50\n",
    "\n",
    "CR_ctrl=convs_ctrl/imps_ctrl\n",
    "CR_test=convs_test/imps_test\n",
    "\n",
    "print ('Tasas', CR_ctrl, CR_test)"
   ]
  },
  {
   "cell_type": "code",
   "execution_count": 3,
   "id": "e5315348",
   "metadata": {},
   "outputs": [],
   "source": [
    "# se crean funciones beta\n",
    "# aprioris\n",
    "\n",
    "a_C, b_C = convs_ctrl+1, imps_ctrl-convs_ctrl+1\n",
    "a_T, b_T = convs_test+1, imps_test-convs_test+1\n",
    "\n",
    "beta_C=beta(a_C, b_C)  # control\n",
    "beta_T=beta(a_T, b_T)  # test"
   ]
  },
  {
   "cell_type": "code",
   "execution_count": 4,
   "id": "155d07cf",
   "metadata": {},
   "outputs": [],
   "source": [
    "# diferencia normalizada de las medias de test y control\n",
    "\n",
    "salto=(beta_T.mean()-beta_C.mean())/beta_C.mean()"
   ]
  },
  {
   "cell_type": "code",
   "execution_count": 5,
   "id": "933dcbb7",
   "metadata": {},
   "outputs": [],
   "source": [
    "prob=calc_prob(beta_T, beta_C)  # esta funcion es la clave"
   ]
  },
  {
   "cell_type": "code",
   "execution_count": 6,
   "id": "006fe979",
   "metadata": {},
   "outputs": [
    {
     "name": "stdout",
     "output_type": "stream",
     "text": [
      "El test aumenta la tasa de conversion en un 59.68%,\n",
      "con una probabilidad del 98.21%\n"
     ]
    }
   ],
   "source": [
    "print (\n",
    "'''El test aumenta la tasa de conversion en un {:2.2f}%,\n",
    "con una probabilidad del {:2.2f}%'''\n",
    "    .format(salto*100, prob*100)\n",
    ")"
   ]
  },
  {
   "cell_type": "code",
   "execution_count": 7,
   "id": "a9c79d0a",
   "metadata": {},
   "outputs": [
    {
     "name": "stdout",
     "output_type": "stream",
     "text": [
      "0.0018181818181818182 0.0029411764705882353\n"
     ]
    },
    {
     "data": {
      "image/png": "[encoded data removed]",
      "text/plain": [
       "<Figure size 432x288 with 1 Axes>"
      ]
     },
     "metadata": {
      "needs_background": "light"
     },
     "output_type": "display_data"
    }
   ],
   "source": [
    "print (CR_ctrl, CR_test)\n",
    "plot([beta_C, beta_T], ['Control', 'Test'])"
   ]
  },
  {
   "cell_type": "code",
   "execution_count": null,
   "id": "9b25afeb",
   "metadata": {},
   "outputs": [],
   "source": []
  }
 ],
 "metadata": {
  "finalized": {
   "timestamp": 1663190724645,
   "trusted": false
  },
  "kernelspec": {
   "display_name": "clase",
   "language": "python",
   "name": "clase"
  },
  "language_info": {
   "codemirror_mode": {
    "name": "ipython",
    "version": 3
   },
   "file_extension": ".py",
   "mimetype": "text/x-python",
   "name": "python",
   "nbconvert_exporter": "python",
   "pygments_lexer": "ipython3",
   "version": "3.9.7"
  }
 },
 "nbformat": 4,
 "nbformat_minor": 5
}

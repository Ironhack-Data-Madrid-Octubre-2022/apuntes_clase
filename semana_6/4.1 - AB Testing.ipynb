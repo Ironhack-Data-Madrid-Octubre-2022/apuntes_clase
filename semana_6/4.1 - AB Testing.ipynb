{
 "cells": [
  {
   "cell_type": "markdown",
   "metadata": {},
   "source": [
    "# 4.1- AB Testing\n",
    "\n",
    "![ab_test](images/ab_test.png)\n",
    "\n",
    "\n",
    "### Guía paso a paso\n",
    "\n",
    "Veremos todo el proceso de un test AB, desde formular la hipótesis, ponerla a prueba y finalmente interpretar los resultados. Usaremos los datos de [Kaggle](https://www.kaggle.com/zhangluyuan/ab-testing?select=ab_data.csv) que continen los resultados de un test AB de dos posibles paginas webs (la version vieja y la nueva)\n",
    "\n",
    "El proceso será como sigue:\n",
    "\n",
    "1. [Diseñar el experimento](#1.-Diseñar-el-experimento)\n",
    "2. [Obtener y preparar datos](#2.-Obtener-y-preparar-datos)\n",
    "3. [Visualizar los resultados](#3.-Visualizar-los-resultados)\n",
    "4. [Testear la hipótesis](#4.-Testear-la-hipótesis)\n",
    "5. [Interpretar resultados](#5.-Interpretar-resultados)\n",
    "\n",
    "Para contextualizar, imaginemos el siguiente caso de estudio:\n",
    "\n",
    "![abtest](images/abtest.jpg)\n",
    "\n",
    "> Trabajamos en el equipo de producto de una **compañia de e-commerce online**. El equipo de UX está trabajando muy duro en la nueva versión de la página del producto, con el objetivo de alcanzar tasas de conversión más altas. El PM (product manager) nos dice que la versión actual de la página consigue una **tasa de conversión del 13% de media anual**. El objetivo anual es un **incremento del 2%**, lo que implica que la nueva versión debe alcanzar el 15% de tasa de conversión.\n",
    "\n",
    "Antes de realizar el cambio definitivo de la página, es necesario realizar pruebas para comprobar que realmente funciona. Es en ese momento donde aparece el **test AB** realizado sobre un conjunto de usuarios."
   ]
  },
  {
   "cell_type": "markdown",
   "metadata": {},
   "source": [
    "***\n",
    "### 1. Diseñar el experimento\n",
    "\n",
    "\n",
    "#### Formulando una hipótesis\n",
    "\n",
    "Realizada la observación de la necesidad de un test, es necesario plantear una hipótesis. Dado que no sabemos si la nueva página funciona mejor o peor, usaremos el [test de dos colas](https://en.wikipedia.org/wiki/One-_and_two-tailed_tests):\n",
    "\n",
    "$$H_0: p = p_0$$\n",
    "$$H_1: p \\ne p_0$$\n",
    "\n",
    "donde $p$ y $p_0$ son las tasas de conversión del nuevo diseño de la web y el viejo diseño respectivamente. Además, establecemos un **intervalo de confianza del 95%**:\n",
    "\n",
    "$$\\alpha = 0.05$$\n",
    "\n",
    "El valor de $\\alpha$ es el umbral para ese intervalo de confianza, que lo que quiere decir es que \"si la probabilidad de observar un resultado, el $p$-valor, es menor que $\\alpha$, entonces podemos rechazar la hipótesis nula\". Nuestro $\\alpha=0.05$ indica un 5% de probabilidad, dando un intervalo de confianza, 1 - $\\alpha$, del 95%.\n",
    "\n",
    "\n",
    "\n",
    "#### Escogiendo las variables\n",
    "\n",
    "Para nuestro test necesitamos **dos grupos**:\n",
    "* Un grupo de `control` - Será el grupo que vea el viejo diseño de la web\n",
    "* Un grupo de `tratamiento`, o experimental - Será el grupo que vea el nuevo diseño de la página\n",
    "\n",
    "Esta será nuestra *variable independiente*. La razón de tener dos grupos aun cuando ya sabemos la tasa de conversión actual, es que queremos controlar otras variables que podrían afectar los resultados, como la estacionalidad. Teniendo un grupo de `control` podemos comparar directamente los resultados con el grupo de `tratamiento`, porque la única diferencia sistemática entre los dos grupos es el diseño de la página web del producto, y podemos asumir la diferencia entre ellos debido a ese diseño.\n",
    "\n",
    "La *variable dependiente*, la que tratamos de medir, es la `tasa de conversion`. Una manera de registrarla es a través de un registro binario:\n",
    "* `0` - Usuario que no compra durante su visita a la web.\n",
    "* `1` - Usuario que compra en la web.\n",
    "\n",
    "\n",
    "\n",
    "\n",
    "#### Escogiendo el tamaño de la muestra\n",
    "\n",
    "Es importante remarcar que no vamos a hacer el test en toda nuestra base de datos, por lo que en realidad lo que obtendremos serán estimaciones. El número de personas, o de sesiones, que decidamos capturar de cada grupo tendrá un efecto sobre la estimación de nuestras tasas de conversión. Cuanto más grande sea la muestra, más precisión tendrá nuestra estimación, y cuanto más precisa sea nuestra estimación más altas serán las posibilidades de detectar diferencias entre grupos si existieran.\n",
    "\n",
    "Por otro lado, cuanto más grande sea la muestra más caro e impracticable se vuelve el estudio.\n",
    "\n",
    "*Asi que, ¿cuánta gente debería haber en cada grupo?*\n",
    "\n",
    "Para estimar el tamaño en este caso, usaremos lo que se conoce potencia de una prueba estadística o el [poder estadístico](https://es.wikipedia.org/wiki/Poder_estad%C3%ADstico), que depende de varios valores: \n",
    "\n",
    "* **Poder del test** ($1 - \\beta$) - Representa la probabilidad de encontrar una diferencia estadísticamente significativa entre los grupos. Por convenio se suele establecer en 0.8\n",
    "\n",
    "* **Umbral (p-valor)** ($\\alpha$) - Valor crítico establecido anteriormente en 0.05\n",
    "\n",
    "* **Tamaño del efecto** - Como de grande es la diferencia esperada entre las tasas de conversión. Nuestro objetivo era el 2%"
   ]
  },
  {
   "cell_type": "code",
   "execution_count": null,
   "metadata": {},
   "outputs": [],
   "source": []
  },
  {
   "cell_type": "markdown",
   "metadata": {},
   "source": [
    "https://www.statsmodels.org/dev/generated/statsmodels.stats.power.NormalIndPower.solve_power.html"
   ]
  },
  {
   "cell_type": "code",
   "execution_count": null,
   "metadata": {},
   "outputs": [],
   "source": []
  },
  {
   "cell_type": "code",
   "execution_count": null,
   "metadata": {},
   "outputs": [],
   "source": []
  },
  {
   "cell_type": "markdown",
   "metadata": {},
   "source": [
    "Necesitamos **al menos 4720 observaciones para cada grupo**. \n",
    "\n",
    "Establecer el `poder estadístico` en 0.8 implica que si existe una diferencia significativa entre las tasas de conversión, tenemos un 80% de probabilidad de detectarla con este tamaño de la muestra."
   ]
  },
  {
   "cell_type": "markdown",
   "metadata": {},
   "source": [
    "***\n",
    "### 2. Obtener y preparar datos\n",
    "\n",
    "\n",
    "Obtenemos el dataframe y procedemos a examinarlos y prepararlos para el estudio. Escogeremos una muestra aleatoria de 4720 registros por cada grupo."
   ]
  },
  {
   "cell_type": "code",
   "execution_count": null,
   "metadata": {},
   "outputs": [],
   "source": []
  },
  {
   "cell_type": "code",
   "execution_count": null,
   "metadata": {},
   "outputs": [],
   "source": []
  },
  {
   "cell_type": "code",
   "execution_count": null,
   "metadata": {},
   "outputs": [],
   "source": []
  },
  {
   "cell_type": "code",
   "execution_count": null,
   "metadata": {},
   "outputs": [],
   "source": []
  },
  {
   "cell_type": "markdown",
   "metadata": {},
   "source": [
    "Eliminamos usuarios con varias visitas a la página web."
   ]
  },
  {
   "cell_type": "code",
   "execution_count": null,
   "metadata": {},
   "outputs": [],
   "source": []
  },
  {
   "cell_type": "code",
   "execution_count": null,
   "metadata": {},
   "outputs": [],
   "source": []
  },
  {
   "cell_type": "code",
   "execution_count": null,
   "metadata": {},
   "outputs": [],
   "source": []
  },
  {
   "cell_type": "code",
   "execution_count": null,
   "metadata": {},
   "outputs": [],
   "source": []
  },
  {
   "cell_type": "markdown",
   "metadata": {},
   "source": [
    "**Muestreo**"
   ]
  },
  {
   "cell_type": "code",
   "execution_count": null,
   "metadata": {},
   "outputs": [],
   "source": []
  },
  {
   "cell_type": "code",
   "execution_count": null,
   "metadata": {},
   "outputs": [],
   "source": []
  },
  {
   "cell_type": "code",
   "execution_count": null,
   "metadata": {},
   "outputs": [],
   "source": []
  },
  {
   "cell_type": "code",
   "execution_count": null,
   "metadata": {},
   "outputs": [],
   "source": []
  },
  {
   "cell_type": "markdown",
   "metadata": {},
   "source": [
    "Ya tenemos las muestras que necesitamos para realizar el estudio."
   ]
  },
  {
   "cell_type": "markdown",
   "metadata": {},
   "source": [
    "***\n",
    "### 3. Visualizar los resultados\n",
    "\n",
    "Realizamos algunos cálculos descriptivos:"
   ]
  },
  {
   "cell_type": "code",
   "execution_count": null,
   "metadata": {},
   "outputs": [],
   "source": []
  },
  {
   "cell_type": "code",
   "execution_count": null,
   "metadata": {},
   "outputs": [],
   "source": []
  },
  {
   "cell_type": "markdown",
   "metadata": {},
   "source": [
    "Las tasas de conversión para ambos grupos están muy cerca. La tasa de conversión del grupo de  `control` es menor que la esperada (12.3% vs 13% que nos habían dicho).\n",
    "\n",
    "Asi que el grupo de `tratamiento` tiene una tasa de conversión mayor. **¿Es esta diferencia estadísticamente significativa?**"
   ]
  },
  {
   "cell_type": "markdown",
   "metadata": {},
   "source": [
    "***\n",
    "### 4. Testear la hipótesis\n",
    "\n",
    "El último paso es testear nuestra hipótesis. Tenemos una muestra suficiente para usar el z-test. \n",
    "\n",
    "Podemos usar `statsmodels.stats.proportion` para obtener los $p$-valores y los intervalos de confianza:"
   ]
  },
  {
   "cell_type": "code",
   "execution_count": null,
   "metadata": {},
   "outputs": [],
   "source": []
  },
  {
   "cell_type": "code",
   "execution_count": null,
   "metadata": {},
   "outputs": [],
   "source": []
  },
  {
   "cell_type": "code",
   "execution_count": null,
   "metadata": {},
   "outputs": [],
   "source": []
  },
  {
   "cell_type": "code",
   "execution_count": null,
   "metadata": {},
   "outputs": [],
   "source": []
  },
  {
   "cell_type": "markdown",
   "metadata": {},
   "source": [
    "***\n",
    "### 5. Interpretar resultados"
   ]
  },
  {
   "cell_type": "markdown",
   "metadata": {},
   "source": [
    "Dado que el $p$-valor=0.732 es mayor que $\\alpha$=0.05, no podemos rechazar la hipótesis nula $H_0$, lo que significa que el nuevo diseño de la página no tiene un rendimiento significativamente diferente del viejo diseño.\n",
    "\n",
    "Adicionalmente, si se observa el intervalo de confianza para el grupo de  `tratamiento`([0.116, 0.135], i.e. 11.6-13.5%) nos damos cuenta de que:\n",
    "1. Incluye nuestro valor base del 13% en la tasa de conversion\n",
    "2. No incluye nuestro valor objetivo del 15% (el 2% de subida que buscabamos)\n",
    "\n",
    "Todo esto implica que lo más probable es que la tasa de conversión del nuevo diseño sea similar al viejo diseño de la web, y no llegaría a ese 15% buscado. Esto probaría que el diseño no mejora nuestra tasa de conversión y que habría que volver a la mesa de diseño."
   ]
  },
  {
   "cell_type": "code",
   "execution_count": null,
   "metadata": {},
   "outputs": [],
   "source": []
  },
  {
   "cell_type": "code",
   "execution_count": null,
   "metadata": {},
   "outputs": [],
   "source": []
  },
  {
   "cell_type": "code",
   "execution_count": null,
   "metadata": {},
   "outputs": [],
   "source": []
  },
  {
   "cell_type": "code",
   "execution_count": null,
   "metadata": {},
   "outputs": [],
   "source": []
  },
  {
   "cell_type": "code",
   "execution_count": null,
   "metadata": {},
   "outputs": [],
   "source": []
  }
 ],
 "metadata": {
  "finalized": {
   "timestamp": 1642164762242,
   "trusted": true
  },
  "kernelspec": {
   "display_name": "prueba",
   "language": "python",
   "name": "prueba"
  },
  "language_info": {
   "codemirror_mode": {
    "name": "ipython",
    "version": 3
   },
   "file_extension": ".py",
   "mimetype": "text/x-python",
   "name": "python",
   "nbconvert_exporter": "python",
   "pygments_lexer": "ipython3",
   "version": "3.7.13"
  },
  "varInspector": {
   "cols": {
    "lenName": 16,
    "lenType": 16,
    "lenVar": 40
   },
   "kernels_config": {
    "python": {
     "delete_cmd_postfix": "",
     "delete_cmd_prefix": "del ",
     "library": "var_list.py",
     "varRefreshCmd": "print(var_dic_list())"
    },
    "r": {
     "delete_cmd_postfix": ") ",
     "delete_cmd_prefix": "rm(",
     "library": "var_list.r",
     "varRefreshCmd": "cat(var_dic_list()) "
    }
   },
   "types_to_exclude": [
    "module",
    "function",
    "builtin_function_or_method",
    "instance",
    "_Feature"
   ],
   "window_display": false
  }
 },
 "nbformat": 4,
 "nbformat_minor": 4
}

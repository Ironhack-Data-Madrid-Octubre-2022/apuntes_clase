{
 "cells": [
  {
   "cell_type": "markdown",
   "metadata": {},
   "source": [
    "# 1.1 - Intro Probabilidad\n",
    "\n",
    "![intro_prob](images/intro_prob.jpeg)\n",
    "\n",
    "https://www.universoformulas.com/estadistica/inferencia/"
   ]
  },
  {
   "cell_type": "markdown",
   "metadata": {},
   "source": [
    "### Introduccion\n",
    "\n",
    "\n",
    "* **Probabilidad** es la rama de las matemáticas que estudia ciertos experimentos llamados aleatorios, o sea regidos por el azar, en que se conocen todos los resultados posibles, pero no es posible tener certeza de cuál será en particular el resultado del experimento. La probabilidad de un evento es como de posible es que ocurra."
   ]
  },
  {
   "cell_type": "markdown",
   "metadata": {},
   "source": [
    "### Axiomas de la probabilidad (Kolmogorov)\n",
    "\n",
    "https://es.wikipedia.org/wiki/Axiomas_de_probabilidad\n",
    "\n",
    "**Axioma 1:** La probabilidad de un evento E no puede ser negativa. De hecho, $P(E) \\in [0,1]$.\n",
    "\n",
    "**Axioma 2:** La probabilidad del evento seguro es igual a 1. La probabilidad del evento imposible es igual a 0.\n",
    "\n",
    "**Axioma 3:** Si $E_{1}, E_{2}, ...$ son eventos mutuamente excluyentes, es decir, su intersección es el conjunto vacío, entonces:\n",
    "\n",
    "$$P(E_{1} \\cup E_{2} \\cup ... \\cup E_{n}) = \\sum_{i=1}^{n}{P(E_{i})}$$\n"
   ]
  },
  {
   "cell_type": "markdown",
   "metadata": {},
   "source": [
    "### Espacio muestral\n",
    "\n",
    "* El **espacio muestral** $\\Omega$ de un experimento es el **conjunto** de posibles resultados.\n",
    "* Un evento es un subconjunto del espacio muestral."
   ]
  },
  {
   "cell_type": "markdown",
   "metadata": {},
   "source": [
    "### Experimento aleatorio (experimento de Bernoulli)\n",
    "\n",
    "**Ejemplo:** Lanzar monedas."
   ]
  },
  {
   "cell_type": "markdown",
   "metadata": {},
   "source": [
    "![monedas](images/monedas.jpg)\n",
    "\n",
    "El espacio muestral es $\\Omega = \\{cara, cruz\\}$\n",
    "\n",
    "$P(cara) = \\frac{1}{2} (=0.5 = 50\\%)$\n",
    "\n",
    "$P(cruz) = \\frac{1}{2}$"
   ]
  },
  {
   "cell_type": "code",
   "execution_count": 1,
   "metadata": {},
   "outputs": [],
   "source": [
    "espacio_muestral=['cara', 'cruz']"
   ]
  },
  {
   "cell_type": "code",
   "execution_count": 2,
   "metadata": {},
   "outputs": [
    {
     "data": {
      "text/plain": [
       "['cara',\n",
       " 'cruz',\n",
       " 'cruz',\n",
       " 'cruz',\n",
       " 'cara',\n",
       " 'cruz',\n",
       " 'cara',\n",
       " 'cruz',\n",
       " 'cruz',\n",
       " 'cruz']"
      ]
     },
     "execution_count": 2,
     "metadata": {},
     "output_type": "execute_result"
    }
   ],
   "source": [
    "# tirar 10 veces la moneda\n",
    "\n",
    "import random\n",
    "\n",
    "tiradas=random.choices(espacio_muestral, k=10)\n",
    "\n",
    "tiradas"
   ]
  },
  {
   "cell_type": "code",
   "execution_count": 3,
   "metadata": {},
   "outputs": [
    {
     "data": {
      "text/plain": [
       "0.3"
      ]
     },
     "execution_count": 3,
     "metadata": {},
     "output_type": "execute_result"
    }
   ],
   "source": [
    "# frecuencia (probabilidad)\n",
    "\n",
    "frec_cara=tiradas.count('cara')/len(tiradas)\n",
    "\n",
    "frec_cara"
   ]
  },
  {
   "cell_type": "code",
   "execution_count": 6,
   "metadata": {},
   "outputs": [
    {
     "data": {
      "text/plain": [
       "0.50179"
      ]
     },
     "execution_count": 6,
     "metadata": {},
     "output_type": "execute_result"
    }
   ],
   "source": [
    "tiradas=random.choices(espacio_muestral, k=100000)\n",
    "\n",
    "frec_cara=tiradas.count('cara')/len(tiradas)\n",
    "\n",
    "frec_cara"
   ]
  },
  {
   "cell_type": "markdown",
   "metadata": {},
   "source": [
    "**Ejemplo:** Lanzar 2 monedas.\n",
    "\n",
    "El espacio muestral es $\\Omega = \\{cara-cara, cara-cruz, cruz-cara, cruz-cruz\\}$\n",
    "\n",
    "$P(2 caras) = \\frac{1}{4}$\n",
    "\n",
    "$P(2 cruces) = \\frac{1}{4}$\n",
    "\n",
    "$P(\\text{una de cada}) = \\frac{1}{2}$\n",
    "\n",
    "$P(\\text{las dos iguales}) = \\frac{1}{2}$\n",
    "\n",
    "$P(\\text{al menos una cara}) = \\frac{3}{4}$"
   ]
  },
  {
   "cell_type": "markdown",
   "metadata": {},
   "source": [
    "  "
   ]
  },
  {
   "cell_type": "markdown",
   "metadata": {},
   "source": [
    "**Ejemplo:** Lanzar un dado."
   ]
  },
  {
   "cell_type": "markdown",
   "metadata": {},
   "source": [
    "![dados](images/dados.jpg)\n",
    "\n",
    "El espacio muestral es $\\Omega = \\{1, 2, 3, 4, 5, 6\\}$\n",
    "\n",
    "$P(1) = \\frac{1}{6}$\n",
    "\n",
    "$P(4) = \\frac{1}{6} \\sim 0.16$\n",
    "\n",
    "$P(7) = 0$\n",
    "\n",
    "$P(\\text{mayor que 1}) = \\frac{5}{6}$"
   ]
  },
  {
   "cell_type": "code",
   "execution_count": 7,
   "metadata": {},
   "outputs": [],
   "source": [
    "espacio_muestral=[1,2,3,4,5,6]"
   ]
  },
  {
   "cell_type": "code",
   "execution_count": 8,
   "metadata": {},
   "outputs": [
    {
     "data": {
      "text/plain": [
       "[5, 3, 5, 6, 4, 4, 5, 3, 4, 3]"
      ]
     },
     "execution_count": 8,
     "metadata": {},
     "output_type": "execute_result"
    }
   ],
   "source": [
    "tiradas=random.choices(espacio_muestral, k=10)\n",
    "\n",
    "tiradas"
   ]
  },
  {
   "cell_type": "code",
   "execution_count": 9,
   "metadata": {},
   "outputs": [
    {
     "data": {
      "text/plain": [
       "0.0"
      ]
     },
     "execution_count": 9,
     "metadata": {},
     "output_type": "execute_result"
    }
   ],
   "source": [
    "frecuencia_dos=tiradas.count(2)/len(tiradas)\n",
    "\n",
    "frecuencia_dos"
   ]
  },
  {
   "cell_type": "code",
   "execution_count": 10,
   "metadata": {},
   "outputs": [
    {
     "data": {
      "text/plain": [
       "0.1636"
      ]
     },
     "execution_count": 10,
     "metadata": {},
     "output_type": "execute_result"
    }
   ],
   "source": [
    "tiradas=random.choices(espacio_muestral, k=10000)\n",
    "\n",
    "frecuencia_dos=tiradas.count(2)/len(tiradas)\n",
    "\n",
    "frecuencia_dos"
   ]
  },
  {
   "cell_type": "markdown",
   "metadata": {},
   "source": [
    "## Regla de Laplace \n",
    "\n",
    "Si cada posible salida de $\\Omega$ ocurre con la **misma probabilidad**, entonces la probabilidad de cada evento es simplemente:\n",
    "\n",
    "$$P(evento)=\\frac {\\text{numero de salidas en el evento}}{\\text{numero de salidas en el espacio muestral}}$$\n",
    "\n",
    "\n",
    "**Ejemplo:** Lanzar 2 monedas.\n",
    "\n",
    "El espacio muestral es $\\Omega = \\{cara-cara, cara-cruz, cruz-cara, cruz-cruz\\}$\n",
    "\n",
    "$P(\\text{uno de cada}) = \\frac{2}{4}$\n",
    "\n",
    "$P(\\text{ambos el mismo}) = \\frac{2}{4}$"
   ]
  },
  {
   "cell_type": "markdown",
   "metadata": {},
   "source": [
    "## Eventos Compuestos\n",
    "\n",
    "#### Union, interseccion\n",
    "\n",
    "$A$ y $B$ son eventos  \n",
    "\n",
    "$A \\cap B$ (A interseccion B) es otro evento, que ocurre si **ambos** $A$ y $B$ ocurren.\n",
    "\n",
    "$A \\cup B$ (A union B) es otro evento, que ocurre si **cualquiera**  $A$ o $B$ ocurren.\n",
    "\n",
    "\n",
    "![venn](images/venn.png)\n",
    "\n",
    "\n",
    "**Experimento de ejemplo**: sacar una carta de la baraja\n",
    "\n",
    "![baraja](images/baraja.jpg)\n",
    "\n",
    "\n",
    "$P(rey)=\\frac{4}{40}$\n",
    "\n",
    "$P(oro)=\\frac{10}{40}$\n",
    "\n",
    "$P(rey \\cap oro)=\\frac{1}{40}$\n",
    "\n",
    "$P(rey \\cup oro)=\\frac{13}{40}$\n",
    "\n",
    "$$P(A \\cup B)=P(A)+P(B)-P(A \\cap B)$$"
   ]
  },
  {
   "cell_type": "markdown",
   "metadata": {},
   "source": [
    "## Independencia\n",
    "\n",
    "\n"
   ]
  },
  {
   "cell_type": "markdown",
   "metadata": {},
   "source": [
    "### Evento opuesto/complementario\n",
    "\n",
    "\n",
    "$A$ es un evento\n",
    "\n",
    "$\\overline{A}$ es el evento opuesto o complementario (también llamado $A'$)\n",
    "\n",
    "$P(\\text{no oro})=\\frac{30}{40}$\n",
    "\n",
    "$P(\\text{oro})=\\frac{10}{40}$\n",
    "\n",
    "$$P(\\overline{A}) = 1-P(A)$$"
   ]
  },
  {
   "cell_type": "markdown",
   "metadata": {},
   "source": [
    "## Probabilidad condicional\n",
    "\n",
    "$P(A|B)$ es la probabilidad de que ocurra $A$, sabiendo que $B$ ha ocurrido.\n",
    "\n",
    "![prob_condicionada](images/prob_condicionada.png)\n",
    "\n",
    "\n",
    "**Definicion formal:**\n",
    "\n",
    "$$P(A|B)=\\frac{P(A \\cap B)}{P(B)}$$\n",
    "\n",
    "\n",
    "\n",
    "Un par de ejemplos:\n",
    "\n",
    "\n",
    "**1º)**\n",
    "\n",
    "Calcular la probabilidad de que al tirar un dado salga 3 si se sabe de antemano que ha salido un número impar.\n",
    "\n",
    "Tenemos que calcular: $P(3 | \\text{saliendo impar})$ \n",
    "\n",
    "\n",
    "$$P(3|\\text{impar}) = \\frac{P(3 \\cap \\text{impar})}{P(\\text{impar})}$$\n",
    "\n",
    "\n",
    "$$P(\\text{impar}) = 3/6 = 1/2$$\n",
    "\n",
    "\n",
    "$$P(3 \\cap \\text{impar}) = 1/6$$ \n",
    "\n",
    "\n",
    "$$P(3|\\text{impar}) = \\frac{1/6}{1/2} = 1/3$$\n",
    "\n",
    "\n",
    "\n",
    "\n",
    "\n",
    "**2º)**\n",
    "\n",
    "Supongamos que una determinada enfermedad afecta al 1% de las personas. La probabilidad de que al analizar a una persona sana salga erróneamente positivo (error tipo I, que este enferma) es el 1%. La probabilidad de que al analizar una persona enferma salga erróneamente negativa (error tipo II, que este sana) es el 1%. Calcular la probabilidad de que una persona esté realmente enferma si da positivo en un análisis.¿$P(\\text{enfermo} | \\text{positivo})$?\n",
    "\n",
    "Lo que sabemos:\n",
    "\n",
    "+ $P(\\text{enfermo}) = \\text{1%} = 0.01$\n",
    "+ $P(\\text{sano}) = 1 - P(\\text{enfermo}) = 1 - 0.01 = 0.99$\n",
    "+ $P(\\text{positivo} | \\text{sano}) = \\text{1%} = 0.01$\n",
    "+ $P(\\text{negativo} | \\text{sano}) = 1 - P(\\text{positivo} | \\text{sano}) = 1 - 0.01 = 0.99$\n",
    "+ $P(\\text{negativo} | \\text{enfermo}) = \\text{1%} = 0.01$\n",
    "+ $P(\\text{positivo} | \\text{enfermo}) = 1 - P(\\text{negativo} | \\text{enfermo}) = 1 - 0.01 = 0.99$\n",
    "\n",
    "\n",
    "Lo que buscamos:\n",
    "\n",
    "$$P(\\text{enfermo} | \\text{positivo}) = \\frac{P(\\text{enfermo} \\cap \\text{positivo})}{P(\\text{positivo})}$$\n",
    "\n",
    "\n",
    "<br><br/>\n",
    "**Paso a paso.** En primer lugar, $P(\\text{enfermo} \\cap \\text{positivo}) =  P(\\text{positivo} \\cap \\text{enfermo})$, por lo tanto:\n",
    "\n",
    "$$P(\\text{positivo} | \\text{enfermo}) = 0.01 = \\frac{P(\\text{positivo} \\cap \\text{enfermo})}{P(\\text{enfermo})}$$\n",
    "<br><br/>\n",
    "$$P(\\text{positivo} \\cap \\text{enfermo}) = 0.01 · P(\\text{enfermo}) = 0.01 · 0.01 = 0.0001$$\n",
    "\n",
    "<br><br/>\n",
    "Por otra parte, podemos obtener  $P(\\text{positivo})$ a partir de que:\n",
    "\n",
    "$$P(\\text{positivo}) = P(\\text{sano} \\cap \\text{positivo}) + P(\\text{enfermo} \\cap \\text{positivo})$$\n",
    "\n",
    "<br><br/>\n",
    "\n",
    "Para despejar $P(\\text{positivo})$ necesitamos conocer $P(\\text{sano} \\cap \\text{positivo})$ y $P(\\text{enfermo} \\cap \\text{positivo})$ que obtenemos de:\n",
    "\n",
    "\n",
    "<br><br/>\n",
    "$$P(\\text{positivo} | \\text{sano}) = \\frac{P(\\text{sano} \\cap \\text{positivo})}{P(\\text{sano})}$$\n",
    "<br><br/>\n",
    "$$P(\\text{sano} \\cap \\text{positivo}) = P(\\text{positivo} | \\text{sano}) · P(\\text{sano}) = 0.01 · 0.99 = 0.0099$$\n",
    "<br><br/>\n",
    "$$P(\\text{positivo} | \\text{enfermo}) = \\frac{P(\\text{enfermo} \\cap \\text{positivo})}{P(\\text{enfermo})}$$\n",
    "<br><br/>\n",
    "$$P(\\text{enfermo} \\cap \\text{positivo}) = P(\\text{positivo} | \\text{enfermo}) · P(\\text{enfermo}) = 0.99 · 0.01 = 0.0099$$\n",
    "<br><br/>\n",
    "$$P(\\text{positivo}) = P(\\text{sano} \\cap \\text{positivo}) + P(\\text{enfermo} \\cap \\text{positivo}) = 0.0099 + 0.0099 = 0.0198$$\n",
    "\n",
    "<br><br/>\n",
    "Por lo tanto:\n",
    "$$P(\\text{enfermo} | \\text{positivo}) = \\frac{P(\\text{enfermo} \\cap \\text{positivo})}{P(\\text{positivo})} = \\frac{0.0099}{0.0198} = 0.5$$\n",
    "\n",
    "\n"
   ]
  },
  {
   "cell_type": "markdown",
   "metadata": {},
   "source": [
    "## Eventos independientes\n",
    "\n",
    "Si los eventos son independientes, la probabilidad de que ocurran **todos** ellos es el producto de sus respectivas probabilidades.\n",
    "\n",
    "$A$, $B$ independientes $\\Rightarrow$ $P(A \\cap B)=P(A) · P(B)$\n",
    "\n",
    "\n",
    "**Ejercicio**: ¿Cuál es la probabilidad de lanzar tres veces un dado y que salgan tres 5?\n",
    "\n",
    "$P(\\text{tres 5})=\\frac{1}{6}·\\frac{1}{6}·\\frac{1}{6}=\\frac{1}{216}$\n"
   ]
  },
  {
   "cell_type": "markdown",
   "metadata": {},
   "source": [
    "## Eventos dependientes\n",
    "\n",
    "Si los eventos son dependientes, la probabilidad de que ocurran todos ellos **no** es el producto de sus respectivas probabilidades.\n",
    "\n",
    "$A$, $B$ dependientes $\\Rightarrow$ $P(A \\cap B)=P(A) · P(B|A)$\n",
    "\n"
   ]
  },
  {
   "cell_type": "markdown",
   "metadata": {},
   "source": [
    "## Arbol de probabilidad\n",
    "\n",
    "Si algo puede ocurrir por **más de una razón**, hay que tener en cuenta todas las probabilidades.\n",
    "\n",
    "\n",
    "**Ejemplo:**\n",
    "\n",
    "Eres uno de los porteros de un equipo de futbol. Tienes 2 entrenadores.  \n",
    "\n",
    "Con el entrenador Sam la probabilidad de que juegues es 0.5.  \n",
    "Con el entrenador Alex la probabilidad es 0.3.  \n",
    "\n",
    "Sam entrena más a menudo, como 6 partidos de cada 10, una probabilidad de 0.6\n",
    "\n",
    "¿Cuál es la probabilidad de que juegues hoy?\n",
    "\n",
    "![tree_prob](images/tree_prob.svg)\n",
    "\n",
    "$P(jugar) = P(sam) · P(jugar | sam) + P(alex) · P(jugar | alex)$"
   ]
  },
  {
   "cell_type": "code",
   "execution_count": 11,
   "metadata": {},
   "outputs": [
    {
     "data": {
      "text/plain": [
       "0.42"
      ]
     },
     "execution_count": 11,
     "metadata": {},
     "output_type": "execute_result"
    }
   ],
   "source": [
    "0.6 * 0.5 + 0.4 *0.3"
   ]
  },
  {
   "cell_type": "markdown",
   "metadata": {},
   "source": [
    "$P(B)=\\sum P(A_i) · P(B | A_i)$\n",
    "\n",
    "**Ejercicio**:\n",
    " * La probabilidad de un aumento de salario en 2023 es del 20%  \n",
    " * Si obtengo un incremento, la probabilidad de comprar una casa es del 70%  \n",
    " * Si no obtengo un incremento, la probabilidad de comprar una casa es del 20% \n",
    " \n",
    "¿Qué probabilidad tengo de comprarme una casa en 2024?\n",
    "\n",
    "$P(casa) = P(aumento) · P(casa | aumento) + P(\\text{no aumento}) · P(casa | \\text{no aumento})$"
   ]
  },
  {
   "cell_type": "code",
   "execution_count": 12,
   "metadata": {},
   "outputs": [
    {
     "data": {
      "text/plain": [
       "0.30000000000000004"
      ]
     },
     "execution_count": 12,
     "metadata": {},
     "output_type": "execute_result"
    }
   ],
   "source": [
    "0.2 * 0.7 + 0.8 * 0.2"
   ]
  },
  {
   "cell_type": "markdown",
   "metadata": {},
   "source": [
    "![prob_tree](images/prob_tree.png)"
   ]
  }
 ],
 "metadata": {
  "finalized": {
   "timestamp": 1624202553423,
   "trusted": false
  },
  "kernelspec": {
   "display_name": "clase",
   "language": "python",
   "name": "clase"
  },
  "language_info": {
   "codemirror_mode": {
    "name": "ipython",
    "version": 3
   },
   "file_extension": ".py",
   "mimetype": "text/x-python",
   "name": "python",
   "nbconvert_exporter": "python",
   "pygments_lexer": "ipython3",
   "version": "3.8.13"
  },
  "varInspector": {
   "cols": {
    "lenName": 16,
    "lenType": 16,
    "lenVar": 40
   },
   "kernels_config": {
    "python": {
     "delete_cmd_postfix": "",
     "delete_cmd_prefix": "del ",
     "library": "var_list.py",
     "varRefreshCmd": "print(var_dic_list())"
    },
    "r": {
     "delete_cmd_postfix": ") ",
     "delete_cmd_prefix": "rm(",
     "library": "var_list.r",
     "varRefreshCmd": "cat(var_dic_list()) "
    }
   },
   "types_to_exclude": [
    "module",
    "function",
    "builtin_function_or_method",
    "instance",
    "_Feature"
   ],
   "window_display": false
  }
 },
 "nbformat": 4,
 "nbformat_minor": 4
}

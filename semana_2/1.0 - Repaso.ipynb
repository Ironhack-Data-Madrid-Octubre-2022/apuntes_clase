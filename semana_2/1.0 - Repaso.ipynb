{
 "cells": [
  {
   "cell_type": "markdown",
   "id": "c0857a3f",
   "metadata": {},
   "source": [
    "# Repaso"
   ]
  },
  {
   "cell_type": "markdown",
   "id": "dd95f0d2",
   "metadata": {},
   "source": [
    "### 1) Errores"
   ]
  },
  {
   "cell_type": "code",
   "execution_count": 1,
   "id": "cf5013db",
   "metadata": {},
   "outputs": [
    {
     "ename": "SyntaxError",
     "evalue": "Missing parentheses in call to 'print'. Did you mean print(7)? (4150972616.py, line 1)",
     "output_type": "error",
     "traceback": [
      "\u001b[0;36m  Cell \u001b[0;32mIn [1], line 1\u001b[0;36m\u001b[0m\n\u001b[0;31m    print 7\u001b[0m\n\u001b[0m          ^\u001b[0m\n\u001b[0;31mSyntaxError\u001b[0m\u001b[0;31m:\u001b[0m Missing parentheses in call to 'print'. Did you mean print(7)?\n"
     ]
    }
   ],
   "source": [
    "print 7  # los errores de sintaxis hay que arregrarlos"
   ]
  },
  {
   "cell_type": "code",
   "execution_count": 3,
   "id": "171ad9cb",
   "metadata": {},
   "outputs": [
    {
     "name": "stdout",
     "output_type": "stream",
     "text": [
      "-2.5\n",
      "-5.0\n"
     ]
    },
    {
     "ename": "ZeroDivisionError",
     "evalue": "division by zero",
     "output_type": "error",
     "traceback": [
      "\u001b[0;31m---------------------------------------------------------------------------\u001b[0m",
      "\u001b[0;31mZeroDivisionError\u001b[0m                         Traceback (most recent call last)",
      "Cell \u001b[0;32mIn [3], line 2\u001b[0m\n\u001b[1;32m      1\u001b[0m \u001b[38;5;28;01mfor\u001b[39;00m i \u001b[38;5;129;01min\u001b[39;00m \u001b[38;5;28mrange\u001b[39m(\u001b[38;5;241m-\u001b[39m\u001b[38;5;241m2\u001b[39m, \u001b[38;5;241m5\u001b[39m):\n\u001b[0;32m----> 2\u001b[0m     \u001b[38;5;28mprint\u001b[39m(\u001b[38;5;241;43m5\u001b[39;49m\u001b[38;5;241;43m/\u001b[39;49m\u001b[43mi\u001b[49m)\n\u001b[1;32m      4\u001b[0m \u001b[38;5;28mprint\u001b[39m(\u001b[38;5;124m'\u001b[39m\u001b[38;5;124macabe\u001b[39m\u001b[38;5;124m'\u001b[39m)\n",
      "\u001b[0;31mZeroDivisionError\u001b[0m: division by zero"
     ]
    }
   ],
   "source": [
    "for i in range(-2, 5):\n",
    "    print(5/i)\n",
    "    \n",
    "print('acabe')"
   ]
  },
  {
   "cell_type": "code",
   "execution_count": 4,
   "id": "de46b072",
   "metadata": {},
   "outputs": [
    {
     "name": "stdout",
     "output_type": "stream",
     "text": [
      "-2.5\n",
      "-5.0\n",
      "i vale 0\n",
      "5.0\n",
      "2.5\n",
      "1.6666666666666667\n",
      "1.25\n",
      "acabe\n"
     ]
    }
   ],
   "source": [
    "for i in range(-2, 5):\n",
    "    \n",
    "    try:  # intenta esto...\n",
    "        print(5/i)\n",
    "        \n",
    "    except: # si revienta\n",
    "        print(f'i vale {i}')\n",
    "    \n",
    "print('acabe')"
   ]
  },
  {
   "cell_type": "code",
   "execution_count": 6,
   "id": "463c3205",
   "metadata": {},
   "outputs": [
    {
     "data": {
      "text/plain": [
       "'El valor de a es 9987890'"
      ]
     },
     "execution_count": 6,
     "metadata": {},
     "output_type": "execute_result"
    }
   ],
   "source": [
    "a=9987890\n",
    "\n",
    "'El valor de a es {}'.format(a)"
   ]
  },
  {
   "cell_type": "code",
   "execution_count": 7,
   "id": "da079ebf",
   "metadata": {},
   "outputs": [
    {
     "data": {
      "text/plain": [
       "'El valor de a es 9987890'"
      ]
     },
     "execution_count": 7,
     "metadata": {},
     "output_type": "execute_result"
    }
   ],
   "source": [
    "f'El valor de a es {a}'"
   ]
  },
  {
   "cell_type": "code",
   "execution_count": 8,
   "id": "c666e7dd",
   "metadata": {},
   "outputs": [
    {
     "name": "stdout",
     "output_type": "stream",
     "text": [
      "-2.5\n",
      "-5.0\n",
      "division by zero\n",
      "i vale 0\n",
      "5.0\n",
      "2.5\n",
      "1.6666666666666667\n",
      "1.25\n",
      "acabe\n"
     ]
    }
   ],
   "source": [
    "for i in range(-2, 5):\n",
    "    \n",
    "    try:  # intenta esto...\n",
    "        print(5/i)\n",
    "        \n",
    "    except ZeroDivisionError as e: # si revienta\n",
    "        print(e)\n",
    "        print(f'i vale {i}')\n",
    "    \n",
    "print('acabe')"
   ]
  },
  {
   "cell_type": "code",
   "execution_count": 9,
   "id": "8ef26555",
   "metadata": {},
   "outputs": [
    {
     "name": "stdout",
     "output_type": "stream",
     "text": [
      "-2.5\n",
      "-5.0\n",
      "i vale 0\n",
      "5.0\n",
      "2.5\n",
      "1.6666666666666667\n",
      "1.25\n",
      "acabe\n"
     ]
    }
   ],
   "source": [
    "for i in range(-2, 5):\n",
    "    \n",
    "    if i!=0:  \n",
    "        print(5/i)\n",
    "        \n",
    "    else:\n",
    "        print(f'i vale {i}')\n",
    "    \n",
    "print('acabe')"
   ]
  },
  {
   "cell_type": "markdown",
   "id": "c41100f4",
   "metadata": {},
   "source": [
    "### 2) Regex"
   ]
  },
  {
   "cell_type": "code",
   "execution_count": 10,
   "id": "8aa5e4ff",
   "metadata": {},
   "outputs": [],
   "source": [
    "import re"
   ]
  },
  {
   "cell_type": "code",
   "execution_count": 20,
   "id": "6df13b3c",
   "metadata": {},
   "outputs": [],
   "source": [
    "texto='hola que tal, hoy es dia de 24 de octubre y la semana que viene será 1 de noviembre, estamos en ironhack. Mi mail, me podeis escribir, es yonatan.rodriguez@ironhack.com'"
   ]
  },
  {
   "cell_type": "code",
   "execution_count": 21,
   "id": "bcd36501",
   "metadata": {},
   "outputs": [
    {
     "data": {
      "text/plain": [
       "'hola que tal, hoy es dia de 24 de octubre y la semana que viene será 1 de noviembre, estamos en ironhack. Mi mail, me podeis escribir, es yonatan.rodriguez@ironhack.com'"
      ]
     },
     "execution_count": 21,
     "metadata": {},
     "output_type": "execute_result"
    }
   ],
   "source": [
    "texto"
   ]
  },
  {
   "cell_type": "code",
   "execution_count": 22,
   "id": "6bf06527",
   "metadata": {},
   "outputs": [
    {
     "data": {
      "text/plain": [
       "['24 de octubre', '1 de noviembre']"
      ]
     },
     "execution_count": 22,
     "metadata": {},
     "output_type": "execute_result"
    }
   ],
   "source": [
    "patron='\\d+\\s\\w{2}\\s\\w+'\n",
    "\n",
    "\n",
    "re.findall(patron, texto)"
   ]
  },
  {
   "cell_type": "code",
   "execution_count": 23,
   "id": "7f75804c",
   "metadata": {},
   "outputs": [
    {
     "data": {
      "text/plain": [
       "['yonatan.rodriguez@ironhack.com']"
      ]
     },
     "execution_count": 23,
     "metadata": {},
     "output_type": "execute_result"
    }
   ],
   "source": [
    "patron='\\w+\\.\\w+\\@\\w+\\.\\w+'\n",
    "\n",
    "\n",
    "re.findall(patron, texto)"
   ]
  },
  {
   "cell_type": "code",
   "execution_count": 24,
   "id": "1b80340d",
   "metadata": {},
   "outputs": [
    {
     "data": {
      "text/plain": [
       "['yonatan.rodriguez@ironhack.com']"
      ]
     },
     "execution_count": 24,
     "metadata": {},
     "output_type": "execute_result"
    }
   ],
   "source": [
    "patron='[a-zA-Z._]+[@][a-zA-Z.]+'\n",
    "\n",
    "\n",
    "re.findall(patron, texto)"
   ]
  },
  {
   "cell_type": "code",
   "execution_count": 25,
   "id": "01caa4ed",
   "metadata": {},
   "outputs": [
    {
     "name": "stdout",
     "output_type": "stream",
     "text": [
      "si\n"
     ]
    }
   ],
   "source": [
    "if re.findall(patron, texto):\n",
    "    print('si')"
   ]
  },
  {
   "cell_type": "code",
   "execution_count": 27,
   "id": "6a9cf86f",
   "metadata": {},
   "outputs": [
    {
     "name": "stdout",
     "output_type": "stream",
     "text": [
      "no\n"
     ]
    }
   ],
   "source": [
    "if []:\n",
    "    print('si')\n",
    "    \n",
    "else:\n",
    "    print('no')"
   ]
  },
  {
   "cell_type": "markdown",
   "id": "c569b9f5",
   "metadata": {},
   "source": [
    "### 3) War"
   ]
  },
  {
   "cell_type": "code",
   "execution_count": 28,
   "id": "89b74648",
   "metadata": {},
   "outputs": [],
   "source": [
    "\n",
    "import random   # para elegir guerreros al azar\n",
    "\n",
    "\n",
    "# Soldier\n",
    "class Soldier():\n",
    "    def __init__(self, health, strength):\n",
    "        self.health=health\n",
    "        self.strength=strength\n",
    "\n",
    "    def attack(self):\n",
    "        return self.strength\n",
    "\n",
    "    def receiveDamage(self, damage):\n",
    "        self.health-=damage\n",
    "\n",
    "\n",
    "\n",
    "\n",
    "\n",
    "# Viking\n",
    "class Viking(Soldier):\n",
    "    def __init__(self, name, health, strength):\n",
    "        self.name=name\n",
    "        self.health=health\n",
    "        self.strength=strength\n",
    "\n",
    "    def receiveDamage(self, damage):\n",
    "        self.health-=damage\n",
    "        if self.health>0    : return \"{} has received {} points of damage\".format(self.name, damage)\t\n",
    "        elif self.health<=0 : return \"{} has died in act of combat\".format(self.name)\n",
    "\n",
    "    def battleCry(self):\n",
    "        return \"Odin Owns You All!\"\t\n",
    "\n",
    "\n",
    "\n",
    "\n",
    "\n",
    "# Saxon\n",
    "class Saxon(Soldier):\n",
    "    def __init__(self, health, strength):\n",
    "        self.health=health\n",
    "        self.strength=strength\n",
    "\n",
    "    def receiveDamage(self, damage):\n",
    "        self.health-=damage\n",
    "        if self.health>0    : return \"A Saxon has received {} points of damage\".format(damage)\t\n",
    "        elif self.health<=0 : return \"A Saxon has died in combat\"\n",
    "\n",
    "\n",
    "\n",
    "\n",
    "\n",
    "class War:\n",
    "\n",
    "    def __init__(self):\n",
    "        self.vikingArmy=[]\n",
    "        self.saxonArmy=[]\n",
    "\n",
    "\n",
    "    def addViking(self, Viking):\n",
    "        self.vikingArmy.append(Viking)\n",
    "\n",
    "    def addSaxon(self, Saxon):\n",
    "        self.saxonArmy.append(Saxon)\n",
    "\n",
    "\n",
    "    def vikingAttack(self):\n",
    "        Sax=random.choice(self.saxonArmy)\n",
    "        Vik=random.choice(self.vikingArmy)\n",
    "\n",
    "        sax_life=Sax.receiveDamage(Vik.strength)\n",
    "\n",
    "        if Sax.health <= 0:\n",
    "            self.saxonArmy.remove(Sax)\n",
    "\n",
    "        return sax_life\n",
    "\n",
    "\n",
    "    def saxonAttack(self):\n",
    "        Sax=random.choice(self.saxonArmy)\n",
    "        Vik=random.choice(self.vikingArmy)\n",
    "\n",
    "        vik_life=Vik.receiveDamage(Sax.attack())\n",
    "\n",
    "        if Vik.health <= 0:\n",
    "            self.vikingArmy.remove(Vik)\n",
    "\n",
    "        return vik_life\n",
    "\n",
    "\n",
    "\n",
    "    def showStatus(self):\n",
    "        if self.vikingArmy==[]: return \"Saxons have fought for their lives and survive another day...\"\n",
    "        if self.saxonArmy==[] : return \"Vikings have won the war of the century!\"\n",
    "        if self.vikingArmy!=[] and self.saxonArmy!=[] : return \"Vikings and Saxons are still in the thick of battle.\"\n",
    "\n"
   ]
  },
  {
   "cell_type": "markdown",
   "id": "e7787763",
   "metadata": {},
   "source": [
    "### 4) funciones"
   ]
  },
  {
   "cell_type": "code",
   "execution_count": 35,
   "id": "6ae7ead1",
   "metadata": {},
   "outputs": [],
   "source": [
    "def f(*args, **kwargs):\n",
    "    return 'args ---', args, 'kwargs ---', kwargs"
   ]
  },
  {
   "cell_type": "code",
   "execution_count": 36,
   "id": "729ea557",
   "metadata": {},
   "outputs": [
    {
     "data": {
      "text/plain": [
       "('args ---', (3,), 'kwargs ---', {})"
      ]
     },
     "execution_count": 36,
     "metadata": {},
     "output_type": "execute_result"
    }
   ],
   "source": [
    "f(3)"
   ]
  },
  {
   "cell_type": "code",
   "execution_count": 37,
   "id": "a8f1a124",
   "metadata": {},
   "outputs": [
    {
     "data": {
      "text/plain": [
       "('args ---', (3, 4), 'kwargs ---', {})"
      ]
     },
     "execution_count": 37,
     "metadata": {},
     "output_type": "execute_result"
    }
   ],
   "source": [
    "f(3, 4)"
   ]
  },
  {
   "cell_type": "code",
   "execution_count": 38,
   "id": "1a2cdd0a",
   "metadata": {},
   "outputs": [
    {
     "data": {
      "text/plain": [
       "('args ---', ([1, 2, 3, 4],), 'kwargs ---', {})"
      ]
     },
     "execution_count": 38,
     "metadata": {},
     "output_type": "execute_result"
    }
   ],
   "source": [
    "f([1,2,3,4])"
   ]
  },
  {
   "cell_type": "code",
   "execution_count": 39,
   "id": "018a25f3",
   "metadata": {},
   "outputs": [
    {
     "data": {
      "text/plain": [
       "('args ---', (1, 2, 3, 4), 'kwargs ---', {})"
      ]
     },
     "execution_count": 39,
     "metadata": {},
     "output_type": "execute_result"
    }
   ],
   "source": [
    "f(*[1,2,3,4])"
   ]
  },
  {
   "cell_type": "code",
   "execution_count": 40,
   "id": "837f9794",
   "metadata": {},
   "outputs": [
    {
     "data": {
      "text/plain": [
       "('args ---', (), 'kwargs ---', {'c': 90})"
      ]
     },
     "execution_count": 40,
     "metadata": {},
     "output_type": "execute_result"
    }
   ],
   "source": [
    "f(c=90)"
   ]
  },
  {
   "cell_type": "code",
   "execution_count": 41,
   "id": "32b65734",
   "metadata": {},
   "outputs": [
    {
     "data": {
      "text/plain": [
       "('args ---', (1, 2, 3), 'kwargs ---', {'f': 432})"
      ]
     },
     "execution_count": 41,
     "metadata": {},
     "output_type": "execute_result"
    }
   ],
   "source": [
    "f(1, 2, 3, f=432)"
   ]
  },
  {
   "cell_type": "code",
   "execution_count": 42,
   "id": "a18988ce",
   "metadata": {},
   "outputs": [
    {
     "ename": "SyntaxError",
     "evalue": "positional argument follows keyword argument (2113800461.py, line 1)",
     "output_type": "error",
     "traceback": [
      "\u001b[0;36m  Cell \u001b[0;32mIn [42], line 1\u001b[0;36m\u001b[0m\n\u001b[0;31m    f(1, 2, f=432, 3)\u001b[0m\n\u001b[0m                   ^\u001b[0m\n\u001b[0;31mSyntaxError\u001b[0m\u001b[0;31m:\u001b[0m positional argument follows keyword argument\n"
     ]
    }
   ],
   "source": [
    "f(1, 2, f=432, 3)"
   ]
  },
  {
   "cell_type": "code",
   "execution_count": 44,
   "id": "a068314c",
   "metadata": {},
   "outputs": [
    {
     "data": {
      "text/plain": [
       "('args ---', (1, 2, 3), 'kwargs ---', {'f': 432, 'hoila': '_34209872985u29'})"
      ]
     },
     "execution_count": 44,
     "metadata": {},
     "output_type": "execute_result"
    }
   ],
   "source": [
    "f(1, 2, 3, **{'f': 432, 'hoila':'_34209872985u29'})"
   ]
  },
  {
   "cell_type": "markdown",
   "id": "372ddaa5",
   "metadata": {},
   "source": [
    "### 5) listas comprimidas"
   ]
  },
  {
   "cell_type": "code",
   "execution_count": 45,
   "id": "54fc46b0",
   "metadata": {},
   "outputs": [
    {
     "data": {
      "text/plain": [
       "[0, 1, 2, 3, 4]"
      ]
     },
     "execution_count": 45,
     "metadata": {},
     "output_type": "execute_result"
    }
   ],
   "source": [
    "lst=[]\n",
    "\n",
    "\n",
    "for i in range(5):\n",
    "    lst.append(i)\n",
    "    \n",
    "lst"
   ]
  },
  {
   "cell_type": "code",
   "execution_count": 46,
   "id": "1c67018e",
   "metadata": {},
   "outputs": [
    {
     "data": {
      "text/plain": [
       "[0, 1, 2, 3, 4]"
      ]
     },
     "execution_count": 46,
     "metadata": {},
     "output_type": "execute_result"
    }
   ],
   "source": [
    "lst=[i for i in range(5)]\n",
    "\n",
    "lst"
   ]
  },
  {
   "cell_type": "code",
   "execution_count": 47,
   "id": "2ed0c480",
   "metadata": {},
   "outputs": [
    {
     "data": {
      "text/plain": [
       "[[0, 1, 2, 3, 4],\n",
       " [0, 1, 2, 3, 4],\n",
       " [0, 1, 2, 3, 4],\n",
       " [0, 1, 2, 3, 4],\n",
       " [0, 1, 2, 3, 4]]"
      ]
     },
     "execution_count": 47,
     "metadata": {},
     "output_type": "execute_result"
    }
   ],
   "source": [
    "#doble\n",
    "\n",
    "lst=[]\n",
    "\n",
    "\n",
    "for i in range(5):\n",
    "    \n",
    "    tmp=[]\n",
    "    \n",
    "    for j in range(5):\n",
    "        \n",
    "        tmp.append(j)\n",
    "        \n",
    "    lst.append(tmp)\n",
    "    \n",
    "lst"
   ]
  },
  {
   "cell_type": "code",
   "execution_count": 57,
   "id": "f3a28c96",
   "metadata": {},
   "outputs": [
    {
     "data": {
      "text/plain": [
       "[[0, 1, 2, 3, 4],\n",
       " [0, 1, 2, 3, 4],\n",
       " [0, 1, 2, 3, 4],\n",
       " [0, 1, 2, 3, 4],\n",
       " [0, 1, 2, 3, 4]]"
      ]
     },
     "execution_count": 57,
     "metadata": {},
     "output_type": "execute_result"
    }
   ],
   "source": [
    "lst=[[j for j in range(5)] for i in range(5)]\n",
    "\n",
    "lst"
   ]
  },
  {
   "cell_type": "code",
   "execution_count": 58,
   "id": "1cbba930",
   "metadata": {},
   "outputs": [
    {
     "data": {
      "text/plain": [
       "[0, 1, 2, 3, 4, 0, 1, 2, 3, 4, 0, 1, 2, 3, 4, 0, 1, 2, 3, 4, 0, 1, 2, 3, 4]"
      ]
     },
     "execution_count": 58,
     "metadata": {},
     "output_type": "execute_result"
    }
   ],
   "source": [
    "[num for vector in lst for num in vector]"
   ]
  },
  {
   "cell_type": "code",
   "execution_count": 59,
   "id": "060f5719",
   "metadata": {},
   "outputs": [
    {
     "data": {
      "text/plain": [
       "[0, 1, 2, 3, 4, 0, 1, 2, 3, 4, 0, 1, 2, 3, 4, 0, 1, 2, 3, 4, 0, 1, 2, 3, 4]"
      ]
     },
     "execution_count": 59,
     "metadata": {},
     "output_type": "execute_result"
    }
   ],
   "source": [
    "lst2=[]\n",
    "\n",
    "for vector in lst:\n",
    "    \n",
    "    for num in vector:\n",
    "        \n",
    "        lst2.append(num)\n",
    "        \n",
    "        \n",
    "lst2"
   ]
  },
  {
   "cell_type": "code",
   "execution_count": 60,
   "id": "b46f15fc",
   "metadata": {},
   "outputs": [
    {
     "data": {
      "text/plain": [
       "[0, 1, 2, 3, 4]"
      ]
     },
     "execution_count": 60,
     "metadata": {},
     "output_type": "execute_result"
    }
   ],
   "source": [
    "tmp"
   ]
  },
  {
   "cell_type": "code",
   "execution_count": null,
   "id": "7ea5644f",
   "metadata": {},
   "outputs": [],
   "source": []
  }
 ],
 "metadata": {
  "kernelspec": {
   "display_name": "clase",
   "language": "python",
   "name": "clase"
  },
  "language_info": {
   "codemirror_mode": {
    "name": "ipython",
    "version": 3
   },
   "file_extension": ".py",
   "mimetype": "text/x-python",
   "name": "python",
   "nbconvert_exporter": "python",
   "pygments_lexer": "ipython3",
   "version": "3.8.13"
  }
 },
 "nbformat": 4,
 "nbformat_minor": 5
}

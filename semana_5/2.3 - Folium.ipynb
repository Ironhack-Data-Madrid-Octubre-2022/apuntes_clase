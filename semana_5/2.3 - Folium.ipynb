{
 "cells": [
  {
   "cell_type": "markdown",
   "metadata": {},
   "source": [
    "# 2.3 - Folium\n",
    "\n",
    "https://python-visualization.github.io/folium/"
   ]
  },
  {
   "cell_type": "code",
   "execution_count": null,
   "metadata": {},
   "outputs": [],
   "source": [
    "%pip install folium"
   ]
  },
  {
   "cell_type": "code",
   "execution_count": null,
   "metadata": {},
   "outputs": [],
   "source": [
    "import folium\n",
    "\n",
    "import pandas as pd"
   ]
  },
  {
   "cell_type": "code",
   "execution_count": null,
   "metadata": {},
   "outputs": [],
   "source": [
    "# crear mapa\n",
    "\n",
    "mapa=folium.Map(location=[19.41, -99.16], # lat-lon del centro del mapa\n",
    "                tiles='openstreetmap',    # estilo del mapa\n",
    "                zoom_start=12             # zoom inicial\n",
    "               )"
   ]
  },
  {
   "cell_type": "code",
   "execution_count": null,
   "metadata": {},
   "outputs": [],
   "source": [
    "# marcador\n",
    "\n",
    "folium.CircleMarker([19.41, -99.16], # lat-lon del marcador\n",
    "                    radius=10,       # tamaño del marcador, radio del circulo\n",
    "                    icon=folium.Icon()).add_to(mapa)"
   ]
  },
  {
   "cell_type": "code",
   "execution_count": null,
   "metadata": {},
   "outputs": [],
   "source": [
    "# guarda el mapa\n",
    "\n",
    "mapa.save('images/mex.html')"
   ]
  },
  {
   "cell_type": "code",
   "execution_count": null,
   "metadata": {},
   "outputs": [],
   "source": [
    "mapa"
   ]
  },
  {
   "cell_type": "code",
   "execution_count": null,
   "metadata": {},
   "outputs": [],
   "source": [
    "# otro mapa\n",
    "\n",
    "mapa2=folium.Map(location=[19.41, -99.16], \n",
    "                 tiles='stamentoner', \n",
    "                 zoom_start=12)\n",
    "\n",
    "lat=[19.42, 19.4, 19.43, 19.39, 19.42, 19.38]\n",
    "lng=[-99.1, -99.15, -99.13 ,-99.12, -99.09, -99.11]\n",
    "\n",
    "for i in range(len(lat)):\n",
    "    folium.Marker([lat[i], lng[i]], icon=folium.Icon(color='red')).add_to(mapa2)\n",
    "    \n",
    "    \n",
    "mapa2.save('images/mex2.html')\n",
    "\n",
    "mapa2"
   ]
  },
  {
   "cell_type": "code",
   "execution_count": null,
   "metadata": {
    "scrolled": false
   },
   "outputs": [],
   "source": [
    "import folium\n",
    "from folium import plugins\n",
    "\n",
    "\n",
    "m = folium.Map(\n",
    "    location=[35.68159659061569, 139.76451516151428],\n",
    "    zoom_start=16\n",
    ")\n",
    "\n",
    "\n",
    "\n",
    "# longitud y latitud por orden.\n",
    "lines = [\n",
    "    {\n",
    "        'coordinates': [\n",
    "            [139.76451516151428, 35.68159659061569],\n",
    "            [139.75964426994324, 35.682590062684206],\n",
    "        ],\n",
    "        'dates': [\n",
    "            '2017-06-02T00:00:00',\n",
    "            '2017-06-02T00:10:00'\n",
    "        ],\n",
    "        'color': 'red'\n",
    "    },\n",
    "    {\n",
    "        'coordinates': [\n",
    "            [139.75964426994324, 35.682590062684206],\n",
    "            [139.7575843334198, 35.679505030038506],\n",
    "        ],\n",
    "        'dates': [\n",
    "            '2017-06-02T00:10:00',\n",
    "            '2017-06-02T00:20:00'\n",
    "        ],\n",
    "        'color': 'blue'\n",
    "    },\n",
    "    {\n",
    "        'coordinates': [\n",
    "            [139.7575843334198, 35.679505030038506],\n",
    "            [139.76337790489197, 35.678040905014065],\n",
    "        ],\n",
    "        'dates': [\n",
    "            '2017-06-02T00:20:00',\n",
    "            '2017-06-02T00:30:00'\n",
    "        ],\n",
    "        'color': 'green',\n",
    "        'weight': 15,\n",
    "    },\n",
    "    {\n",
    "        'coordinates': [\n",
    "            [139.76337790489197, 35.678040905014065],\n",
    "            [139.76451516151428, 35.68159659061569],\n",
    "        ],\n",
    "        'dates': [\n",
    "            '2017-06-02T00:30:00',\n",
    "            '2017-06-02T00:40:00'\n",
    "        ],\n",
    "        'color': '#FFFFFF',\n",
    "    },\n",
    "]\n",
    "\n",
    "\n",
    "\n",
    "\n",
    "features = [\n",
    "    {\n",
    "        'type': 'Feature',\n",
    "        'geometry': {\n",
    "            'type': 'LineString',\n",
    "            'coordinates': line['coordinates'],\n",
    "        },\n",
    "        'properties': {\n",
    "            'times': line['dates'],\n",
    "            'style': {\n",
    "                'color': line['color'],\n",
    "                'weight': line['weight'] if 'weight' in line else 5\n",
    "            }\n",
    "        }\n",
    "    }\n",
    "    for line in lines\n",
    "]\n",
    "\n",
    "\n",
    "\n",
    "\n",
    "\n",
    "\n",
    "\n",
    "plugins.TimestampedGeoJson({\n",
    "    'type': 'FeatureCollection',\n",
    "    'features': features,\n",
    "}, period='PT1M', add_last_point=True).add_to(m)\n",
    "\n",
    "#display(m)\n",
    "\n",
    "\n",
    "\n",
    "m.save('images/mapa_continuo.html')\n",
    "\n",
    "m"
   ]
  },
  {
   "cell_type": "code",
   "execution_count": null,
   "metadata": {},
   "outputs": [],
   "source": [
    "df=pd.read_json('../data/oficinas.json') \n",
    "\n",
    "df.head()"
   ]
  },
  {
   "cell_type": "code",
   "execution_count": null,
   "metadata": {
    "scrolled": false
   },
   "outputs": [],
   "source": [
    "# heatmap\n",
    "\n",
    "mapa3=folium.Map([47.603122, -122.333253], zoom_start=4)\n",
    "\n",
    "data=df[['lat', 'lng']].values\n",
    "\n",
    "mapa3.add_child(plugins.HeatMap(data, radius=15))\n",
    "\n",
    "mapa3"
   ]
  },
  {
   "cell_type": "code",
   "execution_count": null,
   "metadata": {},
   "outputs": [],
   "source": [
    "# heatmap con movimiento\n",
    "\n",
    "df=pd.read_csv('../data/test_folium.csv')\n",
    "\n",
    "df.head()"
   ]
  },
  {
   "cell_type": "code",
   "execution_count": null,
   "metadata": {},
   "outputs": [],
   "source": [
    "df.shape"
   ]
  },
  {
   "cell_type": "code",
   "execution_count": null,
   "metadata": {},
   "outputs": [],
   "source": [
    "from folium.plugins import HeatMapWithTime as HMWT\n",
    "from folium.plugins import HeatMap as HM"
   ]
  },
  {
   "cell_type": "code",
   "execution_count": null,
   "metadata": {},
   "outputs": [],
   "source": [
    "# transformar segun datos de tiempo\n",
    "\n",
    "df.pickup_datetime = pd.to_datetime(df.pickup_datetime, format='%Y-%m-%d %H:%M:%S')\n",
    "\n",
    "df['month'] = df.pickup_datetime.apply(lambda x: x.month)\n",
    "\n",
    "df['week'] = df.pickup_datetime.apply(lambda x: x.week)\n",
    "\n",
    "df['day'] = df.pickup_datetime.apply(lambda x: x.day)\n",
    "\n",
    "df['hour'] = df.pickup_datetime.apply(lambda x: x.hour)"
   ]
  },
  {
   "cell_type": "code",
   "execution_count": null,
   "metadata": {},
   "outputs": [],
   "source": [
    "df.head()"
   ]
  },
  {
   "cell_type": "code",
   "execution_count": null,
   "metadata": {},
   "outputs": [],
   "source": [
    "# inicializa el mapa\n",
    "\n",
    "def generateBaseMap(default_location=[40.693943, -73.985880], default_zoom_start=11):\n",
    "    \n",
    "    base_map = folium.Map(location=default_location, \n",
    "                          control_scale=True, \n",
    "                          zoom_start=default_zoom_start)\n",
    "    \n",
    "    return base_map"
   ]
  },
  {
   "cell_type": "code",
   "execution_count": null,
   "metadata": {},
   "outputs": [],
   "source": [
    "mapa4=generateBaseMap()"
   ]
  },
  {
   "cell_type": "code",
   "execution_count": null,
   "metadata": {},
   "outputs": [],
   "source": [
    "mapa4"
   ]
  },
  {
   "cell_type": "code",
   "execution_count": null,
   "metadata": {},
   "outputs": [],
   "source": [
    "# se copia df y mes>4\n",
    "\n",
    "df_copy = df[df.month>4].copy()\n",
    "df_copy['count'] = 1"
   ]
  },
  {
   "cell_type": "code",
   "execution_count": null,
   "metadata": {},
   "outputs": [],
   "source": [
    "# datos para heatmap\n",
    "\n",
    "df_copy[['pickup_latitude', \n",
    "         'pickup_longitude', \n",
    "         'count']].groupby(['pickup_latitude', \n",
    "                            'pickup_longitude']).sum().sort_values('count', \n",
    "                                                                   ascending=False).head(10)"
   ]
  },
  {
   "cell_type": "code",
   "execution_count": null,
   "metadata": {},
   "outputs": [],
   "source": [
    "base_map = generateBaseMap() # crea mapa\n",
    "\n",
    "HM(data=df_copy[['pickup_latitude', \n",
    "                  'pickup_longitude', \n",
    "                  'count']].groupby(['pickup_latitude', \n",
    "                                     'pickup_longitude']).sum().reset_index().values.tolist(), \n",
    "    radius=8, \n",
    "        max_zoom=13).add_to(base_map) # pon los datos en heatmap\n",
    "\n",
    "base_map.save('base_map.html')  # guarda\n",
    "\n",
    "base_map   # representa"
   ]
  },
  {
   "cell_type": "code",
   "execution_count": null,
   "metadata": {},
   "outputs": [],
   "source": [
    "df_hour_list = []\n",
    "for hour in df_copy.hour.sort_values().unique():\n",
    "    df_hour_list.append(df_copy.loc[df_copy.hour == hour, \n",
    "                                    ['pickup_latitude', \n",
    "                                     'pickup_longitude', \n",
    "                                     'count']].groupby(['pickup_latitude', \n",
    "                                                        'pickup_longitude']).sum().reset_index().values.tolist())"
   ]
  },
  {
   "cell_type": "code",
   "execution_count": null,
   "metadata": {},
   "outputs": [],
   "source": [
    "base_map = generateBaseMap(default_zoom_start=11) # crea mapa\n",
    "\n",
    "HMWT(df_hour_list, \n",
    "     radius=5, \n",
    "     gradient={0.2: 'blue', 0.4: 'lime', 0.6: 'orange', 1: 'red'}, \n",
    "     min_opacity=0.5, \n",
    "     max_opacity=0.8, \n",
    "     use_local_extrema=True).add_to(base_map) # datos pata heatmap con tiempo\n",
    "\n",
    "\n",
    "base_map  # representa"
   ]
  },
  {
   "cell_type": "code",
   "execution_count": null,
   "metadata": {},
   "outputs": [],
   "source": [
    "base_map.save('images/mapa.html') # guarda"
   ]
  },
  {
   "cell_type": "markdown",
   "metadata": {},
   "source": [
    "# UFO"
   ]
  },
  {
   "cell_type": "code",
   "execution_count": null,
   "metadata": {},
   "outputs": [],
   "source": [
    "import pandas as pd\n",
    "import folium\n",
    "from folium import plugins"
   ]
  },
  {
   "cell_type": "code",
   "execution_count": null,
   "metadata": {},
   "outputs": [],
   "source": [
    "# Import data\n",
    "ufo=pd.read_csv('../data/ufo.csv', index_col=False)\n",
    "\n",
    "ufo=ufo.drop(columns = 'Unnamed: 0')\n",
    "\n",
    "ufo.head()"
   ]
  },
  {
   "cell_type": "code",
   "execution_count": null,
   "metadata": {},
   "outputs": [],
   "source": [
    "data=ufo[(ufo.country=='us') & (ufo.year>=2004)]\n",
    "\n",
    "data.head()"
   ]
  },
  {
   "cell_type": "code",
   "execution_count": null,
   "metadata": {},
   "outputs": [],
   "source": [
    "mapa = folium.Map([36.174465, -86.767960], zoom_start=4)\n",
    "\n",
    "value_data = data[['latitude', 'longitude']].values\n",
    "\n",
    "mapa.add_child(plugins.HeatMap(value_data, radius=15))\n",
    "\n",
    "mapa"
   ]
  },
  {
   "cell_type": "code",
   "execution_count": null,
   "metadata": {},
   "outputs": [],
   "source": []
  }
 ],
 "metadata": {
  "finalized": {
   "timestamp": 1624202256591,
   "trusted": false
  },
  "kernelspec": {
   "display_name": "prueba",
   "language": "python",
   "name": "prueba"
  },
  "language_info": {
   "codemirror_mode": {
    "name": "ipython",
    "version": 3
   },
   "file_extension": ".py",
   "mimetype": "text/x-python",
   "name": "python",
   "nbconvert_exporter": "python",
   "pygments_lexer": "ipython3",
   "version": "3.7.13"
  },
  "varInspector": {
   "cols": {
    "lenName": 16,
    "lenType": 16,
    "lenVar": 40
   },
   "kernels_config": {
    "python": {
     "delete_cmd_postfix": "",
     "delete_cmd_prefix": "del ",
     "library": "var_list.py",
     "varRefreshCmd": "print(var_dic_list())"
    },
    "r": {
     "delete_cmd_postfix": ") ",
     "delete_cmd_prefix": "rm(",
     "library": "var_list.r",
     "varRefreshCmd": "cat(var_dic_list()) "
    }
   },
   "types_to_exclude": [
    "module",
    "function",
    "builtin_function_or_method",
    "instance",
    "_Feature"
   ],
   "window_display": false
  }
 },
 "nbformat": 4,
 "nbformat_minor": 2
}

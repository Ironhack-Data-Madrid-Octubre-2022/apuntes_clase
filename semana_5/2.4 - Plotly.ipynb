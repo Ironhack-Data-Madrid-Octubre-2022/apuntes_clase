{
 "cells": [
  {
   "cell_type": "markdown",
   "metadata": {},
   "source": [
    "# 2.4 - Plotly\n",
    "\n",
    "https://plotly.com/"
   ]
  },
  {
   "cell_type": "code",
   "execution_count": null,
   "metadata": {},
   "outputs": [],
   "source": [
    "%pip install chart-studio\n",
    "%pip install cufflinks"
   ]
  },
  {
   "cell_type": "code",
   "execution_count": null,
   "metadata": {},
   "outputs": [],
   "source": [
    "import chart_studio.plotly as py\n",
    "import cufflinks as cf\n",
    "\n",
    "cf.go_offline()\n",
    "\n",
    "import pandas as pd"
   ]
  },
  {
   "cell_type": "code",
   "execution_count": null,
   "metadata": {},
   "outputs": [],
   "source": [
    "df=pd.read_excel('../data/Online Retail.xlsx')\n",
    "df.head()"
   ]
  },
  {
   "cell_type": "code",
   "execution_count": null,
   "metadata": {},
   "outputs": [],
   "source": [
    "# cantidad e ingresos por pais, quitando UK, abril 2011\n",
    "\n",
    "data=df[df.Country!='United Kingdom']\n",
    "\n",
    "data=data.loc[(data.InvoiceDate>='2011-4-1')&(data.InvoiceDate<='2011-4-30')]\n",
    "\n",
    "data.head()"
   ]
  },
  {
   "cell_type": "code",
   "execution_count": null,
   "metadata": {},
   "outputs": [],
   "source": [
    "data=data.groupby('Country').sum()\n",
    "\n",
    "data=data[['Quantity', 'Revenue']]\n",
    "\n",
    "data.iplot(kind='bar', xTitle='Country', title='Cantidad Total y beneficio')"
   ]
  },
  {
   "cell_type": "code",
   "execution_count": null,
   "metadata": {},
   "outputs": [],
   "source": [
    "# media cantidad\n",
    "\n",
    "data=df.loc[df.Description=='PARTY BUNTING']\n",
    "\n",
    "data=data.groupby('Country').mean()\n",
    "data=data[['Quantity', 'UnitPrice']]\n",
    "\n",
    "\n",
    "data.reset_index(inplace=True)\n",
    "\n",
    "\n",
    "data.iplot(x='Quantity', y='UnitPrice', categories='Country',\n",
    "           xTitle='Avg qty', yTitle='Avg unit price',\n",
    "           color='blue', title='AVG by COuntry') "
   ]
  },
  {
   "cell_type": "code",
   "execution_count": null,
   "metadata": {},
   "outputs": [],
   "source": [
    "# ingresos por pais\n",
    "\n",
    "prod_lst=['JUMBO BAG RED RETROSPOT', \n",
    "          'CREAM HANGING HEART T-LIGHT HOLDER',\n",
    "          'REGENCY CAKESTAND 3 TIER']\n",
    "\n",
    "country_lst=['EIRE', 'Germany', 'France']\n",
    "\n",
    "data=df.loc[df.Description.isin(prod_lst)]\n",
    "data=data.loc[data.Country.isin(country_lst)]\n",
    "\n",
    "\n",
    "\n",
    "data=data.pivot_table(values='Revenue', columns='Description',\n",
    "                      index='Country', aggfunc='sum')\n",
    "\n",
    "data.reset_index(inplace=True)\n",
    "\n",
    "\n",
    "data.iplot(kind='bar', x='Country', title='Revenue by Country',\n",
    "          xTitle='Country', yTitle='Revenue')"
   ]
  },
  {
   "cell_type": "code",
   "execution_count": null,
   "metadata": {},
   "outputs": [],
   "source": [
    "# sunburst\n",
    "\n",
    "import plotly.graph_objects as go\n",
    "\n",
    "labels=['Label', 'F1', 'F2', 'F1.1', 'F1.1.1']\n",
    "\n",
    "parents=['', 'Label', 'Label', 'F1', 'F1.1']\n",
    "\n",
    "values=[1,2,3,4,5]\n",
    "\n",
    "\n",
    "fig=go.Figure(go.Sunburst(labels=labels, parents=parents, values=values))\n",
    "\n",
    "fig.update_layout(margin=dict(t=0, l=0, r=0, b=0), width=300, height=300)\n",
    "\n",
    "fig.write_html('images/sun.html')\n",
    "\n",
    "fig.show()"
   ]
  },
  {
   "cell_type": "code",
   "execution_count": null,
   "metadata": {},
   "outputs": [],
   "source": []
  }
 ],
 "metadata": {
  "finalized": {
   "timestamp": 1639163156819,
   "trusted": true
  },
  "kernelspec": {
   "display_name": "prueba",
   "language": "python",
   "name": "prueba"
  },
  "language_info": {
   "codemirror_mode": {
    "name": "ipython",
    "version": 3
   },
   "file_extension": ".py",
   "mimetype": "text/x-python",
   "name": "python",
   "nbconvert_exporter": "python",
   "pygments_lexer": "ipython3",
   "version": "3.7.13"
  },
  "varInspector": {
   "cols": {
    "lenName": 16,
    "lenType": 16,
    "lenVar": 40
   },
   "kernels_config": {
    "python": {
     "delete_cmd_postfix": "",
     "delete_cmd_prefix": "del ",
     "library": "var_list.py",
     "varRefreshCmd": "print(var_dic_list())"
    },
    "r": {
     "delete_cmd_postfix": ") ",
     "delete_cmd_prefix": "rm(",
     "library": "var_list.r",
     "varRefreshCmd": "cat(var_dic_list()) "
    }
   },
   "types_to_exclude": [
    "module",
    "function",
    "builtin_function_or_method",
    "instance",
    "_Feature"
   ],
   "window_display": false
  }
 },
 "nbformat": 4,
 "nbformat_minor": 4
}

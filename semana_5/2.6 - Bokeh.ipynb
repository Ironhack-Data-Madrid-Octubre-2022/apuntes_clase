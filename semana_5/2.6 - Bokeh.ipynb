{
 "cells": [
  {
   "cell_type": "markdown",
   "metadata": {},
   "source": [
    "# 2.6 - Bokeh\n",
    "\n",
    "http://docs.bokeh.org/en/latest/"
   ]
  },
  {
   "cell_type": "code",
   "execution_count": null,
   "metadata": {},
   "outputs": [],
   "source": [
    "%pip install bokeh\n",
    "\n",
    "%pip install geopandas"
   ]
  },
  {
   "cell_type": "code",
   "execution_count": null,
   "metadata": {},
   "outputs": [],
   "source": [
    "import warnings\n",
    "warnings.simplefilter('ignore')\n",
    "\n",
    "\n",
    "import datetime\n",
    "import pandas as pd\n",
    "import geopandas as gpd\n",
    "import json\n",
    "\n",
    "from bokeh.plotting import figure, output_file, show\n",
    "from bokeh.io import curdoc, output_notebook, show, output_file\n",
    "from bokeh.models import Slider, HoverTool, GeoJSONDataSource, LinearColorMapper, ColorBar\n",
    "from IPython.display import YouTubeVideo\n",
    "from bokeh.plotting import figure\n",
    "from bokeh.palettes import brewer, all_palettes, small_palettes"
   ]
  },
  {
   "cell_type": "code",
   "execution_count": null,
   "metadata": {},
   "outputs": [],
   "source": [
    "path='../data/PHLITL_2000.shp'"
   ]
  },
  {
   "cell_type": "code",
   "execution_count": null,
   "metadata": {},
   "outputs": [],
   "source": [
    "data=gpd.read_file(path)\n",
    "\n",
    "data.head()"
   ]
  },
  {
   "cell_type": "code",
   "execution_count": null,
   "metadata": {},
   "outputs": [],
   "source": [
    "data['geometry'][1]"
   ]
  },
  {
   "cell_type": "code",
   "execution_count": null,
   "metadata": {},
   "outputs": [],
   "source": [
    "data_f=gpd.read_file(path)[['EDO_LEY','MPO_LEY','DPHLIL_LEY', 'geometry']]"
   ]
  },
  {
   "cell_type": "code",
   "execution_count": null,
   "metadata": {},
   "outputs": [],
   "source": [
    "data_f['DPHLIL_LEY_N'] = data_f['DPHLIL_LEY'].map({\n",
    "    \n",
    "               'Sin poblacion hablante de lengua indigena':0,\n",
    "               'Menor de 2,500':1,\n",
    "               'De 2,500 a 4,999':2,\n",
    "               'Menor de 2,500 y de 2,500 a 4,999':3,\n",
    "               'De 2,500 a 4,999 y de 5,000 a 14,999':4,\n",
    "               'Menor de 2,500 y de 5,000 a 14,999':5,\n",
    "               'De 5,000 a 14,999':6,\n",
    "               'De 5,000 a 14,999 y de 15,000 y mas':7,\n",
    "               'De 15,000 y mas':8})\n",
    "\n",
    "data_f.head()"
   ]
  },
  {
   "cell_type": "code",
   "execution_count": null,
   "metadata": {},
   "outputs": [],
   "source": [
    "m_data=json.loads(data_f.to_json())\n",
    "json_data=json.dumps(m_data)"
   ]
  },
  {
   "cell_type": "code",
   "execution_count": null,
   "metadata": {},
   "outputs": [],
   "source": [
    "geosource=GeoJSONDataSource(geojson=json_data)"
   ]
  },
  {
   "cell_type": "code",
   "execution_count": null,
   "metadata": {},
   "outputs": [],
   "source": [
    "palette=all_palettes['Viridis'][9]\n",
    "palette=palette[::-1]\n",
    "color_mapper=LinearColorMapper(palette = palette, low = 0, high = 8)"
   ]
  },
  {
   "cell_type": "code",
   "execution_count": null,
   "metadata": {},
   "outputs": [],
   "source": [
    "TOOLTIPS=[('ESTADO','@EDO_LEY'),('MUNICIPIO','@MPO_LEY'),('CANTIDAD', '@DPHLIL_LEY')]"
   ]
  },
  {
   "cell_type": "code",
   "execution_count": null,
   "metadata": {},
   "outputs": [],
   "source": [
    "p=figure(title='Personas Hablantes de Lenguas Indígenas en Cada Municipio Mexicano',\n",
    "           plot_height=300,\n",
    "           plot_width=500,\n",
    "           toolbar_location='right',\n",
    "           tooltips=TOOLTIPS,\n",
    "           sizing_mode='scale_width'\n",
    "          )\n",
    "\n",
    "\n",
    "p.xaxis.visible=False\n",
    "p.yaxis.visible=False\n",
    "p.xgrid.grid_line_color=None\n",
    "p.ygrid.grid_line_color=None\n",
    "p.title.align='center'\n",
    "p.title.text_font_size='14px'"
   ]
  },
  {
   "cell_type": "code",
   "execution_count": null,
   "metadata": {},
   "outputs": [],
   "source": [
    "p.patches('xs','ys', source = geosource, fill_color = {'field':'DPHLIL_LEY_N','transform':color_mapper},\n",
    "          line_color = 'black', line_width = 0.25, fill_alpha = 1)"
   ]
  },
  {
   "cell_type": "code",
   "execution_count": null,
   "metadata": {},
   "outputs": [],
   "source": [
    "output_file('images/mexico.html')\n",
    "output_notebook()\n",
    "show(p);\n"
   ]
  },
  {
   "cell_type": "code",
   "execution_count": null,
   "metadata": {},
   "outputs": [],
   "source": []
  }
 ],
 "metadata": {
  "kernelspec": {
   "display_name": "prueba",
   "language": "python",
   "name": "prueba"
  },
  "language_info": {
   "codemirror_mode": {
    "name": "ipython",
    "version": 3
   },
   "file_extension": ".py",
   "mimetype": "text/x-python",
   "name": "python",
   "nbconvert_exporter": "python",
   "pygments_lexer": "ipython3",
   "version": "3.7.13"
  },
  "varInspector": {
   "cols": {
    "lenName": 16,
    "lenType": 16,
    "lenVar": 40
   },
   "kernels_config": {
    "python": {
     "delete_cmd_postfix": "",
     "delete_cmd_prefix": "del ",
     "library": "var_list.py",
     "varRefreshCmd": "print(var_dic_list())"
    },
    "r": {
     "delete_cmd_postfix": ") ",
     "delete_cmd_prefix": "rm(",
     "library": "var_list.r",
     "varRefreshCmd": "cat(var_dic_list()) "
    }
   },
   "types_to_exclude": [
    "module",
    "function",
    "builtin_function_or_method",
    "instance",
    "_Feature"
   ],
   "window_display": false
  }
 },
 "nbformat": 4,
 "nbformat_minor": 4
}

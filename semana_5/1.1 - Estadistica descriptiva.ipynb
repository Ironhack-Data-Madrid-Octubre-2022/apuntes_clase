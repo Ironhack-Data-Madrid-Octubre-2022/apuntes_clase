{
 "cells": [
  {
   "cell_type": "markdown",
   "metadata": {},
   "source": [
    "# 1.1 - Estadística descriptiva\n",
    "\n",
    "\n",
    "\n",
    "$$$$\n",
    "\n",
    "![desc_stats](images/desc_stats.jpg)\n",
    "\n",
    "$$$$\n",
    "\n",
    "La estadística descriptiva es la técnica matemática que obtiene, organiza, presenta y describe un conjunto de datos con el propósito de facilitar el uso, generalmente con el apoyo de tablas, medidas numéricas o gráficas. Estas técnicas son utilizada en el proceso de investigación, en la etapa donde el investigador necesita procesar y analizar los datos recolectados en dicho estudio.\n",
    "\n",
    "La estadística descriptiva trata de describir algo. Pero no describirlo de cualquiera forma, sino de manera cuantitativa. Pensemos en el peso de una caja de verduras, en la altura de una persona o en la cantidad de dinero que gana una empresa. De estas variables podríamos decir muchas cosas. Por ejemplo, podríamos indicar que esta o aquella caja de tomates pesan mucho o pesan menos que otras. Siguiendo con otro ejemplo, podríamos decir que el ingreso de una empresa varía mucho a lo largo del tiempo o que una persona tiene una altura promedio.\n",
    "\n",
    "Para dictar las afirmaciones anteriores, sobre mucho, poco, alto, bajo, muy variable o poco variable necesitamos variables de medidas. Esto es, necesitamos cuantificarlas, ofrecer un número. Con esto en mente, podríamos utilizar los gramos o los kilogramos como unidad de medida para saber el peso de tantas cajas de tomates como consideremos. Una vez pesemos treinta cajas, sabremos cuales pesan más, cuales pesan menos, que cuantía es la que más se repite o si existe mucha disparidad entre los pesos de las diferentes cajas.\n",
    "\n",
    "Con esta idea nace la estadística descriptiva, con la de recoger datos, almacenarlos, realizar tablas o incluso gráficos que nos ofrezcan información sobre un determinado asunto. Adicionalmente, nos ofrecen medidas que resumen la información de una gran cantidad de datos.\n",
    "\n",
    "\n",
    "\n",
    "**Población y muestra**\n",
    "\n",
    "Una población estadística es un conjunto de sujetos o elementos que presentan características comunes. Sobre esta población se realiza el estudio estadístico con el fin de sacar conclusiones.El tamaño poblacional es el número de individuos que constituyen la población. Según el número de sujetos, el tamaño puede ser finito o infinito. Los conjuntos infinitos son algo artificial o conceptual, ya que toda población de entidades físicas es finita. Por ejemplo:\n",
    "\n",
    "+ Población finita: el conjunto de habitantes de una ciudad, los bolígrafos producidos en una fábrica en un día, etc.\n",
    "+ Población infinita: el conjunto de los números positivos.\n",
    "\n",
    "Cuando la población es muy grande, normalmente es imposible estudiar a todos los individuos.\n",
    "\n",
    "Supongamos que queremos saber cual es el nivel de colesterol de la población de Estados Unidos. Por cuestiones económicas y de tiempo obvias, no está al alcance realizar un análisis de sangre a toda la población de EEUU. Para solucionar este impedimento, se utiliza una muestra estadística.\n",
    "\n",
    "Una muestra estadística, o simplemente una muestra, es un subconjunto de elementos de la población estadística. El mejor resultado para un proceso estadístico sería estudiar a toda la población. Pero esto generalmente resulta imposible, ya sea porque supone un coste económico alto o porque requiere demasiado tiempo.\n",
    "\n",
    "Frente a la dificultad de hacer un censo, estudio de toda la población, se examina una muestra estadística que representará a la totalidad de los sujetos. Con los resultado obtenidos mediante la muestra, se intentará inferir las propiedades de todos los elementos, mediante la estadística inferencial.\n",
    "\n",
    "La muestra elegida debe ser representativa de la población. Las muestras tienen un nivel de confianza de la bondad con la que representan a todos los sujetos, generalmente del 95% o superior.\n",
    "\n",
    "\n",
    "**Tipos de variables estadísticas**\n",
    "\n",
    "Dentro de la estadística descriptiva, podemos describir los datos de manera cualitativa o cuantitativa.\n",
    "\n",
    "+ Variable cualitativa: Hace referencia a una cualidad. Ejemplos: el color de ojos de una persona o el color de pelo.\n",
    "\n",
    "+ Variable cuantitativa: Hace referencia a una medida cuantitativa. Ejemplos: la altura de una persona en centímetros o el peso de una persona en kilogramos.\n",
    "\n",
    "Así pues, sobre estas variables se pueden calcular ciertos parámetros. Especialmente sobre las variables cuantitativas. Ya que, por ejemplo, ¿cuál es el valor promedio del color de ojos? Si hay cinco personas con color de ojos azul y cinco con color de ojos verde, el promedio no será que tienen un color de ojos promedio de azul-verde. Por tanto, en ese caso no sería posible calcular algunos de los parámetros que veremos a continuación.\n",
    "\n",
    "\n",
    "\n",
    "\n",
    "\n",
    "**Parámetros estadísticos básicos**\n",
    "\n",
    "Con el objetivo de resumir la información, se idearon diversas fórmulas que ofrecían medidas de un determinado tipo. Así, están aquellas que nos ofrecen información sobre el centro, otras sobre la dispersión o variabilidad y otras sobre la posición de un valor.\n",
    "\n",
    "+ Medidas de tendencia central: Denominadas así porque ofrecen información sobre el centro de conjunto de datos. Por ejemplo, la media es una medida de tendencia o posición central ya que el promedio nos ofrece un valor centrado del conjunto de datos. ¿Dónde podríamos decir que se encuentra el punto medio? En el centro, en la mitad aproximadamente. Otro ejemplo de medida de tendencia central es la mediana.\n",
    "\n",
    "\n",
    "+ Medidas de posición: No son las más conocidas, pero se utilizan frecuentemente. Un ejemplo de ello, se encuentra en los percentiles o los deciles. Cuando un dato en concreto se encuentra en el percentil 90, quiere decir que por debajo de ese dato se encuentran el 90% de datos. Existen otras medidas de posición como los cuartiles o algunas variantes como el primer cuartil.\n",
    "\n",
    "\n",
    "+ Medidas de dispersión: También son conocidas como medidas de variabilidad. Por ejemplo, la desviación típica es una medida de variabilidad ya que nos dice si los valores de un conjunto de datos son muy dispares o no. Dos ejemplos más sobre medidas de dispersión podrían ser la varianza y el rango estadístico.\n",
    "\n",
    "\n",
    "\n",
    "**Asimetría y curtosis**\n",
    "\n",
    "La asimetría es la medida que indica la simetría de la distribución de una variable respecto a la media aritmética, sin necesidad de hacer la representación gráfica. Los coeficientes de asimetría indican si hay el mismo número de elementos a izquierda y derecha de la media.\n",
    "\n",
    "Existen tres tipos de curva de distribución:\n",
    "\n",
    "+ Asimetría negativa: la cola de la distribución se alarga para valores inferiores a la media.\n",
    "+ Simétrica: hay el mismo número de elementos a izquierda y derecha de la media. En este caso, coinciden la media, la mediana y la moda. La distribución se adapta a la forma de la campana de Gauss, o distribución normal.\n",
    "+ Asimetría positiva: la cola de la distribución se alarga a la derecha para valores superiores a la media.\n",
    "\n",
    "\n",
    "La curtosis, o apuntamiento, es una medida de forma que mide cuán escarpada o achatada está una curva o distribución. Este coeficiente indica la cantidad de datos que hay cercanos a la media, de manera que a mayor grado de curtosis, más escarpada o apuntada será la forma de la curva.\n",
    "\n",
    "\n",
    "\n",
    "\n",
    "\n",
    "**Distribución de frecuencias**\n",
    "\n",
    "También es interesante ver cómo se distribuyen las frecuencias. Para ello, existen ciertos conceptos que debemos conocer:\n",
    "\n",
    "+ Frecuencia absoluta: Es el número total de veces que se repite una observación. En ocasiones las observaciones se pueden presentar en intervalos.\n",
    "\n",
    "+ Frecuencia relativa: Es el número en porcentaje que se repite una observación o un conjunto de ellas.\n",
    "\n",
    "+ Frecuencia acumulada: Puede ser relativa acumulada o absoluta acumulada. Indica la cantidad acumulada hasta cierta observación.\n",
    "\n",
    "\n",
    "\n",
    "\n",
    "**Tablas y gráficos en estadística descriptiva**\n",
    "\n",
    "Aunque las tablas y los gráficos no son algo exclusivo de la estadística descriptiva, sí que la caracterizan. En informes, en estudios e investigaciones es muy frecuente el uso de gráficos. Nos ayudan a mostrar la información de manera más sencilla y acotada.\n",
    "\n",
    "Eso sí, dentro de las tablas y gráficos existen una cantidad de tipos inmenso. A continuación pondremos algunos ejemplos de gráficos y tablas frecuentemente utilizados.\n",
    "\n",
    "+ Gráfico de barras.\n",
    "\n",
    "+ Histograma.\n",
    "\n",
    "+ Gráfico de sectores.\n",
    "\n",
    "+ Tablas de probabilidad.\n",
    "\n",
    "+ Tablas bidimensionales.\n",
    "\n",
    "+ Gráfico de cajas."
   ]
  },
  {
   "cell_type": "markdown",
   "metadata": {},
   "source": [
    "### Medidas de tendencia central\n",
    "\n",
    "**Media**\n",
    "\n",
    "La media aritmética, promedio o esperanza se define con la siguiente ecuación:\n",
    "\n",
    "$$\\overline{x} = \\frac{1}{N} \\sum_{i=1}^{N} x_{i}$$\n",
    "\n",
    "donde:\n",
    "\n",
    "$\\overline{x}$ := Media aritmética\n",
    "\n",
    "$x_{i}$ := Cada uno de los elementos de la muestra\n",
    "\n",
    "$N$ := Número de elementos de la muestra\n",
    "\n",
    "Visto desde un punto de vista más conceptual, la media aritmética es el centro de los datos en el sentido numérico, ya que intenta equilibrarlos por exceso y por defecto."
   ]
  },
  {
   "cell_type": "code",
   "execution_count": null,
   "metadata": {},
   "outputs": [],
   "source": []
  },
  {
   "cell_type": "code",
   "execution_count": null,
   "metadata": {},
   "outputs": [],
   "source": []
  },
  {
   "cell_type": "code",
   "execution_count": null,
   "metadata": {},
   "outputs": [],
   "source": []
  },
  {
   "cell_type": "code",
   "execution_count": null,
   "metadata": {},
   "outputs": [],
   "source": []
  },
  {
   "cell_type": "code",
   "execution_count": null,
   "metadata": {},
   "outputs": [],
   "source": []
  },
  {
   "cell_type": "code",
   "execution_count": null,
   "metadata": {},
   "outputs": [],
   "source": []
  },
  {
   "cell_type": "markdown",
   "metadata": {},
   "source": [
    "**Media ponderada**\n",
    "\n",
    "La media ponderada consiste en otorgar a cada observación del conjunto de datos unos pesos según la importancia de cada elemento.Cuanto más grande sea el peso de un elemento, más importante se considera que es éste. La media ponderada tiene numerosas aplicaciones, por ejemplo, la nota de una asignatura donde el examen final tiene un peso mayor al de un trabajo. O en el cálculo del IPC (Índice de Precios de Consumo). El IPC es un indicador de los precios de los bienes y servicios básicos que consume la población. Para calcularlo, se otorga pesos a los diferentes bienes (pan, fruta, vivienda,etc..) y se calcula la media ponderada.\n",
    "\n",
    "La media aritmética es un caso particular de media ponderada, en la que todos los pesos son uno, ya que a todos los elementos se les otorga la misma importancia.\n",
    "\n",
    "La media ponderada sigue la siguiente ecuación:\n",
    "\n",
    "$$\\overline{x} = \\frac{\\omega_{1}·x_{1}+\\omega_{2}·x_{2}+...+\\omega_{N}·x_{N}}{\\omega_{1}+\\omega_{2}+...+\\omega_{N}} = \\frac{\\sum_{i=1}^{N} \\omega_{i}·x_{i}}{\\sum_{i=1}^{N} \\omega_{i}}$$\n",
    "\n",
    "donde:\n",
    "\n",
    "$\\overline{x}$ := Media ponderada\n",
    "\n",
    "$\\omega_{i}$ := Pesos para cada elemento"
   ]
  },
  {
   "cell_type": "code",
   "execution_count": null,
   "metadata": {},
   "outputs": [],
   "source": []
  },
  {
   "cell_type": "code",
   "execution_count": null,
   "metadata": {},
   "outputs": [],
   "source": []
  },
  {
   "cell_type": "code",
   "execution_count": null,
   "metadata": {},
   "outputs": [],
   "source": []
  },
  {
   "cell_type": "markdown",
   "metadata": {},
   "source": [
    "**Media cuadrática**\n",
    "\n",
    "La media cuadrática o RMS (Root Mean Square) se define como la raíz cuadrada del promedio de los elementos al cuadrado. Es muy útil para calcular la media de variables que toman valores negativos y positivos. Se suele utilizar cuando el signo de la variable no es importante y lo que interesa es el valor absoluto del elemento. Por ejemplo, para calcular la media de errores de medida.\n",
    "\n",
    "Una aplicación clásica es la determinación del valor eficaz de un parámetro de una señal sinusoidal.\n",
    "\n",
    "La media cuadrática se define por la siguiente ecuación:\n",
    "\n",
    "$$\\overline{x} = \\sqrt{\\frac{x_{1}^{2}+x_{2}^{2}+...+x_{N}^{2}}{N}}$$\n",
    "\n",
    "donde:\n",
    "\n",
    "$\\overline{x}$ := Media cuadrática o RMS"
   ]
  },
  {
   "cell_type": "code",
   "execution_count": null,
   "metadata": {},
   "outputs": [],
   "source": []
  },
  {
   "cell_type": "code",
   "execution_count": null,
   "metadata": {},
   "outputs": [],
   "source": []
  },
  {
   "cell_type": "markdown",
   "metadata": {},
   "source": [
    "**Media geométrica**\n",
    "\n",
    "La media geométrica es útil para calcular medias de porcentajes, tantos por uno, puntuaciones o índices. Tiene la ventaja de que no es tan sensible como la media a los valores extremos.\n",
    "\n",
    "La media geométrica con la siguiente ecuación, es la raíz N-ésima del producto de los N elementos:\n",
    "\n",
    "$$\\overline{x} = \\sqrt[N]{x_{1}·x_{2}·...·x_{N}} = \\sqrt[N]{\\prod_{i=1}^{N}{x_{i}}}$$\n",
    "\n",
    "donde:\n",
    "\n",
    "$\\overline{x}$ := Media geométrica\n",
    "\n",
    "$\\prod_{i=1}^{N}{x_{i}}$ := Producto de cada uno de los elementos de la muestra\n"
   ]
  },
  {
   "cell_type": "code",
   "execution_count": null,
   "metadata": {},
   "outputs": [],
   "source": []
  },
  {
   "cell_type": "code",
   "execution_count": null,
   "metadata": {},
   "outputs": [],
   "source": []
  },
  {
   "cell_type": "code",
   "execution_count": null,
   "metadata": {},
   "outputs": [],
   "source": []
  },
  {
   "cell_type": "code",
   "execution_count": null,
   "metadata": {},
   "outputs": [],
   "source": []
  },
  {
   "cell_type": "markdown",
   "metadata": {},
   "source": [
    "**Media armónica**\n",
    "\n",
    "La media armónica es la recíproca de la media aritmética. Los elementos del conjunto deben ser necesariamente no nulos. Esta media es poco sensible a los valores grandes, pero muy sensible a los valores próximos a cero, ya que los recíprocos $1/X{i}$ son muy altos.\n",
    "\n",
    "La media armónica sigue la siguiente ecuación:\n",
    "\n",
    "$$\\overline{x} = \\frac{N}{\\frac{1}{x_{1}}+\\frac{1}{x_{2}}+...+\\frac{1}{x_{N}}}$$\n",
    "\n",
    "donde:\n",
    "\n",
    "$\\overline{x}$ := Media armónica"
   ]
  },
  {
   "cell_type": "code",
   "execution_count": null,
   "metadata": {},
   "outputs": [],
   "source": []
  },
  {
   "cell_type": "code",
   "execution_count": null,
   "metadata": {},
   "outputs": [],
   "source": []
  },
  {
   "cell_type": "markdown",
   "metadata": {},
   "source": [
    "Existe una relación de orden entre cuatro tipos de media. En esta relación se excluye la media ponderada porque depende de los pesos. \n",
    "\n",
    "$$M_{armónica} \\leq M_{geométrica} \\leq M_{aritmética} \\leq M_{cuadrática}$$"
   ]
  },
  {
   "cell_type": "code",
   "execution_count": null,
   "metadata": {},
   "outputs": [],
   "source": []
  },
  {
   "cell_type": "code",
   "execution_count": null,
   "metadata": {},
   "outputs": [],
   "source": []
  },
  {
   "cell_type": "markdown",
   "metadata": {},
   "source": [
    "**Mediana**\n",
    "\n",
    "La mediana se obtiene en dos pasos. Primero ordenamos de menor a mayor la muestra. Desde ahí, la mediana es el elemento que está en el centro, dejando la mitad de elementos a la izquierda y a otra mitad a la derecha. Si el número de elementos de la muestra es par, entonces para obtener la mediana se realiza la media aritmética de los dos elementos en el centro."
   ]
  },
  {
   "cell_type": "code",
   "execution_count": null,
   "metadata": {},
   "outputs": [],
   "source": []
  },
  {
   "cell_type": "code",
   "execution_count": null,
   "metadata": {},
   "outputs": [],
   "source": []
  },
  {
   "cell_type": "code",
   "execution_count": null,
   "metadata": {},
   "outputs": [],
   "source": []
  },
  {
   "cell_type": "markdown",
   "metadata": {},
   "source": [
    "**Moda**\n",
    "\n",
    "La moda es el valor más repetido dentro de la muestra, es decir, el valor cuya frecuencia relativa es mayor. En un conjunto puede haber más de una moda, en ese caso se dice que es multimodal."
   ]
  },
  {
   "cell_type": "code",
   "execution_count": null,
   "metadata": {},
   "outputs": [],
   "source": []
  },
  {
   "cell_type": "code",
   "execution_count": null,
   "metadata": {},
   "outputs": [],
   "source": []
  },
  {
   "cell_type": "code",
   "execution_count": null,
   "metadata": {},
   "outputs": [],
   "source": []
  },
  {
   "cell_type": "code",
   "execution_count": null,
   "metadata": {},
   "outputs": [],
   "source": []
  },
  {
   "cell_type": "code",
   "execution_count": null,
   "metadata": {},
   "outputs": [],
   "source": []
  },
  {
   "cell_type": "code",
   "execution_count": null,
   "metadata": {},
   "outputs": [],
   "source": []
  },
  {
   "cell_type": "markdown",
   "metadata": {},
   "source": [
    "### Medidas de posición\n",
    "\n",
    "\n",
    "Las medidas de posición permiten conocer puntos característicos de una serie de valores, que no necesariamente tienen que ser centrales. La intención de estas medidas es dividir el conjunto de observaciones en grupos con el mismo número de valores.\n",
    "\n",
    "**Cuartiles**\n",
    "\n",
    "Los cuartiles son los tres valores que dividen una serie de datos ordenada en cuatro porciones iguales. El primer cuartil Q1 deja a la izquierda el 25% de los datos. El segundo Q2 deja a izquierda y derecha el 50% y coincide con la mediana. El tercero Q3 deja a la derecha el 25% de valores. Los tres cuartiles son:\n",
    "\n",
    "\n",
    "$$Q1 = X_{((N+1)/4)}$$\n",
    "$$Q2 = Mediana = X_{((N+1)/2)}$$\n",
    "$$Q3 = X_{(3·(N+1)/4)}$$\n",
    "\n",
    "\n",
    "donde:\n",
    "\n",
    "Muestra = $(X_{1}, X_{2},..., X_{N})$\n"
   ]
  },
  {
   "cell_type": "code",
   "execution_count": null,
   "metadata": {},
   "outputs": [],
   "source": []
  },
  {
   "cell_type": "code",
   "execution_count": null,
   "metadata": {},
   "outputs": [],
   "source": []
  },
  {
   "cell_type": "code",
   "execution_count": null,
   "metadata": {},
   "outputs": [],
   "source": []
  },
  {
   "cell_type": "code",
   "execution_count": null,
   "metadata": {},
   "outputs": [],
   "source": []
  },
  {
   "cell_type": "code",
   "execution_count": null,
   "metadata": {},
   "outputs": [],
   "source": []
  },
  {
   "cell_type": "markdown",
   "metadata": {},
   "source": [
    "**Percentiles**\n",
    "\n",
    "El percentil es una medida de posición. Los percentiles $P_{i}$ son los 99 puntos que dividen una serie de datos ordenada en 100 partes iguales, es decir, que contienen el mismo número de elementos cada una. El percentil 50 es la mediana.\n",
    "\n",
    "Sea $(X_{1}, X_{2},..., X_{N})$ una muestra de N elementos. El percentil $P_{i}$ es:\n",
    "\n",
    "$$P_{i} = X_{((N+1)·i/100)}$$\n",
    "\n",
    "Donde $P_{i}$ es la posición del percentil buscado en la serie ordenada de datos.\n",
    "\n",
    "Los percentiles están pensados para conjuntos de elementos de más de cien elementos."
   ]
  },
  {
   "cell_type": "code",
   "execution_count": null,
   "metadata": {},
   "outputs": [],
   "source": []
  },
  {
   "cell_type": "code",
   "execution_count": null,
   "metadata": {},
   "outputs": [],
   "source": []
  },
  {
   "cell_type": "code",
   "execution_count": null,
   "metadata": {},
   "outputs": [],
   "source": []
  },
  {
   "cell_type": "markdown",
   "metadata": {},
   "source": [
    "### Medidas de dispersión\n",
    "\n",
    "Las medidas de dispersión o medidas de variabilidad muestran la variabilidad de un conjunto de datos, indicando la mayor o menor concentración de datos respecto a las medias de centralización.\n",
    "\n",
    "\n",
    "\n",
    "**Rango**\n",
    "\n",
    "El rango o recorrido estadístico es la diferencia entre el valor máximo y el mínimo de un conjunto de elementos.\n",
    "\n",
    "\n",
    "$$Rango = max(muestra) - min(muestra)$$"
   ]
  },
  {
   "cell_type": "code",
   "execution_count": null,
   "metadata": {},
   "outputs": [],
   "source": []
  },
  {
   "cell_type": "code",
   "execution_count": null,
   "metadata": {},
   "outputs": [],
   "source": []
  },
  {
   "cell_type": "markdown",
   "metadata": {},
   "source": [
    "**Rango intercuartil**\n",
    "\n",
    "El rango intercuartil es una estimación estadística de la dispersión de una distribución de datos. Consiste en la diferencia entre el tercer y el primer cuartil. Mediante esta medida se eliminan los valores extremadamente alejados. El rango intercuartil es altamente recomendable cuando la medida de tendencia central utilizada es la mediana ya que este estadístico es insensible a posibles irregularidades en los extremos.\n",
    "\n",
    "\n",
    "$$IQR = Q_{3} - Q_{1}$$\n",
    "\n",
    "En una distribución, encontramos la mitad de los datos, el 50 %, ubicados dentro del rango intercuartil. Conforme aumente el IQR, indicará que la dispersión será mayor. Con el IQR podremos elaborar los diagramas de caja, que es un instrumento muy visual para evaluar la dispersión de una distribución."
   ]
  },
  {
   "cell_type": "code",
   "execution_count": null,
   "metadata": {},
   "outputs": [],
   "source": []
  },
  {
   "cell_type": "markdown",
   "metadata": {},
   "source": [
    "**Varianza**\n",
    "\n",
    "La varianza mide la dispersión de los datos respecto a la media, calculando la media de los cuadrados de las distancias de todos los datos.\n",
    "\n",
    "$$\\sigma^{2} = \\frac{\\sum_{i=1}^{N} (x_{i}-\\overline{x})^2}{N}$$\n",
    "\n",
    "La varianza calculada de esta manera se llama varianza poblacional. Si en vez de tratarse de la población usamos una muestra, la varianza llamada muestral se calcula de la siguiente manera:\n",
    "\n",
    "$$S^{2} = \\frac{\\sum_{i=1}^{N} (x_{i}-\\overline{x})^2}{N-1}$$\n",
    "\n",
    "La razón de las dos expresiones de la varianza es que de una población se pueden extraer diversas muestras. No tiene por qué coincidir sus varianzas con la varianza de la población, ni siquiera las varianzas muestrales entre sí. Normalmente, en la varianza muestral, dividiendo por N se obtendrían varianzas ligeramente menores. Por eso, se corrige, dividiendo por N–1. A esta varianza muestral corregida se la denomina cuasivarianza o varianza insesgada. Cuanto mayor sea N menor será la diferencia entre el resultado de la fórmula $S^{2}$ y la de $\\sigma^{2}$.\n",
    "\n",
    "Un inconveniente de la varianza es que sus unidades son las unidades de los datos al cuadrado. Siempre se cumple que la varianza es mayor o igual que cero. La varianza es cero cuando todos los datos son el mismo."
   ]
  },
  {
   "cell_type": "code",
   "execution_count": null,
   "metadata": {},
   "outputs": [],
   "source": []
  },
  {
   "cell_type": "code",
   "execution_count": null,
   "metadata": {},
   "outputs": [],
   "source": []
  },
  {
   "cell_type": "code",
   "execution_count": null,
   "metadata": {},
   "outputs": [],
   "source": []
  },
  {
   "cell_type": "code",
   "execution_count": null,
   "metadata": {},
   "outputs": [],
   "source": []
  },
  {
   "cell_type": "code",
   "execution_count": null,
   "metadata": {},
   "outputs": [],
   "source": []
  },
  {
   "cell_type": "code",
   "execution_count": null,
   "metadata": {},
   "outputs": [],
   "source": []
  },
  {
   "cell_type": "code",
   "execution_count": null,
   "metadata": {},
   "outputs": [],
   "source": []
  },
  {
   "cell_type": "code",
   "execution_count": null,
   "metadata": {},
   "outputs": [],
   "source": []
  },
  {
   "cell_type": "markdown",
   "metadata": {},
   "source": [
    "**Covarianza**\n",
    "\n",
    "La covarianza es un valor que indica el grado de variación conjunta de dos variables respecto a sus medias. Es el dato básico para determinar si existe una dependencia entre ambas variables y además es el dato necesario para estimar otros parámetros básicos, como el coeficiente de correlación lineal o la recta de regresión.\n",
    "\n",
    "$$Cov(x,y) = \\frac{1}{N} \\sum_{i=1}^{N} (x_{i}-\\overline{x})(y_{i}-\\overline{y})$$\n",
    "\n",
    "$$$$\n",
    "\n",
    "![cov](images/cov.png)\n",
    "\n",
    "$$$$\n",
    "\n",
    "En el caso multivariante, se define como una matriz:\n",
    "\n",
    "$$Cov(x,y) = \\begin{pmatrix}\n",
    "Cov(x_{1},y_{1})&\\cdots&Cov(x_{1},y_{N})\\\\\n",
    "\\vdots&\\ddots&\\vdots\\\\\n",
    "Cov(x_{N},y_{1})&\\cdots&Cov(x_{N},y_{N})\\\\\n",
    "\\end{pmatrix}$$\n",
    "\n"
   ]
  },
  {
   "cell_type": "code",
   "execution_count": null,
   "metadata": {},
   "outputs": [],
   "source": []
  },
  {
   "cell_type": "code",
   "execution_count": null,
   "metadata": {},
   "outputs": [],
   "source": []
  },
  {
   "cell_type": "code",
   "execution_count": null,
   "metadata": {},
   "outputs": [],
   "source": []
  },
  {
   "cell_type": "code",
   "execution_count": null,
   "metadata": {},
   "outputs": [],
   "source": []
  },
  {
   "cell_type": "markdown",
   "metadata": {},
   "source": [
    "**Desviación standard**\n",
    "\n",
    "La desviación standard o desviación típica es la medida de dispersión asociada a la media. Mide el promedio de las desviaciones de los datos respecto a la media en las mismas unidades de los datos. Es la raíz cuadrada de la varianza.\n",
    "\n",
    "$$\\sigma = \\sqrt{\\frac{\\sum_{i=1}^{N} (x_{i}-\\mu)^2}{N}}$$\n",
    "\n",
    "De la misma manera que con la varianza, esta expresión es la desviación standard poblacional. La muestral se calcula como:\n",
    "\n",
    "$$S = \\sqrt{\\frac{\\sum_{i=1}^{N} (x_{i}-\\overline{x})^2}{N-1}}$$\n",
    "\n",
    "\n",
    "donde:\n",
    "\n",
    "$\\mu$ := Media poblacional.\n",
    "\n",
    "$\\overline{x}$ := Media muestral."
   ]
  },
  {
   "cell_type": "code",
   "execution_count": null,
   "metadata": {},
   "outputs": [],
   "source": []
  },
  {
   "cell_type": "code",
   "execution_count": null,
   "metadata": {},
   "outputs": [],
   "source": []
  },
  {
   "cell_type": "code",
   "execution_count": null,
   "metadata": {},
   "outputs": [],
   "source": []
  },
  {
   "cell_type": "code",
   "execution_count": null,
   "metadata": {},
   "outputs": [],
   "source": []
  },
  {
   "cell_type": "code",
   "execution_count": null,
   "metadata": {},
   "outputs": [],
   "source": []
  },
  {
   "cell_type": "code",
   "execution_count": null,
   "metadata": {},
   "outputs": [],
   "source": []
  },
  {
   "cell_type": "code",
   "execution_count": null,
   "metadata": {},
   "outputs": [],
   "source": []
  },
  {
   "cell_type": "code",
   "execution_count": null,
   "metadata": {},
   "outputs": [],
   "source": []
  },
  {
   "cell_type": "code",
   "execution_count": null,
   "metadata": {},
   "outputs": [],
   "source": []
  },
  {
   "cell_type": "markdown",
   "metadata": {},
   "source": [
    "![varianza](images/varianza.png)"
   ]
  },
  {
   "cell_type": "markdown",
   "metadata": {},
   "source": [
    "### Asimetría y curtosis\n",
    "\n",
    "Existen 2 tipos de asimetría, además de las distribuciones simétricas, positiva y negativa:\n",
    "\n",
    "![skew](images/skew.png)\n",
    "\n",
    "$$$$\n",
    "\n",
    "Cuando los datos se distribuyen de manera asimétrica, la relación entre la media, la moda y la mediana es como sigue:\n",
    "\n",
    "![mmm_skew](images/mmm_skew.png)"
   ]
  },
  {
   "cell_type": "markdown",
   "metadata": {},
   "source": [
    "$$$$\n",
    "\n",
    "**Curtosis**\n",
    "\n",
    "Medida de la forma.\n",
    "\n",
    "![curtosis](images/curtosis.jpg)"
   ]
  },
  {
   "cell_type": "markdown",
   "metadata": {},
   "source": [
    "**Frecuencias**\n",
    "\n",
    "La frecuencia es una medida que sirve para comparar la aparición de un elemento $x_{i}$ en un conjunto de elementos. Mediante tablas de distribuciones de frecuencia se puede presentar organizadamente el recuento de datos. Las frecuencias de cada elemento se pueden expresar tanto absolutas, número total de apariciones, como relativas, proporción de apariciones. Si los datos provienen de una variable cuantitativa o existen muchas categorías, los datos se suelen agrupar en clases. Cada clase, que tiene un intervalo o amplitud constante, está representado por su marca de clase, que es el punto medio de la misma.\n",
    "\n",
    "\n",
    "La frecuencia absoluta de un valor es el número de veces que el valor está en el conjunto. La suma de las frecuencias absolutas de todos los elementos diferentes del conjunto debe ser el número total de sujetos N. Si el conjunto tiene k números o categorías diferentes, entonces:\n",
    "\n",
    "$$\\sum_{i=1}^{k} f_{i} = f_{1}+f_{2}+...+f_{k} = N$$\n",
    "\n",
    "donde $f_{i}$ es la frecuencia absoluta.\n",
    "\n",
    "La frecuencia relativa de un valor Xi es la proporción de valores iguales a Xi en el conjunto de datos. Es decir, la frecuencia relativa es la frecuencia absoluta dividida por el número total de elementos N:\n",
    "\n",
    "$$f_{ri} = \\frac{f_{i}}{N}$$\n",
    "\n",
    "$$\\sum_{i=1}^{k} f_{ri} = 1$$\n",
    "donde $f_{ri}$ es la frecuencia relativa."
   ]
  },
  {
   "cell_type": "code",
   "execution_count": null,
   "metadata": {},
   "outputs": [],
   "source": []
  },
  {
   "cell_type": "code",
   "execution_count": null,
   "metadata": {},
   "outputs": [],
   "source": []
  },
  {
   "cell_type": "code",
   "execution_count": null,
   "metadata": {},
   "outputs": [],
   "source": []
  },
  {
   "cell_type": "code",
   "execution_count": null,
   "metadata": {},
   "outputs": [],
   "source": []
  },
  {
   "cell_type": "code",
   "execution_count": null,
   "metadata": {},
   "outputs": [],
   "source": []
  },
  {
   "cell_type": "markdown",
   "metadata": {},
   "source": [
    "### Correlación\n",
    "\n",
    "La correlación indica la fuerza y la dirección de una relación lineal y proporcionalidad entre dos variables. Se considera que dos variables cuantitativas están correlacionadas cuando los valores de una de ellas varían sistemáticamente con respecto a los valores homónimos de la otra: si tenemos dos variables A y B existe correlación entre ellas si al disminuir los valores de A lo hacen también los de B y viceversa. **¡¡OJO, la correlación entre dos variables no implica, por sí misma, ninguna relación de causalidad!!**. \n",
    "\n",
    "La relación entre dos variables cuantitativas queda representada mediante la línea de mejor ajuste, trazada a partir de la nube de puntos. Los principales componentes elementales de una línea de ajuste y, por lo tanto, de una correlación, son la fuerza, el sentido y la forma:\n",
    "\n",
    "+ La fuerza extrema según el caso, mide el grado en que la línea representa a la nube de puntos: si la nube es estrecha y alargada, se representa por una línea recta, lo que indica que la relación es fuerte; si la nube de puntos tiene una tendencia elíptica o circular, la relación es débil.\n",
    "\n",
    "+ El sentido mide la variación de los valores de B con respecto a A: si al crecer los valores de A lo hacen los de B, la relación es directa, pendiente positiva. Si al crecer los valores de A disminuyen los de B, la relación es inversa, pendiente negativa.\n",
    "\n",
    "+ La forma establece el tipo de línea que define el mejor ajuste: la línea recta, la curva monotónica o la curva no monotónica.\n",
    "\n",
    "\n",
    "$$$$\n",
    "\n",
    "![correlacion](images/correlacion.png)\n",
    "\n",
    "$$$$\n",
    "\n",
    "\n",
    "Existen varios coeficientes de correlación, el más habitual es la correlación de Pearson. La correlación de Pearson evalúa la relación lineal entre dos variables continuas. Una relación es lineal cuando un cambio en una variable se asocia con un cambio proporcional en la otra variable.\n",
    "\n",
    "$$$$\n",
    "\n",
    "$$\\rho_{X,Y} = \\frac{Cov(X,Y)}{\\sigma_X \\sigma_Y}$$\n",
    "\n",
    "$$$$\n",
    "\n",
    "\n",
    "También tenemos la correlación de Spearman. La correlación de Spearman evalúa la relación monótona entre dos variables continuas u ordinales. En una relación monótona, las variables tienden a cambiar al mismo tiempo, pero no necesariamente a un ritmo constante. El coeficiente de correlación de Spearman se basa en los valores jerarquizados de cada variable y no en los datos sin procesar. La correlación de Spearman suele utilizarse para evaluar relaciones en las que intervienen variables ordinales. A este coeficiente se le llama también coeficiente de correlación por rangos de Spearman. Se calcula de la siguiente manera:\n",
    "\n",
    "$$$$\n",
    "\n",
    "$$\\rho_{s} = 1 - \\frac{6\\sum{d^2}}{n(n^2 - 1)}$$\n",
    "\n",
    "$$$$\n",
    "\n",
    "donde:\n",
    "\n",
    "$d$ := Diferencia entre los rangos (X-Y)\n",
    "\n",
    "$n$ := Tamaño de la muestra\n",
    "\n",
    "**Nota:** Los datos hay que ordenarlos en rangos. A los puntajes más elevados le asignamos el rango 1 al siguiente el rango 2 y así sucesivamente. Si se repiten dos puntajes o más se calculan las medias aritméticas.\n",
    "\n",
    "$$$$\n",
    "\n",
    "**Comparación entre ambas**\n",
    "\n",
    "**Pearson = +1, Spearman = +1**\n",
    "![pear_spear_1](images/pear_spear_1.png)\n",
    "\n",
    "$$$$\n",
    "\n",
    "**Pearson = +0.851, Spearman = +1**\n",
    "![pear_spear_2](images/pear_spear_2.png)\n",
    "\n",
    "$$$$\n",
    "\n",
    "**Pearson = −0.093, Spearman = −0.093**\n",
    "![pear_spear_3](images/pear_spear_3.png)\n",
    "\n",
    "$$$$\n",
    "\n",
    "**Pearson = −1, Spearman = −1**\n",
    "![pear_spear_4](images/pear_spear_4.png)"
   ]
  },
  {
   "cell_type": "markdown",
   "metadata": {},
   "source": [
    "$$$$\n",
    "\n",
    "Otro coeficiente que funciona por rangos es el coeficiente de Kendall o también llamado la $\\tau$ de Kendall, que se utiliza para medir la asociación ordinal entre dos cantidades. la correlación de Kendall entre dos variables será alta cuando las observaciones tengan un rango similar o idéntico para una correlación de 1, es decir, la posición relativa de las observaciones dentro de la variable, y bajo cuando las observaciones tienen un rango diferente para una correlación de -1 entre las dos variables. El coeficiente $\\tau$ de Kendall se define como:\n",
    "\n",
    "$$$$\n",
    "\n",
    "$$\\tau = \\frac{(nºParesConcordantes) - (nºParesDiscordantes)}{\\binom{n}{2}}$$\n"
   ]
  },
  {
   "cell_type": "code",
   "execution_count": null,
   "metadata": {},
   "outputs": [],
   "source": []
  },
  {
   "cell_type": "code",
   "execution_count": null,
   "metadata": {},
   "outputs": [],
   "source": []
  },
  {
   "cell_type": "code",
   "execution_count": null,
   "metadata": {},
   "outputs": [],
   "source": []
  },
  {
   "cell_type": "code",
   "execution_count": null,
   "metadata": {},
   "outputs": [],
   "source": []
  },
  {
   "cell_type": "code",
   "execution_count": null,
   "metadata": {},
   "outputs": [],
   "source": []
  },
  {
   "cell_type": "code",
   "execution_count": null,
   "metadata": {},
   "outputs": [],
   "source": []
  },
  {
   "cell_type": "markdown",
   "metadata": {},
   "source": [
    "**con pandas**"
   ]
  },
  {
   "cell_type": "code",
   "execution_count": null,
   "metadata": {},
   "outputs": [],
   "source": []
  },
  {
   "cell_type": "code",
   "execution_count": null,
   "metadata": {},
   "outputs": [],
   "source": []
  },
  {
   "cell_type": "code",
   "execution_count": null,
   "metadata": {},
   "outputs": [],
   "source": []
  },
  {
   "cell_type": "code",
   "execution_count": null,
   "metadata": {},
   "outputs": [],
   "source": []
  },
  {
   "cell_type": "code",
   "execution_count": null,
   "metadata": {},
   "outputs": [],
   "source": []
  },
  {
   "cell_type": "markdown",
   "metadata": {},
   "source": [
    "### Gráficos\n",
    "\n",
    "Un gráfico o gráfica es el recurso de representar los datos numéricos por medio de líneas, diagramas, dibujos, etc. La representación gráfica es un importante suplemento al análisis y estudio estadístico. Los gráficos llaman la atención y hacen que de un vistazo se tenga una mayor comprensión de los datos. Un buen gráfico puede captar al público objetivo para que a continuación lea todo el estudio. Si un estudio se compone únicamente de texto y tablas, posiblemente no todos lean el estudio.\n",
    "\n",
    "Veamos las librerias de básicas de python para graficar."
   ]
  },
  {
   "cell_type": "code",
   "execution_count": null,
   "metadata": {},
   "outputs": [],
   "source": []
  },
  {
   "cell_type": "code",
   "execution_count": null,
   "metadata": {},
   "outputs": [],
   "source": []
  },
  {
   "cell_type": "code",
   "execution_count": null,
   "metadata": {},
   "outputs": [],
   "source": []
  },
  {
   "cell_type": "code",
   "execution_count": null,
   "metadata": {},
   "outputs": [],
   "source": []
  },
  {
   "cell_type": "code",
   "execution_count": null,
   "metadata": {},
   "outputs": [],
   "source": []
  },
  {
   "cell_type": "code",
   "execution_count": null,
   "metadata": {},
   "outputs": [],
   "source": []
  },
  {
   "cell_type": "code",
   "execution_count": null,
   "metadata": {},
   "outputs": [],
   "source": []
  },
  {
   "cell_type": "markdown",
   "metadata": {},
   "source": [
    "**Gráfico de barras (countplot)**\n",
    "\n",
    "Un gráfico de barras o gráfico de columnas, es una forma de representar gráficamente un conjunto de datos o valores mediante barras rectangulares de longitud proporcional a los valores representados. Los gráficos de barras pueden ser usados para comparar cantidades de una variable en diferentes momentos o diferentes variables para el mismo momento. Las barras pueden orientarse horizontal y verticalmente."
   ]
  },
  {
   "cell_type": "code",
   "execution_count": null,
   "metadata": {},
   "outputs": [],
   "source": []
  },
  {
   "cell_type": "code",
   "execution_count": null,
   "metadata": {},
   "outputs": [],
   "source": []
  },
  {
   "cell_type": "code",
   "execution_count": null,
   "metadata": {},
   "outputs": [],
   "source": []
  },
  {
   "cell_type": "markdown",
   "metadata": {},
   "source": [
    "**Histograma**\n",
    "\n",
    "Un histograma es una representación gráfica de una variable en forma de barras, donde la superficie de cada barra es proporcional a la frecuencia de los valores representados. Sirven para obtener una primera vista general de la distribución de la población, o de la muestra, respecto a una característica, cuantitativa y continua. De esta manera ofrece una visión de grupo permitiendo observar una preferencia, o tendencia, por parte de la muestra o población por ubicarse hacia una determinada región de valores dentro del espectro de valores posibles que pueda adquirir la característica. Así pues, podemos evidenciar comportamientos, observar el grado de homogeneidad, acuerdo o concisión entre los valores de todas las partes que componen la población o la muestra, o, en contraposición, poder observar el grado de variabilidad, y por ende, la dispersión de todos los valores que toman las partes, también es posible no evidenciar ninguna tendencia y obtener que cada miembro de la población toma por su lado y adquiere un valor de la característica aleatoriamente sin mostrar ninguna preferencia o tendencia, entre otras cosas."
   ]
  },
  {
   "cell_type": "code",
   "execution_count": null,
   "metadata": {},
   "outputs": [],
   "source": []
  },
  {
   "cell_type": "code",
   "execution_count": null,
   "metadata": {},
   "outputs": [],
   "source": []
  },
  {
   "cell_type": "code",
   "execution_count": null,
   "metadata": {},
   "outputs": [],
   "source": []
  },
  {
   "cell_type": "code",
   "execution_count": null,
   "metadata": {},
   "outputs": [],
   "source": []
  },
  {
   "cell_type": "code",
   "execution_count": null,
   "metadata": {},
   "outputs": [],
   "source": []
  },
  {
   "cell_type": "markdown",
   "metadata": {},
   "source": [
    "**Pie Chart**\n",
    "\n",
    "Un gráfico circular o gráfica circular, también llamado gráfico de pastel, gráfico de tarta, gráfico de torta o gráfica de 360 grados, es un recurso estadístico que se utiliza para representar porcentajes y proporciones. El número de elementos comparados dentro de una gráfica circular suele ser de menos de cuatro."
   ]
  },
  {
   "cell_type": "code",
   "execution_count": null,
   "metadata": {},
   "outputs": [],
   "source": []
  },
  {
   "cell_type": "code",
   "execution_count": null,
   "metadata": {},
   "outputs": [],
   "source": []
  },
  {
   "cell_type": "code",
   "execution_count": null,
   "metadata": {},
   "outputs": [],
   "source": []
  },
  {
   "cell_type": "code",
   "execution_count": null,
   "metadata": {},
   "outputs": [],
   "source": []
  },
  {
   "cell_type": "markdown",
   "metadata": {},
   "source": [
    "**Boxplot**\n",
    "\n",
    "Un diagrama de caja, también conocido como diagrama de caja y bigotes o box plot, es un método estandarizado para representar gráficamente una serie de datos numéricos a través de sus cuartiles. De esta manera, el diagrama de caja muestra a simple vista la mediana y los cuartiles de los datos, pudiendo también representar los valores atípicos de estos. "
   ]
  },
  {
   "cell_type": "code",
   "execution_count": null,
   "metadata": {},
   "outputs": [],
   "source": []
  },
  {
   "cell_type": "code",
   "execution_count": null,
   "metadata": {},
   "outputs": [],
   "source": []
  },
  {
   "cell_type": "markdown",
   "metadata": {},
   "source": [
    "**Violin Plot**\n",
    "\n",
    "Un diagrama de violín se utiliza para visualizar la distribución de los datos y su densidad de probabilidad. Este gráfico es una combinación de un diagrama de cajas y un diagrama de densidad girado y colocado a cada lado, para mostrar la forma de distribución de los datos."
   ]
  },
  {
   "cell_type": "code",
   "execution_count": null,
   "metadata": {},
   "outputs": [],
   "source": []
  },
  {
   "cell_type": "markdown",
   "metadata": {},
   "source": [
    "### Concepto de Outlier (valores atípicos)\n",
    "\n",
    "Un outlier es una observación anormal y extrema en una muestra estadística o serie temporal de datos que puede afectar potencialmente a la estimación de los parámetros del mismo.\n",
    "\n",
    "Los valores atípicos son en ocasiones una cuestión subjetiva, y existen numerosos métodos para clasificarlos. El método más impartido académicamente por su sencillez y resultados es el test de Tukey, que toma como referencia la diferencia entre el primer cuartil $Q_{1}$ y el tercer cuartil $Q_{3}$, o rango intercuartílico. En un diagrama de caja se considera un valor atípico el que se encuentra 1,5 veces esa distancia de uno de esos cuartiles, atípico leve, o a 3 veces esa distancia, atípico extremo.\n",
    "\n",
    "\n",
    "\n",
    "$$$$\n",
    "\n",
    "![outlier](images/outlier.png)"
   ]
  },
  {
   "cell_type": "code",
   "execution_count": null,
   "metadata": {},
   "outputs": [],
   "source": []
  },
  {
   "cell_type": "code",
   "execution_count": null,
   "metadata": {},
   "outputs": [],
   "source": []
  },
  {
   "cell_type": "code",
   "execution_count": null,
   "metadata": {},
   "outputs": [],
   "source": []
  },
  {
   "cell_type": "markdown",
   "metadata": {},
   "source": [
    "**Gráficos de distribución**"
   ]
  },
  {
   "cell_type": "code",
   "execution_count": null,
   "metadata": {},
   "outputs": [],
   "source": []
  },
  {
   "cell_type": "code",
   "execution_count": null,
   "metadata": {
    "scrolled": false
   },
   "outputs": [],
   "source": []
  },
  {
   "cell_type": "code",
   "execution_count": null,
   "metadata": {},
   "outputs": [],
   "source": []
  },
  {
   "cell_type": "code",
   "execution_count": null,
   "metadata": {},
   "outputs": [],
   "source": []
  },
  {
   "cell_type": "code",
   "execution_count": null,
   "metadata": {},
   "outputs": [],
   "source": []
  }
 ],
 "metadata": {
  "finalized": {
   "timestamp": 1618998313901,
   "trusted": true
  },
  "kernelspec": {
   "display_name": "prueba",
   "language": "python",
   "name": "prueba"
  },
  "language_info": {
   "codemirror_mode": {
    "name": "ipython",
    "version": 3
   },
   "file_extension": ".py",
   "mimetype": "text/x-python",
   "name": "python",
   "nbconvert_exporter": "python",
   "pygments_lexer": "ipython3",
   "version": "3.7.13"
  },
  "varInspector": {
   "cols": {
    "lenName": 16,
    "lenType": 16,
    "lenVar": 40
   },
   "kernels_config": {
    "python": {
     "delete_cmd_postfix": "",
     "delete_cmd_prefix": "del ",
     "library": "var_list.py",
     "varRefreshCmd": "print(var_dic_list())"
    },
    "r": {
     "delete_cmd_postfix": ") ",
     "delete_cmd_prefix": "rm(",
     "library": "var_list.r",
     "varRefreshCmd": "cat(var_dic_list()) "
    }
   },
   "types_to_exclude": [
    "module",
    "function",
    "builtin_function_or_method",
    "instance",
    "_Feature"
   ],
   "window_display": false
  }
 },
 "nbformat": 4,
 "nbformat_minor": 4
}

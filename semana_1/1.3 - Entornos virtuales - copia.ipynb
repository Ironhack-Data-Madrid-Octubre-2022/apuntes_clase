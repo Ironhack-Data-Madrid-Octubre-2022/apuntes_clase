{
 "cells": [
  {
   "cell_type": "markdown",
   "metadata": {},
   "source": [
    "# 1.3 - Entornos virtuales (Anaconda)\n",
    "\n",
    "![entornos_virtuales](images/entornos_virtuales.png)"
   ]
  },
  {
   "cell_type": "markdown",
   "metadata": {},
   "source": [
    "Un entorno de desarrollo virtual python o simplemente entorno virtual python es un mecanismo que permite gestionar programas y paquetes en python donde cualquier usuario sin privilegios puede tener uno o más \"espacios aislados\" para el desarrollo de software, pudiendo instalar distintas versiones de programas y paquetes python. Para crear los entornos virtuales vamos a usar el programa virtualenv, el módulo venv o la distribución Anaconda/MiniConda."
   ]
  },
  {
   "cell_type": "markdown",
   "metadata": {},
   "source": [
    "#### ¿Para qué se usan los entornos virtuales?\n",
    "\n",
    "Puede haber varios motivos en que su uso es conveniente e incluso necesario:\n",
    "\n",
    "- Podemos tener necesidad de utilizar versiones de paquetes python que no son las que vienen empaquetadas oficialmente en nuestra distribución linux. La versión que se instala con nuestro gestor de paquetes, por ejemplo con apt en GNU/Linux Debian no corresponde con nuestras necesidades. Una solución puede ser usar pip como administrador: esta solución nos puede dar muchos problemas, ya que podemos romper las dependencias entre las versiones de nuestros paquetes python instalados en el sistema y algún paquete puede dejar de funcionar. En este caso sería necesario la utilización de un entorno virtual.\n",
    "\n",
    "- En el caso del desarrollo y despliegue de aplicaciones web, cada vez es más importante acercar los entornos de desarrollo, prueba y producción, es decir, que estos tres entornos sean los más parecidos posible, para no tener \"sorpresas\" a la hora de desplegar la aplicación en producción. Utilizando entornos virtuales conseguimos que las dependencias entre paquetes que necesita nuestra aplicación estén satisfechas en todos los entornos, además es muy sencillo distribuir la configuración del entorno virtual, así como automatizar su creación, entre los distintos miembros del equipo de trabajo, consiguiendo que todos trabajen bajo el mismo escenario.\n",
    "\n",
    "- Los ciclos de desarrollo de aplicaciones modernos en lenguajes como python son cada vez más rápidos, esto puede suponer que en una misma máquina podamos tener aplicaciones que utilicen diferentes dependencias y versiones de un mismo paquete. Por ejemplo, podemos tener dos aplicaciones web en producción, una que esté desarrollada con django 1.8 y otra con django 1.10. En este caso es imprescindible la utilización de entornos virtuales diferenciados, que sean la base de cada aplicación.\n",
    "\n",
    "Además los entornos virtuales son una herramienta que favorecen las nuevas metodologías de trabajo que se denominan DevOps, que tratan de gestionar y automatizar la configuración. Es muy sencillo distribuir la configuración de nuetro en torno virtual y automatizar la creación de ellos en diferentes infraestructuras y escenarios."
   ]
  },
  {
   "cell_type": "markdown",
   "metadata": {},
   "source": [
    "### Anaconda\n",
    "\n",
    "https://docs.anaconda.com/anaconda/navigator/tutorials/\n",
    "\n",
    "**Descarga:**\n",
    "\n",
    "https://www.anaconda.com/products/individual\n",
    "\n",
    "**MiniConda:**\n",
    "\n",
    "https://docs.conda.io/en/latest/miniconda.html\n",
    "\n",
    "![anaconda](images/anaconda.png)"
   ]
  },
  {
   "cell_type": "markdown",
   "metadata": {},
   "source": [
    "`conda env list` - Listado de entornos virtuales\n",
    "\n",
    "`conda create -n nombre` - Crear entorno virtual\n",
    "\n",
    "`conda create -n nombre python=version` - Crear entorno virtual especificando el intérprete (python 2.7/3.3/3.8)\n",
    "\n",
    "`conda activate nombre` - Activar el entorno virtual \n",
    "\n",
    "`conda deactivate` - Salir del entorno virtual\n",
    "\n",
    "`conda remove -n nombre` - Borrar entorno virtual\n",
    "\n",
    "`conda install -c anaconda paquete` o `conda install -c conda-forge paquete` - Si pip falla en la instalación o queremos instalar directamente por conda\n",
    "\n",
    "`conda env export > nombre.yml` - Exportar entorno virtual\n",
    "\n",
    "`conda env create --file nombre.yml` - Importar entorno virtual"
   ]
  },
  {
   "cell_type": "markdown",
   "metadata": {},
   "source": [
    "### Añadiendo jupyter al entorno virtual\n",
    "\n",
    "\n",
    "![jupyter](images/jupyter.png)"
   ]
  },
  {
   "cell_type": "markdown",
   "metadata": {},
   "source": [
    "También vamos a crear un kernel para jupyter notebook que nos permita utilizarlo en un entorno virtual.\n",
    "\n",
    "**Comandos:**\n",
    "\n",
    "`pip install ipykernel` o `conda install -c anaconda ipykernel` - Instalar ipykernel\n",
    "\n",
    "`python -m ipykernel install --user --name=nombre` - Agregue el entorno virtual a ipykernel, crear kernel\n",
    "\n",
    "`jupyter kernelspec list` - Lista de los diferentes kernels\n",
    "\n",
    "`jupyter kernelspec remove nombre` - Borrar kernel"
   ]
  },
  {
   "cell_type": "markdown",
   "metadata": {},
   "source": [
    "Una vez realizado la creación del nuevo kernel, se inicia `jupyter notebook` en el entorno virtual."
   ]
  }
 ],
 "metadata": {
  "kernelspec": {
   "display_name": "Python 3 (ipykernel)",
   "language": "python",
   "name": "python3"
  },
  "language_info": {
   "codemirror_mode": {
    "name": "ipython",
    "version": 3
   },
   "file_extension": ".py",
   "mimetype": "text/x-python",
   "name": "python",
   "nbconvert_exporter": "python",
   "pygments_lexer": "ipython3",
   "version": "3.9.13"
  }
 },
 "nbformat": 4,
 "nbformat_minor": 4
}

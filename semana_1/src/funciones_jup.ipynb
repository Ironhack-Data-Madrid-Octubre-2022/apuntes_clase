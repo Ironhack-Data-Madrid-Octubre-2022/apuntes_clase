{
 "cells": [
  {
   "cell_type": "code",
   "execution_count": 1,
   "id": "da7f5c1b",
   "metadata": {},
   "outputs": [],
   "source": [
    "def sumar_jup(a, b):\n",
    "    return a+b"
   ]
  },
  {
   "cell_type": "code",
   "execution_count": 2,
   "id": "46d4b121",
   "metadata": {},
   "outputs": [],
   "source": [
    "def restar_jup(a, b):\n",
    "    return a-b"
   ]
  },
  {
   "cell_type": "code",
   "execution_count": 3,
   "id": "ded72c88",
   "metadata": {},
   "outputs": [],
   "source": [
    "def multiplicar_jup(a, b):\n",
    "    return a*b"
   ]
  },
  {
   "cell_type": "code",
   "execution_count": 4,
   "id": "e1bd073e",
   "metadata": {},
   "outputs": [],
   "source": [
    "def dividir_jup(a, b):\n",
    "    return a/b"
   ]
  },
  {
   "cell_type": "code",
   "execution_count": 5,
   "id": "2fdfdcd9",
   "metadata": {},
   "outputs": [],
   "source": [
    "VAR=90"
   ]
  },
  {
   "cell_type": "code",
   "execution_count": null,
   "id": "3c3e4f91",
   "metadata": {},
   "outputs": [],
   "source": []
  }
 ],
 "metadata": {
  "kernelspec": {
   "display_name": "clase",
   "language": "python",
   "name": "clase"
  },
  "language_info": {
   "codemirror_mode": {
    "name": "ipython",
    "version": 3
   },
   "file_extension": ".py",
   "mimetype": "text/x-python",
   "name": "python",
   "nbconvert_exporter": "python",
   "pygments_lexer": "ipython3",
   "version": "3.8.13"
  }
 },
 "nbformat": 4,
 "nbformat_minor": 5
}

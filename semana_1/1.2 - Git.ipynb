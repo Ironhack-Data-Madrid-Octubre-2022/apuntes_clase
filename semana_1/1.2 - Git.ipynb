{
 "cells": [
  {
   "cell_type": "markdown",
   "metadata": {},
   "source": [
    "# 1.2 - Git\n",
    "\n",
    "https://es.wikipedia.org/wiki/Git\n",
    "\n",
    "https://git-scm.com/doc\n",
    "\n",
    "https://ohshitgit.com/\n",
    "\n",
    "![git](images/git.png)"
   ]
  },
  {
   "cell_type": "markdown",
   "metadata": {},
   "source": [
    "Git es un software de control de versiones diseñado por Linus Torvalds, pensando en la eficiencia, la confiabilidad y compatibilidad del mantenimiento de versiones de aplicaciones cuando estas tienen un gran número de archivos de código fuente. Su propósito es llevar registro de los cambios en archivos de computadora incluyendo coordinar el trabajo que varias personas realizan sobre archivos compartidos en un repositorio de código.\n",
    "\n",
    "Al principio, Git se pensó como un motor de bajo nivel sobre el cual otros pudieran escribir la interfaz de usuario o front end como Cogito o StGIT. Sin embargo, Git se ha convertido desde entonces en un sistema de control de versiones con funcionalidad plena. Hay algunos proyectos de mucha relevancia que ya usan Git, en particular, el grupo de programación del núcleo Linux.\n",
    "\n",
    "El mantenimiento del software Git está actualmente (2009) supervisado por Junio Hamano, quien recibe contribuciones al código de alrededor de 280 programadores. En cuanto a derechos de autor Git es un software libre distribuible bajo los términos de la versión 2 de la Licencia Pública General de GNU."
   ]
  },
  {
   "cell_type": "markdown",
   "metadata": {},
   "source": [
    "#### ¿Qué es GIT y por qué importa?\n",
    "\n",
    "- Git es un sistema de control de versiones (Version Control System, VCS)\n",
    "- Permite tener un histórico de archivos y los cambios realizados sobre ellos\n",
    "- Permite que varios desarrolladores trabajen en un mismo proyecto a la vez\n",
    "- Hace que volver a una versión anterior sea más fácil"
   ]
  },
  {
   "cell_type": "markdown",
   "metadata": {},
   "source": [
    "#### Git vs GitHub\n",
    "Como Git es el programa que permite realizar el control de versiones y el seguimiento de archivos, GitHub es el servidor para repositorios de Git."
   ]
  },
  {
   "cell_type": "markdown",
   "metadata": {},
   "source": [
    "#### Terminología\n",
    "\n",
    "\n",
    "- `repository` | `repo` : localización de guardado del paquete de software (una carpeta con monitoraje Git)\n",
    "- `untracked` : un archivo o directorio no monitoreado por Git, no pertenece al repo\n",
    "- `tracked` : un archivo que pertenece al repo (a través del comando `add`)\n",
    "- `commit` : un punto en la línea temporal del repo. Es una \"captura\" de todos los cambios que \"hacemos oficiales\", el último estado de los archivos. Cada commit tiene un id único y debe tener un comentario. Cuanto mñás descriptivo sea el mensaje mejor.\n",
    "- `local repo` : un repositorio de código en la computadora que estás usando\n",
    "- `remote repo` : un repositorio en una máquina diferente (e.g.: Github)\n",
    "- `forking` : crear una línea temporal diferente para un repo, normalmente será la copia de un repo ya existente\n",
    "- `cloning` : hacer una copia local de un repositorio remoto\n",
    "- `push` : mandar los cambios realizados en local a remoto\n",
    "- `pull` : traer a local los cambios hechos en remoto\n",
    "- `.gitignore` : archivo de texto para registrar archivos y/o carpetas que no queremos que Git monitoree\n",
    "    - e.g.:\n",
    "        \n",
    "        logo.jpg `# git ignora archivos con ese nombre específico`  \n",
    "\n",
    "        develop_test/ `# git ignora el directorio con ese nombre y todo su contenido. Fundamental el símbolo / después del nombre.` \n",
    "\n",
    "        *.jpg `# git ignora todos los archivos con esa extension` \n",
    "- `branch` : ramas, las diferentes líneas temporales de un repositorio. Permite desarrollo en paralelo\n",
    "- `merge` : unión de diferentes ramas en una sola. Es lo opuesto de forking, en vez de separar, se unen las diferentes líneas temporales\n",
    "- `pull request` : es el acto de pedir al propietario del repositorio que acepte los cambios que tú has realizado. Es literalmente hacer la petición de que haga `pull` con tus cambios\n"
   ]
  },
  {
   "cell_type": "markdown",
   "metadata": {},
   "source": [
    "#### Comandos básicos\n",
    "\n",
    "`conda install -c anaconda git``\n",
    "- Para instalar git (necesario en powershell)\n",
    "\n",
    "`git init`\n",
    "- Convierte una carpeta en un repositorio Git\n",
    "\n",
    "`git --version`\n",
    "- Versión actual de Git\n",
    "\n",
    "`git config credential.helper store`\n",
    "- Guarda las credenciales de GitHub en local\n",
    "\n",
    "`git config --global user.name \"nombre\"`\n",
    "- Establece nombre de usuario\n",
    "\n",
    "`git config --global user.email \"tu_email\"`\n",
    "- Establece email de usuario\n",
    "\n",
    "`git config --global user.password \"tu_token\"`\n",
    "- Establece token de usuario\n",
    "\n",
    "`git status`\n",
    "- Lista el estado del seguimiento de los archivos\n",
    "\n",
    "`git add <file>`\n",
    "- Añade un archivo al repo en el área de montaje (stanging area)\n",
    "\n",
    "`git diff`\n",
    "- Muestra los cambios realizados en cada archivo\n",
    "\n",
    "`git restore --staged <file>`\n",
    "- Borra un archivo del área de montaje\n",
    "\n",
    "`git commit -m \"<message>\"`\n",
    "- Guarda los cambios realizados en el área de montaje del repo \n",
    "\n",
    "- `-a`\n",
    "    - Realiza el commit de todos los archivos que pertenecen al repo (todos los archivo previamente añadidos)\n",
    "- `-m`\n",
    "    - Permite añadir un comentario al commit en el comando de terminal en vez de abrir un editor\n",
    "- `-am` == `-a -m`\n",
    "\n",
    "`git log`\n",
    "- Muestra el histórico de todos los commits del repo \n",
    "\n",
    "`git reset --hard <commit_id>`\n",
    "- Devuelve la rama a un commit en específico. \"Vuelve atrás en el tiempo\"\n",
    "\n",
    "`git reset HEAD~1`\n",
    "- Devuelve la rama al anterior commit, un paso atrás en el tiempo\n",
    "\n",
    "`git reset HEAD~X`\n",
    "- Devuelve la rama X commits atrás, X pasos atrás en el tiempo\n",
    "\n",
    "`git remote add <nombre> <url>`\n",
    "- Conecta el repo local a un repo remoto a través de una `url` \n",
    "\n",
    "`git clone <url>`\n",
    "- Realiza una copia local de un repo remoto\n",
    "\n",
    "`git pull <remote> <rama>`\n",
    "- e.g.: `git pull origin master`\n",
    "- Trae los cambios realizados desde el repo remoto(`remote` `rama`) al repo local \n",
    "\n",
    "`git push <remote> <rama>`\n",
    "- e.g.: `git push origin master`\n",
    "- Envía los cambios del repo local al repo remoto (`remote` `rama`)\n",
    "\n",
    "`git branch`\n",
    "- Devuelve una lista de todas las ramas del repo\n",
    "\n",
    "`git branch <nombre>`\n",
    "- Crea una rama dándole un nombre\n",
    "\n",
    "`git checkout <rama>`\n",
    "- Cambio desde la rama actual a la rama según su nombre. Solo una rama activa \n",
    "\n",
    "`git checkout -b <rama>`\n",
    "- Crea y cambia de rama en un solo comando\n",
    "\n",
    "`git merge <rama>`\n",
    "-  Se unen la rama actual con la rama llamada `<branch>` \n",
    "\n",
    "`git merge -s ours <rama>`\n",
    "- Fuerza el merge cuando la rama actual.\n",
    "\n",
    "`rm -rf .git`\n",
    "- Borra Git del directorio"
   ]
  },
  {
   "cell_type": "markdown",
   "metadata": {},
   "source": [
    "#### Pequeños trucos\n",
    "- Declara explícitamente todos los archivos, directorios, ramas, etc... \n",
    "- No utilices atajos mientras aprendes Git\n",
    "- Realiza commits para cambios específicos y funcionales, siendo mejor realizarlos frecuentemente para tener un histórico de todos los cambios en el código.\n",
    "- Siempre escribe mensajes descriptivos de los cambios en el commit para mejor seguimiento"
   ]
  },
  {
   "cell_type": "markdown",
   "metadata": {},
   "source": [
    "### Ejemplos de uso:\n",
    "\n",
    "- Trabajando en repositorio propio y local\n",
    "    - `git init` para iniciar un repositorio\n",
    "    - `git add <files>` para añadir archivos a monitoreo Git\n",
    "    - `git commit -m \"<message>\"` para guardar los cambios realizados\n",
    "    - `git remote add <name> <url>` para conectar el repo uno remoto (crear un repositorio vacío en GitHub para evitar conflictos, si se clona se evita este paso)\n",
    "    - `git push` para enviar cambios al repo remoto\n",
    "\n",
    "- Trabajando en un repositorio remoto con privilegios:\n",
    "    - `git clone <url>` para hacer copia local\n",
    "    - `git add <files>` y `git commit -m \"<message>\"` para guardar cambios\n",
    "    - `git pull` ANTES de hacer push. Se descargan los cambios que pudieran existir en el repo remoto para evitar conflictos y/o tener disponible la última versión del software\n",
    "    - `git push` para enviar cambios al repo remoto\n",
    "    \n",
    "- Trabajando en un repositorio remoto sin privilegios:\n",
    "    - `fork` en GitHub para crear una copia alternativa del repo teniendo privilegios sobre ella\n",
    "    - `git clone` copia el repo 'forkeado' en local\n",
    "    - `git commit`, `git add`, `git push` para guardar cambios y guardarlos en el repo remoto\n",
    "    - `pull request` permite enviar peticiones de cambios en el código al dueño del repositorio original"
   ]
  },
  {
   "cell_type": "markdown",
   "metadata": {},
   "source": [
    "### Git areas\n",
    "\n",
    "![Git working areas](images/git_areas.png)"
   ]
  },
  {
   "cell_type": "markdown",
   "metadata": {},
   "source": [
    "### Recuerda\n",
    "\n",
    "![Git commit](images/in_case_of_fire.png)"
   ]
  },
  {
   "cell_type": "markdown",
   "metadata": {},
   "source": [
    "**Para fallos en Windows: Github desktop o msysGit**"
   ]
  }
 ],
 "metadata": {
  "kernelspec": {
   "display_name": "Python 3 (ipykernel)",
   "language": "python",
   "name": "python3"
  },
  "language_info": {
   "codemirror_mode": {
    "name": "ipython",
    "version": 3
   },
   "file_extension": ".py",
   "mimetype": "text/x-python",
   "name": "python",
   "nbconvert_exporter": "python",
   "pygments_lexer": "ipython3",
   "version": "3.9.7"
  }
 },
 "nbformat": 4,
 "nbformat_minor": 4
}

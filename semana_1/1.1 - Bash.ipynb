{
 "cells": [
  {
   "cell_type": "markdown",
   "metadata": {},
   "source": [
    "# 1.1 - Bash\n",
    "\n",
    "https://es.wikipedia.org/wiki/Bash\n",
    "\n",
    "![bas](images/bash.png)"
   ]
  },
  {
   "cell_type": "markdown",
   "metadata": {},
   "source": [
    "GNU Bash o simplemente Bash (Bourne-again shell) es un lenguaje de órdenes y shell de Unix escrito por Brian Fox para el Proyecto GNU como un reemplazo de software libre para el shell Bourne. Lanzado por primera vez en 1989, se ha utilizado ampliamente como el intérprete de inicio de sesión(login) predeterminado para la mayoría de las distribuciones de GNU/Linux y Mac OS X de Apple hasta la versión 10.15. Una versión también está disponible para Windows 10 y Android. También es el intérprete de órdenes de usuario predeterminado en Solaris 11.\n",
    "\n",
    "Bash es un intérprete de órdenes que generalmente se ejecuta en una ventana de texto donde el usuario escribe órdenes en modo texto. Bash también puede leer y ejecutar órdenes desde un archivo, llamado guion o 'script'. Al igual que todos los intérpretes de Unix, es compatible con el agrupamiento de nombres de archivo (coincidencia de comodines), tuberías, sustitución de comandos, variables y estructuras de control para pruebas de condición e iteración. Las palabras reservadas, la sintaxis, las variables de ámbito dinámico y otras características básicas del lenguaje se copian de sh. Otras características, por ejemplo, el historial, se copian de csh y ksh. Bash es un intérprete de órdenes compatible con POSIX, pero con varias extensiones.\n",
    "\n",
    "El nombre del intérprete es un acrónimo de 'Bourne-again shell' (intérprete de órdenes Bourne, de nuevo), un juego de palabras con el nombre del intérprete Bourne que reemplaza y la noción de \"nacer de nuevo\".\n",
    "\n",
    "Un agujero de seguridad en Bash que data de la versión 1.03 (agosto de 1989), denominado Shellshock, fue descubierto a principios de septiembre de 2014 y rápidamente provocó una serie de ataques en Internet. Los parches para corregir los errores se pusieron a disposición poco después de que se identificaron los errores."
   ]
  },
  {
   "cell_type": "markdown",
   "metadata": {},
   "source": [
    "También existe **Zsh**, otra forma de terminal:\n",
    "https://github.com/ohmyzsh/ohmyzsh/wiki/Installing-ZSH"
   ]
  },
  {
   "cell_type": "markdown",
   "metadata": {},
   "source": [
    "<div style=\"page-break-after: always; visibility: hidden\">\n",
    "\\pagebreak\n",
    "</div>"
   ]
  },
  {
   "cell_type": "markdown",
   "metadata": {},
   "source": [
    "### Tabla de contenidos:\n",
    "\n",
    "* **Intro**\n",
    "* **Conceptos básicos:**\n",
    "    + Comandos básicos\n",
    "    + Crear, editar, explorar\n",
    "    + Bucles, condicionales y funciones\n",
    "    + Creacion de alias\n",
    "* **Resumen**\n",
    "* **Más material:**\n",
    "    + Ejemplos\n",
    "    + Referencias"
   ]
  },
  {
   "cell_type": "markdown",
   "metadata": {},
   "source": [
    "### + Intro"
   ]
  },
  {
   "cell_type": "markdown",
   "metadata": {},
   "source": [
    "**GUI**: Graphical User Interface: interacción usuario-máquina a través de gráficos, iconos, imágenes, textos.  \n",
    "**CLI**: Command Line Interface: interacción usuario-máquina a través de comandos de texto."
   ]
  },
  {
   "cell_type": "markdown",
   "metadata": {},
   "source": [
    "CLIs:\n",
    " * Mac, Linux: UNIX shell, Bash, Zsh, ...\n",
    " * Windows: PowerShell, Git-Bash, ..."
   ]
  },
  {
   "cell_type": "markdown",
   "metadata": {},
   "source": [
    "*Sinónimos* de CLI:\n",
    " * shell\n",
    " * consola\n",
    " * terminal"
   ]
  },
  {
   "cell_type": "markdown",
   "metadata": {},
   "source": [
    "Una terminal es útil para:\n",
    " * Conexiones SSH (Secure Shell): SSH es un protocolo criptográfico para operar de manera segura en redes inseguras.\n",
    " * Crear pequeños programas. \n",
    " * Administrar servidores.\n",
    " * Pretender ser un buen programador.\n",
    " * Disfrutar de permisos de administrador. (¡Con cuidado!)"
   ]
  },
  {
   "cell_type": "markdown",
   "metadata": {},
   "source": [
    "### + Conceptos básicos"
   ]
  },
  {
   "cell_type": "markdown",
   "metadata": {},
   "source": [
    "#### Comandos básicos"
   ]
  },
  {
   "cell_type": "markdown",
   "metadata": {},
   "source": [
    "La sintaxis general para los comandos de bash es: `comando [opciones] [argumentos]`  \n",
    "¡Algunos comandos NECESITAN opciones y/o argumentos!"
   ]
  },
  {
   "cell_type": "markdown",
   "metadata": {},
   "source": [
    "Puedes usar la tecla `<TAB>` para autocompletar."
   ]
  },
  {
   "cell_type": "markdown",
   "metadata": {},
   "source": [
    "`bash --version`: version de bash"
   ]
  },
  {
   "cell_type": "markdown",
   "metadata": {},
   "source": [
    "`get-host`: version powershell"
   ]
  },
  {
   "cell_type": "markdown",
   "metadata": {},
   "source": [
    "`man`: manual, ayuda"
   ]
  },
  {
   "cell_type": "markdown",
   "metadata": {},
   "source": [
    "`--help`: también es ayuda en bash"
   ]
  },
  {
   "cell_type": "markdown",
   "metadata": {},
   "source": [
    "`pwd`: imprime el directorio actual"
   ]
  },
  {
   "cell_type": "markdown",
   "metadata": {},
   "source": [
    "`clear`: limpia la terminal"
   ]
  },
  {
   "cell_type": "markdown",
   "metadata": {},
   "source": [
    "`tput reset`: también limpia la terminal en bash"
   ]
  },
  {
   "cell_type": "markdown",
   "metadata": {},
   "source": [
    "`echo`: imprime por pantalla"
   ]
  },
  {
   "cell_type": "markdown",
   "metadata": {},
   "source": [
    "`date`: fecha"
   ]
  },
  {
   "cell_type": "markdown",
   "metadata": {},
   "source": [
    "`cal`: calendario en bash"
   ]
  },
  {
   "cell_type": "markdown",
   "metadata": {},
   "source": [
    "`cd`: cambio a directorio raiz\n",
    "\n",
    "`cd [argumento]`: cambio de directorio, entrar\n",
    "\n",
    "`cd..`: cambio de directorio, atrás"
   ]
  },
  {
   "cell_type": "markdown",
   "metadata": {},
   "source": [
    "`ls`: listado de directorios\n",
    "\n",
    "`ls -a`: todos los archivos en bash\n",
    "\n",
    "`ls -l`: listado largo en bash\n",
    "\n",
    "`ls -al`: ambos en bash\n",
    "\n",
    "`ls -als`: ambos con nº de elementos en bash"
   ]
  },
  {
   "cell_type": "markdown",
   "metadata": {},
   "source": [
    "#### Crear, editar, explorar"
   ]
  },
  {
   "cell_type": "markdown",
   "metadata": {},
   "source": [
    "`mkdir`: crear directorio"
   ]
  },
  {
   "cell_type": "markdown",
   "metadata": {},
   "source": [
    "`touch`: crea un archivo en blanco en bash\n",
    "\n",
    "`ni`: crea un archivo en blanco en powershell"
   ]
  },
  {
   "cell_type": "markdown",
   "metadata": {},
   "source": [
    "`>>`: añade a un archivo (si es texto, `echo`delante)"
   ]
  },
  {
   "cell_type": "markdown",
   "metadata": {},
   "source": [
    "`>`: inserta en un archivo (¡Cuidado!, borra todo el contenido del archivo)"
   ]
  },
  {
   "cell_type": "markdown",
   "metadata": {},
   "source": [
    "`cat`: mira el contenido del archivo"
   ]
  },
  {
   "cell_type": "markdown",
   "metadata": {},
   "source": [
    "`head`: mira la cabeza del archivo en bash"
   ]
  },
  {
   "cell_type": "markdown",
   "metadata": {},
   "source": [
    "`tail`: mira la cola del archivo en bash"
   ]
  },
  {
   "cell_type": "markdown",
   "metadata": {},
   "source": [
    "`nano`: edita el contenido del archivo, en unix"
   ]
  },
  {
   "cell_type": "markdown",
   "metadata": {},
   "source": [
    "`wc`: cuenta lineas/palabras/caracteres "
   ]
  },
  {
   "cell_type": "markdown",
   "metadata": {},
   "source": [
    "`mv`: mueve o renombra archivo"
   ]
  },
  {
   "cell_type": "markdown",
   "metadata": {},
   "source": [
    "`cp`: copiar archivo"
   ]
  },
  {
   "cell_type": "markdown",
   "metadata": {},
   "source": [
    "`rm`: borra archivo"
   ]
  },
  {
   "cell_type": "markdown",
   "metadata": {},
   "source": [
    "`rm -r`: borra directorio"
   ]
  },
  {
   "cell_type": "markdown",
   "metadata": {},
   "source": [
    "`find`: encuentra archivos"
   ]
  },
  {
   "cell_type": "markdown",
   "metadata": {},
   "source": [
    "`grep`: encuentra en el texto"
   ]
  },
  {
   "cell_type": "markdown",
   "metadata": {},
   "source": [
    "`|`: calcula segun el resultado de otro comando, es un `or`"
   ]
  },
  {
   "cell_type": "markdown",
   "metadata": {},
   "source": [
    "`age=31`: crear variable"
   ]
  },
  {
   "cell_type": "markdown",
   "metadata": {},
   "source": [
    "`$`: acceder a variable"
   ]
  },
  {
   "cell_type": "markdown",
   "metadata": {},
   "source": [
    "`history`: muestra el historico de comandos ejecutados"
   ]
  },
  {
   "cell_type": "markdown",
   "metadata": {},
   "source": [
    "`top` and `htop`: muestra el uso de RAM y CPU, en bash"
   ]
  },
  {
   "cell_type": "markdown",
   "metadata": {},
   "source": [
    "`Ctrl+R`: pra encontrar comandos anteriores"
   ]
  },
  {
   "cell_type": "markdown",
   "metadata": {},
   "source": [
    "#### Bucles, condicionales y funciones, en bash"
   ]
  },
  {
   "cell_type": "markdown",
   "metadata": {},
   "source": [
    "`for i in 1 2 3  \n",
    "do\n",
    "echo $i\n",
    "done`"
   ]
  },
  {
   "cell_type": "markdown",
   "metadata": {},
   "source": [
    "*start-stop-step*\n",
    "\n",
    "`for i in {0..10..2}       \n",
    "do\n",
    "echo $i\n",
    "done`\n"
   ]
  },
  {
   "cell_type": "markdown",
   "metadata": {},
   "source": [
    "*bucle infinito*\n",
    "\n",
    "`for (( ; ; ))     \n",
    "do\n",
    "echo 1\n",
    "done`"
   ]
  },
  {
   "cell_type": "markdown",
   "metadata": {},
   "source": [
    "*while*\n",
    "\n",
    "`total=1`\n",
    "\n",
    "`while [ $total -le 3 ]`\n",
    "\n",
    "`do`\n",
    "\n",
    "`total=$(($total + 1))`\n",
    "\n",
    "`done`\n",
    "\n",
    "`echo 'bucle acabado'`\n",
    "\n",
    "`echo $total`"
   ]
  },
  {
   "cell_type": "markdown",
   "metadata": {},
   "source": [
    "*condicional*\n",
    "\n",
    "`a=1`\n",
    "\n",
    "`if [ $a -le 3 ]`\n",
    "\n",
    "`then`\n",
    "\n",
    "`echo 'pequeño'`\n",
    "\n",
    "`else `\n",
    "\n",
    "`echo 'grande'`\n",
    "\n",
    "`fi`"
   ]
  },
  {
   "cell_type": "markdown",
   "metadata": {},
   "source": [
    "*funcion*\n",
    "\n",
    "`funcion() {\n",
    "echo 'estoy en la funcion'\n",
    "}`\n",
    "\n",
    "\n",
    "`funcion`"
   ]
  },
  {
   "cell_type": "markdown",
   "metadata": {},
   "source": [
    "#### Creacion de alias"
   ]
  },
  {
   "cell_type": "markdown",
   "metadata": {},
   "source": [
    "Los alias son atajos para comandos frecuentes:\n",
    "\n",
    "En linux: abre `.bashrc` en tu directorio raíz y añade un comando alias:  \n",
    "`alias iron='cd/home/ironhack; source activate ironhack'`  \n",
    "**La terminal se tiene que reiniciar**"
   ]
  },
  {
   "cell_type": "markdown",
   "metadata": {},
   "source": [
    "#### Bucles, condicionales y funciones, en powershell"
   ]
  },
  {
   "cell_type": "markdown",
   "metadata": {},
   "source": [
    "`for ($i = 1 ; $i -le 10 ; $i++){\"El numero $i\"}`"
   ]
  },
  {
   "cell_type": "markdown",
   "metadata": {},
   "source": [
    "```\n",
    "$numero = 89\n",
    "\n",
    "$esPrimo = $true\n",
    "\n",
    "for ($i = 2 ; $i -lt $numero ; $i++ )\n",
    "{\n",
    "    if (($numero / $i) -is [int]) {\n",
    "        echo \"$numero no es primo\"\n",
    "        $isPrime = $false\n",
    "        break\n",
    "    }\n",
    "}\n",
    "\n",
    "if ($esPrimo -eq $true) {\n",
    "    echo \"$numero es primo\"\n",
    "}\n",
    "```"
   ]
  },
  {
   "cell_type": "markdown",
   "metadata": {},
   "source": [
    "`function saludo{echo \"hola\"}`\n",
    "\n",
    "`saludo` # devuelve hola"
   ]
  },
  {
   "cell_type": "markdown",
   "metadata": {},
   "source": [
    "```\n",
    "function primo{\n",
    "\n",
    "    param($numero)\n",
    "    \n",
    "    $esPrimo = $true\n",
    "\n",
    "    for ($i = 2 ; $i -lt $numero ; $i++ )\n",
    "    {\n",
    "        if (($numero / $i) -is [int]) {\n",
    "            echo \"$numero no es primo\"\n",
    "            $isPrime = $false\n",
    "            break\n",
    "        }\n",
    "    }\n",
    "\n",
    "    if ($esPrimo -eq $true) {\n",
    "        echo \"$numero es primo\"\n",
    "\n",
    "}\n",
    "```\n",
    "\n",
    "`primo -numero 89`"
   ]
  },
  {
   "cell_type": "markdown",
   "metadata": {},
   "source": [
    "### + Resumen"
   ]
  },
  {
   "cell_type": "markdown",
   "metadata": {},
   "source": [
    " * Comandos de Bash \n",
    " * Directorios y listado\n",
    " * Archivos, lectura y escritura\n",
    " * Condicionales y bucles\n",
    " * Alias"
   ]
  },
  {
   "cell_type": "markdown",
   "metadata": {},
   "source": [
    "### + Más material"
   ]
  },
  {
   "cell_type": "markdown",
   "metadata": {},
   "source": [
    "#### Ejemplos"
   ]
  },
  {
   "cell_type": "markdown",
   "metadata": {},
   "source": [
    "**Crear directorio, archivo de texto, rellenar y borrar**"
   ]
  },
  {
   "cell_type": "markdown",
   "metadata": {},
   "source": [
    "`mkdir A`         # crea directorio\n",
    "\n",
    "`ls`              # comprobacion\n",
    "\n",
    "`touch hola.txt`  # crea archivo\n",
    "\n",
    "`ls`              # comprobacion\n",
    "\n",
    "`echo 'hola'`     # print, muestra por terminal\n",
    "\n",
    "`echo 3`\n",
    "\n",
    "`echo 'hola que tal, como estas?' >> hola.txt`     # escribe sobre el archivo hola.txt\n",
    "\n",
    "`cat hola.txt`                                     # lee el archivo\n",
    "\n",
    "`grep 'hola' hola.txt`                             # busca patron en el archivo\n",
    "\n",
    "`rm -rf hola.txt`          # borra archivo\n",
    "\n",
    "`ls`                       # comprobacion \n",
    "\n",
    "`rm -rf A`                 # borra directorio\n",
    "\n",
    "`ls`                      # comprobacion"
   ]
  },
  {
   "cell_type": "markdown",
   "metadata": {},
   "source": [
    "**Con bucle y función**"
   ]
  },
  {
   "cell_type": "markdown",
   "metadata": {},
   "source": [
    "`funcion() {\n",
    "echo 'estoy en la funcion'\n",
    "}`                              # define funcion\n",
    "\n",
    "\n",
    "\n",
    "`total=10`    # variable\n",
    "\n",
    "`while [ $total -ge 4 ]`   # inicio bucle\n",
    "\n",
    "`do` \n",
    "\n",
    "`funcion`  # llamada a funcion\n",
    "\n",
    "`total=$(($total - 1))`    # actualiza variable\n",
    "\n",
    "`done`     # fin de bucle\n",
    "\n",
    "`echo 'bucle acabado'`   # imprime por terminal\n",
    "\n",
    "`funcion`   # llamada a funcion\n",
    "\n",
    "`echo 'fin'`     # imprime por terminal"
   ]
  },
  {
   "cell_type": "markdown",
   "metadata": {},
   "source": [
    "#### Referencias"
   ]
  },
  {
   "cell_type": "markdown",
   "metadata": {},
   "source": [
    "**Manual:**\n",
    "\n",
    "https://www.gnu.org/savannah-checkouts/gnu/bash/manual/bash.html\n",
    "\n",
    "https://docs.microsoft.com/es-es/powershell/"
   ]
  },
  {
   "cell_type": "markdown",
   "metadata": {},
   "source": [
    "**Cheat Sheets:**\n",
    "\n",
    "![bash1](images/bash_cheat_sheet.png)"
   ]
  },
  {
   "cell_type": "markdown",
   "metadata": {},
   "source": [
    "### Juegos en bash:\n",
    "\n",
    "[Aventura gráfica Terminus](https://web.mit.edu/mprat/Public/web/Terminus/Web/main.html)\n",
    "\n",
    "[The Command Line Murders](https://github.com/veltman/clmystery)"
   ]
  }
 ],
 "metadata": {
  "finalized": {
   "timestamp": 1643275219310,
   "trusted": true
  },
  "kernelspec": {
   "display_name": "Python 3 (ipykernel)",
   "language": "python",
   "name": "python3"
  },
  "language_info": {
   "codemirror_mode": {
    "name": "ipython",
    "version": 3
   },
   "file_extension": ".py",
   "mimetype": "text/x-python",
   "name": "python",
   "nbconvert_exporter": "python",
   "pygments_lexer": "ipython3",
   "version": "3.9.7"
  },
  "varInspector": {
   "cols": {
    "lenName": 16,
    "lenType": 16,
    "lenVar": 40
   },
   "kernels_config": {
    "python": {
     "delete_cmd_postfix": "",
     "delete_cmd_prefix": "del ",
     "library": "var_list.py",
     "varRefreshCmd": "print(var_dic_list())"
    },
    "r": {
     "delete_cmd_postfix": ") ",
     "delete_cmd_prefix": "rm(",
     "library": "var_list.r",
     "varRefreshCmd": "cat(var_dic_list()) "
    }
   },
   "types_to_exclude": [
    "module",
    "function",
    "builtin_function_or_method",
    "instance",
    "_Feature"
   ],
   "window_display": false
  }
 },
 "nbformat": 4,
 "nbformat_minor": 4
}

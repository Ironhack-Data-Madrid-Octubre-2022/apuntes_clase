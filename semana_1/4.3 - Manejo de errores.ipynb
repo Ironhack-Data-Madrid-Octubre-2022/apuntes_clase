{
 "cells": [
  {
   "cell_type": "markdown",
   "metadata": {},
   "source": [
    "# 4.3 - Manejo de errores\n",
    "\n",
    "\n",
    "![errores](images/errors.jpg)\n",
    "\n",
    "\n",
    "\n",
    "### ¿Qué es un error?\n",
    "\n",
    "Los errores (errors/exceptions) son fallos en el código que interrumpirán su ejecución."
   ]
  },
  {
   "cell_type": "code",
   "execution_count": 1,
   "metadata": {},
   "outputs": [
    {
     "name": "stdout",
     "output_type": "stream",
     "text": [
      "-0.5\n",
      "-1.0\n"
     ]
    },
    {
     "ename": "ZeroDivisionError",
     "evalue": "division by zero",
     "output_type": "error",
     "traceback": [
      "\u001b[0;31m---------------------------------------------------------------------------\u001b[0m",
      "\u001b[0;31mZeroDivisionError\u001b[0m                         Traceback (most recent call last)",
      "Cell \u001b[0;32mIn [1], line 2\u001b[0m\n\u001b[1;32m      1\u001b[0m \u001b[38;5;28;01mfor\u001b[39;00m i \u001b[38;5;129;01min\u001b[39;00m \u001b[38;5;28mrange\u001b[39m(\u001b[38;5;241m-\u001b[39m\u001b[38;5;241m2\u001b[39m, \u001b[38;5;241m10\u001b[39m):\n\u001b[0;32m----> 2\u001b[0m     \u001b[38;5;28mprint\u001b[39m(\u001b[38;5;241;43m1\u001b[39;49m\u001b[38;5;241;43m/\u001b[39;49m\u001b[43mi\u001b[49m)\n\u001b[1;32m      4\u001b[0m \u001b[38;5;28mprint\u001b[39m(\u001b[38;5;124m'\u001b[39m\u001b[38;5;124mfin del bucle\u001b[39m\u001b[38;5;124m'\u001b[39m)\n",
      "\u001b[0;31mZeroDivisionError\u001b[0m: division by zero"
     ]
    }
   ],
   "source": [
    "for i in range(-2, 10):\n",
    "    print(1/i)\n",
    "    \n",
    "print('fin del bucle')"
   ]
  },
  {
   "cell_type": "markdown",
   "metadata": {},
   "source": [
    "- Los errores son un tipo específico de objetos en python.\n",
    "- Los errores se pueden lanzar a propósito con la palabra reservada `raise`.\n",
    "\n",
    "```  \n",
    "Levantar un error (con raise) implica parar completamente el programa.\n",
    "```\n",
    "\n",
    "Los errores usualmente contienen un mensaje en ellos.\n",
    "> Este mensaje sirve para ayudar al usuario a identificar el problema para encontrar un solución. Siempre es necesario la cuidadosa lectura de los errores para alcanzar una solución rápidamente."
   ]
  },
  {
   "cell_type": "code",
   "execution_count": 2,
   "metadata": {},
   "outputs": [
    {
     "ename": "TypeError",
     "evalue": "Alegre, que las liao....",
     "output_type": "error",
     "traceback": [
      "\u001b[0;31m---------------------------------------------------------------------------\u001b[0m",
      "\u001b[0;31mTypeError\u001b[0m                                 Traceback (most recent call last)",
      "Cell \u001b[0;32mIn [2], line 1\u001b[0m\n\u001b[0;32m----> 1\u001b[0m \u001b[38;5;28;01mraise\u001b[39;00m \u001b[38;5;167;01mTypeError\u001b[39;00m(\u001b[38;5;124m'\u001b[39m\u001b[38;5;124mAlegre, que las liao....\u001b[39m\u001b[38;5;124m'\u001b[39m)\n",
      "\u001b[0;31mTypeError\u001b[0m: Alegre, que las liao...."
     ]
    }
   ],
   "source": [
    "raise TypeError('Alegre, que las liao....')"
   ]
  },
  {
   "cell_type": "markdown",
   "metadata": {},
   "source": [
    "### Diferentes tipos de errores en python\n",
    "\n",
    "Existen muchos tipos diferentes de errores en python:\n",
    "```python\n",
    "AttributeError\n",
    "ImportError\n",
    "ModuleNotFoundError\n",
    "IndexError\n",
    "KeyError\n",
    "KeyboardInterrupt\n",
    "NameError\n",
    "SyntaxError\n",
    "TypeError\n",
    "ValueError\n",
    "ZeroDivisionError\n",
    "```\n",
    "Estos son solamente unos pocos, puedes ver en la documentación\n",
    "- [Built-in Exceptions](https://docs.python.org/3/library/exceptions.html)"
   ]
  },
  {
   "cell_type": "markdown",
   "metadata": {},
   "source": [
    "## `try...except`\n",
    "\n",
    "Ahora, ¿cómo controlamos los errores?\n",
    "\n",
    "Pues con la sintaxis `try...except`.\n",
    "\n",
    "El concepto es muy sencillo:\n",
    "\n",
    "> - `try` bloque de código que se ejecuta primero.\n",
    "> > - Si NO existen errores en el bloque `try`, se completará ese código sin ejecutar el bloque `except`\n",
    "> > - Si existen errores en el bloque `try`, salta al código del bloque `except`\n",
    "\n",
    "- Un bloque `try` siempre va acompañado de un bloque `except`\n",
    "\n",
    "\n",
    "- `NOTA:` Un error puede ocurrir en el bloque `except`. En ese caso, el mensaje contendrá la siguiente advertencia:\n",
    "````\n",
    "During handling of the above exception, another exception occurred:\n",
    "````\n"
   ]
  },
  {
   "cell_type": "code",
   "execution_count": 4,
   "metadata": {},
   "outputs": [
    {
     "name": "stdout",
     "output_type": "stream",
     "text": [
      "9\n",
      "La variable no existe\n",
      "80\n"
     ]
    }
   ],
   "source": [
    "try:\n",
    "    print(9)\n",
    "    print(z)\n",
    "    \n",
    "except:\n",
    "    print('La variable no existe')\n",
    "    \n",
    "    \n",
    "print(80)"
   ]
  },
  {
   "cell_type": "code",
   "execution_count": 5,
   "metadata": {},
   "outputs": [
    {
     "ename": "NameError",
     "evalue": "name 'z' is not defined",
     "output_type": "error",
     "traceback": [
      "\u001b[0;31m---------------------------------------------------------------------------\u001b[0m",
      "\u001b[0;31mNameError\u001b[0m                                 Traceback (most recent call last)",
      "Cell \u001b[0;32mIn [5], line 1\u001b[0m\n\u001b[0;32m----> 1\u001b[0m \u001b[38;5;28mprint\u001b[39m(\u001b[43mz\u001b[49m)\n",
      "\u001b[0;31mNameError\u001b[0m: name 'z' is not defined"
     ]
    }
   ],
   "source": [
    "print(z)"
   ]
  },
  {
   "cell_type": "code",
   "execution_count": 6,
   "metadata": {},
   "outputs": [
    {
     "name": "stdout",
     "output_type": "stream",
     "text": [
      "9\n",
      "La variable no existe\n"
     ]
    },
    {
     "ename": "ValueError",
     "evalue": "oye tio, que z no esta",
     "output_type": "error",
     "traceback": [
      "\u001b[0;31m---------------------------------------------------------------------------\u001b[0m",
      "\u001b[0;31mNameError\u001b[0m                                 Traceback (most recent call last)",
      "Cell \u001b[0;32mIn [6], line 3\u001b[0m\n\u001b[1;32m      2\u001b[0m     \u001b[38;5;28mprint\u001b[39m(\u001b[38;5;241m9\u001b[39m)\n\u001b[0;32m----> 3\u001b[0m     \u001b[38;5;28mprint\u001b[39m(\u001b[43mz\u001b[49m)\n\u001b[1;32m      5\u001b[0m \u001b[38;5;28;01mexcept\u001b[39;00m:\n",
      "\u001b[0;31mNameError\u001b[0m: name 'z' is not defined",
      "\nDuring handling of the above exception, another exception occurred:\n",
      "\u001b[0;31mValueError\u001b[0m                                Traceback (most recent call last)",
      "Cell \u001b[0;32mIn [6], line 7\u001b[0m\n\u001b[1;32m      5\u001b[0m \u001b[38;5;28;01mexcept\u001b[39;00m:\n\u001b[1;32m      6\u001b[0m     \u001b[38;5;28mprint\u001b[39m(\u001b[38;5;124m'\u001b[39m\u001b[38;5;124mLa variable no existe\u001b[39m\u001b[38;5;124m'\u001b[39m)\n\u001b[0;32m----> 7\u001b[0m     \u001b[38;5;28;01mraise\u001b[39;00m \u001b[38;5;167;01mValueError\u001b[39;00m (\u001b[38;5;124m'\u001b[39m\u001b[38;5;124moye tio, que z no esta\u001b[39m\u001b[38;5;124m'\u001b[39m)\n\u001b[1;32m     10\u001b[0m \u001b[38;5;28mprint\u001b[39m(\u001b[38;5;241m80\u001b[39m)\n",
      "\u001b[0;31mValueError\u001b[0m: oye tio, que z no esta"
     ]
    }
   ],
   "source": [
    "try:\n",
    "    print(9)\n",
    "    print(z)\n",
    "    \n",
    "except:\n",
    "    print('La variable no existe')\n",
    "    raise ValueError ('oye tio, que z no esta')\n",
    "    \n",
    "    \n",
    "print(80)"
   ]
  },
  {
   "cell_type": "markdown",
   "metadata": {},
   "source": [
    "**Truco:** Como puede verse en el mensaje anterior, la línea de código que contiene el error tiene una flecha al lado. Si el error no está en esa línea, estará en la inmediatamente anterior. También puede verse el número de línea."
   ]
  },
  {
   "cell_type": "code",
   "execution_count": 10,
   "metadata": {},
   "outputs": [
    {
     "name": "stdout",
     "output_type": "stream",
     "text": [
      "Elemento a\n",
      "OOOppppppsss (<class 'ValueError'>, ValueError(\"invalid literal for int() with base 10: 'a'\"), <traceback object at 0x10590b680>)\n",
      "siguiente\n",
      "Elemento 0\n",
      "OOOppppppsss (<class 'ZeroDivisionError'>, ZeroDivisionError('division by zero'), <traceback object at 0x105a411c0>)\n",
      "siguiente\n",
      "Elemento 2\n",
      "0.5\n",
      "Elemento oi\n",
      "OOOppppppsss (<class 'ValueError'>, ValueError(\"invalid literal for int() with base 10: 'oi'\"), <traceback object at 0x105a41440>)\n",
      "siguiente\n",
      "Elemento 2\n",
      "0.5\n",
      "Elemento 3\n",
      "0.3333333333333333\n",
      "Elemento 45\n",
      "0.022222222222222223\n",
      "890098\n"
     ]
    }
   ],
   "source": [
    "import sys\n",
    "\n",
    "lst=['a', 0, 2, 'oi', 2, 3, 45]\n",
    "\n",
    "errores=[]\n",
    "\n",
    "for e in lst:\n",
    "    \n",
    "    try:\n",
    "        print(f'Elemento {e}')\n",
    "        \n",
    "        d=1/int(e)\n",
    "        \n",
    "        print(d)\n",
    "        \n",
    "    except:\n",
    "        print('OOOppppppsss', sys.exc_info())\n",
    "        print('siguiente')\n",
    "        errores.append([e, sys.exc_info()])\n",
    "        \n",
    "        \n",
    "print(890098)"
   ]
  },
  {
   "cell_type": "code",
   "execution_count": 11,
   "metadata": {},
   "outputs": [
    {
     "data": {
      "text/plain": [
       "[['a',\n",
       "  (ValueError,\n",
       "   ValueError(\"invalid literal for int() with base 10: 'a'\"),\n",
       "   <traceback at 0x10590b680>)],\n",
       " [0,\n",
       "  (ZeroDivisionError,\n",
       "   ZeroDivisionError('division by zero'),\n",
       "   <traceback at 0x105a411c0>)],\n",
       " ['oi',\n",
       "  (ValueError,\n",
       "   ValueError(\"invalid literal for int() with base 10: 'oi'\"),\n",
       "   <traceback at 0x105a41440>)]]"
      ]
     },
     "execution_count": 11,
     "metadata": {},
     "output_type": "execute_result"
    }
   ],
   "source": [
    "errores"
   ]
  },
  {
   "cell_type": "code",
   "execution_count": 9,
   "metadata": {},
   "outputs": [
    {
     "name": "stdout",
     "output_type": "stream",
     "text": [
      "Elemento a\n"
     ]
    },
    {
     "ename": "ValueError",
     "evalue": "invalid literal for int() with base 10: 'a'",
     "output_type": "error",
     "traceback": [
      "\u001b[0;31m---------------------------------------------------------------------------\u001b[0m",
      "\u001b[0;31mValueError\u001b[0m                                Traceback (most recent call last)",
      "Cell \u001b[0;32mIn [9], line 6\u001b[0m\n\u001b[1;32m      1\u001b[0m \u001b[38;5;28;01mfor\u001b[39;00m e \u001b[38;5;129;01min\u001b[39;00m lst:\n\u001b[1;32m      4\u001b[0m     \u001b[38;5;28mprint\u001b[39m(\u001b[38;5;124mf\u001b[39m\u001b[38;5;124m'\u001b[39m\u001b[38;5;124mElemento \u001b[39m\u001b[38;5;132;01m{\u001b[39;00me\u001b[38;5;132;01m}\u001b[39;00m\u001b[38;5;124m'\u001b[39m)\n\u001b[0;32m----> 6\u001b[0m     d\u001b[38;5;241m=\u001b[39m\u001b[38;5;241m1\u001b[39m\u001b[38;5;241m/\u001b[39m\u001b[38;5;28;43mint\u001b[39;49m\u001b[43m(\u001b[49m\u001b[43me\u001b[49m\u001b[43m)\u001b[49m\n\u001b[1;32m      8\u001b[0m     \u001b[38;5;28mprint\u001b[39m(d)\n",
      "\u001b[0;31mValueError\u001b[0m: invalid literal for int() with base 10: 'a'"
     ]
    }
   ],
   "source": [
    "for e in lst:\n",
    "    \n",
    "    print(f'Elemento {e}')\n",
    "\n",
    "    d=1/int(e)\n",
    "\n",
    "    print(d)"
   ]
  },
  {
   "cell_type": "markdown",
   "metadata": {},
   "source": [
    "### Multiples `except`\n",
    "\n",
    "Si queremos, podemos tener multiples bloques `except` para manejar diferentes tipos de error por separado. Es algo muy útil para manejar como nosotros queramos el flujo de errores, teniendo en cuenta **que solo se ejecutará uno de los bloques `except` en caso de surgir un error**."
   ]
  },
  {
   "cell_type": "code",
   "execution_count": 14,
   "metadata": {},
   "outputs": [
    {
     "name": "stdout",
     "output_type": "stream",
     "text": [
      "Alegre, no cuco, no\n",
      "division by zero\n"
     ]
    }
   ],
   "source": [
    "try:\n",
    "    \n",
    "    a=8\n",
    "    b=0\n",
    "    \n",
    "    print(a/b)\n",
    "    \n",
    "    \n",
    "except TypeError:\n",
    "    print('esto equi')\n",
    "    print(e)\n",
    "    \n",
    "except ZeroDivisionError as e:\n",
    "    print('Alegre, no cuco, no')\n",
    "    print(e)\n",
    "    \n",
    "except:\n",
    "    print('otro tipo de error')"
   ]
  },
  {
   "cell_type": "markdown",
   "metadata": {},
   "source": [
    "## Programación defensiva\n",
    "\n",
    "Todos estos conceptos de manejo de errores nos lleva a la programación defensiva. El objetivo consiste en tener en cuenta errores sistemáticos que se pudieran estar cometiendo en nuestro código."
   ]
  },
  {
   "cell_type": "code",
   "execution_count": 15,
   "metadata": {},
   "outputs": [],
   "source": [
    "clientes = {'a_1234': 35.34, 'b_4355': 76.8, 'a_5890': 108.80}"
   ]
  },
  {
   "cell_type": "code",
   "execution_count": 16,
   "metadata": {},
   "outputs": [],
   "source": [
    "pasan=[]\n",
    "\n",
    "no_pasan=[]"
   ]
  },
  {
   "cell_type": "code",
   "execution_count": 17,
   "metadata": {},
   "outputs": [],
   "source": [
    "for k,v in clientes.items():\n",
    "    \n",
    "    try:\n",
    "        total=int(v)* 4/3\n",
    "        pasan.append({k:total})\n",
    "        \n",
    "    except:\n",
    "        no_pasan.append(k)"
   ]
  },
  {
   "cell_type": "code",
   "execution_count": 19,
   "metadata": {},
   "outputs": [
    {
     "data": {
      "text/plain": [
       "['a_5890']"
      ]
     },
     "execution_count": 19,
     "metadata": {},
     "output_type": "execute_result"
    }
   ],
   "source": [
    "no_pasan"
   ]
  },
  {
   "cell_type": "markdown",
   "metadata": {},
   "source": [
    "### `finally`\n",
    "\n",
    "> Los bloques `try` y `except` son los dos bloques comunes en el manejo de errores, pero toda la sintaxis la constituyen cuatro bloques.\n",
    "El bloque `finally` se ejecutará siempre después del `try` o el `except`. Se ejecutará incluso si existe un `return` en otro bloque."
   ]
  },
  {
   "cell_type": "code",
   "execution_count": 24,
   "metadata": {},
   "outputs": [
    {
     "name": "stdout",
     "output_type": "stream",
     "text": [
      "Fuerzo el error\n",
      "Se ejecuta igualmente\n"
     ]
    }
   ],
   "source": [
    "try:\n",
    "    raise ValueError  # esto levanta el error a proposito\n",
    "    print('Toda va bien....')\n",
    "    \n",
    "except:\n",
    "    print('Fuerzo el error')\n",
    "    \n",
    "finally:\n",
    "    print('Se ejecuta igualmente')"
   ]
  },
  {
   "cell_type": "markdown",
   "metadata": {},
   "source": [
    "### `else`\n",
    "\n",
    "> El bloque `else` puede ser usado como una alternativa al bloque `except`. En ese caso se ejecutará antes del bloque `finally`."
   ]
  },
  {
   "cell_type": "code",
   "execution_count": 30,
   "metadata": {},
   "outputs": [
    {
     "name": "stdout",
     "output_type": "stream",
     "text": [
      "Fuerzo el error\n",
      "Se ejecuta igualmente\n"
     ]
    }
   ],
   "source": [
    "try:\n",
    "    raise ValueError\n",
    "    print('Toda va bien....')\n",
    "    \n",
    "except:\n",
    "    #raise ValueError\n",
    "    print('Fuerzo el error')\n",
    "    \n",
    "else:\n",
    "    print('...antes del final...')  # si to va bien\n",
    "    \n",
    "finally:\n",
    "    print('Se ejecuta igualmente')"
   ]
  },
  {
   "cell_type": "code",
   "execution_count": 32,
   "metadata": {},
   "outputs": [
    {
     "name": "stdout",
     "output_type": "stream",
     "text": [
      "segundo except\n",
      "Se ejecuta igualmente\n"
     ]
    },
    {
     "ename": "SyntaxError",
     "evalue": "None (<string>)",
     "output_type": "error",
     "traceback": [
      "Traceback \u001b[0;36m(most recent call last)\u001b[0m:\n",
      "\u001b[0;36m  Cell \u001b[0;32mIn [32], line 2\u001b[0;36m\n\u001b[0;31m    raise ValueError\u001b[0;36m\n",
      "\u001b[0;31mValueError\u001b[0m\n",
      "\nDuring handling of the above exception, another exception occurred:\n",
      "Traceback \u001b[0;36m(most recent call last)\u001b[0m:\n",
      "\u001b[0;36m  Cell \u001b[0;32mIn [32], line 8\u001b[0;36m\n\u001b[0;31m    raise ValueError\u001b[0;36m\n",
      "\u001b[0;31mValueError\u001b[0m\n",
      "\nDuring handling of the above exception, another exception occurred:\n",
      "Traceback \u001b[0;36m(most recent call last)\u001b[0m:\n",
      "\u001b[0m  File \u001b[1;32m~/miniforge3/envs/clase/lib/python3.8/site-packages/IPython/core/interactiveshell.py:3378\u001b[0m in \u001b[1;35mrun_code\u001b[0m\n    exec(code_obj, self.user_global_ns, self.user_ns)\u001b[0m\n",
      "\u001b[0;36m  Cell \u001b[0;32mIn [32], line 12\u001b[0;36m\n\u001b[0;31m    raise SyntaxError\u001b[0;36m\n",
      "\u001b[0;36m  File \u001b[0;32m<string>\u001b[0;36m\u001b[0m\n\u001b[0;31mSyntaxError\u001b[0m\n"
     ]
    }
   ],
   "source": [
    "try:\n",
    "    raise ValueError\n",
    "    print('Toda va bien....')\n",
    "    \n",
    "except:\n",
    "    \n",
    "    try:\n",
    "        raise ValueError\n",
    "        print('segundo try')\n",
    "    except:\n",
    "        print('segundo except')\n",
    "        raise SyntaxError\n",
    "    \n",
    "\n",
    "finally:\n",
    "    print('Se ejecuta igualmente')\n",
    "    "
   ]
  },
  {
   "cell_type": "code",
   "execution_count": null,
   "metadata": {},
   "outputs": [],
   "source": []
  }
 ],
 "metadata": {
  "kernelspec": {
   "display_name": "clase",
   "language": "python",
   "name": "clase"
  },
  "language_info": {
   "codemirror_mode": {
    "name": "ipython",
    "version": 3
   },
   "file_extension": ".py",
   "mimetype": "text/x-python",
   "name": "python",
   "nbconvert_exporter": "python",
   "pygments_lexer": "ipython3",
   "version": "3.8.13"
  }
 },
 "nbformat": 4,
 "nbformat_minor": 4
}

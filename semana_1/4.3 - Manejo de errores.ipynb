{
 "cells": [
  {
   "cell_type": "markdown",
   "metadata": {},
   "source": [
    "# 4.3 - Manejo de errores\n",
    "\n",
    "\n",
    "![errores](images/errors.jpg)\n",
    "\n",
    "\n",
    "\n",
    "### ¿Qué es un error?\n",
    "\n",
    "Los errores (errors/exceptions) son fallos en el código que interrumpirán su ejecución."
   ]
  },
  {
   "cell_type": "code",
   "execution_count": null,
   "metadata": {},
   "outputs": [],
   "source": []
  },
  {
   "cell_type": "markdown",
   "metadata": {},
   "source": [
    "- Los errores son un tipo específico de objetos en python.\n",
    "- Los errores se pueden lanzar a propósito con la palabra reservada `raise`.\n",
    "\n",
    "```  \n",
    "Levantar un error (con raise) implica parar completamente el programa.\n",
    "```\n",
    "\n",
    "Los errores usualmente contienen un mensaje en ellos.\n",
    "> Este mensaje sirve para ayudar al usuario a identificar el problema para encontrar un solución. Siempre es necesario la cuidadosa lectura de los errores para alcanzar una solución rápidamente."
   ]
  },
  {
   "cell_type": "code",
   "execution_count": null,
   "metadata": {},
   "outputs": [],
   "source": []
  },
  {
   "cell_type": "markdown",
   "metadata": {},
   "source": [
    "### Diferentes tipos de errores en python\n",
    "\n",
    "Existen muchos tipos diferentes de errores en python:\n",
    "```python\n",
    "AttributeError\n",
    "ImportError\n",
    "ModuleNotFoundError\n",
    "IndexError\n",
    "KeyError\n",
    "KeyboardInterrupt\n",
    "NameError\n",
    "SyntaxError\n",
    "TypeError\n",
    "ValueError\n",
    "ZeroDivisionError\n",
    "```\n",
    "Estos son solamente unos pocos, puedes ver en la documentación\n",
    "- [Built-in Exceptions](https://docs.python.org/3/library/exceptions.html)"
   ]
  },
  {
   "cell_type": "markdown",
   "metadata": {},
   "source": [
    "## `try...except`\n",
    "\n",
    "Ahora, ¿cómo controlamos los errores?\n",
    "\n",
    "Pues con la sintaxis `try...except`.\n",
    "\n",
    "El concepto es muy sencillo:\n",
    "\n",
    "> - `try` bloque de código que se ejecuta primero.\n",
    "> > - Si NO existen errores en el bloque `try`, se completará ese código sin ejecutar el bloque `except`\n",
    "> > - Si existen errores en el bloque `try`, salta al código del bloque `except`\n",
    "\n",
    "- Un bloque `try` siempre va acompañado de un bloque `except`\n",
    "\n",
    "\n",
    "- `NOTA:` Un error puede ocurrir en el bloque `except`. En ese caso, el mensaje contendrá la siguiente advertencia:\n",
    "````\n",
    "During handling of the above exception, another exception occurred:\n",
    "````\n"
   ]
  },
  {
   "cell_type": "code",
   "execution_count": null,
   "metadata": {},
   "outputs": [],
   "source": []
  },
  {
   "cell_type": "code",
   "execution_count": null,
   "metadata": {},
   "outputs": [],
   "source": []
  },
  {
   "cell_type": "code",
   "execution_count": null,
   "metadata": {},
   "outputs": [],
   "source": []
  },
  {
   "cell_type": "markdown",
   "metadata": {},
   "source": [
    "**Truco:** Como puede verse en el mensaje anterior, la línea de código que contiene el error tiene una flecha al lado. Si el error no está en esa línea, estará en la inmediatamente anterior. También puede verse el número de línea."
   ]
  },
  {
   "cell_type": "code",
   "execution_count": null,
   "metadata": {},
   "outputs": [],
   "source": []
  },
  {
   "cell_type": "code",
   "execution_count": null,
   "metadata": {},
   "outputs": [],
   "source": []
  },
  {
   "cell_type": "markdown",
   "metadata": {},
   "source": [
    "### Multiples `except`\n",
    "\n",
    "Si queremos, podemos tener multiples bloques `except` para manejar diferentes tipos de error por separado. Es algo muy útil para manejar como nosotros queramos el flujo de errores, teniendo en cuenta **que solo se ejecutará uno de los bloques `except` en caso de surgir un error**."
   ]
  },
  {
   "cell_type": "code",
   "execution_count": null,
   "metadata": {},
   "outputs": [],
   "source": []
  },
  {
   "cell_type": "markdown",
   "metadata": {},
   "source": [
    "## Programación defensiva\n",
    "\n",
    "Todos estos conceptos de manejo de errores nos lleva a la programación defensiva. El objetivo consiste en tener en cuenta errores sistemáticos que se pudieran estar cometiendo en nuestro código."
   ]
  },
  {
   "cell_type": "code",
   "execution_count": null,
   "metadata": {},
   "outputs": [],
   "source": []
  },
  {
   "cell_type": "code",
   "execution_count": null,
   "metadata": {},
   "outputs": [],
   "source": []
  },
  {
   "cell_type": "code",
   "execution_count": null,
   "metadata": {},
   "outputs": [],
   "source": []
  },
  {
   "cell_type": "code",
   "execution_count": null,
   "metadata": {},
   "outputs": [],
   "source": []
  },
  {
   "cell_type": "markdown",
   "metadata": {},
   "source": [
    "### `finally`\n",
    "\n",
    "> Los bloques `try` y `except` son los dos bloques comunes en el manejo de errores, pero toda la sintaxis la constituyen cuatro bloques.\n",
    "El bloque `finally` se ejecutará siempre después del `try` o el `except`. Se ejecutará incluso si existe un `return` en otro bloque."
   ]
  },
  {
   "cell_type": "code",
   "execution_count": null,
   "metadata": {},
   "outputs": [],
   "source": []
  },
  {
   "cell_type": "code",
   "execution_count": null,
   "metadata": {},
   "outputs": [],
   "source": []
  },
  {
   "cell_type": "code",
   "execution_count": null,
   "metadata": {},
   "outputs": [],
   "source": []
  },
  {
   "cell_type": "markdown",
   "metadata": {},
   "source": [
    "### `else`\n",
    "\n",
    "> El bloque `else` puede ser usado como una alternativa al bloque `except`. En ese caso se ejecutará antes del bloque `finally`."
   ]
  },
  {
   "cell_type": "code",
   "execution_count": null,
   "metadata": {},
   "outputs": [],
   "source": []
  },
  {
   "cell_type": "code",
   "execution_count": null,
   "metadata": {},
   "outputs": [],
   "source": []
  },
  {
   "cell_type": "code",
   "execution_count": null,
   "metadata": {},
   "outputs": [],
   "source": []
  }
 ],
 "metadata": {
  "kernelspec": {
   "display_name": "clase",
   "language": "python",
   "name": "clase"
  },
  "language_info": {
   "codemirror_mode": {
    "name": "ipython",
    "version": 3
   },
   "file_extension": ".py",
   "mimetype": "text/x-python",
   "name": "python",
   "nbconvert_exporter": "python",
   "pygments_lexer": "ipython3",
   "version": "3.8.13"
  }
 },
 "nbformat": 4,
 "nbformat_minor": 4
}
